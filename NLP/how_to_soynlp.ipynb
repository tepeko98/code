{
 "cells": [
  {
   "cell_type": "code",
   "execution_count": null,
   "metadata": {
    "id": "L2XwUHp1Pleb"
   },
   "outputs": [],
   "source": [
    "# Colab에 Mecab 설치. 겁나 오래 걸리고 window 환경 지원 안 됨. 우분투 활용\n",
    "!git clone https://github.com/SOMJANG/Mecab-ko-for-Google-Colab.git\n",
    "%cd Mecab-ko-for-Google-Colab\n",
    "!bash install_mecab-ko_on_colab190912.sh"
   ]
  },
  {
   "cell_type": "code",
   "execution_count": 7,
   "metadata": {
    "colab": {
     "base_uri": "https://localhost:8080/"
    },
    "executionInfo": {
     "elapsed": 6516,
     "status": "ok",
     "timestamp": 1624005055069,
     "user": {
      "displayName": "김가연",
      "photoUrl": "https://lh3.googleusercontent.com/a-/AOh14GgY0mG7L6LRfcf3soBydi3WJ_VsK7z5jft71yaVyw=s64",
      "userId": "00425627849405993052"
     },
     "user_tz": -540
    },
    "id": "T0IcVTUiPkIL",
    "outputId": "d46658ca-c8db-48e5-f32f-dbca6f0c7409"
   },
   "outputs": [
    {
     "name": "stdout",
     "output_type": "stream",
     "text": [
      "Collecting konlpy\n",
      "\u001b[?25l  Downloading https://files.pythonhosted.org/packages/85/0e/f385566fec837c0b83f216b2da65db9997b35dd675e107752005b7d392b1/konlpy-0.5.2-py2.py3-none-any.whl (19.4MB)\n",
      "\u001b[K     |████████████████████████████████| 19.4MB 1.3MB/s \n",
      "\u001b[?25hCollecting beautifulsoup4==4.6.0\n",
      "\u001b[?25l  Downloading https://files.pythonhosted.org/packages/9e/d4/10f46e5cfac773e22707237bfcd51bbffeaf0a576b0a847ec7ab15bd7ace/beautifulsoup4-4.6.0-py3-none-any.whl (86kB)\n",
      "\u001b[K     |████████████████████████████████| 92kB 10.2MB/s \n",
      "\u001b[?25hCollecting JPype1>=0.7.0\n",
      "\u001b[?25l  Downloading https://files.pythonhosted.org/packages/98/88/f817ef1af6f794e8f11313dcd1549de833f4599abcec82746ab5ed086686/JPype1-1.3.0-cp37-cp37m-manylinux_2_5_x86_64.manylinux1_x86_64.whl (448kB)\n",
      "\u001b[K     |████████████████████████████████| 450kB 42.0MB/s \n",
      "\u001b[?25hRequirement already satisfied: tweepy>=3.7.0 in /usr/local/lib/python3.7/dist-packages (from konlpy) (3.10.0)\n",
      "Requirement already satisfied: lxml>=4.1.0 in /usr/local/lib/python3.7/dist-packages (from konlpy) (4.2.6)\n",
      "Collecting colorama\n",
      "  Downloading https://files.pythonhosted.org/packages/44/98/5b86278fbbf250d239ae0ecb724f8572af1c91f4a11edf4d36a206189440/colorama-0.4.4-py2.py3-none-any.whl\n",
      "Requirement already satisfied: numpy>=1.6 in /usr/local/lib/python3.7/dist-packages (from konlpy) (1.19.5)\n",
      "Requirement already satisfied: typing-extensions; python_version < \"3.8\" in /usr/local/lib/python3.7/dist-packages (from JPype1>=0.7.0->konlpy) (3.7.4.3)\n",
      "Requirement already satisfied: six>=1.10.0 in /usr/local/lib/python3.7/dist-packages (from tweepy>=3.7.0->konlpy) (1.15.0)\n",
      "Requirement already satisfied: requests-oauthlib>=0.7.0 in /usr/local/lib/python3.7/dist-packages (from tweepy>=3.7.0->konlpy) (1.3.0)\n",
      "Requirement already satisfied: requests[socks]>=2.11.1 in /usr/local/lib/python3.7/dist-packages (from tweepy>=3.7.0->konlpy) (2.23.0)\n",
      "Requirement already satisfied: oauthlib>=3.0.0 in /usr/local/lib/python3.7/dist-packages (from requests-oauthlib>=0.7.0->tweepy>=3.7.0->konlpy) (3.1.1)\n",
      "Requirement already satisfied: idna<3,>=2.5 in /usr/local/lib/python3.7/dist-packages (from requests[socks]>=2.11.1->tweepy>=3.7.0->konlpy) (2.10)\n",
      "Requirement already satisfied: certifi>=2017.4.17 in /usr/local/lib/python3.7/dist-packages (from requests[socks]>=2.11.1->tweepy>=3.7.0->konlpy) (2021.5.30)\n",
      "Requirement already satisfied: chardet<4,>=3.0.2 in /usr/local/lib/python3.7/dist-packages (from requests[socks]>=2.11.1->tweepy>=3.7.0->konlpy) (3.0.4)\n",
      "Requirement already satisfied: urllib3!=1.25.0,!=1.25.1,<1.26,>=1.21.1 in /usr/local/lib/python3.7/dist-packages (from requests[socks]>=2.11.1->tweepy>=3.7.0->konlpy) (1.24.3)\n",
      "Requirement already satisfied: PySocks!=1.5.7,>=1.5.6; extra == \"socks\" in /usr/local/lib/python3.7/dist-packages (from requests[socks]>=2.11.1->tweepy>=3.7.0->konlpy) (1.7.1)\n",
      "Installing collected packages: beautifulsoup4, JPype1, colorama, konlpy\n",
      "  Found existing installation: beautifulsoup4 4.6.3\n",
      "    Uninstalling beautifulsoup4-4.6.3:\n",
      "      Successfully uninstalled beautifulsoup4-4.6.3\n",
      "Successfully installed JPype1-1.3.0 beautifulsoup4-4.6.0 colorama-0.4.4 konlpy-0.5.2\n"
     ]
    }
   ],
   "source": [
    "!pip install konlpy"
   ]
  },
  {
   "cell_type": "code",
   "execution_count": 9,
   "metadata": {
    "executionInfo": {
     "elapsed": 8557,
     "status": "ok",
     "timestamp": 1624005066645,
     "user": {
      "displayName": "김가연",
      "photoUrl": "https://lh3.googleusercontent.com/a-/AOh14GgY0mG7L6LRfcf3soBydi3WJ_VsK7z5jft71yaVyw=s64",
      "userId": "00425627849405993052"
     },
     "user_tz": -540
    },
    "id": "fFd1AfzEPg6T"
   },
   "outputs": [],
   "source": [
    "from konlpy.tag import *\n",
    "\n",
    "hannanum = Hannanum()\n",
    "kkma = Kkma()\n",
    "komoran = Komoran()\n",
    "okt = Okt()\n",
    "#mecab = Mecab()"
   ]
  },
  {
   "cell_type": "markdown",
   "metadata": {
    "id": "L6nCgeuqQiRL"
   },
   "source": [
    "soynlp 사용법\n",
    "1. 패키지 설치"
   ]
  },
  {
   "cell_type": "code",
   "execution_count": null,
   "metadata": {
    "id": "NN_SuBy-QnMT"
   },
   "outputs": [],
   "source": [
    "!pip install soynlp"
   ]
  },
  {
   "cell_type": "markdown",
   "metadata": {
    "id": "QMlu_ta1Qsb0"
   },
   "source": [
    "2. 말뭉치 다운로드"
   ]
  },
  {
   "cell_type": "code",
   "execution_count": 10,
   "metadata": {
    "colab": {
     "base_uri": "https://localhost:8080/"
    },
    "executionInfo": {
     "elapsed": 2691,
     "status": "ok",
     "timestamp": 1624005125859,
     "user": {
      "displayName": "김가연",
      "photoUrl": "https://lh3.googleusercontent.com/a-/AOh14GgY0mG7L6LRfcf3soBydi3WJ_VsK7z5jft71yaVyw=s64",
      "userId": "00425627849405993052"
     },
     "user_tz": -540
    },
    "id": "MR8xSDqIPr5r",
    "outputId": "af393a19-2a4b-442c-c4a2-8ead78e819d8"
   },
   "outputs": [
    {
     "name": "stdout",
     "output_type": "stream",
     "text": [
      "--2021-06-18 08:32:04--  https://raw.githubusercontent.com/lovit/soynlp/master/tutorials/2016-10-20.txt\n",
      "Resolving raw.githubusercontent.com (raw.githubusercontent.com)... 185.199.108.133, 185.199.109.133, 185.199.110.133, ...\n",
      "Connecting to raw.githubusercontent.com (raw.githubusercontent.com)|185.199.108.133|:443... connected.\n",
      "HTTP request sent, awaiting response... 200 OK\n",
      "Length: 43694449 (42M) [text/plain]\n",
      "Saving to: ‘2016-10-20.txt’\n",
      "\n",
      "2016-10-20.txt      100%[===================>]  41.67M   119MB/s    in 0.4s    \n",
      "\n",
      "2021-06-18 08:32:06 (119 MB/s) - ‘2016-10-20.txt’ saved [43694449/43694449]\n",
      "\n"
     ]
    }
   ],
   "source": [
    "# soynlp는 konlpy와 달리 말뭉치를 직접 받아야 한다.\n",
    "!wget https://raw.githubusercontent.com/lovit/soynlp/master/tutorials/2016-10-20.txt -O 2016-10-20.txt"
   ]
  },
  {
   "cell_type": "code",
   "execution_count": 15,
   "metadata": {
    "colab": {
     "base_uri": "https://localhost:8080/"
    },
    "executionInfo": {
     "elapsed": 338,
     "status": "ok",
     "timestamp": 1624005199102,
     "user": {
      "displayName": "김가연",
      "photoUrl": "https://lh3.googleusercontent.com/a-/AOh14GgY0mG7L6LRfcf3soBydi3WJ_VsK7z5jft71yaVyw=s64",
      "userId": "00425627849405993052"
     },
     "user_tz": -540
    },
    "id": "TQ2ld1OOP63D",
    "outputId": "8161f168-4346-4ebb-9295-2e9f7f1deef1"
   },
   "outputs": [
    {
     "data": {
      "text/plain": [
       "30091"
      ]
     },
     "execution_count": 15,
     "metadata": {
      "tags": []
     },
     "output_type": "execute_result"
    }
   ],
   "source": [
    "from soynlp import DoublespaceLineCorpus\n",
    "\n",
    "# 문서 단위 말뭉치 생성 \n",
    "corpus = DoublespaceLineCorpus(\"2016-10-20.txt\")\n",
    "len(corpus)  # 문서의 갯수"
   ]
  },
  {
   "cell_type": "code",
   "execution_count": null,
   "metadata": {
    "id": "qQGGAz1bQWn2"
   },
   "outputs": [],
   "source": [
    "# 문장 단위 말뭉치 생성 \n",
    "corpus = DoublespaceLineCorpus(\"2016-10-20.txt\", iter_sent=True)\n",
    "len(corpus)  # 문장의 갯수"
   ]
  },
  {
   "cell_type": "code",
   "execution_count": 16,
   "metadata": {
    "colab": {
     "base_uri": "https://localhost:8080/"
    },
    "executionInfo": {
     "elapsed": 356,
     "status": "ok",
     "timestamp": 1624005206959,
     "user": {
      "displayName": "김가연",
      "photoUrl": "https://lh3.googleusercontent.com/a-/AOh14GgY0mG7L6LRfcf3soBydi3WJ_VsK7z5jft71yaVyw=s64",
      "userId": "00425627849405993052"
     },
     "user_tz": -540
    },
    "id": "DTLvGFudQJT8",
    "outputId": "3bfac4f9-b409-4f6c-a63f-390f40782293"
   },
   "outputs": [
    {
     "name": "stdout",
     "output_type": "stream",
     "text": [
      "0 \n",
      "1 19  1990  52 1 22\n",
      "2 오패산터널 총격전 용의자 검거 서울 연합뉴스 경찰 관계자들이 19일 오후 서울 강북구 오패산 터널 인근에서 사제 총기를 발사해 경찰을 살해한 용의자 성모씨를 검거하고 있다 성씨는 검거 당시 서바이벌 게임에서 쓰는 방탄조끼에 헬멧까지 착용한 상태였다 독자제공 영상 캡처 연합뉴스  서울 연합뉴스 김은경 기자 사제 총기로 경찰을 살해한 범인 성모 46 씨는 주도면밀했다  경찰에 따르면 성씨는 19일 오후 강북경찰서 인근 부동산 업소 밖에서 부동산업자 이모 67 씨가 나오기를 기다렸다 이씨와는 평소에도 말다툼을 자주 한 것으로 알려졌다  이씨가 나와 걷기 시작하자 성씨는 따라가면서 미리 준비해온 사제 총기를 이씨에게 발사했다 총알이 빗나가면서 이씨는 도망갔다 그 빗나간 총알은 지나가던 행인 71 씨의 배를 스쳤다  성씨는 강북서 인근 치킨집까지 이씨 뒤를 쫓으며 실랑이하다 쓰러뜨린 후 총기와 함께 가져온 망치로 이씨 머리를 때렸다  이 과정에서 오후 6시 20분께 강북구 번동 길 위에서 사람들이 싸우고 있다 총소리가 났다 는 등의 신고가 여러건 들어왔다  5분 후에 성씨의 전자발찌가 훼손됐다는 신고가 보호관찰소 시스템을 통해 들어왔다 성범죄자로 전자발찌를 차고 있던 성씨는 부엌칼로 직접 자신의 발찌를 끊었다  용의자 소지 사제총기 2정 서울 연합뉴스 임헌정 기자 서울 시내에서 폭행 용의자가 현장 조사를 벌이던 경찰관에게 사제총기를 발사해 경찰관이 숨졌다 19일 오후 6시28분 강북구 번동에서 둔기로 맞았다 는 폭행 피해 신고가 접수돼 현장에서 조사하던 강북경찰서 번동파출소 소속 김모 54 경위가 폭행 용의자 성모 45 씨가 쏜 사제총기에 맞고 쓰러진 뒤 병원에 옮겨졌으나 숨졌다 사진은 용의자가 소지한 사제총기  신고를 받고 번동파출소에서 김창호 54 경위 등 경찰들이 오후 6시 29분께 현장으로 출동했다 성씨는 그사이 부동산 앞에 놓아뒀던 가방을 챙겨 오패산 쪽으로 도망간 후였다  김 경위는 오패산 터널 입구 오른쪽의 급경사에서 성씨에게 접근하다가 오후 6시 33분께 풀숲에 숨은 성씨가 허공에 난사한 10여발의 총알 중 일부를 왼쪽 어깨 뒷부분에 맞고 쓰러졌다  김 경위는 구급차가 도착했을 때 이미 의식이 없었고 심폐소생술을 하며 병원으로 옮겨졌으나 총알이 폐를 훼손해 오후 7시 40분께 사망했다  김 경위는 외근용 조끼를 입고 있었으나 총알을 막기에는 역부족이었다  머리에 부상을 입은 이씨도 함께 병원으로 이송됐으나 생명에는 지장이 없는 것으로 알려졌다  성씨는 오패산 터널 밑쪽 숲에서 오후 6시 45분께 잡혔다  총격현장 수색하는 경찰들 서울 연합뉴스 이효석 기자 19일 오후 서울 강북구 오패산 터널 인근에서 경찰들이 폭행 용의자가 사제총기를 발사해 경찰관이 사망한 사건을 조사 하고 있다  총 때문에 쫓던 경관들과 민간인들이 몸을 숨겼는데 인근 신발가게 직원 이모씨가 다가가 성씨를 덮쳤고 이어 현장에 있던 다른 상인들과 경찰이 가세해 체포했다  성씨는 경찰에 붙잡힌 직후 나 자살하려고 한 거다 맞아 죽어도 괜찮다 고 말한 것으로 전해졌다  성씨 자신도 경찰이 발사한 공포탄 1발 실탄 3발 중 실탄 1발을 배에 맞았으나 방탄조끼를 입은 상태여서 부상하지는 않았다  경찰은 인근을 수색해 성씨가 만든 사제총 16정과 칼 7개를 압수했다 실제 폭발할지는 알 수 없는 요구르트병에 무언가를 채워두고 심지를 꽂은 사제 폭탄도 발견됐다  일부는 숲에서 발견됐고 일부는 성씨가 소지한 가방 안에 있었다\n",
      "3 테헤란 연합뉴스 강훈상 특파원 이용 승객수 기준 세계 최대 공항인 아랍에미리트 두바이국제공항은 19일 현지시간 이 공항을 이륙하는 모든 항공기의 탑승객은 삼성전자의 갤럭시노트7을 휴대하면 안 된다고 밝혔다  두바이국제공항은 여러 항공 관련 기구의 권고에 따라 안전성에 우려가 있는 스마트폰 갤럭시노트7을 휴대하고 비행기를 타면 안 된다 며 탑승 전 검색 중 발견되면 압수할 계획 이라고 발표했다  공항 측은 갤럭시노트7의 배터리가 폭발 우려가 제기된 만큼 이 제품을 갖고 공항 안으로 들어오지 말라고 이용객에 당부했다  이런 조치는 두바이국제공항 뿐 아니라 신공항인 두바이월드센터에도 적용된다  배터리 폭발문제로 회수된 갤럭시노트7 연합뉴스자료사진\n",
      "4 브뤼셀 연합뉴스 김병수 특파원 독일 정부는 19일 원자력발전소를 폐쇄하기로 함에 따라 원자력 발전소 운영자들에게 핵폐기물 처리를 지원하는 펀드에 235억 유로 260억 달러 29조 원 를 지불하도록 하는 계획을 승인했다고 언론들이 보도했다  앞서 독일은 5년 전 일본 후쿠시마 원전사태 이후 오는 2022년까지 원전 17기를 모두 폐쇄하기로 하고 오는 2050년까지 전기생산량의 80 를 재생에너지로 충당하는 것을 목표로 세웠다  이날 내각을 통과한 법안은 원전 운영자들이 원전 해체와 핵폐기물 처리를 위한 포장을 책임지고 정부는 핵폐기물 보관을 책임지도록 했다  독일 경제부는 전력회사들과 공식적인 접촉은 아직 합의되지 않았다고 밝혔다  독일 원자력 발전소 연합뉴스 자료사진\n"
     ]
    }
   ],
   "source": [
    "# 앞 5개의 문서 인쇄\n",
    "i = 0\n",
    "for d in corpus:\n",
    "    print(i, d)\n",
    "    i += 1\n",
    "    if i > 4:\n",
    "        break"
   ]
  },
  {
   "cell_type": "code",
   "execution_count": 18,
   "metadata": {
    "colab": {
     "base_uri": "https://localhost:8080/"
    },
    "executionInfo": {
     "elapsed": 791,
     "status": "ok",
     "timestamp": 1624005257797,
     "user": {
      "displayName": "김가연",
      "photoUrl": "https://lh3.googleusercontent.com/a-/AOh14GgY0mG7L6LRfcf3soBydi3WJ_VsK7z5jft71yaVyw=s64",
      "userId": "00425627849405993052"
     },
     "user_tz": -540
    },
    "id": "VgRWVaiJQQ-T",
    "outputId": "ce6e63a2-d114-4b28-dea3-51e844278ed4"
   },
   "outputs": [
    {
     "data": {
      "text/plain": [
       "223357"
      ]
     },
     "execution_count": 18,
     "metadata": {
      "tags": []
     },
     "output_type": "execute_result"
    }
   ],
   "source": [
    "# 문장 단위 말뭉치 생성 \n",
    "corpus = DoublespaceLineCorpus(\"2016-10-20.txt\", iter_sent=True)\n",
    "len(corpus)  # 문장의 갯수"
   ]
  },
  {
   "cell_type": "code",
   "execution_count": 19,
   "metadata": {
    "colab": {
     "base_uri": "https://localhost:8080/"
    },
    "executionInfo": {
     "elapsed": 317,
     "status": "ok",
     "timestamp": 1624005264619,
     "user": {
      "displayName": "김가연",
      "photoUrl": "https://lh3.googleusercontent.com/a-/AOh14GgY0mG7L6LRfcf3soBydi3WJ_VsK7z5jft71yaVyw=s64",
      "userId": "00425627849405993052"
     },
     "user_tz": -540
    },
    "id": "0y2_RR7oQQ8L",
    "outputId": "d17377e4-19ff-459f-b427-ea214de43868"
   },
   "outputs": [
    {
     "name": "stdout",
     "output_type": "stream",
     "text": [
      "0 19\n",
      "1 1990\n",
      "2 52 1 22\n",
      "3 오패산터널 총격전 용의자 검거 서울 연합뉴스 경찰 관계자들이 19일 오후 서울 강북구 오패산 터널 인근에서 사제 총기를 발사해 경찰을 살해한 용의자 성모씨를 검거하고 있다 성씨는 검거 당시 서바이벌 게임에서 쓰는 방탄조끼에 헬멧까지 착용한 상태였다 독자제공 영상 캡처 연합뉴스\n",
      "4 서울 연합뉴스 김은경 기자 사제 총기로 경찰을 살해한 범인 성모 46 씨는 주도면밀했다\n"
     ]
    }
   ],
   "source": [
    "# 앞 5개의 문장 인쇄\n",
    "i = 0\n",
    "for d in corpus:\n",
    "    print(i, d)\n",
    "    i += 1\n",
    "    if i > 4:\n",
    "        break"
   ]
  },
  {
   "cell_type": "markdown",
   "metadata": {
    "id": "BzT9x8jCQwGO"
   },
   "source": [
    "3. 단어 추출"
   ]
  },
  {
   "cell_type": "code",
   "execution_count": 20,
   "metadata": {
    "colab": {
     "base_uri": "https://localhost:8080/"
    },
    "executionInfo": {
     "elapsed": 50385,
     "status": "ok",
     "timestamp": 1624005443087,
     "user": {
      "displayName": "김가연",
      "photoUrl": "https://lh3.googleusercontent.com/a-/AOh14GgY0mG7L6LRfcf3soBydi3WJ_VsK7z5jft71yaVyw=s64",
      "userId": "00425627849405993052"
     },
     "user_tz": -540
    },
    "id": "GKldfM0DQa-W",
    "outputId": "9b56b376-bc95-4a69-b9b3-31ca7f773985"
   },
   "outputs": [
    {
     "name": "stdout",
     "output_type": "stream",
     "text": [
      "training was done. used memory 1.579 Gb\n",
      "CPU times: user 49.1 s, sys: 874 ms, total: 50 s\n",
      "Wall time: 50 s\n"
     ]
    }
   ],
   "source": [
    "# WordExtractor 클래스를 사용하여 단어를 형태소 별로 분리한다.\n",
    "%%time\n",
    "from soynlp.word import WordExtractor\n",
    "\n",
    "word_extractor = WordExtractor()\n",
    "word_extractor.train(corpus)"
   ]
  },
  {
   "cell_type": "code",
   "execution_count": 23,
   "metadata": {
    "colab": {
     "base_uri": "https://localhost:8080/"
    },
    "executionInfo": {
     "elapsed": 26633,
     "status": "ok",
     "timestamp": 1624005535801,
     "user": {
      "displayName": "김가연",
      "photoUrl": "https://lh3.googleusercontent.com/a-/AOh14GgY0mG7L6LRfcf3soBydi3WJ_VsK7z5jft71yaVyw=s64",
      "userId": "00425627849405993052"
     },
     "user_tz": -540
    },
    "id": "SDv3a4vEQ9AR",
    "outputId": "4c6e3706-cc35-44b6-de69-ef4eb3de9b2a"
   },
   "outputs": [
    {
     "name": "stdout",
     "output_type": "stream",
     "text": [
      "all cohesion probabilities was computed. # words = 223348\n",
      "all branching entropies was computed # words = 360721\n",
      "all accessor variety was computed # words = 360721\n"
     ]
    }
   ],
   "source": [
    "word_score = word_extractor.extract()"
   ]
  },
  {
   "cell_type": "markdown",
   "metadata": {
    "id": "flbzdP4mRBRb"
   },
   "source": [
    "4. Cohesion"
   ]
  },
  {
   "cell_type": "code",
   "execution_count": 29,
   "metadata": {
    "colab": {
     "base_uri": "https://localhost:8080/"
    },
    "executionInfo": {
     "elapsed": 336,
     "status": "ok",
     "timestamp": 1624005585788,
     "user": {
      "displayName": "김가연",
      "photoUrl": "https://lh3.googleusercontent.com/a-/AOh14GgY0mG7L6LRfcf3soBydi3WJ_VsK7z5jft71yaVyw=s64",
      "userId": "00425627849405993052"
     },
     "user_tz": -540
    },
    "id": "n6RhCYWVQ87t",
    "outputId": "a7463731-5413-4eb9-ebd5-ed5021756abb"
   },
   "outputs": [
    {
     "data": {
      "text/plain": [
       "0.1943363253634125"
      ]
     },
     "execution_count": 29,
     "metadata": {
      "tags": []
     },
     "output_type": "execute_result"
    }
   ],
   "source": [
    "# Cohesion은 문자열을 글자단위로 분리하여 부분문자열(substring)을 만들 때\n",
    "# 왼쪽부터 문맥을 증가시키면서 각 문맥이 주어졌을 때 그 다음 글자가 나올 확률을\n",
    "# 계산하여 누적곱을 한 값이다.\n",
    "# 한 단어를 중간에서 나눈 경우, 다음 글자를 예측하기 쉬우므로 조건부확률값이 크다.\n",
    "# 하지만 단어 뒤에 조사나 결합어가 오면 경우의 수가 많아져 조건부확률값 작아진다.\n",
    "# 그러므로 Cohesion값이 가장 큰 위치가 하나의 단어를 이루고 있을 가능성이 높다.\n",
    "word_score[\"연합\"].cohesion_forward"
   ]
  },
  {
   "cell_type": "code",
   "execution_count": 30,
   "metadata": {
    "colab": {
     "base_uri": "https://localhost:8080/"
    },
    "executionInfo": {
     "elapsed": 10,
     "status": "ok",
     "timestamp": 1624005586944,
     "user": {
      "displayName": "김가연",
      "photoUrl": "https://lh3.googleusercontent.com/a-/AOh14GgY0mG7L6LRfcf3soBydi3WJ_VsK7z5jft71yaVyw=s64",
      "userId": "00425627849405993052"
     },
     "user_tz": -540
    },
    "id": "-eaJYzPoQ84c",
    "outputId": "9e60e698-ac9f-4f93-c1e0-6bb7e0282946"
   },
   "outputs": [
    {
     "data": {
      "text/plain": [
       "0.43154839105434084"
      ]
     },
     "execution_count": 30,
     "metadata": {
      "tags": []
     },
     "output_type": "execute_result"
    }
   ],
   "source": [
    "word_score[\"연합뉴\"].cohesion_forward"
   ]
  },
  {
   "cell_type": "code",
   "execution_count": 31,
   "metadata": {
    "colab": {
     "base_uri": "https://localhost:8080/"
    },
    "executionInfo": {
     "elapsed": 10,
     "status": "ok",
     "timestamp": 1624005588244,
     "user": {
      "displayName": "김가연",
      "photoUrl": "https://lh3.googleusercontent.com/a-/AOh14GgY0mG7L6LRfcf3soBydi3WJ_VsK7z5jft71yaVyw=s64",
      "userId": "00425627849405993052"
     },
     "user_tz": -540
    },
    "id": "l9TEWJXMRbSf",
    "outputId": "41c9eff0-2cbe-4abe-a6c1-43648f02378d"
   },
   "outputs": [
    {
     "data": {
      "text/plain": [
       "0.5710254410737682"
      ]
     },
     "execution_count": 31,
     "metadata": {
      "tags": []
     },
     "output_type": "execute_result"
    }
   ],
   "source": [
    "word_score[\"연합뉴스\"].cohesion_forward # 여기가 값이 제일 크므로 한 단어라 예측함."
   ]
  },
  {
   "cell_type": "code",
   "execution_count": 33,
   "metadata": {
    "colab": {
     "base_uri": "https://localhost:8080/"
    },
    "executionInfo": {
     "elapsed": 10,
     "status": "ok",
     "timestamp": 1624005590603,
     "user": {
      "displayName": "김가연",
      "photoUrl": "https://lh3.googleusercontent.com/a-/AOh14GgY0mG7L6LRfcf3soBydi3WJ_VsK7z5jft71yaVyw=s64",
      "userId": "00425627849405993052"
     },
     "user_tz": -540
    },
    "id": "sXgPtb-RRbQc",
    "outputId": "ad173ffc-ef33-4c40-f8b5-14b84ba80e7c"
   },
   "outputs": [
    {
     "data": {
      "text/plain": [
       "0.1535595043355021"
      ]
     },
     "execution_count": 33,
     "metadata": {
      "tags": []
     },
     "output_type": "execute_result"
    }
   ],
   "source": [
    "word_score[\"연합뉴스는\"].cohesion_forward"
   ]
  },
  {
   "cell_type": "markdown",
   "metadata": {
    "id": "Ial9Awt_Reqs"
   },
   "source": [
    "5. Branching Entropy"
   ]
  },
  {
   "cell_type": "code",
   "execution_count": null,
   "metadata": {
    "id": "G2ug4YA9RbL9"
   },
   "outputs": [],
   "source": [
    "# Branching Entropy는 조건부 확률값이 아니라 확률분포의 엔트로피값을 사용한다.\n",
    "# 만약 하나의 단어를 중간에서 끊으면 다음에 나올 글자는 쉽게 예측이 가능하다 즉,\n",
    "# 여러가지 글자 중 특정한 하나의 글자가 확률이 높다.\n",
    "# 따라서 엔트로피값이 0에 가까운 값으로 작아진다.\n",
    "# 하지만 하나의 단어가 완결되는 위치에는 다양한 조사나 결합어가 올 수 있으므로\n",
    "# 여러가지 글자의 확률이 비슷하게 나오고 따라서 엔트로피값이 높아진다."
   ]
  },
  {
   "cell_type": "code",
   "execution_count": 34,
   "metadata": {
    "colab": {
     "base_uri": "https://localhost:8080/"
    },
    "executionInfo": {
     "elapsed": 528,
     "status": "ok",
     "timestamp": 1624005804054,
     "user": {
      "displayName": "김가연",
      "photoUrl": "https://lh3.googleusercontent.com/a-/AOh14GgY0mG7L6LRfcf3soBydi3WJ_VsK7z5jft71yaVyw=s64",
      "userId": "00425627849405993052"
     },
     "user_tz": -540
    },
    "id": "ArR4g87URbJ-",
    "outputId": "ccc5450d-7822-45bd-a2ab-7f4cded3853b"
   },
   "outputs": [
    {
     "data": {
      "text/plain": [
       "0.42721236711742844"
      ]
     },
     "execution_count": 34,
     "metadata": {
      "tags": []
     },
     "output_type": "execute_result"
    }
   ],
   "source": [
    "word_score[\"연합\"].right_branching_entropy"
   ]
  },
  {
   "cell_type": "code",
   "execution_count": 35,
   "metadata": {
    "colab": {
     "base_uri": "https://localhost:8080/"
    },
    "executionInfo": {
     "elapsed": 331,
     "status": "ok",
     "timestamp": 1624005811558,
     "user": {
      "displayName": "김가연",
      "photoUrl": "https://lh3.googleusercontent.com/a-/AOh14GgY0mG7L6LRfcf3soBydi3WJ_VsK7z5jft71yaVyw=s64",
      "userId": "00425627849405993052"
     },
     "user_tz": -540
    },
    "id": "Q8325Q1iRbH8",
    "outputId": "72f8d60d-4014-47b7-c03d-3f2891e1e362"
   },
   "outputs": [
    {
     "data": {
      "text/plain": [
       "-0.0"
      ]
     },
     "execution_count": 35,
     "metadata": {
      "tags": []
     },
     "output_type": "execute_result"
    }
   ],
   "source": [
    "# '연합뉴' 다음에는 항상 '스'만 나온다.\n",
    "word_score[\"연합뉴\"].right_branching_entropy"
   ]
  },
  {
   "cell_type": "code",
   "execution_count": 36,
   "metadata": {
    "colab": {
     "base_uri": "https://localhost:8080/"
    },
    "executionInfo": {
     "elapsed": 355,
     "status": "ok",
     "timestamp": 1624005817916,
     "user": {
      "displayName": "김가연",
      "photoUrl": "https://lh3.googleusercontent.com/a-/AOh14GgY0mG7L6LRfcf3soBydi3WJ_VsK7z5jft71yaVyw=s64",
      "userId": "00425627849405993052"
     },
     "user_tz": -540
    },
    "id": "C9C76lLxQ81T",
    "outputId": "7bdd7dea-971f-4d22-bc5f-24c16c3e0f4a"
   },
   "outputs": [
    {
     "data": {
      "text/plain": [
       "3.8967810761022053"
      ]
     },
     "execution_count": 36,
     "metadata": {
      "tags": []
     },
     "output_type": "execute_result"
    }
   ],
   "source": [
    "word_score[\"연합뉴스\"].right_branching_entropy"
   ]
  },
  {
   "cell_type": "code",
   "execution_count": 37,
   "metadata": {
    "colab": {
     "base_uri": "https://localhost:8080/"
    },
    "executionInfo": {
     "elapsed": 355,
     "status": "ok",
     "timestamp": 1624005824375,
     "user": {
      "displayName": "김가연",
      "photoUrl": "https://lh3.googleusercontent.com/a-/AOh14GgY0mG7L6LRfcf3soBydi3WJ_VsK7z5jft71yaVyw=s64",
      "userId": "00425627849405993052"
     },
     "user_tz": -540
    },
    "id": "Lhi5guhKQa7U",
    "outputId": "f50ad3cd-baf9-4f82-d61c-eb07884bcdf7"
   },
   "outputs": [
    {
     "data": {
      "text/plain": [
       "0.410116318288409"
      ]
     },
     "execution_count": 37,
     "metadata": {
      "tags": []
     },
     "output_type": "execute_result"
    }
   ],
   "source": [
    "word_score[\"연합뉴스는\"].right_branching_entropy"
   ]
  },
  {
   "cell_type": "markdown",
   "metadata": {
    "id": "gwUNrYN1SoQT"
   },
   "source": [
    "6. Accessor Variety"
   ]
  },
  {
   "cell_type": "code",
   "execution_count": 38,
   "metadata": {
    "colab": {
     "base_uri": "https://localhost:8080/"
    },
    "executionInfo": {
     "elapsed": 334,
     "status": "ok",
     "timestamp": 1624005877262,
     "user": {
      "displayName": "김가연",
      "photoUrl": "https://lh3.googleusercontent.com/a-/AOh14GgY0mG7L6LRfcf3soBydi3WJ_VsK7z5jft71yaVyw=s64",
      "userId": "00425627849405993052"
     },
     "user_tz": -540
    },
    "id": "XkKid1isSlUc",
    "outputId": "206b03db-e740-4653-dbbe-13b3cf3cc88f"
   },
   "outputs": [
    {
     "data": {
      "text/plain": [
       "42"
      ]
     },
     "execution_count": 38,
     "metadata": {
      "tags": []
     },
     "output_type": "execute_result"
    }
   ],
   "source": [
    "# Accessor Variety는 확률분포를 구하지 않고 단순히 특정 문자열 다음에\n",
    "# 나올 수 있는 글자의 종류만 계산한다.\n",
    "# 글자의 종류가 많다면 엔트로피가 높아지리 것이라고 추정하는 것이다.\n",
    "word_score[\"연합\"].right_accessor_variety"
   ]
  },
  {
   "cell_type": "code",
   "execution_count": 39,
   "metadata": {
    "colab": {
     "base_uri": "https://localhost:8080/"
    },
    "executionInfo": {
     "elapsed": 333,
     "status": "ok",
     "timestamp": 1624005881242,
     "user": {
      "displayName": "김가연",
      "photoUrl": "https://lh3.googleusercontent.com/a-/AOh14GgY0mG7L6LRfcf3soBydi3WJ_VsK7z5jft71yaVyw=s64",
      "userId": "00425627849405993052"
     },
     "user_tz": -540
    },
    "id": "PmRRgn_JSlSM",
    "outputId": "e6531a78-d995-4e21-f39c-fc3665812cfe"
   },
   "outputs": [
    {
     "data": {
      "text/plain": [
       "1"
      ]
     },
     "execution_count": 39,
     "metadata": {
      "tags": []
     },
     "output_type": "execute_result"
    }
   ],
   "source": [
    "# '연합뉴' 다음에는 항상 '스'만 나온다.\n",
    "word_score[\"연합뉴\"].right_accessor_variety"
   ]
  },
  {
   "cell_type": "code",
   "execution_count": 40,
   "metadata": {
    "colab": {
     "base_uri": "https://localhost:8080/"
    },
    "executionInfo": {
     "elapsed": 343,
     "status": "ok",
     "timestamp": 1624005888939,
     "user": {
      "displayName": "김가연",
      "photoUrl": "https://lh3.googleusercontent.com/a-/AOh14GgY0mG7L6LRfcf3soBydi3WJ_VsK7z5jft71yaVyw=s64",
      "userId": "00425627849405993052"
     },
     "user_tz": -540
    },
    "id": "1XHyrIWNSlQH",
    "outputId": "add33b8b-b98f-45d9-898b-d53eb412f25f"
   },
   "outputs": [
    {
     "data": {
      "text/plain": [
       "158"
      ]
     },
     "execution_count": 40,
     "metadata": {
      "tags": []
     },
     "output_type": "execute_result"
    }
   ],
   "source": [
    "word_score[\"연합뉴스\"].right_accessor_variety"
   ]
  },
  {
   "cell_type": "code",
   "execution_count": 41,
   "metadata": {
    "colab": {
     "base_uri": "https://localhost:8080/"
    },
    "executionInfo": {
     "elapsed": 332,
     "status": "ok",
     "timestamp": 1624005896597,
     "user": {
      "displayName": "김가연",
      "photoUrl": "https://lh3.googleusercontent.com/a-/AOh14GgY0mG7L6LRfcf3soBydi3WJ_VsK7z5jft71yaVyw=s64",
      "userId": "00425627849405993052"
     },
     "user_tz": -540
    },
    "id": "N1HkOi93QQ5z",
    "outputId": "91a2c8bc-b49b-47fa-9307-da57ef42fad0"
   },
   "outputs": [
    {
     "data": {
      "text/plain": [
       "2"
      ]
     },
     "execution_count": 41,
     "metadata": {
      "tags": []
     },
     "output_type": "execute_result"
    }
   ],
   "source": [
    "word_score[\"연합뉴스는\"].right_accessor_variety"
   ]
  },
  {
   "cell_type": "markdown",
   "metadata": {
    "id": "_ZQJ234bS4Pd"
   },
   "source": [
    "soynlp는 이렇게 계산된 통계수치를 사용하여 문자열을 토큰화하는 방법도 제공한다.\n",
    "\n",
    "soynlp가 제공하는 토큰화 방법은 두 가지다.\n",
    "\n",
    "띄어쓰기가 잘 되어 있는 경우: L-토큰화\n",
    "\n",
    "띄어쓰기가 안되어 있는 경우: Max Score 토큰화"
   ]
  },
  {
   "cell_type": "markdown",
   "metadata": {
    "id": "_ucwwGtgTIJk"
   },
   "source": [
    "L-토큰화\n",
    "\n",
    "한국어의 경우 공백(띄어쓰기)으로 분리된 하나의 문자열은 ‘L 토큰 + R 토큰; 구조인 경우가 많다. \n",
    "\n",
    "왼쪽에 오는 L 토큰은 체언(명사, 대명사)이나 동사, 형용사 등이고 오른쪽에 오는 R 토큰은 조사, 동사, 형용사 등이다. \n",
    "\n",
    "여러가지 길이의 L 토큰의 점수를 비교하여 가장 점수가 높 L단어를 찾는 것이 L-토큰화(L-tokenizing)이다. \n",
    "\n",
    "soynlp에서는 LTokenizer 클래스로 제공한다."
   ]
  },
  {
   "cell_type": "code",
   "execution_count": 42,
   "metadata": {
    "colab": {
     "base_uri": "https://localhost:8080/"
    },
    "executionInfo": {
     "elapsed": 353,
     "status": "ok",
     "timestamp": 1624006002335,
     "user": {
      "displayName": "김가연",
      "photoUrl": "https://lh3.googleusercontent.com/a-/AOh14GgY0mG7L6LRfcf3soBydi3WJ_VsK7z5jft71yaVyw=s64",
      "userId": "00425627849405993052"
     },
     "user_tz": -540
    },
    "id": "z6JOvsT0S1Px",
    "outputId": "53e5539e-1bab-4ccb-bc58-07e1bdb838b4"
   },
   "outputs": [
    {
     "data": {
      "text/plain": [
       "[('안전', '성에'),\n",
       " ('문제', '있는'),\n",
       " ('스마트폰', '을'),\n",
       " ('휴대', '하고'),\n",
       " ('탑승', '할'),\n",
       " ('경우', '에'),\n",
       " ('압수', '한다')]"
      ]
     },
     "execution_count": 42,
     "metadata": {
      "tags": []
     },
     "output_type": "execute_result"
    }
   ],
   "source": [
    "from soynlp.tokenizer import LTokenizer\n",
    "\n",
    "scores = {word:score.cohesion_forward for word, score in word_score.items()}\n",
    "l_tokenizer = LTokenizer(scores=scores)\n",
    "\n",
    "l_tokenizer.tokenize(\"안전성에 문제있는 스마트폰을 휴대하고 탑승할 경우에 압수한다\", flatten=False)"
   ]
  },
  {
   "cell_type": "markdown",
   "metadata": {
    "id": "VWSh2BvZTR8j"
   },
   "source": [
    "최대 점수 토큰화\n",
    "\n",
    "최대 점수 토큰화(max score tokenizing)는 띄어쓰기가 되어 있지 않는 긴 문자열에서 \n",
    "\n",
    "가능한 모든 종류의 부분문자열을 만들어서 가장 점수가 높은 것을 하나의 토큰으로 정한다. \n",
    "\n",
    "이 토큰을 제외하면 이 위치를 기준으로 전체 문자열이 다시 더 작은 문자열들로 나누어지는데 \n",
    "\n",
    "이 문자열들에 대해 다시 한번 가장 점수가 높은 부분문자열을 찾는 것을 반복한다."
   ]
  },
  {
   "cell_type": "code",
   "execution_count": 43,
   "metadata": {
    "colab": {
     "base_uri": "https://localhost:8080/"
    },
    "executionInfo": {
     "elapsed": 421,
     "status": "ok",
     "timestamp": 1624006033018,
     "user": {
      "displayName": "김가연",
      "photoUrl": "https://lh3.googleusercontent.com/a-/AOh14GgY0mG7L6LRfcf3soBydi3WJ_VsK7z5jft71yaVyw=s64",
      "userId": "00425627849405993052"
     },
     "user_tz": -540
    },
    "id": "0K18xPh5S1NU",
    "outputId": "9e06fb4e-ed4b-4c10-9fc1-acb00306cb40"
   },
   "outputs": [
    {
     "data": {
      "text/plain": [
       "['안전',\n",
       " '성에',\n",
       " '문제',\n",
       " '있는',\n",
       " '스마트폰',\n",
       " '을',\n",
       " '휴대',\n",
       " '하고',\n",
       " '탑승',\n",
       " '할',\n",
       " '경우',\n",
       " '에',\n",
       " '압수',\n",
       " '한다']"
      ]
     },
     "execution_count": 43,
     "metadata": {
      "tags": []
     },
     "output_type": "execute_result"
    }
   ],
   "source": [
    "from soynlp.tokenizer import MaxScoreTokenizer\n",
    "\n",
    "maxscore_tokenizer = MaxScoreTokenizer(scores=scores)\n",
    "maxscore_tokenizer.tokenize(\"안전성에문제있는스마트폰을휴대하고탑승할경우에압수한다\")"
   ]
  }
 ],
 "metadata": {
  "colab": {
   "authorship_tag": "ABX9TyPxOZyJAgvTdjOegYWEh4bD",
   "collapsed_sections": [],
   "name": "soynlp 사용법.ipynb",
   "provenance": []
  },
  "kernelspec": {
   "display_name": "Python 3",
   "language": "python",
   "name": "python3"
  },
  "language_info": {
   "codemirror_mode": {
    "name": "ipython",
    "version": 3
   },
   "file_extension": ".py",
   "mimetype": "text/x-python",
   "name": "python",
   "nbconvert_exporter": "python",
   "pygments_lexer": "ipython3",
   "version": "3.8.8"
  },
  "vp": {
   "base_numbering": 1,
   "nav_menu": {},
   "number_sections": true,
   "sideBar": true,
   "title_cell": "VisualPython",
   "title_sidebar": "VisualPython",
   "vpPosition": {
    "height": "calc(100% - 180px)",
    "right": "10px",
    "top": "110px",
    "width": "50%"
   },
   "vp_cell": false,
   "vp_section_display": true,
   "vp_window_display": false
  }
 },
 "nbformat": 4,
 "nbformat_minor": 1
}
