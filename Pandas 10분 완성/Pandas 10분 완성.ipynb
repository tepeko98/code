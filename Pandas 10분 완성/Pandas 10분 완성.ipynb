{
 "cells": [
  {
   "cell_type": "code",
   "execution_count": 1,
   "id": "c1bb6930",
   "metadata": {},
   "outputs": [],
   "source": [
    "import pandas as pd\n",
    "import numpy as np\n",
    "import matplotlib.pyplot as plt"
   ]
  },
  {
   "cell_type": "markdown",
   "id": "4d513a17",
   "metadata": {},
   "source": [
    "1. Object Creation (객체 생성)"
   ]
  },
  {
   "cell_type": "code",
   "execution_count": 2,
   "id": "9dfff001",
   "metadata": {},
   "outputs": [
    {
     "data": {
      "text/plain": [
       "0    1.0\n",
       "1    3.0\n",
       "2    5.0\n",
       "3    NaN\n",
       "4    6.0\n",
       "5    8.0\n",
       "dtype: float64"
      ]
     },
     "execution_count": 2,
     "metadata": {},
     "output_type": "execute_result"
    }
   ],
   "source": [
    "#Pandas는 리스트를 가지고 Series를 만들고,\n",
    "#정수로 만들어진 인덱스를 기본값으로 불러온다.\n",
    "s = pd.Series([1,3,5,np.nan,6,8])\n",
    "s"
   ]
  },
  {
   "cell_type": "code",
   "execution_count": 3,
   "id": "91f1fdef",
   "metadata": {},
   "outputs": [
    {
     "data": {
      "text/plain": [
       "DatetimeIndex(['2013-01-01', '2013-01-02', '2013-01-03', '2013-01-04',\n",
       "               '2013-01-05', '2013-01-06'],\n",
       "              dtype='datetime64[ns]', freq='D')"
      ]
     },
     "execution_count": 3,
     "metadata": {},
     "output_type": "execute_result"
    }
   ],
   "source": [
    "#datetime 인덱스와 레이블이 있는 열을 가지고 있는\n",
    "#numpy 배열을 전달하여 데이터프레임을 만든다.\n",
    "dates = pd.date_range('20130101', periods=6)\n",
    "dates"
   ]
  },
  {
   "cell_type": "code",
   "execution_count": 4,
   "id": "0854efbd",
   "metadata": {},
   "outputs": [
    {
     "data": {
      "text/html": [
       "<div>\n",
       "<style scoped>\n",
       "    .dataframe tbody tr th:only-of-type {\n",
       "        vertical-align: middle;\n",
       "    }\n",
       "\n",
       "    .dataframe tbody tr th {\n",
       "        vertical-align: top;\n",
       "    }\n",
       "\n",
       "    .dataframe thead th {\n",
       "        text-align: right;\n",
       "    }\n",
       "</style>\n",
       "<table border=\"1\" class=\"dataframe\">\n",
       "  <thead>\n",
       "    <tr style=\"text-align: right;\">\n",
       "      <th></th>\n",
       "      <th>A</th>\n",
       "      <th>B</th>\n",
       "      <th>C</th>\n",
       "      <th>D</th>\n",
       "    </tr>\n",
       "  </thead>\n",
       "  <tbody>\n",
       "    <tr>\n",
       "      <th>2013-01-01</th>\n",
       "      <td>-1.301242</td>\n",
       "      <td>-0.960926</td>\n",
       "      <td>-0.129875</td>\n",
       "      <td>-0.728123</td>\n",
       "    </tr>\n",
       "    <tr>\n",
       "      <th>2013-01-02</th>\n",
       "      <td>-0.736391</td>\n",
       "      <td>-0.419642</td>\n",
       "      <td>0.866715</td>\n",
       "      <td>-0.248911</td>\n",
       "    </tr>\n",
       "    <tr>\n",
       "      <th>2013-01-03</th>\n",
       "      <td>-0.343532</td>\n",
       "      <td>-0.253569</td>\n",
       "      <td>1.511347</td>\n",
       "      <td>-0.150133</td>\n",
       "    </tr>\n",
       "    <tr>\n",
       "      <th>2013-01-04</th>\n",
       "      <td>0.001127</td>\n",
       "      <td>0.841016</td>\n",
       "      <td>1.466820</td>\n",
       "      <td>-0.510424</td>\n",
       "    </tr>\n",
       "    <tr>\n",
       "      <th>2013-01-05</th>\n",
       "      <td>1.324575</td>\n",
       "      <td>1.471176</td>\n",
       "      <td>-0.482346</td>\n",
       "      <td>-1.281677</td>\n",
       "    </tr>\n",
       "    <tr>\n",
       "      <th>2013-01-06</th>\n",
       "      <td>-0.285595</td>\n",
       "      <td>-0.164507</td>\n",
       "      <td>0.216564</td>\n",
       "      <td>-0.661587</td>\n",
       "    </tr>\n",
       "  </tbody>\n",
       "</table>\n",
       "</div>"
      ],
      "text/plain": [
       "                   A         B         C         D\n",
       "2013-01-01 -1.301242 -0.960926 -0.129875 -0.728123\n",
       "2013-01-02 -0.736391 -0.419642  0.866715 -0.248911\n",
       "2013-01-03 -0.343532 -0.253569  1.511347 -0.150133\n",
       "2013-01-04  0.001127  0.841016  1.466820 -0.510424\n",
       "2013-01-05  1.324575  1.471176 -0.482346 -1.281677\n",
       "2013-01-06 -0.285595 -0.164507  0.216564 -0.661587"
      ]
     },
     "execution_count": 4,
     "metadata": {},
     "output_type": "execute_result"
    }
   ],
   "source": [
    "df = pd.DataFrame(np.random.randn(6,4),\n",
    "                 index=dates, columns=list('ABCD'))\n",
    "df"
   ]
  },
  {
   "cell_type": "code",
   "execution_count": 5,
   "id": "a2adb61f",
   "metadata": {},
   "outputs": [
    {
     "data": {
      "text/html": [
       "<div>\n",
       "<style scoped>\n",
       "    .dataframe tbody tr th:only-of-type {\n",
       "        vertical-align: middle;\n",
       "    }\n",
       "\n",
       "    .dataframe tbody tr th {\n",
       "        vertical-align: top;\n",
       "    }\n",
       "\n",
       "    .dataframe thead th {\n",
       "        text-align: right;\n",
       "    }\n",
       "</style>\n",
       "<table border=\"1\" class=\"dataframe\">\n",
       "  <thead>\n",
       "    <tr style=\"text-align: right;\">\n",
       "      <th></th>\n",
       "      <th>A</th>\n",
       "      <th>B</th>\n",
       "      <th>C</th>\n",
       "      <th>D</th>\n",
       "      <th>E</th>\n",
       "      <th>F</th>\n",
       "    </tr>\n",
       "  </thead>\n",
       "  <tbody>\n",
       "    <tr>\n",
       "      <th>0</th>\n",
       "      <td>1.0</td>\n",
       "      <td>2013-01-02</td>\n",
       "      <td>1.0</td>\n",
       "      <td>3</td>\n",
       "      <td>test</td>\n",
       "      <td>foo</td>\n",
       "    </tr>\n",
       "    <tr>\n",
       "      <th>1</th>\n",
       "      <td>1.0</td>\n",
       "      <td>2013-01-02</td>\n",
       "      <td>1.0</td>\n",
       "      <td>3</td>\n",
       "      <td>train</td>\n",
       "      <td>foo</td>\n",
       "    </tr>\n",
       "    <tr>\n",
       "      <th>2</th>\n",
       "      <td>1.0</td>\n",
       "      <td>2013-01-02</td>\n",
       "      <td>1.0</td>\n",
       "      <td>3</td>\n",
       "      <td>test</td>\n",
       "      <td>foo</td>\n",
       "    </tr>\n",
       "    <tr>\n",
       "      <th>3</th>\n",
       "      <td>1.0</td>\n",
       "      <td>2013-01-02</td>\n",
       "      <td>1.0</td>\n",
       "      <td>3</td>\n",
       "      <td>train</td>\n",
       "      <td>foo</td>\n",
       "    </tr>\n",
       "  </tbody>\n",
       "</table>\n",
       "</div>"
      ],
      "text/plain": [
       "     A          B    C  D      E    F\n",
       "0  1.0 2013-01-02  1.0  3   test  foo\n",
       "1  1.0 2013-01-02  1.0  3  train  foo\n",
       "2  1.0 2013-01-02  1.0  3   test  foo\n",
       "3  1.0 2013-01-02  1.0  3  train  foo"
      ]
     },
     "execution_count": 5,
     "metadata": {},
     "output_type": "execute_result"
    }
   ],
   "source": [
    "#Series와 같은 것으로 변환될 수 있는\n",
    "#객체들의 dict로 구성된 데이터프레임을 만든다.\n",
    "df2 = pd.DataFrame({'A' : 1.,\n",
    "                    'B' : pd.Timestamp('20130102'),\n",
    "                    'C' : pd.Series(1,index=list(range(4)),dtype='float32'),\n",
    "                    'D' : np.array([3] * 4,dtype='int32'),\n",
    "                    'E' : pd.Categorical([\"test\",\"train\",\"test\",\"train\"]),\n",
    "                    'F' : 'foo' })\n",
    "df2"
   ]
  },
  {
   "cell_type": "code",
   "execution_count": 6,
   "id": "3a6cdb75",
   "metadata": {},
   "outputs": [
    {
     "data": {
      "text/plain": [
       "A           float64\n",
       "B    datetime64[ns]\n",
       "C           float32\n",
       "D             int32\n",
       "E          category\n",
       "F            object\n",
       "dtype: object"
      ]
     },
     "execution_count": 6,
     "metadata": {},
     "output_type": "execute_result"
    }
   ],
   "source": [
    "#데이터프레임 결과물의 열은 다양한 데이터타입()dtype으로 구성된다.\n",
    "df2.dtypes"
   ]
  },
  {
   "cell_type": "markdown",
   "id": "0a722f22",
   "metadata": {},
   "source": [
    "2.Viewing Data (데이터 확인하기)"
   ]
  },
  {
   "cell_type": "code",
   "execution_count": 7,
   "id": "45aa891d",
   "metadata": {},
   "outputs": [
    {
     "data": {
      "text/html": [
       "<div>\n",
       "<style scoped>\n",
       "    .dataframe tbody tr th:only-of-type {\n",
       "        vertical-align: middle;\n",
       "    }\n",
       "\n",
       "    .dataframe tbody tr th {\n",
       "        vertical-align: top;\n",
       "    }\n",
       "\n",
       "    .dataframe thead th {\n",
       "        text-align: right;\n",
       "    }\n",
       "</style>\n",
       "<table border=\"1\" class=\"dataframe\">\n",
       "  <thead>\n",
       "    <tr style=\"text-align: right;\">\n",
       "      <th></th>\n",
       "      <th>A</th>\n",
       "      <th>B</th>\n",
       "      <th>C</th>\n",
       "      <th>D</th>\n",
       "    </tr>\n",
       "  </thead>\n",
       "  <tbody>\n",
       "    <tr>\n",
       "      <th>2013-01-01</th>\n",
       "      <td>-1.301242</td>\n",
       "      <td>-0.960926</td>\n",
       "      <td>-0.129875</td>\n",
       "      <td>-0.728123</td>\n",
       "    </tr>\n",
       "    <tr>\n",
       "      <th>2013-01-02</th>\n",
       "      <td>-0.736391</td>\n",
       "      <td>-0.419642</td>\n",
       "      <td>0.866715</td>\n",
       "      <td>-0.248911</td>\n",
       "    </tr>\n",
       "    <tr>\n",
       "      <th>2013-01-03</th>\n",
       "      <td>-0.343532</td>\n",
       "      <td>-0.253569</td>\n",
       "      <td>1.511347</td>\n",
       "      <td>-0.150133</td>\n",
       "    </tr>\n",
       "    <tr>\n",
       "      <th>2013-01-04</th>\n",
       "      <td>0.001127</td>\n",
       "      <td>0.841016</td>\n",
       "      <td>1.466820</td>\n",
       "      <td>-0.510424</td>\n",
       "    </tr>\n",
       "    <tr>\n",
       "      <th>2013-01-05</th>\n",
       "      <td>1.324575</td>\n",
       "      <td>1.471176</td>\n",
       "      <td>-0.482346</td>\n",
       "      <td>-1.281677</td>\n",
       "    </tr>\n",
       "  </tbody>\n",
       "</table>\n",
       "</div>"
      ],
      "text/plain": [
       "                   A         B         C         D\n",
       "2013-01-01 -1.301242 -0.960926 -0.129875 -0.728123\n",
       "2013-01-02 -0.736391 -0.419642  0.866715 -0.248911\n",
       "2013-01-03 -0.343532 -0.253569  1.511347 -0.150133\n",
       "2013-01-04  0.001127  0.841016  1.466820 -0.510424\n",
       "2013-01-05  1.324575  1.471176 -0.482346 -1.281677"
      ]
     },
     "execution_count": 7,
     "metadata": {},
     "output_type": "execute_result"
    }
   ],
   "source": [
    "#데이터프레임의 가장 윗 줄과 마지막 줄을 확인하고 싶을 때\n",
    "#사용하는 방법\n",
    "df.tail(3) #끝에서 마지막 3줄 불러옴\n",
    "df.tail() #끝에서 마지막 5줄 불러옴\n",
    "df.head() #처음부터 5줄 불러옴"
   ]
  },
  {
   "cell_type": "code",
   "execution_count": 8,
   "id": "4a4e307b",
   "metadata": {},
   "outputs": [
    {
     "data": {
      "text/plain": [
       "DatetimeIndex(['2013-01-01', '2013-01-02', '2013-01-03', '2013-01-04',\n",
       "               '2013-01-05', '2013-01-06'],\n",
       "              dtype='datetime64[ns]', freq='D')"
      ]
     },
     "execution_count": 8,
     "metadata": {},
     "output_type": "execute_result"
    }
   ],
   "source": [
    "#인덱스 (index), 열 (column), numpy 데이터의 세부 정보 확인\n",
    "df.index"
   ]
  },
  {
   "cell_type": "code",
   "execution_count": 9,
   "id": "f9312a91",
   "metadata": {},
   "outputs": [
    {
     "data": {
      "text/plain": [
       "Index(['A', 'B', 'C', 'D'], dtype='object')"
      ]
     },
     "execution_count": 9,
     "metadata": {},
     "output_type": "execute_result"
    }
   ],
   "source": [
    "df.columns"
   ]
  },
  {
   "cell_type": "code",
   "execution_count": 10,
   "id": "d4af8653",
   "metadata": {},
   "outputs": [
    {
     "data": {
      "text/plain": [
       "array([[-1.30124182e+00, -9.60926339e-01, -1.29875238e-01,\n",
       "        -7.28122576e-01],\n",
       "       [-7.36391250e-01, -4.19642494e-01,  8.66714964e-01,\n",
       "        -2.48911320e-01],\n",
       "       [-3.43531794e-01, -2.53569047e-01,  1.51134683e+00,\n",
       "        -1.50132715e-01],\n",
       "       [ 1.12701509e-03,  8.41016335e-01,  1.46682000e+00,\n",
       "        -5.10423796e-01],\n",
       "       [ 1.32457523e+00,  1.47117647e+00, -4.82346074e-01,\n",
       "        -1.28167690e+00],\n",
       "       [-2.85594906e-01, -1.64507225e-01,  2.16564194e-01,\n",
       "        -6.61586860e-01]])"
      ]
     },
     "execution_count": 10,
     "metadata": {},
     "output_type": "execute_result"
    }
   ],
   "source": [
    "df.values"
   ]
  },
  {
   "cell_type": "code",
   "execution_count": 11,
   "id": "f4903a3a",
   "metadata": {},
   "outputs": [
    {
     "data": {
      "text/html": [
       "<div>\n",
       "<style scoped>\n",
       "    .dataframe tbody tr th:only-of-type {\n",
       "        vertical-align: middle;\n",
       "    }\n",
       "\n",
       "    .dataframe tbody tr th {\n",
       "        vertical-align: top;\n",
       "    }\n",
       "\n",
       "    .dataframe thead th {\n",
       "        text-align: right;\n",
       "    }\n",
       "</style>\n",
       "<table border=\"1\" class=\"dataframe\">\n",
       "  <thead>\n",
       "    <tr style=\"text-align: right;\">\n",
       "      <th></th>\n",
       "      <th>A</th>\n",
       "      <th>B</th>\n",
       "      <th>C</th>\n",
       "      <th>D</th>\n",
       "    </tr>\n",
       "  </thead>\n",
       "  <tbody>\n",
       "    <tr>\n",
       "      <th>count</th>\n",
       "      <td>6.000000</td>\n",
       "      <td>6.000000</td>\n",
       "      <td>6.000000</td>\n",
       "      <td>6.000000</td>\n",
       "    </tr>\n",
       "    <tr>\n",
       "      <th>mean</th>\n",
       "      <td>-0.223510</td>\n",
       "      <td>0.085591</td>\n",
       "      <td>0.574871</td>\n",
       "      <td>-0.596809</td>\n",
       "    </tr>\n",
       "    <tr>\n",
       "      <th>std</th>\n",
       "      <td>0.882025</td>\n",
       "      <td>0.896499</td>\n",
       "      <td>0.836719</td>\n",
       "      <td>0.404598</td>\n",
       "    </tr>\n",
       "    <tr>\n",
       "      <th>min</th>\n",
       "      <td>-1.301242</td>\n",
       "      <td>-0.960926</td>\n",
       "      <td>-0.482346</td>\n",
       "      <td>-1.281677</td>\n",
       "    </tr>\n",
       "    <tr>\n",
       "      <th>25%</th>\n",
       "      <td>-0.638176</td>\n",
       "      <td>-0.378124</td>\n",
       "      <td>-0.043265</td>\n",
       "      <td>-0.711489</td>\n",
       "    </tr>\n",
       "    <tr>\n",
       "      <th>50%</th>\n",
       "      <td>-0.314563</td>\n",
       "      <td>-0.209038</td>\n",
       "      <td>0.541640</td>\n",
       "      <td>-0.586005</td>\n",
       "    </tr>\n",
       "    <tr>\n",
       "      <th>75%</th>\n",
       "      <td>-0.070553</td>\n",
       "      <td>0.589635</td>\n",
       "      <td>1.316794</td>\n",
       "      <td>-0.314289</td>\n",
       "    </tr>\n",
       "    <tr>\n",
       "      <th>max</th>\n",
       "      <td>1.324575</td>\n",
       "      <td>1.471176</td>\n",
       "      <td>1.511347</td>\n",
       "      <td>-0.150133</td>\n",
       "    </tr>\n",
       "  </tbody>\n",
       "</table>\n",
       "</div>"
      ],
      "text/plain": [
       "              A         B         C         D\n",
       "count  6.000000  6.000000  6.000000  6.000000\n",
       "mean  -0.223510  0.085591  0.574871 -0.596809\n",
       "std    0.882025  0.896499  0.836719  0.404598\n",
       "min   -1.301242 -0.960926 -0.482346 -1.281677\n",
       "25%   -0.638176 -0.378124 -0.043265 -0.711489\n",
       "50%   -0.314563 -0.209038  0.541640 -0.586005\n",
       "75%   -0.070553  0.589635  1.316794 -0.314289\n",
       "max    1.324575  1.471176  1.511347 -0.150133"
      ]
     },
     "execution_count": 11,
     "metadata": {},
     "output_type": "execute_result"
    }
   ],
   "source": [
    "#describe()는 데이터의 대략적인 통계적 정보 요약 확인\n",
    "df.describe()"
   ]
  },
  {
   "cell_type": "code",
   "execution_count": 12,
   "id": "66212503",
   "metadata": {},
   "outputs": [
    {
     "data": {
      "text/html": [
       "<div>\n",
       "<style scoped>\n",
       "    .dataframe tbody tr th:only-of-type {\n",
       "        vertical-align: middle;\n",
       "    }\n",
       "\n",
       "    .dataframe tbody tr th {\n",
       "        vertical-align: top;\n",
       "    }\n",
       "\n",
       "    .dataframe thead th {\n",
       "        text-align: right;\n",
       "    }\n",
       "</style>\n",
       "<table border=\"1\" class=\"dataframe\">\n",
       "  <thead>\n",
       "    <tr style=\"text-align: right;\">\n",
       "      <th></th>\n",
       "      <th>2013-01-01</th>\n",
       "      <th>2013-01-02</th>\n",
       "      <th>2013-01-03</th>\n",
       "      <th>2013-01-04</th>\n",
       "      <th>2013-01-05</th>\n",
       "      <th>2013-01-06</th>\n",
       "    </tr>\n",
       "  </thead>\n",
       "  <tbody>\n",
       "    <tr>\n",
       "      <th>A</th>\n",
       "      <td>-1.301242</td>\n",
       "      <td>-0.736391</td>\n",
       "      <td>-0.343532</td>\n",
       "      <td>0.001127</td>\n",
       "      <td>1.324575</td>\n",
       "      <td>-0.285595</td>\n",
       "    </tr>\n",
       "    <tr>\n",
       "      <th>B</th>\n",
       "      <td>-0.960926</td>\n",
       "      <td>-0.419642</td>\n",
       "      <td>-0.253569</td>\n",
       "      <td>0.841016</td>\n",
       "      <td>1.471176</td>\n",
       "      <td>-0.164507</td>\n",
       "    </tr>\n",
       "    <tr>\n",
       "      <th>C</th>\n",
       "      <td>-0.129875</td>\n",
       "      <td>0.866715</td>\n",
       "      <td>1.511347</td>\n",
       "      <td>1.466820</td>\n",
       "      <td>-0.482346</td>\n",
       "      <td>0.216564</td>\n",
       "    </tr>\n",
       "    <tr>\n",
       "      <th>D</th>\n",
       "      <td>-0.728123</td>\n",
       "      <td>-0.248911</td>\n",
       "      <td>-0.150133</td>\n",
       "      <td>-0.510424</td>\n",
       "      <td>-1.281677</td>\n",
       "      <td>-0.661587</td>\n",
       "    </tr>\n",
       "  </tbody>\n",
       "</table>\n",
       "</div>"
      ],
      "text/plain": [
       "   2013-01-01  2013-01-02  2013-01-03  2013-01-04  2013-01-05  2013-01-06\n",
       "A   -1.301242   -0.736391   -0.343532    0.001127    1.324575   -0.285595\n",
       "B   -0.960926   -0.419642   -0.253569    0.841016    1.471176   -0.164507\n",
       "C   -0.129875    0.866715    1.511347    1.466820   -0.482346    0.216564\n",
       "D   -0.728123   -0.248911   -0.150133   -0.510424   -1.281677   -0.661587"
      ]
     },
     "execution_count": 12,
     "metadata": {},
     "output_type": "execute_result"
    }
   ],
   "source": [
    "#데이터 전치\n",
    "df.T"
   ]
  },
  {
   "cell_type": "code",
   "execution_count": 13,
   "id": "0e3955f4",
   "metadata": {},
   "outputs": [
    {
     "data": {
      "text/html": [
       "<div>\n",
       "<style scoped>\n",
       "    .dataframe tbody tr th:only-of-type {\n",
       "        vertical-align: middle;\n",
       "    }\n",
       "\n",
       "    .dataframe tbody tr th {\n",
       "        vertical-align: top;\n",
       "    }\n",
       "\n",
       "    .dataframe thead th {\n",
       "        text-align: right;\n",
       "    }\n",
       "</style>\n",
       "<table border=\"1\" class=\"dataframe\">\n",
       "  <thead>\n",
       "    <tr style=\"text-align: right;\">\n",
       "      <th></th>\n",
       "      <th>D</th>\n",
       "      <th>C</th>\n",
       "      <th>B</th>\n",
       "      <th>A</th>\n",
       "    </tr>\n",
       "  </thead>\n",
       "  <tbody>\n",
       "    <tr>\n",
       "      <th>2013-01-01</th>\n",
       "      <td>-0.728123</td>\n",
       "      <td>-0.129875</td>\n",
       "      <td>-0.960926</td>\n",
       "      <td>-1.301242</td>\n",
       "    </tr>\n",
       "    <tr>\n",
       "      <th>2013-01-02</th>\n",
       "      <td>-0.248911</td>\n",
       "      <td>0.866715</td>\n",
       "      <td>-0.419642</td>\n",
       "      <td>-0.736391</td>\n",
       "    </tr>\n",
       "    <tr>\n",
       "      <th>2013-01-03</th>\n",
       "      <td>-0.150133</td>\n",
       "      <td>1.511347</td>\n",
       "      <td>-0.253569</td>\n",
       "      <td>-0.343532</td>\n",
       "    </tr>\n",
       "    <tr>\n",
       "      <th>2013-01-04</th>\n",
       "      <td>-0.510424</td>\n",
       "      <td>1.466820</td>\n",
       "      <td>0.841016</td>\n",
       "      <td>0.001127</td>\n",
       "    </tr>\n",
       "    <tr>\n",
       "      <th>2013-01-05</th>\n",
       "      <td>-1.281677</td>\n",
       "      <td>-0.482346</td>\n",
       "      <td>1.471176</td>\n",
       "      <td>1.324575</td>\n",
       "    </tr>\n",
       "    <tr>\n",
       "      <th>2013-01-06</th>\n",
       "      <td>-0.661587</td>\n",
       "      <td>0.216564</td>\n",
       "      <td>-0.164507</td>\n",
       "      <td>-0.285595</td>\n",
       "    </tr>\n",
       "  </tbody>\n",
       "</table>\n",
       "</div>"
      ],
      "text/plain": [
       "                   D         C         B         A\n",
       "2013-01-01 -0.728123 -0.129875 -0.960926 -1.301242\n",
       "2013-01-02 -0.248911  0.866715 -0.419642 -0.736391\n",
       "2013-01-03 -0.150133  1.511347 -0.253569 -0.343532\n",
       "2013-01-04 -0.510424  1.466820  0.841016  0.001127\n",
       "2013-01-05 -1.281677 -0.482346  1.471176  1.324575\n",
       "2013-01-06 -0.661587  0.216564 -0.164507 -0.285595"
      ]
     },
     "execution_count": 13,
     "metadata": {},
     "output_type": "execute_result"
    }
   ],
   "source": [
    "#축 별로 정렬\n",
    "df.sort_index(axis=1, ascending=False)"
   ]
  },
  {
   "cell_type": "code",
   "execution_count": 14,
   "id": "b4969a0b",
   "metadata": {},
   "outputs": [
    {
     "data": {
      "text/html": [
       "<div>\n",
       "<style scoped>\n",
       "    .dataframe tbody tr th:only-of-type {\n",
       "        vertical-align: middle;\n",
       "    }\n",
       "\n",
       "    .dataframe tbody tr th {\n",
       "        vertical-align: top;\n",
       "    }\n",
       "\n",
       "    .dataframe thead th {\n",
       "        text-align: right;\n",
       "    }\n",
       "</style>\n",
       "<table border=\"1\" class=\"dataframe\">\n",
       "  <thead>\n",
       "    <tr style=\"text-align: right;\">\n",
       "      <th></th>\n",
       "      <th>A</th>\n",
       "      <th>B</th>\n",
       "      <th>C</th>\n",
       "      <th>D</th>\n",
       "    </tr>\n",
       "  </thead>\n",
       "  <tbody>\n",
       "    <tr>\n",
       "      <th>2013-01-01</th>\n",
       "      <td>-1.301242</td>\n",
       "      <td>-0.960926</td>\n",
       "      <td>-0.129875</td>\n",
       "      <td>-0.728123</td>\n",
       "    </tr>\n",
       "    <tr>\n",
       "      <th>2013-01-02</th>\n",
       "      <td>-0.736391</td>\n",
       "      <td>-0.419642</td>\n",
       "      <td>0.866715</td>\n",
       "      <td>-0.248911</td>\n",
       "    </tr>\n",
       "    <tr>\n",
       "      <th>2013-01-03</th>\n",
       "      <td>-0.343532</td>\n",
       "      <td>-0.253569</td>\n",
       "      <td>1.511347</td>\n",
       "      <td>-0.150133</td>\n",
       "    </tr>\n",
       "    <tr>\n",
       "      <th>2013-01-06</th>\n",
       "      <td>-0.285595</td>\n",
       "      <td>-0.164507</td>\n",
       "      <td>0.216564</td>\n",
       "      <td>-0.661587</td>\n",
       "    </tr>\n",
       "    <tr>\n",
       "      <th>2013-01-04</th>\n",
       "      <td>0.001127</td>\n",
       "      <td>0.841016</td>\n",
       "      <td>1.466820</td>\n",
       "      <td>-0.510424</td>\n",
       "    </tr>\n",
       "    <tr>\n",
       "      <th>2013-01-05</th>\n",
       "      <td>1.324575</td>\n",
       "      <td>1.471176</td>\n",
       "      <td>-0.482346</td>\n",
       "      <td>-1.281677</td>\n",
       "    </tr>\n",
       "  </tbody>\n",
       "</table>\n",
       "</div>"
      ],
      "text/plain": [
       "                   A         B         C         D\n",
       "2013-01-01 -1.301242 -0.960926 -0.129875 -0.728123\n",
       "2013-01-02 -0.736391 -0.419642  0.866715 -0.248911\n",
       "2013-01-03 -0.343532 -0.253569  1.511347 -0.150133\n",
       "2013-01-06 -0.285595 -0.164507  0.216564 -0.661587\n",
       "2013-01-04  0.001127  0.841016  1.466820 -0.510424\n",
       "2013-01-05  1.324575  1.471176 -0.482346 -1.281677"
      ]
     },
     "execution_count": 14,
     "metadata": {},
     "output_type": "execute_result"
    }
   ],
   "source": [
    "#값별로 정렬\n",
    "df.sort_values(by='B')"
   ]
  },
  {
   "cell_type": "markdown",
   "id": "f93c6961",
   "metadata": {},
   "source": [
    "3.Selection (선택)"
   ]
  },
  {
   "cell_type": "code",
   "execution_count": 15,
   "id": "21e6ae64",
   "metadata": {},
   "outputs": [
    {
     "data": {
      "text/plain": [
       "2013-01-01   -1.301242\n",
       "2013-01-02   -0.736391\n",
       "2013-01-03   -0.343532\n",
       "2013-01-04    0.001127\n",
       "2013-01-05    1.324575\n",
       "2013-01-06   -0.285595\n",
       "Freq: D, Name: A, dtype: float64"
      ]
     },
     "execution_count": 15,
     "metadata": {},
     "output_type": "execute_result"
    }
   ],
   "source": [
    "#Getting (데이터 얻기)\n",
    "#df.A와 동일한 Series를 생성하는 단일 열 선택\n",
    "df['A']"
   ]
  },
  {
   "cell_type": "code",
   "execution_count": 16,
   "id": "8fcef5d4",
   "metadata": {},
   "outputs": [
    {
     "data": {
      "text/html": [
       "<div>\n",
       "<style scoped>\n",
       "    .dataframe tbody tr th:only-of-type {\n",
       "        vertical-align: middle;\n",
       "    }\n",
       "\n",
       "    .dataframe tbody tr th {\n",
       "        vertical-align: top;\n",
       "    }\n",
       "\n",
       "    .dataframe thead th {\n",
       "        text-align: right;\n",
       "    }\n",
       "</style>\n",
       "<table border=\"1\" class=\"dataframe\">\n",
       "  <thead>\n",
       "    <tr style=\"text-align: right;\">\n",
       "      <th></th>\n",
       "      <th>A</th>\n",
       "      <th>B</th>\n",
       "      <th>C</th>\n",
       "      <th>D</th>\n",
       "    </tr>\n",
       "  </thead>\n",
       "  <tbody>\n",
       "    <tr>\n",
       "      <th>2013-01-01</th>\n",
       "      <td>-1.301242</td>\n",
       "      <td>-0.960926</td>\n",
       "      <td>-0.129875</td>\n",
       "      <td>-0.728123</td>\n",
       "    </tr>\n",
       "    <tr>\n",
       "      <th>2013-01-02</th>\n",
       "      <td>-0.736391</td>\n",
       "      <td>-0.419642</td>\n",
       "      <td>0.866715</td>\n",
       "      <td>-0.248911</td>\n",
       "    </tr>\n",
       "    <tr>\n",
       "      <th>2013-01-03</th>\n",
       "      <td>-0.343532</td>\n",
       "      <td>-0.253569</td>\n",
       "      <td>1.511347</td>\n",
       "      <td>-0.150133</td>\n",
       "    </tr>\n",
       "  </tbody>\n",
       "</table>\n",
       "</div>"
      ],
      "text/plain": [
       "                   A         B         C         D\n",
       "2013-01-01 -1.301242 -0.960926 -0.129875 -0.728123\n",
       "2013-01-02 -0.736391 -0.419642  0.866715 -0.248911\n",
       "2013-01-03 -0.343532 -0.253569  1.511347 -0.150133"
      ]
     },
     "execution_count": 16,
     "metadata": {},
     "output_type": "execute_result"
    }
   ],
   "source": [
    "#행을 분할하는 []를 통해 선택\n",
    "df[0:3]"
   ]
  },
  {
   "cell_type": "code",
   "execution_count": 17,
   "id": "555388f4",
   "metadata": {},
   "outputs": [
    {
     "data": {
      "text/html": [
       "<div>\n",
       "<style scoped>\n",
       "    .dataframe tbody tr th:only-of-type {\n",
       "        vertical-align: middle;\n",
       "    }\n",
       "\n",
       "    .dataframe tbody tr th {\n",
       "        vertical-align: top;\n",
       "    }\n",
       "\n",
       "    .dataframe thead th {\n",
       "        text-align: right;\n",
       "    }\n",
       "</style>\n",
       "<table border=\"1\" class=\"dataframe\">\n",
       "  <thead>\n",
       "    <tr style=\"text-align: right;\">\n",
       "      <th></th>\n",
       "      <th>A</th>\n",
       "      <th>B</th>\n",
       "      <th>C</th>\n",
       "      <th>D</th>\n",
       "    </tr>\n",
       "  </thead>\n",
       "  <tbody>\n",
       "    <tr>\n",
       "      <th>2013-01-02</th>\n",
       "      <td>-0.736391</td>\n",
       "      <td>-0.419642</td>\n",
       "      <td>0.866715</td>\n",
       "      <td>-0.248911</td>\n",
       "    </tr>\n",
       "    <tr>\n",
       "      <th>2013-01-03</th>\n",
       "      <td>-0.343532</td>\n",
       "      <td>-0.253569</td>\n",
       "      <td>1.511347</td>\n",
       "      <td>-0.150133</td>\n",
       "    </tr>\n",
       "    <tr>\n",
       "      <th>2013-01-04</th>\n",
       "      <td>0.001127</td>\n",
       "      <td>0.841016</td>\n",
       "      <td>1.466820</td>\n",
       "      <td>-0.510424</td>\n",
       "    </tr>\n",
       "  </tbody>\n",
       "</table>\n",
       "</div>"
      ],
      "text/plain": [
       "                   A         B         C         D\n",
       "2013-01-02 -0.736391 -0.419642  0.866715 -0.248911\n",
       "2013-01-03 -0.343532 -0.253569  1.511347 -0.150133\n",
       "2013-01-04  0.001127  0.841016  1.466820 -0.510424"
      ]
     },
     "execution_count": 17,
     "metadata": {},
     "output_type": "execute_result"
    }
   ],
   "source": [
    "df['20130102':'20130104']#끝자리 포함"
   ]
  },
  {
   "cell_type": "markdown",
   "id": "637d5a5c",
   "metadata": {},
   "source": [
    "Selection by Label (Label을 통한 선택)"
   ]
  },
  {
   "cell_type": "code",
   "execution_count": 18,
   "id": "5a7709dc",
   "metadata": {},
   "outputs": [
    {
     "data": {
      "text/plain": [
       "A   -1.301242\n",
       "B   -0.960926\n",
       "C   -0.129875\n",
       "D   -0.728123\n",
       "Name: 2013-01-01 00:00:00, dtype: float64"
      ]
     },
     "execution_count": 18,
     "metadata": {},
     "output_type": "execute_result"
    }
   ],
   "source": [
    "#라벨을 사용하여 횡단면 출력\n",
    "df.loc[dates[0]]"
   ]
  },
  {
   "cell_type": "code",
   "execution_count": 19,
   "id": "1c8fc0f1",
   "metadata": {},
   "outputs": [
    {
     "data": {
      "text/html": [
       "<div>\n",
       "<style scoped>\n",
       "    .dataframe tbody tr th:only-of-type {\n",
       "        vertical-align: middle;\n",
       "    }\n",
       "\n",
       "    .dataframe tbody tr th {\n",
       "        vertical-align: top;\n",
       "    }\n",
       "\n",
       "    .dataframe thead th {\n",
       "        text-align: right;\n",
       "    }\n",
       "</style>\n",
       "<table border=\"1\" class=\"dataframe\">\n",
       "  <thead>\n",
       "    <tr style=\"text-align: right;\">\n",
       "      <th></th>\n",
       "      <th>A</th>\n",
       "      <th>B</th>\n",
       "    </tr>\n",
       "  </thead>\n",
       "  <tbody>\n",
       "    <tr>\n",
       "      <th>2013-01-01</th>\n",
       "      <td>-1.301242</td>\n",
       "      <td>-0.960926</td>\n",
       "    </tr>\n",
       "    <tr>\n",
       "      <th>2013-01-02</th>\n",
       "      <td>-0.736391</td>\n",
       "      <td>-0.419642</td>\n",
       "    </tr>\n",
       "    <tr>\n",
       "      <th>2013-01-03</th>\n",
       "      <td>-0.343532</td>\n",
       "      <td>-0.253569</td>\n",
       "    </tr>\n",
       "    <tr>\n",
       "      <th>2013-01-04</th>\n",
       "      <td>0.001127</td>\n",
       "      <td>0.841016</td>\n",
       "    </tr>\n",
       "    <tr>\n",
       "      <th>2013-01-05</th>\n",
       "      <td>1.324575</td>\n",
       "      <td>1.471176</td>\n",
       "    </tr>\n",
       "    <tr>\n",
       "      <th>2013-01-06</th>\n",
       "      <td>-0.285595</td>\n",
       "      <td>-0.164507</td>\n",
       "    </tr>\n",
       "  </tbody>\n",
       "</table>\n",
       "</div>"
      ],
      "text/plain": [
       "                   A         B\n",
       "2013-01-01 -1.301242 -0.960926\n",
       "2013-01-02 -0.736391 -0.419642\n",
       "2013-01-03 -0.343532 -0.253569\n",
       "2013-01-04  0.001127  0.841016\n",
       "2013-01-05  1.324575  1.471176\n",
       "2013-01-06 -0.285595 -0.164507"
      ]
     },
     "execution_count": 19,
     "metadata": {},
     "output_type": "execute_result"
    }
   ],
   "source": [
    "#라벨을 사용하여 여러 축의 데이터 출력\n",
    "df.loc[:, ['A','B']]"
   ]
  },
  {
   "cell_type": "code",
   "execution_count": 20,
   "id": "3b2bccd1",
   "metadata": {},
   "outputs": [
    {
     "data": {
      "text/html": [
       "<div>\n",
       "<style scoped>\n",
       "    .dataframe tbody tr th:only-of-type {\n",
       "        vertical-align: middle;\n",
       "    }\n",
       "\n",
       "    .dataframe tbody tr th {\n",
       "        vertical-align: top;\n",
       "    }\n",
       "\n",
       "    .dataframe thead th {\n",
       "        text-align: right;\n",
       "    }\n",
       "</style>\n",
       "<table border=\"1\" class=\"dataframe\">\n",
       "  <thead>\n",
       "    <tr style=\"text-align: right;\">\n",
       "      <th></th>\n",
       "      <th>A</th>\n",
       "      <th>B</th>\n",
       "    </tr>\n",
       "  </thead>\n",
       "  <tbody>\n",
       "    <tr>\n",
       "      <th>2013-01-02</th>\n",
       "      <td>-0.736391</td>\n",
       "      <td>-0.419642</td>\n",
       "    </tr>\n",
       "    <tr>\n",
       "      <th>2013-01-03</th>\n",
       "      <td>-0.343532</td>\n",
       "      <td>-0.253569</td>\n",
       "    </tr>\n",
       "    <tr>\n",
       "      <th>2013-01-04</th>\n",
       "      <td>0.001127</td>\n",
       "      <td>0.841016</td>\n",
       "    </tr>\n",
       "  </tbody>\n",
       "</table>\n",
       "</div>"
      ],
      "text/plain": [
       "                   A         B\n",
       "2013-01-02 -0.736391 -0.419642\n",
       "2013-01-03 -0.343532 -0.253569\n",
       "2013-01-04  0.001127  0.841016"
      ]
     },
     "execution_count": 20,
     "metadata": {},
     "output_type": "execute_result"
    }
   ],
   "source": [
    "#양쪽 종단점을 포함한 라벨 슬라이싱\n",
    "df.loc['20130102':'20130104',['A','B']]"
   ]
  },
  {
   "cell_type": "code",
   "execution_count": 21,
   "id": "5c0b5d9e",
   "metadata": {},
   "outputs": [
    {
     "data": {
      "text/plain": [
       "A   -0.736391\n",
       "B   -0.419642\n",
       "Name: 2013-01-02 00:00:00, dtype: float64"
      ]
     },
     "execution_count": 21,
     "metadata": {},
     "output_type": "execute_result"
    }
   ],
   "source": [
    "#반환되는 객체의 차원을 줄임\n",
    "df.loc['20130102',['A','B']]"
   ]
  },
  {
   "cell_type": "code",
   "execution_count": 22,
   "id": "1918aac9",
   "metadata": {},
   "outputs": [
    {
     "data": {
      "text/plain": [
       "-1.3012418225856444"
      ]
     },
     "execution_count": 22,
     "metadata": {},
     "output_type": "execute_result"
    }
   ],
   "source": [
    "#스칼라 값 구하기\n",
    "df.loc[dates[0],'A']"
   ]
  },
  {
   "cell_type": "code",
   "execution_count": 23,
   "id": "f418360d",
   "metadata": {},
   "outputs": [
    {
     "data": {
      "text/plain": [
       "-1.3012418225856444"
      ]
     },
     "execution_count": 23,
     "metadata": {},
     "output_type": "execute_result"
    }
   ],
   "source": [
    "#스칼라값 더 빠르게 구하기\n",
    "df.at[dates[0],'A']"
   ]
  },
  {
   "cell_type": "code",
   "execution_count": 24,
   "id": "af1c8f1c",
   "metadata": {},
   "outputs": [
    {
     "data": {
      "text/plain": [
       "A    0.001127\n",
       "B    0.841016\n",
       "C    1.466820\n",
       "D   -0.510424\n",
       "Name: 2013-01-04 00:00:00, dtype: float64"
      ]
     },
     "execution_count": 24,
     "metadata": {},
     "output_type": "execute_result"
    }
   ],
   "source": [
    "#Selection by Position (위치로 선택하기)\n",
    "#넘겨받은 정수의 위치를 기준으로 선택\n",
    "df.iloc[3]"
   ]
  },
  {
   "cell_type": "code",
   "execution_count": 25,
   "id": "13c426af",
   "metadata": {},
   "outputs": [
    {
     "data": {
      "text/html": [
       "<div>\n",
       "<style scoped>\n",
       "    .dataframe tbody tr th:only-of-type {\n",
       "        vertical-align: middle;\n",
       "    }\n",
       "\n",
       "    .dataframe tbody tr th {\n",
       "        vertical-align: top;\n",
       "    }\n",
       "\n",
       "    .dataframe thead th {\n",
       "        text-align: right;\n",
       "    }\n",
       "</style>\n",
       "<table border=\"1\" class=\"dataframe\">\n",
       "  <thead>\n",
       "    <tr style=\"text-align: right;\">\n",
       "      <th></th>\n",
       "      <th>A</th>\n",
       "      <th>B</th>\n",
       "    </tr>\n",
       "  </thead>\n",
       "  <tbody>\n",
       "    <tr>\n",
       "      <th>2013-01-04</th>\n",
       "      <td>0.001127</td>\n",
       "      <td>0.841016</td>\n",
       "    </tr>\n",
       "    <tr>\n",
       "      <th>2013-01-05</th>\n",
       "      <td>1.324575</td>\n",
       "      <td>1.471176</td>\n",
       "    </tr>\n",
       "  </tbody>\n",
       "</table>\n",
       "</div>"
      ],
      "text/plain": [
       "                   A         B\n",
       "2013-01-04  0.001127  0.841016\n",
       "2013-01-05  1.324575  1.471176"
      ]
     },
     "execution_count": 25,
     "metadata": {},
     "output_type": "execute_result"
    }
   ],
   "source": [
    "df.iloc[3:5,0:2] #행, 열 순서"
   ]
  },
  {
   "cell_type": "code",
   "execution_count": 26,
   "id": "55ac0005",
   "metadata": {},
   "outputs": [
    {
     "data": {
      "text/html": [
       "<div>\n",
       "<style scoped>\n",
       "    .dataframe tbody tr th:only-of-type {\n",
       "        vertical-align: middle;\n",
       "    }\n",
       "\n",
       "    .dataframe tbody tr th {\n",
       "        vertical-align: top;\n",
       "    }\n",
       "\n",
       "    .dataframe thead th {\n",
       "        text-align: right;\n",
       "    }\n",
       "</style>\n",
       "<table border=\"1\" class=\"dataframe\">\n",
       "  <thead>\n",
       "    <tr style=\"text-align: right;\">\n",
       "      <th></th>\n",
       "      <th>A</th>\n",
       "      <th>C</th>\n",
       "    </tr>\n",
       "  </thead>\n",
       "  <tbody>\n",
       "    <tr>\n",
       "      <th>2013-01-02</th>\n",
       "      <td>-0.736391</td>\n",
       "      <td>0.866715</td>\n",
       "    </tr>\n",
       "    <tr>\n",
       "      <th>2013-01-03</th>\n",
       "      <td>-0.343532</td>\n",
       "      <td>1.511347</td>\n",
       "    </tr>\n",
       "    <tr>\n",
       "      <th>2013-01-05</th>\n",
       "      <td>1.324575</td>\n",
       "      <td>-0.482346</td>\n",
       "    </tr>\n",
       "  </tbody>\n",
       "</table>\n",
       "</div>"
      ],
      "text/plain": [
       "                   A         C\n",
       "2013-01-02 -0.736391  0.866715\n",
       "2013-01-03 -0.343532  1.511347\n",
       "2013-01-05  1.324575 -0.482346"
      ]
     },
     "execution_count": 26,
     "metadata": {},
     "output_type": "execute_result"
    }
   ],
   "source": [
    "#정수로 표기된 위치값의 리스트들을 통해\n",
    "#numpy / python의 스타일과 유사해짐\n",
    "df.iloc[[1,2,4],[0,2]]"
   ]
  },
  {
   "cell_type": "code",
   "execution_count": 27,
   "id": "0dd2e351",
   "metadata": {},
   "outputs": [
    {
     "data": {
      "text/html": [
       "<div>\n",
       "<style scoped>\n",
       "    .dataframe tbody tr th:only-of-type {\n",
       "        vertical-align: middle;\n",
       "    }\n",
       "\n",
       "    .dataframe tbody tr th {\n",
       "        vertical-align: top;\n",
       "    }\n",
       "\n",
       "    .dataframe thead th {\n",
       "        text-align: right;\n",
       "    }\n",
       "</style>\n",
       "<table border=\"1\" class=\"dataframe\">\n",
       "  <thead>\n",
       "    <tr style=\"text-align: right;\">\n",
       "      <th></th>\n",
       "      <th>A</th>\n",
       "      <th>B</th>\n",
       "      <th>C</th>\n",
       "      <th>D</th>\n",
       "    </tr>\n",
       "  </thead>\n",
       "  <tbody>\n",
       "    <tr>\n",
       "      <th>2013-01-02</th>\n",
       "      <td>-0.736391</td>\n",
       "      <td>-0.419642</td>\n",
       "      <td>0.866715</td>\n",
       "      <td>-0.248911</td>\n",
       "    </tr>\n",
       "    <tr>\n",
       "      <th>2013-01-03</th>\n",
       "      <td>-0.343532</td>\n",
       "      <td>-0.253569</td>\n",
       "      <td>1.511347</td>\n",
       "      <td>-0.150133</td>\n",
       "    </tr>\n",
       "  </tbody>\n",
       "</table>\n",
       "</div>"
      ],
      "text/plain": [
       "                   A         B         C         D\n",
       "2013-01-02 -0.736391 -0.419642  0.866715 -0.248911\n",
       "2013-01-03 -0.343532 -0.253569  1.511347 -0.150133"
      ]
     },
     "execution_count": 27,
     "metadata": {},
     "output_type": "execute_result"
    }
   ],
   "source": [
    "#명시적으로 행 나누기\n",
    "df.iloc[1:3,:]"
   ]
  },
  {
   "cell_type": "code",
   "execution_count": 28,
   "id": "2bfc5b46",
   "metadata": {},
   "outputs": [
    {
     "data": {
      "text/html": [
       "<div>\n",
       "<style scoped>\n",
       "    .dataframe tbody tr th:only-of-type {\n",
       "        vertical-align: middle;\n",
       "    }\n",
       "\n",
       "    .dataframe tbody tr th {\n",
       "        vertical-align: top;\n",
       "    }\n",
       "\n",
       "    .dataframe thead th {\n",
       "        text-align: right;\n",
       "    }\n",
       "</style>\n",
       "<table border=\"1\" class=\"dataframe\">\n",
       "  <thead>\n",
       "    <tr style=\"text-align: right;\">\n",
       "      <th></th>\n",
       "      <th>B</th>\n",
       "      <th>C</th>\n",
       "    </tr>\n",
       "  </thead>\n",
       "  <tbody>\n",
       "    <tr>\n",
       "      <th>2013-01-01</th>\n",
       "      <td>-0.960926</td>\n",
       "      <td>-0.129875</td>\n",
       "    </tr>\n",
       "    <tr>\n",
       "      <th>2013-01-02</th>\n",
       "      <td>-0.419642</td>\n",
       "      <td>0.866715</td>\n",
       "    </tr>\n",
       "    <tr>\n",
       "      <th>2013-01-03</th>\n",
       "      <td>-0.253569</td>\n",
       "      <td>1.511347</td>\n",
       "    </tr>\n",
       "    <tr>\n",
       "      <th>2013-01-04</th>\n",
       "      <td>0.841016</td>\n",
       "      <td>1.466820</td>\n",
       "    </tr>\n",
       "    <tr>\n",
       "      <th>2013-01-05</th>\n",
       "      <td>1.471176</td>\n",
       "      <td>-0.482346</td>\n",
       "    </tr>\n",
       "    <tr>\n",
       "      <th>2013-01-06</th>\n",
       "      <td>-0.164507</td>\n",
       "      <td>0.216564</td>\n",
       "    </tr>\n",
       "  </tbody>\n",
       "</table>\n",
       "</div>"
      ],
      "text/plain": [
       "                   B         C\n",
       "2013-01-01 -0.960926 -0.129875\n",
       "2013-01-02 -0.419642  0.866715\n",
       "2013-01-03 -0.253569  1.511347\n",
       "2013-01-04  0.841016  1.466820\n",
       "2013-01-05  1.471176 -0.482346\n",
       "2013-01-06 -0.164507  0.216564"
      ]
     },
     "execution_count": 28,
     "metadata": {},
     "output_type": "execute_result"
    }
   ],
   "source": [
    "#명시적으로 열 나누기\n",
    "df.iloc[:,1:3]"
   ]
  },
  {
   "cell_type": "code",
   "execution_count": 29,
   "id": "34bd6ad8",
   "metadata": {},
   "outputs": [
    {
     "data": {
      "text/plain": [
       "-0.4196424937286996"
      ]
     },
     "execution_count": 29,
     "metadata": {},
     "output_type": "execute_result"
    }
   ],
   "source": [
    "#명시적으로 특정 값 얻기\n",
    "df.iloc[1,1]"
   ]
  },
  {
   "cell_type": "code",
   "execution_count": 30,
   "id": "c965c8dd",
   "metadata": {},
   "outputs": [
    {
     "data": {
      "text/plain": [
       "-0.4196424937286996"
      ]
     },
     "execution_count": 30,
     "metadata": {},
     "output_type": "execute_result"
    }
   ],
   "source": [
    "#스칼라 값 빠르게 얻기\n",
    "df.iat[1,1]"
   ]
  },
  {
   "cell_type": "code",
   "execution_count": 31,
   "id": "2d7acfef",
   "metadata": {},
   "outputs": [
    {
     "data": {
      "text/html": [
       "<div>\n",
       "<style scoped>\n",
       "    .dataframe tbody tr th:only-of-type {\n",
       "        vertical-align: middle;\n",
       "    }\n",
       "\n",
       "    .dataframe tbody tr th {\n",
       "        vertical-align: top;\n",
       "    }\n",
       "\n",
       "    .dataframe thead th {\n",
       "        text-align: right;\n",
       "    }\n",
       "</style>\n",
       "<table border=\"1\" class=\"dataframe\">\n",
       "  <thead>\n",
       "    <tr style=\"text-align: right;\">\n",
       "      <th></th>\n",
       "      <th>A</th>\n",
       "      <th>B</th>\n",
       "      <th>C</th>\n",
       "      <th>D</th>\n",
       "    </tr>\n",
       "  </thead>\n",
       "  <tbody>\n",
       "    <tr>\n",
       "      <th>2013-01-04</th>\n",
       "      <td>0.001127</td>\n",
       "      <td>0.841016</td>\n",
       "      <td>1.466820</td>\n",
       "      <td>-0.510424</td>\n",
       "    </tr>\n",
       "    <tr>\n",
       "      <th>2013-01-05</th>\n",
       "      <td>1.324575</td>\n",
       "      <td>1.471176</td>\n",
       "      <td>-0.482346</td>\n",
       "      <td>-1.281677</td>\n",
       "    </tr>\n",
       "  </tbody>\n",
       "</table>\n",
       "</div>"
      ],
      "text/plain": [
       "                   A         B         C         D\n",
       "2013-01-04  0.001127  0.841016  1.466820 -0.510424\n",
       "2013-01-05  1.324575  1.471176 -0.482346 -1.281677"
      ]
     },
     "execution_count": 31,
     "metadata": {},
     "output_type": "execute_result"
    }
   ],
   "source": [
    "#Boolean Indexing\n",
    "#데이터를 선택하기 위해 단일 열의 값 사용\n",
    "df[df.A>0]"
   ]
  },
  {
   "cell_type": "code",
   "execution_count": 32,
   "id": "4608f191",
   "metadata": {},
   "outputs": [
    {
     "data": {
      "text/html": [
       "<div>\n",
       "<style scoped>\n",
       "    .dataframe tbody tr th:only-of-type {\n",
       "        vertical-align: middle;\n",
       "    }\n",
       "\n",
       "    .dataframe tbody tr th {\n",
       "        vertical-align: top;\n",
       "    }\n",
       "\n",
       "    .dataframe thead th {\n",
       "        text-align: right;\n",
       "    }\n",
       "</style>\n",
       "<table border=\"1\" class=\"dataframe\">\n",
       "  <thead>\n",
       "    <tr style=\"text-align: right;\">\n",
       "      <th></th>\n",
       "      <th>A</th>\n",
       "      <th>B</th>\n",
       "      <th>C</th>\n",
       "      <th>D</th>\n",
       "    </tr>\n",
       "  </thead>\n",
       "  <tbody>\n",
       "    <tr>\n",
       "      <th>2013-01-01</th>\n",
       "      <td>NaN</td>\n",
       "      <td>NaN</td>\n",
       "      <td>NaN</td>\n",
       "      <td>NaN</td>\n",
       "    </tr>\n",
       "    <tr>\n",
       "      <th>2013-01-02</th>\n",
       "      <td>NaN</td>\n",
       "      <td>NaN</td>\n",
       "      <td>0.866715</td>\n",
       "      <td>NaN</td>\n",
       "    </tr>\n",
       "    <tr>\n",
       "      <th>2013-01-03</th>\n",
       "      <td>NaN</td>\n",
       "      <td>NaN</td>\n",
       "      <td>1.511347</td>\n",
       "      <td>NaN</td>\n",
       "    </tr>\n",
       "    <tr>\n",
       "      <th>2013-01-04</th>\n",
       "      <td>0.001127</td>\n",
       "      <td>0.841016</td>\n",
       "      <td>1.466820</td>\n",
       "      <td>NaN</td>\n",
       "    </tr>\n",
       "    <tr>\n",
       "      <th>2013-01-05</th>\n",
       "      <td>1.324575</td>\n",
       "      <td>1.471176</td>\n",
       "      <td>NaN</td>\n",
       "      <td>NaN</td>\n",
       "    </tr>\n",
       "    <tr>\n",
       "      <th>2013-01-06</th>\n",
       "      <td>NaN</td>\n",
       "      <td>NaN</td>\n",
       "      <td>0.216564</td>\n",
       "      <td>NaN</td>\n",
       "    </tr>\n",
       "  </tbody>\n",
       "</table>\n",
       "</div>"
      ],
      "text/plain": [
       "                   A         B         C   D\n",
       "2013-01-01       NaN       NaN       NaN NaN\n",
       "2013-01-02       NaN       NaN  0.866715 NaN\n",
       "2013-01-03       NaN       NaN  1.511347 NaN\n",
       "2013-01-04  0.001127  0.841016  1.466820 NaN\n",
       "2013-01-05  1.324575  1.471176       NaN NaN\n",
       "2013-01-06       NaN       NaN  0.216564 NaN"
      ]
     },
     "execution_count": 32,
     "metadata": {},
     "output_type": "execute_result"
    }
   ],
   "source": [
    "#Boolean 조건 충족하는 데이터프레임에서의 값을 선택\n",
    "df[df>0]"
   ]
  },
  {
   "cell_type": "code",
   "execution_count": 33,
   "id": "a9bde0b1",
   "metadata": {},
   "outputs": [
    {
     "data": {
      "text/html": [
       "<div>\n",
       "<style scoped>\n",
       "    .dataframe tbody tr th:only-of-type {\n",
       "        vertical-align: middle;\n",
       "    }\n",
       "\n",
       "    .dataframe tbody tr th {\n",
       "        vertical-align: top;\n",
       "    }\n",
       "\n",
       "    .dataframe thead th {\n",
       "        text-align: right;\n",
       "    }\n",
       "</style>\n",
       "<table border=\"1\" class=\"dataframe\">\n",
       "  <thead>\n",
       "    <tr style=\"text-align: right;\">\n",
       "      <th></th>\n",
       "      <th>A</th>\n",
       "      <th>B</th>\n",
       "      <th>C</th>\n",
       "      <th>D</th>\n",
       "      <th>E</th>\n",
       "    </tr>\n",
       "  </thead>\n",
       "  <tbody>\n",
       "    <tr>\n",
       "      <th>2013-01-01</th>\n",
       "      <td>-1.301242</td>\n",
       "      <td>-0.960926</td>\n",
       "      <td>-0.129875</td>\n",
       "      <td>-0.728123</td>\n",
       "      <td>one</td>\n",
       "    </tr>\n",
       "    <tr>\n",
       "      <th>2013-01-02</th>\n",
       "      <td>-0.736391</td>\n",
       "      <td>-0.419642</td>\n",
       "      <td>0.866715</td>\n",
       "      <td>-0.248911</td>\n",
       "      <td>one</td>\n",
       "    </tr>\n",
       "    <tr>\n",
       "      <th>2013-01-03</th>\n",
       "      <td>-0.343532</td>\n",
       "      <td>-0.253569</td>\n",
       "      <td>1.511347</td>\n",
       "      <td>-0.150133</td>\n",
       "      <td>two</td>\n",
       "    </tr>\n",
       "    <tr>\n",
       "      <th>2013-01-04</th>\n",
       "      <td>0.001127</td>\n",
       "      <td>0.841016</td>\n",
       "      <td>1.466820</td>\n",
       "      <td>-0.510424</td>\n",
       "      <td>three</td>\n",
       "    </tr>\n",
       "    <tr>\n",
       "      <th>2013-01-05</th>\n",
       "      <td>1.324575</td>\n",
       "      <td>1.471176</td>\n",
       "      <td>-0.482346</td>\n",
       "      <td>-1.281677</td>\n",
       "      <td>four</td>\n",
       "    </tr>\n",
       "    <tr>\n",
       "      <th>2013-01-06</th>\n",
       "      <td>-0.285595</td>\n",
       "      <td>-0.164507</td>\n",
       "      <td>0.216564</td>\n",
       "      <td>-0.661587</td>\n",
       "      <td>three</td>\n",
       "    </tr>\n",
       "  </tbody>\n",
       "</table>\n",
       "</div>"
      ],
      "text/plain": [
       "                   A         B         C         D      E\n",
       "2013-01-01 -1.301242 -0.960926 -0.129875 -0.728123    one\n",
       "2013-01-02 -0.736391 -0.419642  0.866715 -0.248911    one\n",
       "2013-01-03 -0.343532 -0.253569  1.511347 -0.150133    two\n",
       "2013-01-04  0.001127  0.841016  1.466820 -0.510424  three\n",
       "2013-01-05  1.324575  1.471176 -0.482346 -1.281677   four\n",
       "2013-01-06 -0.285595 -0.164507  0.216564 -0.661587  three"
      ]
     },
     "execution_count": 33,
     "metadata": {},
     "output_type": "execute_result"
    }
   ],
   "source": [
    "#필터링을 위한 메소드 isin() 사용\n",
    "df2 = df.copy()\n",
    "df2['E']=['one','one','two','three','four','three']\n",
    "df2"
   ]
  },
  {
   "cell_type": "code",
   "execution_count": 34,
   "id": "a006c1b3",
   "metadata": {},
   "outputs": [
    {
     "data": {
      "text/html": [
       "<div>\n",
       "<style scoped>\n",
       "    .dataframe tbody tr th:only-of-type {\n",
       "        vertical-align: middle;\n",
       "    }\n",
       "\n",
       "    .dataframe tbody tr th {\n",
       "        vertical-align: top;\n",
       "    }\n",
       "\n",
       "    .dataframe thead th {\n",
       "        text-align: right;\n",
       "    }\n",
       "</style>\n",
       "<table border=\"1\" class=\"dataframe\">\n",
       "  <thead>\n",
       "    <tr style=\"text-align: right;\">\n",
       "      <th></th>\n",
       "      <th>A</th>\n",
       "      <th>B</th>\n",
       "      <th>C</th>\n",
       "      <th>D</th>\n",
       "      <th>E</th>\n",
       "    </tr>\n",
       "  </thead>\n",
       "  <tbody>\n",
       "    <tr>\n",
       "      <th>2013-01-03</th>\n",
       "      <td>-0.343532</td>\n",
       "      <td>-0.253569</td>\n",
       "      <td>1.511347</td>\n",
       "      <td>-0.150133</td>\n",
       "      <td>two</td>\n",
       "    </tr>\n",
       "    <tr>\n",
       "      <th>2013-01-05</th>\n",
       "      <td>1.324575</td>\n",
       "      <td>1.471176</td>\n",
       "      <td>-0.482346</td>\n",
       "      <td>-1.281677</td>\n",
       "      <td>four</td>\n",
       "    </tr>\n",
       "  </tbody>\n",
       "</table>\n",
       "</div>"
      ],
      "text/plain": [
       "                   A         B         C         D     E\n",
       "2013-01-03 -0.343532 -0.253569  1.511347 -0.150133   two\n",
       "2013-01-05  1.324575  1.471176 -0.482346 -1.281677  four"
      ]
     },
     "execution_count": 34,
     "metadata": {},
     "output_type": "execute_result"
    }
   ],
   "source": [
    "df2[df2['E'].isin(['two','four'])]"
   ]
  },
  {
   "cell_type": "code",
   "execution_count": 35,
   "id": "5634349e",
   "metadata": {},
   "outputs": [
    {
     "data": {
      "text/plain": [
       "2013-01-02    1\n",
       "2013-01-03    2\n",
       "2013-01-04    3\n",
       "2013-01-05    4\n",
       "2013-01-06    5\n",
       "2013-01-07    6\n",
       "Freq: D, dtype: int64"
      ]
     },
     "execution_count": 35,
     "metadata": {},
     "output_type": "execute_result"
    }
   ],
   "source": [
    "#Setting (설정)\n",
    "#새 열을 설정하면 데이터가 인덱스 별로 자동 정렬됨\n",
    "s1 = pd.Series([1,2,3,4,5,6],\n",
    "              index=pd.date_range('20130102', periods=6))\n",
    "s1"
   ]
  },
  {
   "cell_type": "code",
   "execution_count": 36,
   "id": "88fcc4fe",
   "metadata": {},
   "outputs": [
    {
     "data": {
      "text/html": [
       "<div>\n",
       "<style scoped>\n",
       "    .dataframe tbody tr th:only-of-type {\n",
       "        vertical-align: middle;\n",
       "    }\n",
       "\n",
       "    .dataframe tbody tr th {\n",
       "        vertical-align: top;\n",
       "    }\n",
       "\n",
       "    .dataframe thead th {\n",
       "        text-align: right;\n",
       "    }\n",
       "</style>\n",
       "<table border=\"1\" class=\"dataframe\">\n",
       "  <thead>\n",
       "    <tr style=\"text-align: right;\">\n",
       "      <th></th>\n",
       "      <th>A</th>\n",
       "      <th>B</th>\n",
       "      <th>C</th>\n",
       "      <th>D</th>\n",
       "      <th>F</th>\n",
       "    </tr>\n",
       "  </thead>\n",
       "  <tbody>\n",
       "    <tr>\n",
       "      <th>2013-01-01</th>\n",
       "      <td>0.000000</td>\n",
       "      <td>-0.960926</td>\n",
       "      <td>-0.129875</td>\n",
       "      <td>-0.728123</td>\n",
       "      <td>NaN</td>\n",
       "    </tr>\n",
       "    <tr>\n",
       "      <th>2013-01-02</th>\n",
       "      <td>-0.736391</td>\n",
       "      <td>-0.419642</td>\n",
       "      <td>0.866715</td>\n",
       "      <td>-0.248911</td>\n",
       "      <td>1.0</td>\n",
       "    </tr>\n",
       "    <tr>\n",
       "      <th>2013-01-03</th>\n",
       "      <td>-0.343532</td>\n",
       "      <td>-0.253569</td>\n",
       "      <td>1.511347</td>\n",
       "      <td>-0.150133</td>\n",
       "      <td>2.0</td>\n",
       "    </tr>\n",
       "    <tr>\n",
       "      <th>2013-01-04</th>\n",
       "      <td>0.001127</td>\n",
       "      <td>0.841016</td>\n",
       "      <td>1.466820</td>\n",
       "      <td>-0.510424</td>\n",
       "      <td>3.0</td>\n",
       "    </tr>\n",
       "    <tr>\n",
       "      <th>2013-01-05</th>\n",
       "      <td>1.324575</td>\n",
       "      <td>1.471176</td>\n",
       "      <td>-0.482346</td>\n",
       "      <td>-1.281677</td>\n",
       "      <td>4.0</td>\n",
       "    </tr>\n",
       "    <tr>\n",
       "      <th>2013-01-06</th>\n",
       "      <td>-0.285595</td>\n",
       "      <td>-0.164507</td>\n",
       "      <td>0.216564</td>\n",
       "      <td>-0.661587</td>\n",
       "      <td>5.0</td>\n",
       "    </tr>\n",
       "  </tbody>\n",
       "</table>\n",
       "</div>"
      ],
      "text/plain": [
       "                   A         B         C         D    F\n",
       "2013-01-01  0.000000 -0.960926 -0.129875 -0.728123  NaN\n",
       "2013-01-02 -0.736391 -0.419642  0.866715 -0.248911  1.0\n",
       "2013-01-03 -0.343532 -0.253569  1.511347 -0.150133  2.0\n",
       "2013-01-04  0.001127  0.841016  1.466820 -0.510424  3.0\n",
       "2013-01-05  1.324575  1.471176 -0.482346 -1.281677  4.0\n",
       "2013-01-06 -0.285595 -0.164507  0.216564 -0.661587  5.0"
      ]
     },
     "execution_count": 36,
     "metadata": {},
     "output_type": "execute_result"
    }
   ],
   "source": [
    "df['F'] = s1\n",
    "#라벨에 의해 값 설정\n",
    "df.at[dates[0],'A'] = 0\n",
    "df"
   ]
  },
  {
   "cell_type": "code",
   "execution_count": 37,
   "id": "5a3a2502",
   "metadata": {},
   "outputs": [
    {
     "data": {
      "text/html": [
       "<div>\n",
       "<style scoped>\n",
       "    .dataframe tbody tr th:only-of-type {\n",
       "        vertical-align: middle;\n",
       "    }\n",
       "\n",
       "    .dataframe tbody tr th {\n",
       "        vertical-align: top;\n",
       "    }\n",
       "\n",
       "    .dataframe thead th {\n",
       "        text-align: right;\n",
       "    }\n",
       "</style>\n",
       "<table border=\"1\" class=\"dataframe\">\n",
       "  <thead>\n",
       "    <tr style=\"text-align: right;\">\n",
       "      <th></th>\n",
       "      <th>A</th>\n",
       "      <th>B</th>\n",
       "      <th>C</th>\n",
       "      <th>D</th>\n",
       "      <th>F</th>\n",
       "    </tr>\n",
       "  </thead>\n",
       "  <tbody>\n",
       "    <tr>\n",
       "      <th>2013-01-01</th>\n",
       "      <td>0.000000</td>\n",
       "      <td>0.000000</td>\n",
       "      <td>-0.129875</td>\n",
       "      <td>-0.728123</td>\n",
       "      <td>NaN</td>\n",
       "    </tr>\n",
       "    <tr>\n",
       "      <th>2013-01-02</th>\n",
       "      <td>-0.736391</td>\n",
       "      <td>-0.419642</td>\n",
       "      <td>0.866715</td>\n",
       "      <td>-0.248911</td>\n",
       "      <td>1.0</td>\n",
       "    </tr>\n",
       "    <tr>\n",
       "      <th>2013-01-03</th>\n",
       "      <td>-0.343532</td>\n",
       "      <td>-0.253569</td>\n",
       "      <td>1.511347</td>\n",
       "      <td>-0.150133</td>\n",
       "      <td>2.0</td>\n",
       "    </tr>\n",
       "    <tr>\n",
       "      <th>2013-01-04</th>\n",
       "      <td>0.001127</td>\n",
       "      <td>0.841016</td>\n",
       "      <td>1.466820</td>\n",
       "      <td>-0.510424</td>\n",
       "      <td>3.0</td>\n",
       "    </tr>\n",
       "    <tr>\n",
       "      <th>2013-01-05</th>\n",
       "      <td>1.324575</td>\n",
       "      <td>1.471176</td>\n",
       "      <td>-0.482346</td>\n",
       "      <td>-1.281677</td>\n",
       "      <td>4.0</td>\n",
       "    </tr>\n",
       "    <tr>\n",
       "      <th>2013-01-06</th>\n",
       "      <td>-0.285595</td>\n",
       "      <td>-0.164507</td>\n",
       "      <td>0.216564</td>\n",
       "      <td>-0.661587</td>\n",
       "      <td>5.0</td>\n",
       "    </tr>\n",
       "  </tbody>\n",
       "</table>\n",
       "</div>"
      ],
      "text/plain": [
       "                   A         B         C         D    F\n",
       "2013-01-01  0.000000  0.000000 -0.129875 -0.728123  NaN\n",
       "2013-01-02 -0.736391 -0.419642  0.866715 -0.248911  1.0\n",
       "2013-01-03 -0.343532 -0.253569  1.511347 -0.150133  2.0\n",
       "2013-01-04  0.001127  0.841016  1.466820 -0.510424  3.0\n",
       "2013-01-05  1.324575  1.471176 -0.482346 -1.281677  4.0\n",
       "2013-01-06 -0.285595 -0.164507  0.216564 -0.661587  5.0"
      ]
     },
     "execution_count": 37,
     "metadata": {},
     "output_type": "execute_result"
    }
   ],
   "source": [
    "#위치에 의해 값 설정\n",
    "df.iat[0,1] = 0\n",
    "df"
   ]
  },
  {
   "cell_type": "code",
   "execution_count": 38,
   "id": "8ac2a584",
   "metadata": {},
   "outputs": [
    {
     "data": {
      "text/html": [
       "<div>\n",
       "<style scoped>\n",
       "    .dataframe tbody tr th:only-of-type {\n",
       "        vertical-align: middle;\n",
       "    }\n",
       "\n",
       "    .dataframe tbody tr th {\n",
       "        vertical-align: top;\n",
       "    }\n",
       "\n",
       "    .dataframe thead th {\n",
       "        text-align: right;\n",
       "    }\n",
       "</style>\n",
       "<table border=\"1\" class=\"dataframe\">\n",
       "  <thead>\n",
       "    <tr style=\"text-align: right;\">\n",
       "      <th></th>\n",
       "      <th>A</th>\n",
       "      <th>B</th>\n",
       "      <th>C</th>\n",
       "      <th>D</th>\n",
       "      <th>F</th>\n",
       "    </tr>\n",
       "  </thead>\n",
       "  <tbody>\n",
       "    <tr>\n",
       "      <th>2013-01-01</th>\n",
       "      <td>0.000000</td>\n",
       "      <td>0.000000</td>\n",
       "      <td>-0.129875</td>\n",
       "      <td>5</td>\n",
       "      <td>NaN</td>\n",
       "    </tr>\n",
       "    <tr>\n",
       "      <th>2013-01-02</th>\n",
       "      <td>-0.736391</td>\n",
       "      <td>-0.419642</td>\n",
       "      <td>0.866715</td>\n",
       "      <td>5</td>\n",
       "      <td>1.0</td>\n",
       "    </tr>\n",
       "    <tr>\n",
       "      <th>2013-01-03</th>\n",
       "      <td>-0.343532</td>\n",
       "      <td>-0.253569</td>\n",
       "      <td>1.511347</td>\n",
       "      <td>5</td>\n",
       "      <td>2.0</td>\n",
       "    </tr>\n",
       "    <tr>\n",
       "      <th>2013-01-04</th>\n",
       "      <td>0.001127</td>\n",
       "      <td>0.841016</td>\n",
       "      <td>1.466820</td>\n",
       "      <td>5</td>\n",
       "      <td>3.0</td>\n",
       "    </tr>\n",
       "    <tr>\n",
       "      <th>2013-01-05</th>\n",
       "      <td>1.324575</td>\n",
       "      <td>1.471176</td>\n",
       "      <td>-0.482346</td>\n",
       "      <td>5</td>\n",
       "      <td>4.0</td>\n",
       "    </tr>\n",
       "    <tr>\n",
       "      <th>2013-01-06</th>\n",
       "      <td>-0.285595</td>\n",
       "      <td>-0.164507</td>\n",
       "      <td>0.216564</td>\n",
       "      <td>5</td>\n",
       "      <td>5.0</td>\n",
       "    </tr>\n",
       "  </tbody>\n",
       "</table>\n",
       "</div>"
      ],
      "text/plain": [
       "                   A         B         C  D    F\n",
       "2013-01-01  0.000000  0.000000 -0.129875  5  NaN\n",
       "2013-01-02 -0.736391 -0.419642  0.866715  5  1.0\n",
       "2013-01-03 -0.343532 -0.253569  1.511347  5  2.0\n",
       "2013-01-04  0.001127  0.841016  1.466820  5  3.0\n",
       "2013-01-05  1.324575  1.471176 -0.482346  5  4.0\n",
       "2013-01-06 -0.285595 -0.164507  0.216564  5  5.0"
      ]
     },
     "execution_count": 38,
     "metadata": {},
     "output_type": "execute_result"
    }
   ],
   "source": [
    "#Numpy 배열을 사용한 할당에 의해 값 설정\n",
    "df.loc[:,'D'] = np.array([5] * len(df))\n",
    "#len(df)=6\n",
    "df"
   ]
  },
  {
   "cell_type": "code",
   "execution_count": 39,
   "id": "67c47c28",
   "metadata": {},
   "outputs": [
    {
     "data": {
      "text/html": [
       "<div>\n",
       "<style scoped>\n",
       "    .dataframe tbody tr th:only-of-type {\n",
       "        vertical-align: middle;\n",
       "    }\n",
       "\n",
       "    .dataframe tbody tr th {\n",
       "        vertical-align: top;\n",
       "    }\n",
       "\n",
       "    .dataframe thead th {\n",
       "        text-align: right;\n",
       "    }\n",
       "</style>\n",
       "<table border=\"1\" class=\"dataframe\">\n",
       "  <thead>\n",
       "    <tr style=\"text-align: right;\">\n",
       "      <th></th>\n",
       "      <th>A</th>\n",
       "      <th>B</th>\n",
       "      <th>C</th>\n",
       "      <th>D</th>\n",
       "      <th>F</th>\n",
       "    </tr>\n",
       "  </thead>\n",
       "  <tbody>\n",
       "    <tr>\n",
       "      <th>2013-01-01</th>\n",
       "      <td>0.000000</td>\n",
       "      <td>0.000000</td>\n",
       "      <td>-0.129875</td>\n",
       "      <td>-5</td>\n",
       "      <td>NaN</td>\n",
       "    </tr>\n",
       "    <tr>\n",
       "      <th>2013-01-02</th>\n",
       "      <td>-0.736391</td>\n",
       "      <td>-0.419642</td>\n",
       "      <td>-0.866715</td>\n",
       "      <td>-5</td>\n",
       "      <td>-1.0</td>\n",
       "    </tr>\n",
       "    <tr>\n",
       "      <th>2013-01-03</th>\n",
       "      <td>-0.343532</td>\n",
       "      <td>-0.253569</td>\n",
       "      <td>-1.511347</td>\n",
       "      <td>-5</td>\n",
       "      <td>-2.0</td>\n",
       "    </tr>\n",
       "    <tr>\n",
       "      <th>2013-01-04</th>\n",
       "      <td>-0.001127</td>\n",
       "      <td>-0.841016</td>\n",
       "      <td>-1.466820</td>\n",
       "      <td>-5</td>\n",
       "      <td>-3.0</td>\n",
       "    </tr>\n",
       "    <tr>\n",
       "      <th>2013-01-05</th>\n",
       "      <td>-1.324575</td>\n",
       "      <td>-1.471176</td>\n",
       "      <td>-0.482346</td>\n",
       "      <td>-5</td>\n",
       "      <td>-4.0</td>\n",
       "    </tr>\n",
       "    <tr>\n",
       "      <th>2013-01-06</th>\n",
       "      <td>-0.285595</td>\n",
       "      <td>-0.164507</td>\n",
       "      <td>-0.216564</td>\n",
       "      <td>-5</td>\n",
       "      <td>-5.0</td>\n",
       "    </tr>\n",
       "  </tbody>\n",
       "</table>\n",
       "</div>"
      ],
      "text/plain": [
       "                   A         B         C  D    F\n",
       "2013-01-01  0.000000  0.000000 -0.129875 -5  NaN\n",
       "2013-01-02 -0.736391 -0.419642 -0.866715 -5 -1.0\n",
       "2013-01-03 -0.343532 -0.253569 -1.511347 -5 -2.0\n",
       "2013-01-04 -0.001127 -0.841016 -1.466820 -5 -3.0\n",
       "2013-01-05 -1.324575 -1.471176 -0.482346 -5 -4.0\n",
       "2013-01-06 -0.285595 -0.164507 -0.216564 -5 -5.0"
      ]
     },
     "execution_count": 39,
     "metadata": {},
     "output_type": "execute_result"
    }
   ],
   "source": [
    "#where 연산을 설정\n",
    "df2 = df.copy()\n",
    "df2[df2>0] = -df2\n",
    "df2"
   ]
  },
  {
   "cell_type": "markdown",
   "id": "a5bf1b46",
   "metadata": {},
   "source": [
    "4. Missing Data (결측치)"
   ]
  },
  {
   "cell_type": "code",
   "execution_count": 40,
   "id": "c8d18a2f",
   "metadata": {},
   "outputs": [
    {
     "data": {
      "text/html": [
       "<div>\n",
       "<style scoped>\n",
       "    .dataframe tbody tr th:only-of-type {\n",
       "        vertical-align: middle;\n",
       "    }\n",
       "\n",
       "    .dataframe tbody tr th {\n",
       "        vertical-align: top;\n",
       "    }\n",
       "\n",
       "    .dataframe thead th {\n",
       "        text-align: right;\n",
       "    }\n",
       "</style>\n",
       "<table border=\"1\" class=\"dataframe\">\n",
       "  <thead>\n",
       "    <tr style=\"text-align: right;\">\n",
       "      <th></th>\n",
       "      <th>A</th>\n",
       "      <th>B</th>\n",
       "      <th>C</th>\n",
       "      <th>D</th>\n",
       "      <th>F</th>\n",
       "      <th>E</th>\n",
       "    </tr>\n",
       "  </thead>\n",
       "  <tbody>\n",
       "    <tr>\n",
       "      <th>2013-01-01</th>\n",
       "      <td>0.000000</td>\n",
       "      <td>0.000000</td>\n",
       "      <td>-0.129875</td>\n",
       "      <td>5</td>\n",
       "      <td>NaN</td>\n",
       "      <td>NaN</td>\n",
       "    </tr>\n",
       "    <tr>\n",
       "      <th>2013-01-02</th>\n",
       "      <td>-0.736391</td>\n",
       "      <td>-0.419642</td>\n",
       "      <td>0.866715</td>\n",
       "      <td>5</td>\n",
       "      <td>1.0</td>\n",
       "      <td>NaN</td>\n",
       "    </tr>\n",
       "    <tr>\n",
       "      <th>2013-01-03</th>\n",
       "      <td>-0.343532</td>\n",
       "      <td>-0.253569</td>\n",
       "      <td>1.511347</td>\n",
       "      <td>5</td>\n",
       "      <td>2.0</td>\n",
       "      <td>NaN</td>\n",
       "    </tr>\n",
       "    <tr>\n",
       "      <th>2013-01-04</th>\n",
       "      <td>0.001127</td>\n",
       "      <td>0.841016</td>\n",
       "      <td>1.466820</td>\n",
       "      <td>5</td>\n",
       "      <td>3.0</td>\n",
       "      <td>NaN</td>\n",
       "    </tr>\n",
       "  </tbody>\n",
       "</table>\n",
       "</div>"
      ],
      "text/plain": [
       "                   A         B         C  D    F   E\n",
       "2013-01-01  0.000000  0.000000 -0.129875  5  NaN NaN\n",
       "2013-01-02 -0.736391 -0.419642  0.866715  5  1.0 NaN\n",
       "2013-01-03 -0.343532 -0.253569  1.511347  5  2.0 NaN\n",
       "2013-01-04  0.001127  0.841016  1.466820  5  3.0 NaN"
      ]
     },
     "execution_count": 40,
     "metadata": {},
     "output_type": "execute_result"
    }
   ],
   "source": [
    "#결측치는 np.nan, Reindexing으로 인덱스 변경,추가,삭제 가능\n",
    "#Reindexing은 데이터의 복사본을 반환함\n",
    "df1 = df.reindex(index=dates[0:4],\n",
    "                 columns=list(df.columns) + ['E'])\n",
    "df1"
   ]
  },
  {
   "cell_type": "code",
   "execution_count": 41,
   "id": "be88df0d",
   "metadata": {},
   "outputs": [
    {
     "data": {
      "text/html": [
       "<div>\n",
       "<style scoped>\n",
       "    .dataframe tbody tr th:only-of-type {\n",
       "        vertical-align: middle;\n",
       "    }\n",
       "\n",
       "    .dataframe tbody tr th {\n",
       "        vertical-align: top;\n",
       "    }\n",
       "\n",
       "    .dataframe thead th {\n",
       "        text-align: right;\n",
       "    }\n",
       "</style>\n",
       "<table border=\"1\" class=\"dataframe\">\n",
       "  <thead>\n",
       "    <tr style=\"text-align: right;\">\n",
       "      <th></th>\n",
       "      <th>A</th>\n",
       "      <th>B</th>\n",
       "      <th>C</th>\n",
       "      <th>D</th>\n",
       "      <th>F</th>\n",
       "      <th>E</th>\n",
       "    </tr>\n",
       "  </thead>\n",
       "  <tbody>\n",
       "    <tr>\n",
       "      <th>2013-01-01</th>\n",
       "      <td>0.000000</td>\n",
       "      <td>0.000000</td>\n",
       "      <td>-0.129875</td>\n",
       "      <td>5</td>\n",
       "      <td>NaN</td>\n",
       "      <td>1.0</td>\n",
       "    </tr>\n",
       "    <tr>\n",
       "      <th>2013-01-02</th>\n",
       "      <td>-0.736391</td>\n",
       "      <td>-0.419642</td>\n",
       "      <td>0.866715</td>\n",
       "      <td>5</td>\n",
       "      <td>1.0</td>\n",
       "      <td>1.0</td>\n",
       "    </tr>\n",
       "    <tr>\n",
       "      <th>2013-01-03</th>\n",
       "      <td>-0.343532</td>\n",
       "      <td>-0.253569</td>\n",
       "      <td>1.511347</td>\n",
       "      <td>5</td>\n",
       "      <td>2.0</td>\n",
       "      <td>NaN</td>\n",
       "    </tr>\n",
       "    <tr>\n",
       "      <th>2013-01-04</th>\n",
       "      <td>0.001127</td>\n",
       "      <td>0.841016</td>\n",
       "      <td>1.466820</td>\n",
       "      <td>5</td>\n",
       "      <td>3.0</td>\n",
       "      <td>NaN</td>\n",
       "    </tr>\n",
       "  </tbody>\n",
       "</table>\n",
       "</div>"
      ],
      "text/plain": [
       "                   A         B         C  D    F    E\n",
       "2013-01-01  0.000000  0.000000 -0.129875  5  NaN  1.0\n",
       "2013-01-02 -0.736391 -0.419642  0.866715  5  1.0  1.0\n",
       "2013-01-03 -0.343532 -0.253569  1.511347  5  2.0  NaN\n",
       "2013-01-04  0.001127  0.841016  1.466820  5  3.0  NaN"
      ]
     },
     "execution_count": 41,
     "metadata": {},
     "output_type": "execute_result"
    }
   ],
   "source": [
    "df1.loc[dates[0]:dates[1], 'E'] = 1\n",
    "df1"
   ]
  },
  {
   "cell_type": "code",
   "execution_count": 42,
   "id": "8275ab2a",
   "metadata": {},
   "outputs": [
    {
     "data": {
      "text/html": [
       "<div>\n",
       "<style scoped>\n",
       "    .dataframe tbody tr th:only-of-type {\n",
       "        vertical-align: middle;\n",
       "    }\n",
       "\n",
       "    .dataframe tbody tr th {\n",
       "        vertical-align: top;\n",
       "    }\n",
       "\n",
       "    .dataframe thead th {\n",
       "        text-align: right;\n",
       "    }\n",
       "</style>\n",
       "<table border=\"1\" class=\"dataframe\">\n",
       "  <thead>\n",
       "    <tr style=\"text-align: right;\">\n",
       "      <th></th>\n",
       "      <th>A</th>\n",
       "      <th>B</th>\n",
       "      <th>C</th>\n",
       "      <th>D</th>\n",
       "      <th>F</th>\n",
       "      <th>E</th>\n",
       "    </tr>\n",
       "  </thead>\n",
       "  <tbody>\n",
       "    <tr>\n",
       "      <th>2013-01-02</th>\n",
       "      <td>-0.736391</td>\n",
       "      <td>-0.419642</td>\n",
       "      <td>0.866715</td>\n",
       "      <td>5</td>\n",
       "      <td>1.0</td>\n",
       "      <td>1.0</td>\n",
       "    </tr>\n",
       "  </tbody>\n",
       "</table>\n",
       "</div>"
      ],
      "text/plain": [
       "                   A         B         C  D    F    E\n",
       "2013-01-02 -0.736391 -0.419642  0.866715  5  1.0  1.0"
      ]
     },
     "execution_count": 42,
     "metadata": {},
     "output_type": "execute_result"
    }
   ],
   "source": [
    "#결측치를 가지고 있는 행들을 지움\n",
    "df1.dropna(how='any')"
   ]
  },
  {
   "cell_type": "code",
   "execution_count": 43,
   "id": "d270aff5",
   "metadata": {},
   "outputs": [
    {
     "data": {
      "text/html": [
       "<div>\n",
       "<style scoped>\n",
       "    .dataframe tbody tr th:only-of-type {\n",
       "        vertical-align: middle;\n",
       "    }\n",
       "\n",
       "    .dataframe tbody tr th {\n",
       "        vertical-align: top;\n",
       "    }\n",
       "\n",
       "    .dataframe thead th {\n",
       "        text-align: right;\n",
       "    }\n",
       "</style>\n",
       "<table border=\"1\" class=\"dataframe\">\n",
       "  <thead>\n",
       "    <tr style=\"text-align: right;\">\n",
       "      <th></th>\n",
       "      <th>A</th>\n",
       "      <th>B</th>\n",
       "      <th>C</th>\n",
       "      <th>D</th>\n",
       "      <th>F</th>\n",
       "      <th>E</th>\n",
       "    </tr>\n",
       "  </thead>\n",
       "  <tbody>\n",
       "    <tr>\n",
       "      <th>2013-01-01</th>\n",
       "      <td>0.000000</td>\n",
       "      <td>0.000000</td>\n",
       "      <td>-0.129875</td>\n",
       "      <td>5</td>\n",
       "      <td>5.0</td>\n",
       "      <td>1.0</td>\n",
       "    </tr>\n",
       "    <tr>\n",
       "      <th>2013-01-02</th>\n",
       "      <td>-0.736391</td>\n",
       "      <td>-0.419642</td>\n",
       "      <td>0.866715</td>\n",
       "      <td>5</td>\n",
       "      <td>1.0</td>\n",
       "      <td>1.0</td>\n",
       "    </tr>\n",
       "    <tr>\n",
       "      <th>2013-01-03</th>\n",
       "      <td>-0.343532</td>\n",
       "      <td>-0.253569</td>\n",
       "      <td>1.511347</td>\n",
       "      <td>5</td>\n",
       "      <td>2.0</td>\n",
       "      <td>5.0</td>\n",
       "    </tr>\n",
       "    <tr>\n",
       "      <th>2013-01-04</th>\n",
       "      <td>0.001127</td>\n",
       "      <td>0.841016</td>\n",
       "      <td>1.466820</td>\n",
       "      <td>5</td>\n",
       "      <td>3.0</td>\n",
       "      <td>5.0</td>\n",
       "    </tr>\n",
       "  </tbody>\n",
       "</table>\n",
       "</div>"
      ],
      "text/plain": [
       "                   A         B         C  D    F    E\n",
       "2013-01-01  0.000000  0.000000 -0.129875  5  5.0  1.0\n",
       "2013-01-02 -0.736391 -0.419642  0.866715  5  1.0  1.0\n",
       "2013-01-03 -0.343532 -0.253569  1.511347  5  2.0  5.0\n",
       "2013-01-04  0.001127  0.841016  1.466820  5  3.0  5.0"
      ]
     },
     "execution_count": 43,
     "metadata": {},
     "output_type": "execute_result"
    }
   ],
   "source": [
    "#결측치를 채워 넣음\n",
    "df1.fillna(value=5)"
   ]
  },
  {
   "cell_type": "code",
   "execution_count": 44,
   "id": "84a02a09",
   "metadata": {},
   "outputs": [
    {
     "data": {
      "text/html": [
       "<div>\n",
       "<style scoped>\n",
       "    .dataframe tbody tr th:only-of-type {\n",
       "        vertical-align: middle;\n",
       "    }\n",
       "\n",
       "    .dataframe tbody tr th {\n",
       "        vertical-align: top;\n",
       "    }\n",
       "\n",
       "    .dataframe thead th {\n",
       "        text-align: right;\n",
       "    }\n",
       "</style>\n",
       "<table border=\"1\" class=\"dataframe\">\n",
       "  <thead>\n",
       "    <tr style=\"text-align: right;\">\n",
       "      <th></th>\n",
       "      <th>A</th>\n",
       "      <th>B</th>\n",
       "      <th>C</th>\n",
       "      <th>D</th>\n",
       "      <th>F</th>\n",
       "      <th>E</th>\n",
       "    </tr>\n",
       "  </thead>\n",
       "  <tbody>\n",
       "    <tr>\n",
       "      <th>2013-01-01</th>\n",
       "      <td>False</td>\n",
       "      <td>False</td>\n",
       "      <td>False</td>\n",
       "      <td>False</td>\n",
       "      <td>True</td>\n",
       "      <td>False</td>\n",
       "    </tr>\n",
       "    <tr>\n",
       "      <th>2013-01-02</th>\n",
       "      <td>False</td>\n",
       "      <td>False</td>\n",
       "      <td>False</td>\n",
       "      <td>False</td>\n",
       "      <td>False</td>\n",
       "      <td>False</td>\n",
       "    </tr>\n",
       "    <tr>\n",
       "      <th>2013-01-03</th>\n",
       "      <td>False</td>\n",
       "      <td>False</td>\n",
       "      <td>False</td>\n",
       "      <td>False</td>\n",
       "      <td>False</td>\n",
       "      <td>True</td>\n",
       "    </tr>\n",
       "    <tr>\n",
       "      <th>2013-01-04</th>\n",
       "      <td>False</td>\n",
       "      <td>False</td>\n",
       "      <td>False</td>\n",
       "      <td>False</td>\n",
       "      <td>False</td>\n",
       "      <td>True</td>\n",
       "    </tr>\n",
       "  </tbody>\n",
       "</table>\n",
       "</div>"
      ],
      "text/plain": [
       "                A      B      C      D      F      E\n",
       "2013-01-01  False  False  False  False   True  False\n",
       "2013-01-02  False  False  False  False  False  False\n",
       "2013-01-03  False  False  False  False  False   True\n",
       "2013-01-04  False  False  False  False  False   True"
      ]
     },
     "execution_count": 44,
     "metadata": {},
     "output_type": "execute_result"
    }
   ],
   "source": [
    "#nan인 값에 boolean으로 표시\n",
    "pd.isna(df1)"
   ]
  },
  {
   "cell_type": "markdown",
   "id": "5ddbe9aa",
   "metadata": {},
   "source": [
    "5.Operation (연산)"
   ]
  },
  {
   "cell_type": "code",
   "execution_count": 45,
   "id": "474678c0",
   "metadata": {},
   "outputs": [
    {
     "data": {
      "text/plain": [
       "A   -0.006636\n",
       "B    0.245746\n",
       "C    0.574871\n",
       "D    5.000000\n",
       "F    3.000000\n",
       "dtype: float64"
      ]
     },
     "execution_count": 45,
     "metadata": {},
     "output_type": "execute_result"
    }
   ],
   "source": [
    "#Stats (통계). 일반적으로 결측치를 제외한 후 연산\n",
    "df.mean()"
   ]
  },
  {
   "cell_type": "code",
   "execution_count": 46,
   "id": "41a3e1a7",
   "metadata": {},
   "outputs": [
    {
     "data": {
      "text/plain": [
       "2013-01-01    1.217531\n",
       "2013-01-02    1.142136\n",
       "2013-01-03    1.582849\n",
       "2013-01-04    2.061793\n",
       "2013-01-05    2.262681\n",
       "2013-01-06    1.953292\n",
       "Freq: D, dtype: float64"
      ]
     },
     "execution_count": 46,
     "metadata": {},
     "output_type": "execute_result"
    }
   ],
   "source": [
    "#다른 축에서 동일한 연산 수행\n",
    "df.mean(1)"
   ]
  },
  {
   "cell_type": "code",
   "execution_count": 47,
   "id": "b088a68b",
   "metadata": {},
   "outputs": [
    {
     "data": {
      "text/plain": [
       "2013-01-01    NaN\n",
       "2013-01-02    NaN\n",
       "2013-01-03    1.0\n",
       "2013-01-04    3.0\n",
       "2013-01-05    5.0\n",
       "2013-01-06    NaN\n",
       "Freq: D, dtype: float64"
      ]
     },
     "execution_count": 47,
     "metadata": {},
     "output_type": "execute_result"
    }
   ],
   "source": [
    "#정렬이 필요하며, 차원이 다른 객체로 연산\n",
    "s = pd.Series([1,3,5,np.nan,6,8],\n",
    "             index=dates).shift(2)\n",
    "s"
   ]
  },
  {
   "cell_type": "code",
   "execution_count": 48,
   "id": "13bf1e50",
   "metadata": {},
   "outputs": [
    {
     "data": {
      "text/html": [
       "<div>\n",
       "<style scoped>\n",
       "    .dataframe tbody tr th:only-of-type {\n",
       "        vertical-align: middle;\n",
       "    }\n",
       "\n",
       "    .dataframe tbody tr th {\n",
       "        vertical-align: top;\n",
       "    }\n",
       "\n",
       "    .dataframe thead th {\n",
       "        text-align: right;\n",
       "    }\n",
       "</style>\n",
       "<table border=\"1\" class=\"dataframe\">\n",
       "  <thead>\n",
       "    <tr style=\"text-align: right;\">\n",
       "      <th></th>\n",
       "      <th>A</th>\n",
       "      <th>B</th>\n",
       "      <th>C</th>\n",
       "      <th>D</th>\n",
       "      <th>F</th>\n",
       "    </tr>\n",
       "  </thead>\n",
       "  <tbody>\n",
       "    <tr>\n",
       "      <th>2013-01-01</th>\n",
       "      <td>NaN</td>\n",
       "      <td>NaN</td>\n",
       "      <td>NaN</td>\n",
       "      <td>NaN</td>\n",
       "      <td>NaN</td>\n",
       "    </tr>\n",
       "    <tr>\n",
       "      <th>2013-01-02</th>\n",
       "      <td>NaN</td>\n",
       "      <td>NaN</td>\n",
       "      <td>NaN</td>\n",
       "      <td>NaN</td>\n",
       "      <td>NaN</td>\n",
       "    </tr>\n",
       "    <tr>\n",
       "      <th>2013-01-03</th>\n",
       "      <td>-1.343532</td>\n",
       "      <td>-1.253569</td>\n",
       "      <td>0.511347</td>\n",
       "      <td>4.0</td>\n",
       "      <td>1.0</td>\n",
       "    </tr>\n",
       "    <tr>\n",
       "      <th>2013-01-04</th>\n",
       "      <td>-2.998873</td>\n",
       "      <td>-2.158984</td>\n",
       "      <td>-1.533180</td>\n",
       "      <td>2.0</td>\n",
       "      <td>0.0</td>\n",
       "    </tr>\n",
       "    <tr>\n",
       "      <th>2013-01-05</th>\n",
       "      <td>-3.675425</td>\n",
       "      <td>-3.528824</td>\n",
       "      <td>-5.482346</td>\n",
       "      <td>0.0</td>\n",
       "      <td>-1.0</td>\n",
       "    </tr>\n",
       "    <tr>\n",
       "      <th>2013-01-06</th>\n",
       "      <td>NaN</td>\n",
       "      <td>NaN</td>\n",
       "      <td>NaN</td>\n",
       "      <td>NaN</td>\n",
       "      <td>NaN</td>\n",
       "    </tr>\n",
       "  </tbody>\n",
       "</table>\n",
       "</div>"
      ],
      "text/plain": [
       "                   A         B         C    D    F\n",
       "2013-01-01       NaN       NaN       NaN  NaN  NaN\n",
       "2013-01-02       NaN       NaN       NaN  NaN  NaN\n",
       "2013-01-03 -1.343532 -1.253569  0.511347  4.0  1.0\n",
       "2013-01-04 -2.998873 -2.158984 -1.533180  2.0  0.0\n",
       "2013-01-05 -3.675425 -3.528824 -5.482346  0.0 -1.0\n",
       "2013-01-06       NaN       NaN       NaN  NaN  NaN"
      ]
     },
     "execution_count": 48,
     "metadata": {},
     "output_type": "execute_result"
    }
   ],
   "source": [
    "df.sub(s, axis='index')"
   ]
  },
  {
   "cell_type": "code",
   "execution_count": 49,
   "id": "df283f5a",
   "metadata": {},
   "outputs": [
    {
     "data": {
      "text/html": [
       "<div>\n",
       "<style scoped>\n",
       "    .dataframe tbody tr th:only-of-type {\n",
       "        vertical-align: middle;\n",
       "    }\n",
       "\n",
       "    .dataframe tbody tr th {\n",
       "        vertical-align: top;\n",
       "    }\n",
       "\n",
       "    .dataframe thead th {\n",
       "        text-align: right;\n",
       "    }\n",
       "</style>\n",
       "<table border=\"1\" class=\"dataframe\">\n",
       "  <thead>\n",
       "    <tr style=\"text-align: right;\">\n",
       "      <th></th>\n",
       "      <th>A</th>\n",
       "      <th>B</th>\n",
       "      <th>C</th>\n",
       "      <th>D</th>\n",
       "      <th>F</th>\n",
       "    </tr>\n",
       "  </thead>\n",
       "  <tbody>\n",
       "    <tr>\n",
       "      <th>2013-01-01</th>\n",
       "      <td>0.000000</td>\n",
       "      <td>0.000000</td>\n",
       "      <td>-0.129875</td>\n",
       "      <td>5</td>\n",
       "      <td>NaN</td>\n",
       "    </tr>\n",
       "    <tr>\n",
       "      <th>2013-01-02</th>\n",
       "      <td>-0.736391</td>\n",
       "      <td>-0.419642</td>\n",
       "      <td>0.736840</td>\n",
       "      <td>10</td>\n",
       "      <td>1.0</td>\n",
       "    </tr>\n",
       "    <tr>\n",
       "      <th>2013-01-03</th>\n",
       "      <td>-1.079923</td>\n",
       "      <td>-0.673212</td>\n",
       "      <td>2.248187</td>\n",
       "      <td>15</td>\n",
       "      <td>3.0</td>\n",
       "    </tr>\n",
       "    <tr>\n",
       "      <th>2013-01-04</th>\n",
       "      <td>-1.078796</td>\n",
       "      <td>0.167805</td>\n",
       "      <td>3.715007</td>\n",
       "      <td>20</td>\n",
       "      <td>6.0</td>\n",
       "    </tr>\n",
       "    <tr>\n",
       "      <th>2013-01-05</th>\n",
       "      <td>0.245779</td>\n",
       "      <td>1.638981</td>\n",
       "      <td>3.232660</td>\n",
       "      <td>25</td>\n",
       "      <td>10.0</td>\n",
       "    </tr>\n",
       "    <tr>\n",
       "      <th>2013-01-06</th>\n",
       "      <td>-0.039816</td>\n",
       "      <td>1.474474</td>\n",
       "      <td>3.449225</td>\n",
       "      <td>30</td>\n",
       "      <td>15.0</td>\n",
       "    </tr>\n",
       "  </tbody>\n",
       "</table>\n",
       "</div>"
      ],
      "text/plain": [
       "                   A         B         C   D     F\n",
       "2013-01-01  0.000000  0.000000 -0.129875   5   NaN\n",
       "2013-01-02 -0.736391 -0.419642  0.736840  10   1.0\n",
       "2013-01-03 -1.079923 -0.673212  2.248187  15   3.0\n",
       "2013-01-04 -1.078796  0.167805  3.715007  20   6.0\n",
       "2013-01-05  0.245779  1.638981  3.232660  25  10.0\n",
       "2013-01-06 -0.039816  1.474474  3.449225  30  15.0"
      ]
     },
     "execution_count": 49,
     "metadata": {},
     "output_type": "execute_result"
    }
   ],
   "source": [
    "#Apply (적용). 데이터에 함수를 적용함\n",
    "df.apply(np.cumsum)"
   ]
  },
  {
   "cell_type": "code",
   "execution_count": 50,
   "id": "1c7dd17b",
   "metadata": {},
   "outputs": [
    {
     "data": {
      "text/plain": [
       "A    2.060966\n",
       "B    1.890819\n",
       "C    1.993693\n",
       "D    0.000000\n",
       "F    4.000000\n",
       "dtype: float64"
      ]
     },
     "execution_count": 50,
     "metadata": {},
     "output_type": "execute_result"
    }
   ],
   "source": [
    "df.apply(lambda x: x.max() - x.min())"
   ]
  },
  {
   "cell_type": "code",
   "execution_count": 51,
   "id": "4cfcf3e2",
   "metadata": {},
   "outputs": [
    {
     "data": {
      "text/plain": [
       "0    5\n",
       "1    0\n",
       "2    3\n",
       "3    3\n",
       "4    5\n",
       "5    4\n",
       "6    6\n",
       "7    5\n",
       "8    0\n",
       "9    1\n",
       "dtype: int32"
      ]
     },
     "execution_count": 51,
     "metadata": {},
     "output_type": "execute_result"
    }
   ],
   "source": [
    "#Histogramming (히스토그래밍)\n",
    "s = pd.Series(np.random.randint(0,7, size=10))\n",
    "s"
   ]
  },
  {
   "cell_type": "code",
   "execution_count": 52,
   "id": "b2c31abc",
   "metadata": {},
   "outputs": [
    {
     "data": {
      "text/plain": [
       "5    3\n",
       "0    2\n",
       "3    2\n",
       "1    1\n",
       "4    1\n",
       "6    1\n",
       "dtype: int64"
      ]
     },
     "execution_count": 52,
     "metadata": {},
     "output_type": "execute_result"
    }
   ],
   "source": [
    "s.value_counts()"
   ]
  },
  {
   "cell_type": "code",
   "execution_count": 53,
   "id": "40b86d56",
   "metadata": {},
   "outputs": [
    {
     "data": {
      "text/plain": [
       "0       A\n",
       "1       B\n",
       "2       C\n",
       "3    Aaba\n",
       "4    Baca\n",
       "5     NaN\n",
       "6    CABA\n",
       "7     dog\n",
       "8     cat\n",
       "dtype: object"
      ]
     },
     "execution_count": 53,
     "metadata": {},
     "output_type": "execute_result"
    }
   ],
   "source": [
    "#String Methods (문자열 메소드문자열 메소드)\n",
    "s = pd.Series(['A','B','C','Aaba','Baca',np.nan,'CABA','dog','cat'])\n",
    "s"
   ]
  },
  {
   "cell_type": "code",
   "execution_count": 54,
   "id": "f481a177",
   "metadata": {},
   "outputs": [
    {
     "data": {
      "text/plain": [
       "0       a\n",
       "1       b\n",
       "2       c\n",
       "3    aaba\n",
       "4    baca\n",
       "5     NaN\n",
       "6    caba\n",
       "7     dog\n",
       "8     cat\n",
       "dtype: object"
      ]
     },
     "execution_count": 54,
     "metadata": {},
     "output_type": "execute_result"
    }
   ],
   "source": [
    "s.str.lower()"
   ]
  },
  {
   "cell_type": "markdown",
   "id": "982650f4",
   "metadata": {},
   "source": [
    "6.Merge (6병합)"
   ]
  },
  {
   "cell_type": "code",
   "execution_count": 55,
   "id": "6c891bc3",
   "metadata": {},
   "outputs": [
    {
     "data": {
      "text/html": [
       "<div>\n",
       "<style scoped>\n",
       "    .dataframe tbody tr th:only-of-type {\n",
       "        vertical-align: middle;\n",
       "    }\n",
       "\n",
       "    .dataframe tbody tr th {\n",
       "        vertical-align: top;\n",
       "    }\n",
       "\n",
       "    .dataframe thead th {\n",
       "        text-align: right;\n",
       "    }\n",
       "</style>\n",
       "<table border=\"1\" class=\"dataframe\">\n",
       "  <thead>\n",
       "    <tr style=\"text-align: right;\">\n",
       "      <th></th>\n",
       "      <th>0</th>\n",
       "      <th>1</th>\n",
       "      <th>2</th>\n",
       "      <th>3</th>\n",
       "    </tr>\n",
       "  </thead>\n",
       "  <tbody>\n",
       "    <tr>\n",
       "      <th>0</th>\n",
       "      <td>-0.088484</td>\n",
       "      <td>0.478900</td>\n",
       "      <td>-1.255606</td>\n",
       "      <td>-1.567074</td>\n",
       "    </tr>\n",
       "    <tr>\n",
       "      <th>1</th>\n",
       "      <td>1.044302</td>\n",
       "      <td>0.102664</td>\n",
       "      <td>0.136381</td>\n",
       "      <td>1.305871</td>\n",
       "    </tr>\n",
       "    <tr>\n",
       "      <th>2</th>\n",
       "      <td>0.193969</td>\n",
       "      <td>2.660003</td>\n",
       "      <td>-0.660666</td>\n",
       "      <td>0.805517</td>\n",
       "    </tr>\n",
       "    <tr>\n",
       "      <th>3</th>\n",
       "      <td>-0.785632</td>\n",
       "      <td>-0.934638</td>\n",
       "      <td>0.756718</td>\n",
       "      <td>-0.822342</td>\n",
       "    </tr>\n",
       "    <tr>\n",
       "      <th>4</th>\n",
       "      <td>-0.775785</td>\n",
       "      <td>0.343522</td>\n",
       "      <td>-1.427251</td>\n",
       "      <td>2.265076</td>\n",
       "    </tr>\n",
       "    <tr>\n",
       "      <th>5</th>\n",
       "      <td>-1.830815</td>\n",
       "      <td>0.867805</td>\n",
       "      <td>-1.585094</td>\n",
       "      <td>1.179765</td>\n",
       "    </tr>\n",
       "    <tr>\n",
       "      <th>6</th>\n",
       "      <td>0.183460</td>\n",
       "      <td>-0.690660</td>\n",
       "      <td>-1.543138</td>\n",
       "      <td>-2.046943</td>\n",
       "    </tr>\n",
       "    <tr>\n",
       "      <th>7</th>\n",
       "      <td>-0.647786</td>\n",
       "      <td>-0.591022</td>\n",
       "      <td>1.150269</td>\n",
       "      <td>2.191971</td>\n",
       "    </tr>\n",
       "    <tr>\n",
       "      <th>8</th>\n",
       "      <td>1.145240</td>\n",
       "      <td>-0.646379</td>\n",
       "      <td>-0.197497</td>\n",
       "      <td>-1.011983</td>\n",
       "    </tr>\n",
       "    <tr>\n",
       "      <th>9</th>\n",
       "      <td>0.214922</td>\n",
       "      <td>0.131697</td>\n",
       "      <td>0.740421</td>\n",
       "      <td>1.248084</td>\n",
       "    </tr>\n",
       "  </tbody>\n",
       "</table>\n",
       "</div>"
      ],
      "text/plain": [
       "          0         1         2         3\n",
       "0 -0.088484  0.478900 -1.255606 -1.567074\n",
       "1  1.044302  0.102664  0.136381  1.305871\n",
       "2  0.193969  2.660003 -0.660666  0.805517\n",
       "3 -0.785632 -0.934638  0.756718 -0.822342\n",
       "4 -0.775785  0.343522 -1.427251  2.265076\n",
       "5 -1.830815  0.867805 -1.585094  1.179765\n",
       "6  0.183460 -0.690660 -1.543138 -2.046943\n",
       "7 -0.647786 -0.591022  1.150269  2.191971\n",
       "8  1.145240 -0.646379 -0.197497 -1.011983\n",
       "9  0.214922  0.131697  0.740421  1.248084"
      ]
     },
     "execution_count": 55,
     "metadata": {},
     "output_type": "execute_result"
    }
   ],
   "source": [
    "#Concat (연결). concat()으로 판다스 객체를 연결\n",
    "df = pd.DataFrame(np.random.randn(10,4))\n",
    "df"
   ]
  },
  {
   "cell_type": "code",
   "execution_count": 56,
   "id": "e6692821",
   "metadata": {},
   "outputs": [
    {
     "data": {
      "text/plain": [
       "[          0         1         2         3\n",
       " 0 -0.088484  0.478900 -1.255606 -1.567074\n",
       " 1  1.044302  0.102664  0.136381  1.305871\n",
       " 2  0.193969  2.660003 -0.660666  0.805517,\n",
       "           0         1         2         3\n",
       " 3 -0.785632 -0.934638  0.756718 -0.822342\n",
       " 4 -0.775785  0.343522 -1.427251  2.265076\n",
       " 5 -1.830815  0.867805 -1.585094  1.179765\n",
       " 6  0.183460 -0.690660 -1.543138 -2.046943,\n",
       "           0         1         2         3\n",
       " 7 -0.647786 -0.591022  1.150269  2.191971\n",
       " 8  1.145240 -0.646379 -0.197497 -1.011983\n",
       " 9  0.214922  0.131697  0.740421  1.248084]"
      ]
     },
     "execution_count": 56,
     "metadata": {},
     "output_type": "execute_result"
    }
   ],
   "source": [
    "#break it into pieces\n",
    "pieces = [df[:3], df[3:7], df[7:]]\n",
    "pieces"
   ]
  },
  {
   "cell_type": "code",
   "execution_count": 57,
   "id": "feb6ccd9",
   "metadata": {},
   "outputs": [
    {
     "data": {
      "text/html": [
       "<div>\n",
       "<style scoped>\n",
       "    .dataframe tbody tr th:only-of-type {\n",
       "        vertical-align: middle;\n",
       "    }\n",
       "\n",
       "    .dataframe tbody tr th {\n",
       "        vertical-align: top;\n",
       "    }\n",
       "\n",
       "    .dataframe thead th {\n",
       "        text-align: right;\n",
       "    }\n",
       "</style>\n",
       "<table border=\"1\" class=\"dataframe\">\n",
       "  <thead>\n",
       "    <tr style=\"text-align: right;\">\n",
       "      <th></th>\n",
       "      <th>0</th>\n",
       "      <th>1</th>\n",
       "      <th>2</th>\n",
       "      <th>3</th>\n",
       "    </tr>\n",
       "  </thead>\n",
       "  <tbody>\n",
       "    <tr>\n",
       "      <th>0</th>\n",
       "      <td>-0.088484</td>\n",
       "      <td>0.478900</td>\n",
       "      <td>-1.255606</td>\n",
       "      <td>-1.567074</td>\n",
       "    </tr>\n",
       "    <tr>\n",
       "      <th>1</th>\n",
       "      <td>1.044302</td>\n",
       "      <td>0.102664</td>\n",
       "      <td>0.136381</td>\n",
       "      <td>1.305871</td>\n",
       "    </tr>\n",
       "    <tr>\n",
       "      <th>2</th>\n",
       "      <td>0.193969</td>\n",
       "      <td>2.660003</td>\n",
       "      <td>-0.660666</td>\n",
       "      <td>0.805517</td>\n",
       "    </tr>\n",
       "    <tr>\n",
       "      <th>3</th>\n",
       "      <td>-0.785632</td>\n",
       "      <td>-0.934638</td>\n",
       "      <td>0.756718</td>\n",
       "      <td>-0.822342</td>\n",
       "    </tr>\n",
       "    <tr>\n",
       "      <th>4</th>\n",
       "      <td>-0.775785</td>\n",
       "      <td>0.343522</td>\n",
       "      <td>-1.427251</td>\n",
       "      <td>2.265076</td>\n",
       "    </tr>\n",
       "    <tr>\n",
       "      <th>5</th>\n",
       "      <td>-1.830815</td>\n",
       "      <td>0.867805</td>\n",
       "      <td>-1.585094</td>\n",
       "      <td>1.179765</td>\n",
       "    </tr>\n",
       "    <tr>\n",
       "      <th>6</th>\n",
       "      <td>0.183460</td>\n",
       "      <td>-0.690660</td>\n",
       "      <td>-1.543138</td>\n",
       "      <td>-2.046943</td>\n",
       "    </tr>\n",
       "    <tr>\n",
       "      <th>7</th>\n",
       "      <td>-0.647786</td>\n",
       "      <td>-0.591022</td>\n",
       "      <td>1.150269</td>\n",
       "      <td>2.191971</td>\n",
       "    </tr>\n",
       "    <tr>\n",
       "      <th>8</th>\n",
       "      <td>1.145240</td>\n",
       "      <td>-0.646379</td>\n",
       "      <td>-0.197497</td>\n",
       "      <td>-1.011983</td>\n",
       "    </tr>\n",
       "    <tr>\n",
       "      <th>9</th>\n",
       "      <td>0.214922</td>\n",
       "      <td>0.131697</td>\n",
       "      <td>0.740421</td>\n",
       "      <td>1.248084</td>\n",
       "    </tr>\n",
       "  </tbody>\n",
       "</table>\n",
       "</div>"
      ],
      "text/plain": [
       "          0         1         2         3\n",
       "0 -0.088484  0.478900 -1.255606 -1.567074\n",
       "1  1.044302  0.102664  0.136381  1.305871\n",
       "2  0.193969  2.660003 -0.660666  0.805517\n",
       "3 -0.785632 -0.934638  0.756718 -0.822342\n",
       "4 -0.775785  0.343522 -1.427251  2.265076\n",
       "5 -1.830815  0.867805 -1.585094  1.179765\n",
       "6  0.183460 -0.690660 -1.543138 -2.046943\n",
       "7 -0.647786 -0.591022  1.150269  2.191971\n",
       "8  1.145240 -0.646379 -0.197497 -1.011983\n",
       "9  0.214922  0.131697  0.740421  1.248084"
      ]
     },
     "execution_count": 57,
     "metadata": {},
     "output_type": "execute_result"
    }
   ],
   "source": [
    "pd.concat(pieces)"
   ]
  },
  {
   "cell_type": "code",
   "execution_count": 58,
   "id": "dc5ee28e",
   "metadata": {},
   "outputs": [],
   "source": [
    "#Join (결합)\n",
    "left = pd.DataFrame({'key': ['foo','foo'], 'lval': [1,2]})\n",
    "right = pd.DataFrame({'key': ['foo','foo'], 'rval': [4,5]})"
   ]
  },
  {
   "cell_type": "code",
   "execution_count": 59,
   "id": "b139015b",
   "metadata": {},
   "outputs": [
    {
     "data": {
      "text/html": [
       "<div>\n",
       "<style scoped>\n",
       "    .dataframe tbody tr th:only-of-type {\n",
       "        vertical-align: middle;\n",
       "    }\n",
       "\n",
       "    .dataframe tbody tr th {\n",
       "        vertical-align: top;\n",
       "    }\n",
       "\n",
       "    .dataframe thead th {\n",
       "        text-align: right;\n",
       "    }\n",
       "</style>\n",
       "<table border=\"1\" class=\"dataframe\">\n",
       "  <thead>\n",
       "    <tr style=\"text-align: right;\">\n",
       "      <th></th>\n",
       "      <th>key</th>\n",
       "      <th>lval</th>\n",
       "    </tr>\n",
       "  </thead>\n",
       "  <tbody>\n",
       "    <tr>\n",
       "      <th>0</th>\n",
       "      <td>foo</td>\n",
       "      <td>1</td>\n",
       "    </tr>\n",
       "    <tr>\n",
       "      <th>1</th>\n",
       "      <td>foo</td>\n",
       "      <td>2</td>\n",
       "    </tr>\n",
       "  </tbody>\n",
       "</table>\n",
       "</div>"
      ],
      "text/plain": [
       "   key  lval\n",
       "0  foo     1\n",
       "1  foo     2"
      ]
     },
     "execution_count": 59,
     "metadata": {},
     "output_type": "execute_result"
    }
   ],
   "source": [
    "left"
   ]
  },
  {
   "cell_type": "code",
   "execution_count": 60,
   "id": "b8f4938c",
   "metadata": {},
   "outputs": [
    {
     "data": {
      "text/html": [
       "<div>\n",
       "<style scoped>\n",
       "    .dataframe tbody tr th:only-of-type {\n",
       "        vertical-align: middle;\n",
       "    }\n",
       "\n",
       "    .dataframe tbody tr th {\n",
       "        vertical-align: top;\n",
       "    }\n",
       "\n",
       "    .dataframe thead th {\n",
       "        text-align: right;\n",
       "    }\n",
       "</style>\n",
       "<table border=\"1\" class=\"dataframe\">\n",
       "  <thead>\n",
       "    <tr style=\"text-align: right;\">\n",
       "      <th></th>\n",
       "      <th>key</th>\n",
       "      <th>rval</th>\n",
       "    </tr>\n",
       "  </thead>\n",
       "  <tbody>\n",
       "    <tr>\n",
       "      <th>0</th>\n",
       "      <td>foo</td>\n",
       "      <td>4</td>\n",
       "    </tr>\n",
       "    <tr>\n",
       "      <th>1</th>\n",
       "      <td>foo</td>\n",
       "      <td>5</td>\n",
       "    </tr>\n",
       "  </tbody>\n",
       "</table>\n",
       "</div>"
      ],
      "text/plain": [
       "   key  rval\n",
       "0  foo     4\n",
       "1  foo     5"
      ]
     },
     "execution_count": 60,
     "metadata": {},
     "output_type": "execute_result"
    }
   ],
   "source": [
    "right"
   ]
  },
  {
   "cell_type": "code",
   "execution_count": 61,
   "id": "06afa62f",
   "metadata": {},
   "outputs": [
    {
     "data": {
      "text/html": [
       "<div>\n",
       "<style scoped>\n",
       "    .dataframe tbody tr th:only-of-type {\n",
       "        vertical-align: middle;\n",
       "    }\n",
       "\n",
       "    .dataframe tbody tr th {\n",
       "        vertical-align: top;\n",
       "    }\n",
       "\n",
       "    .dataframe thead th {\n",
       "        text-align: right;\n",
       "    }\n",
       "</style>\n",
       "<table border=\"1\" class=\"dataframe\">\n",
       "  <thead>\n",
       "    <tr style=\"text-align: right;\">\n",
       "      <th></th>\n",
       "      <th>key</th>\n",
       "      <th>lval</th>\n",
       "      <th>rval</th>\n",
       "    </tr>\n",
       "  </thead>\n",
       "  <tbody>\n",
       "    <tr>\n",
       "      <th>0</th>\n",
       "      <td>foo</td>\n",
       "      <td>1</td>\n",
       "      <td>4</td>\n",
       "    </tr>\n",
       "    <tr>\n",
       "      <th>1</th>\n",
       "      <td>foo</td>\n",
       "      <td>1</td>\n",
       "      <td>5</td>\n",
       "    </tr>\n",
       "    <tr>\n",
       "      <th>2</th>\n",
       "      <td>foo</td>\n",
       "      <td>2</td>\n",
       "      <td>4</td>\n",
       "    </tr>\n",
       "    <tr>\n",
       "      <th>3</th>\n",
       "      <td>foo</td>\n",
       "      <td>2</td>\n",
       "      <td>5</td>\n",
       "    </tr>\n",
       "  </tbody>\n",
       "</table>\n",
       "</div>"
      ],
      "text/plain": [
       "   key  lval  rval\n",
       "0  foo     1     4\n",
       "1  foo     1     5\n",
       "2  foo     2     4\n",
       "3  foo     2     5"
      ]
     },
     "execution_count": 61,
     "metadata": {},
     "output_type": "execute_result"
    }
   ],
   "source": [
    "pd.merge(left, right, on='key')"
   ]
  },
  {
   "cell_type": "code",
   "execution_count": 62,
   "id": "16046726",
   "metadata": {},
   "outputs": [],
   "source": [
    "#key가 같은 것끼리 묶을 수 있음\n",
    "left = pd.DataFrame({'key': ['foo','bar'], 'lval': [1,2]})\n",
    "right = pd.DataFrame({'key': ['foo','bar'], 'rval': [4,5]})"
   ]
  },
  {
   "cell_type": "code",
   "execution_count": 63,
   "id": "986b70d7",
   "metadata": {},
   "outputs": [
    {
     "data": {
      "text/html": [
       "<div>\n",
       "<style scoped>\n",
       "    .dataframe tbody tr th:only-of-type {\n",
       "        vertical-align: middle;\n",
       "    }\n",
       "\n",
       "    .dataframe tbody tr th {\n",
       "        vertical-align: top;\n",
       "    }\n",
       "\n",
       "    .dataframe thead th {\n",
       "        text-align: right;\n",
       "    }\n",
       "</style>\n",
       "<table border=\"1\" class=\"dataframe\">\n",
       "  <thead>\n",
       "    <tr style=\"text-align: right;\">\n",
       "      <th></th>\n",
       "      <th>key</th>\n",
       "      <th>lval</th>\n",
       "    </tr>\n",
       "  </thead>\n",
       "  <tbody>\n",
       "    <tr>\n",
       "      <th>0</th>\n",
       "      <td>foo</td>\n",
       "      <td>1</td>\n",
       "    </tr>\n",
       "    <tr>\n",
       "      <th>1</th>\n",
       "      <td>bar</td>\n",
       "      <td>2</td>\n",
       "    </tr>\n",
       "  </tbody>\n",
       "</table>\n",
       "</div>"
      ],
      "text/plain": [
       "   key  lval\n",
       "0  foo     1\n",
       "1  bar     2"
      ]
     },
     "execution_count": 63,
     "metadata": {},
     "output_type": "execute_result"
    }
   ],
   "source": [
    "left"
   ]
  },
  {
   "cell_type": "code",
   "execution_count": 64,
   "id": "f4489217",
   "metadata": {},
   "outputs": [
    {
     "data": {
      "text/html": [
       "<div>\n",
       "<style scoped>\n",
       "    .dataframe tbody tr th:only-of-type {\n",
       "        vertical-align: middle;\n",
       "    }\n",
       "\n",
       "    .dataframe tbody tr th {\n",
       "        vertical-align: top;\n",
       "    }\n",
       "\n",
       "    .dataframe thead th {\n",
       "        text-align: right;\n",
       "    }\n",
       "</style>\n",
       "<table border=\"1\" class=\"dataframe\">\n",
       "  <thead>\n",
       "    <tr style=\"text-align: right;\">\n",
       "      <th></th>\n",
       "      <th>key</th>\n",
       "      <th>rval</th>\n",
       "    </tr>\n",
       "  </thead>\n",
       "  <tbody>\n",
       "    <tr>\n",
       "      <th>0</th>\n",
       "      <td>foo</td>\n",
       "      <td>4</td>\n",
       "    </tr>\n",
       "    <tr>\n",
       "      <th>1</th>\n",
       "      <td>bar</td>\n",
       "      <td>5</td>\n",
       "    </tr>\n",
       "  </tbody>\n",
       "</table>\n",
       "</div>"
      ],
      "text/plain": [
       "   key  rval\n",
       "0  foo     4\n",
       "1  bar     5"
      ]
     },
     "execution_count": 64,
     "metadata": {},
     "output_type": "execute_result"
    }
   ],
   "source": [
    "right"
   ]
  },
  {
   "cell_type": "code",
   "execution_count": 65,
   "id": "bd390a2c",
   "metadata": {},
   "outputs": [
    {
     "data": {
      "text/html": [
       "<div>\n",
       "<style scoped>\n",
       "    .dataframe tbody tr th:only-of-type {\n",
       "        vertical-align: middle;\n",
       "    }\n",
       "\n",
       "    .dataframe tbody tr th {\n",
       "        vertical-align: top;\n",
       "    }\n",
       "\n",
       "    .dataframe thead th {\n",
       "        text-align: right;\n",
       "    }\n",
       "</style>\n",
       "<table border=\"1\" class=\"dataframe\">\n",
       "  <thead>\n",
       "    <tr style=\"text-align: right;\">\n",
       "      <th></th>\n",
       "      <th>key</th>\n",
       "      <th>lval</th>\n",
       "      <th>rval</th>\n",
       "    </tr>\n",
       "  </thead>\n",
       "  <tbody>\n",
       "    <tr>\n",
       "      <th>0</th>\n",
       "      <td>foo</td>\n",
       "      <td>1</td>\n",
       "      <td>4</td>\n",
       "    </tr>\n",
       "    <tr>\n",
       "      <th>1</th>\n",
       "      <td>bar</td>\n",
       "      <td>2</td>\n",
       "      <td>5</td>\n",
       "    </tr>\n",
       "  </tbody>\n",
       "</table>\n",
       "</div>"
      ],
      "text/plain": [
       "   key  lval  rval\n",
       "0  foo     1     4\n",
       "1  bar     2     5"
      ]
     },
     "execution_count": 65,
     "metadata": {},
     "output_type": "execute_result"
    }
   ],
   "source": [
    "pd.merge(left, right, on= 'key')"
   ]
  },
  {
   "cell_type": "code",
   "execution_count": 66,
   "id": "a23c800f",
   "metadata": {},
   "outputs": [
    {
     "data": {
      "text/html": [
       "<div>\n",
       "<style scoped>\n",
       "    .dataframe tbody tr th:only-of-type {\n",
       "        vertical-align: middle;\n",
       "    }\n",
       "\n",
       "    .dataframe tbody tr th {\n",
       "        vertical-align: top;\n",
       "    }\n",
       "\n",
       "    .dataframe thead th {\n",
       "        text-align: right;\n",
       "    }\n",
       "</style>\n",
       "<table border=\"1\" class=\"dataframe\">\n",
       "  <thead>\n",
       "    <tr style=\"text-align: right;\">\n",
       "      <th></th>\n",
       "      <th>A</th>\n",
       "      <th>B</th>\n",
       "      <th>C</th>\n",
       "      <th>D</th>\n",
       "    </tr>\n",
       "  </thead>\n",
       "  <tbody>\n",
       "    <tr>\n",
       "      <th>0</th>\n",
       "      <td>-1.404570</td>\n",
       "      <td>-2.843111</td>\n",
       "      <td>0.032157</td>\n",
       "      <td>0.069078</td>\n",
       "    </tr>\n",
       "    <tr>\n",
       "      <th>1</th>\n",
       "      <td>0.034383</td>\n",
       "      <td>0.917366</td>\n",
       "      <td>-1.379303</td>\n",
       "      <td>-0.614674</td>\n",
       "    </tr>\n",
       "    <tr>\n",
       "      <th>2</th>\n",
       "      <td>-1.146847</td>\n",
       "      <td>0.832191</td>\n",
       "      <td>-0.480573</td>\n",
       "      <td>0.441749</td>\n",
       "    </tr>\n",
       "    <tr>\n",
       "      <th>3</th>\n",
       "      <td>0.041652</td>\n",
       "      <td>0.065542</td>\n",
       "      <td>1.348975</td>\n",
       "      <td>0.056617</td>\n",
       "    </tr>\n",
       "    <tr>\n",
       "      <th>4</th>\n",
       "      <td>-0.566113</td>\n",
       "      <td>-0.145639</td>\n",
       "      <td>-1.072019</td>\n",
       "      <td>1.075658</td>\n",
       "    </tr>\n",
       "    <tr>\n",
       "      <th>5</th>\n",
       "      <td>2.116187</td>\n",
       "      <td>-0.651303</td>\n",
       "      <td>2.021545</td>\n",
       "      <td>-1.968533</td>\n",
       "    </tr>\n",
       "    <tr>\n",
       "      <th>6</th>\n",
       "      <td>1.363035</td>\n",
       "      <td>-0.309165</td>\n",
       "      <td>1.019548</td>\n",
       "      <td>2.146650</td>\n",
       "    </tr>\n",
       "    <tr>\n",
       "      <th>7</th>\n",
       "      <td>-2.047426</td>\n",
       "      <td>0.981997</td>\n",
       "      <td>0.832754</td>\n",
       "      <td>0.355908</td>\n",
       "    </tr>\n",
       "  </tbody>\n",
       "</table>\n",
       "</div>"
      ],
      "text/plain": [
       "          A         B         C         D\n",
       "0 -1.404570 -2.843111  0.032157  0.069078\n",
       "1  0.034383  0.917366 -1.379303 -0.614674\n",
       "2 -1.146847  0.832191 -0.480573  0.441749\n",
       "3  0.041652  0.065542  1.348975  0.056617\n",
       "4 -0.566113 -0.145639 -1.072019  1.075658\n",
       "5  2.116187 -0.651303  2.021545 -1.968533\n",
       "6  1.363035 -0.309165  1.019548  2.146650\n",
       "7 -2.047426  0.981997  0.832754  0.355908"
      ]
     },
     "execution_count": 66,
     "metadata": {},
     "output_type": "execute_result"
    }
   ],
   "source": [
    "#Append (추가)\n",
    "df = pd.DataFrame(np.random.randn(8,4), columns=['A','B','C','D'])\n",
    "df"
   ]
  },
  {
   "cell_type": "code",
   "execution_count": 67,
   "id": "12a42c4c",
   "metadata": {},
   "outputs": [
    {
     "data": {
      "text/plain": [
       "A    0.041652\n",
       "B    0.065542\n",
       "C    1.348975\n",
       "D    0.056617\n",
       "Name: 3, dtype: float64"
      ]
     },
     "execution_count": 67,
     "metadata": {},
     "output_type": "execute_result"
    }
   ],
   "source": [
    "s = df.iloc[3]\n",
    "s"
   ]
  },
  {
   "cell_type": "code",
   "execution_count": 68,
   "id": "2f88c687",
   "metadata": {},
   "outputs": [
    {
     "data": {
      "text/html": [
       "<div>\n",
       "<style scoped>\n",
       "    .dataframe tbody tr th:only-of-type {\n",
       "        vertical-align: middle;\n",
       "    }\n",
       "\n",
       "    .dataframe tbody tr th {\n",
       "        vertical-align: top;\n",
       "    }\n",
       "\n",
       "    .dataframe thead th {\n",
       "        text-align: right;\n",
       "    }\n",
       "</style>\n",
       "<table border=\"1\" class=\"dataframe\">\n",
       "  <thead>\n",
       "    <tr style=\"text-align: right;\">\n",
       "      <th></th>\n",
       "      <th>A</th>\n",
       "      <th>B</th>\n",
       "      <th>C</th>\n",
       "      <th>D</th>\n",
       "    </tr>\n",
       "  </thead>\n",
       "  <tbody>\n",
       "    <tr>\n",
       "      <th>0</th>\n",
       "      <td>-1.404570</td>\n",
       "      <td>-2.843111</td>\n",
       "      <td>0.032157</td>\n",
       "      <td>0.069078</td>\n",
       "    </tr>\n",
       "    <tr>\n",
       "      <th>1</th>\n",
       "      <td>0.034383</td>\n",
       "      <td>0.917366</td>\n",
       "      <td>-1.379303</td>\n",
       "      <td>-0.614674</td>\n",
       "    </tr>\n",
       "    <tr>\n",
       "      <th>2</th>\n",
       "      <td>-1.146847</td>\n",
       "      <td>0.832191</td>\n",
       "      <td>-0.480573</td>\n",
       "      <td>0.441749</td>\n",
       "    </tr>\n",
       "    <tr>\n",
       "      <th>3</th>\n",
       "      <td>0.041652</td>\n",
       "      <td>0.065542</td>\n",
       "      <td>1.348975</td>\n",
       "      <td>0.056617</td>\n",
       "    </tr>\n",
       "    <tr>\n",
       "      <th>4</th>\n",
       "      <td>-0.566113</td>\n",
       "      <td>-0.145639</td>\n",
       "      <td>-1.072019</td>\n",
       "      <td>1.075658</td>\n",
       "    </tr>\n",
       "    <tr>\n",
       "      <th>5</th>\n",
       "      <td>2.116187</td>\n",
       "      <td>-0.651303</td>\n",
       "      <td>2.021545</td>\n",
       "      <td>-1.968533</td>\n",
       "    </tr>\n",
       "    <tr>\n",
       "      <th>6</th>\n",
       "      <td>1.363035</td>\n",
       "      <td>-0.309165</td>\n",
       "      <td>1.019548</td>\n",
       "      <td>2.146650</td>\n",
       "    </tr>\n",
       "    <tr>\n",
       "      <th>7</th>\n",
       "      <td>-2.047426</td>\n",
       "      <td>0.981997</td>\n",
       "      <td>0.832754</td>\n",
       "      <td>0.355908</td>\n",
       "    </tr>\n",
       "    <tr>\n",
       "      <th>8</th>\n",
       "      <td>0.041652</td>\n",
       "      <td>0.065542</td>\n",
       "      <td>1.348975</td>\n",
       "      <td>0.056617</td>\n",
       "    </tr>\n",
       "  </tbody>\n",
       "</table>\n",
       "</div>"
      ],
      "text/plain": [
       "          A         B         C         D\n",
       "0 -1.404570 -2.843111  0.032157  0.069078\n",
       "1  0.034383  0.917366 -1.379303 -0.614674\n",
       "2 -1.146847  0.832191 -0.480573  0.441749\n",
       "3  0.041652  0.065542  1.348975  0.056617\n",
       "4 -0.566113 -0.145639 -1.072019  1.075658\n",
       "5  2.116187 -0.651303  2.021545 -1.968533\n",
       "6  1.363035 -0.309165  1.019548  2.146650\n",
       "7 -2.047426  0.981997  0.832754  0.355908\n",
       "8  0.041652  0.065542  1.348975  0.056617"
      ]
     },
     "execution_count": 68,
     "metadata": {},
     "output_type": "execute_result"
    }
   ],
   "source": [
    "df.append(s, ignore_index=True)"
   ]
  },
  {
   "cell_type": "markdown",
   "id": "4c6c6f1b",
   "metadata": {},
   "source": [
    "7. Grouping (그룹화)"
   ]
  },
  {
   "cell_type": "code",
   "execution_count": 69,
   "id": "aad69451",
   "metadata": {},
   "outputs": [
    {
     "data": {
      "text/html": [
       "<div>\n",
       "<style scoped>\n",
       "    .dataframe tbody tr th:only-of-type {\n",
       "        vertical-align: middle;\n",
       "    }\n",
       "\n",
       "    .dataframe tbody tr th {\n",
       "        vertical-align: top;\n",
       "    }\n",
       "\n",
       "    .dataframe thead th {\n",
       "        text-align: right;\n",
       "    }\n",
       "</style>\n",
       "<table border=\"1\" class=\"dataframe\">\n",
       "  <thead>\n",
       "    <tr style=\"text-align: right;\">\n",
       "      <th></th>\n",
       "      <th>A</th>\n",
       "      <th>B</th>\n",
       "      <th>C</th>\n",
       "      <th>D</th>\n",
       "    </tr>\n",
       "  </thead>\n",
       "  <tbody>\n",
       "    <tr>\n",
       "      <th>0</th>\n",
       "      <td>foo</td>\n",
       "      <td>one</td>\n",
       "      <td>0.414404</td>\n",
       "      <td>1.676729</td>\n",
       "    </tr>\n",
       "    <tr>\n",
       "      <th>1</th>\n",
       "      <td>bar</td>\n",
       "      <td>one</td>\n",
       "      <td>-0.327449</td>\n",
       "      <td>0.243481</td>\n",
       "    </tr>\n",
       "    <tr>\n",
       "      <th>2</th>\n",
       "      <td>foo</td>\n",
       "      <td>two</td>\n",
       "      <td>0.306717</td>\n",
       "      <td>-2.849617</td>\n",
       "    </tr>\n",
       "    <tr>\n",
       "      <th>3</th>\n",
       "      <td>bar</td>\n",
       "      <td>three</td>\n",
       "      <td>-0.544932</td>\n",
       "      <td>-0.709343</td>\n",
       "    </tr>\n",
       "    <tr>\n",
       "      <th>4</th>\n",
       "      <td>foo</td>\n",
       "      <td>two</td>\n",
       "      <td>-1.932104</td>\n",
       "      <td>0.511637</td>\n",
       "    </tr>\n",
       "    <tr>\n",
       "      <th>5</th>\n",
       "      <td>bar</td>\n",
       "      <td>two</td>\n",
       "      <td>0.414348</td>\n",
       "      <td>0.978352</td>\n",
       "    </tr>\n",
       "    <tr>\n",
       "      <th>6</th>\n",
       "      <td>foo</td>\n",
       "      <td>one</td>\n",
       "      <td>0.487798</td>\n",
       "      <td>-0.286110</td>\n",
       "    </tr>\n",
       "    <tr>\n",
       "      <th>7</th>\n",
       "      <td>foo</td>\n",
       "      <td>three</td>\n",
       "      <td>1.833332</td>\n",
       "      <td>0.307490</td>\n",
       "    </tr>\n",
       "  </tbody>\n",
       "</table>\n",
       "</div>"
      ],
      "text/plain": [
       "     A      B         C         D\n",
       "0  foo    one  0.414404  1.676729\n",
       "1  bar    one -0.327449  0.243481\n",
       "2  foo    two  0.306717 -2.849617\n",
       "3  bar  three -0.544932 -0.709343\n",
       "4  foo    two -1.932104  0.511637\n",
       "5  bar    two  0.414348  0.978352\n",
       "6  foo    one  0.487798 -0.286110\n",
       "7  foo  three  1.833332  0.307490"
      ]
     },
     "execution_count": 69,
     "metadata": {},
     "output_type": "execute_result"
    }
   ],
   "source": [
    "df = pd.DataFrame(\n",
    "    {\n",
    "        'A': ['foo','bar','foo','bar','foo','bar','foo','foo'],\n",
    "        'B': ['one','one','two','three','two','two','one','three'],\n",
    "        'C': np.random.randn(8),\n",
    "        'D': np.random.randn(8)\n",
    "    })\n",
    "df"
   ]
  },
  {
   "cell_type": "code",
   "execution_count": 70,
   "id": "0c94ca6f",
   "metadata": {},
   "outputs": [
    {
     "data": {
      "text/html": [
       "<div>\n",
       "<style scoped>\n",
       "    .dataframe tbody tr th:only-of-type {\n",
       "        vertical-align: middle;\n",
       "    }\n",
       "\n",
       "    .dataframe tbody tr th {\n",
       "        vertical-align: top;\n",
       "    }\n",
       "\n",
       "    .dataframe thead th {\n",
       "        text-align: right;\n",
       "    }\n",
       "</style>\n",
       "<table border=\"1\" class=\"dataframe\">\n",
       "  <thead>\n",
       "    <tr style=\"text-align: right;\">\n",
       "      <th></th>\n",
       "      <th>C</th>\n",
       "      <th>D</th>\n",
       "    </tr>\n",
       "    <tr>\n",
       "      <th>A</th>\n",
       "      <th></th>\n",
       "      <th></th>\n",
       "    </tr>\n",
       "  </thead>\n",
       "  <tbody>\n",
       "    <tr>\n",
       "      <th>bar</th>\n",
       "      <td>-0.458032</td>\n",
       "      <td>0.512490</td>\n",
       "    </tr>\n",
       "    <tr>\n",
       "      <th>foo</th>\n",
       "      <td>1.110148</td>\n",
       "      <td>-0.639871</td>\n",
       "    </tr>\n",
       "  </tbody>\n",
       "</table>\n",
       "</div>"
      ],
      "text/plain": [
       "            C         D\n",
       "A                      \n",
       "bar -0.458032  0.512490\n",
       "foo  1.110148 -0.639871"
      ]
     },
     "execution_count": 70,
     "metadata": {},
     "output_type": "execute_result"
    }
   ],
   "source": [
    "#df를 그룹화한 후 각 그룹에 sum()함수 적용\n",
    "df.groupby('A').sum()"
   ]
  },
  {
   "cell_type": "code",
   "execution_count": 71,
   "id": "5b5cc93d",
   "metadata": {},
   "outputs": [
    {
     "data": {
      "text/html": [
       "<div>\n",
       "<style scoped>\n",
       "    .dataframe tbody tr th:only-of-type {\n",
       "        vertical-align: middle;\n",
       "    }\n",
       "\n",
       "    .dataframe tbody tr th {\n",
       "        vertical-align: top;\n",
       "    }\n",
       "\n",
       "    .dataframe thead th {\n",
       "        text-align: right;\n",
       "    }\n",
       "</style>\n",
       "<table border=\"1\" class=\"dataframe\">\n",
       "  <thead>\n",
       "    <tr style=\"text-align: right;\">\n",
       "      <th></th>\n",
       "      <th></th>\n",
       "      <th>C</th>\n",
       "      <th>D</th>\n",
       "    </tr>\n",
       "    <tr>\n",
       "      <th>A</th>\n",
       "      <th>B</th>\n",
       "      <th></th>\n",
       "      <th></th>\n",
       "    </tr>\n",
       "  </thead>\n",
       "  <tbody>\n",
       "    <tr>\n",
       "      <th rowspan=\"3\" valign=\"top\">bar</th>\n",
       "      <th>one</th>\n",
       "      <td>-0.327449</td>\n",
       "      <td>0.243481</td>\n",
       "    </tr>\n",
       "    <tr>\n",
       "      <th>three</th>\n",
       "      <td>-0.544932</td>\n",
       "      <td>-0.709343</td>\n",
       "    </tr>\n",
       "    <tr>\n",
       "      <th>two</th>\n",
       "      <td>0.414348</td>\n",
       "      <td>0.978352</td>\n",
       "    </tr>\n",
       "    <tr>\n",
       "      <th rowspan=\"3\" valign=\"top\">foo</th>\n",
       "      <th>one</th>\n",
       "      <td>0.902202</td>\n",
       "      <td>1.390619</td>\n",
       "    </tr>\n",
       "    <tr>\n",
       "      <th>three</th>\n",
       "      <td>1.833332</td>\n",
       "      <td>0.307490</td>\n",
       "    </tr>\n",
       "    <tr>\n",
       "      <th>two</th>\n",
       "      <td>-1.625386</td>\n",
       "      <td>-2.337979</td>\n",
       "    </tr>\n",
       "  </tbody>\n",
       "</table>\n",
       "</div>"
      ],
      "text/plain": [
       "                  C         D\n",
       "A   B                        \n",
       "bar one   -0.327449  0.243481\n",
       "    three -0.544932 -0.709343\n",
       "    two    0.414348  0.978352\n",
       "foo one    0.902202  1.390619\n",
       "    three  1.833332  0.307490\n",
       "    two   -1.625386 -2.337979"
      ]
     },
     "execution_count": 71,
     "metadata": {},
     "output_type": "execute_result"
    }
   ],
   "source": [
    "#여러 열을 그룹화하면 계층적 인덱스 형성\n",
    "df.groupby(['A','B']).sum()"
   ]
  },
  {
   "cell_type": "markdown",
   "id": "10948ef0",
   "metadata": {},
   "source": [
    "8.Reshaping (변형)"
   ]
  },
  {
   "cell_type": "code",
   "execution_count": 72,
   "id": "5440a803",
   "metadata": {},
   "outputs": [
    {
     "data": {
      "text/plain": [
       "[('bar', 'one'),\n",
       " ('bar', 'two'),\n",
       " ('baz', 'one'),\n",
       " ('baz', 'two'),\n",
       " ('foo', 'one'),\n",
       " ('foo', 'two'),\n",
       " ('qux', 'one'),\n",
       " ('qux', 'two')]"
      ]
     },
     "execution_count": 72,
     "metadata": {},
     "output_type": "execute_result"
    }
   ],
   "source": [
    "#Stack (스택)\n",
    "tuples = list(zip(*[['bar', 'bar', 'baz', 'baz',\n",
    "                     'foo', 'foo', 'qux', 'qux'],\n",
    "                    ['one', 'two', 'one', 'two',\n",
    "                     'one', 'two', 'one', 'two']]))\n",
    "tuples"
   ]
  },
  {
   "cell_type": "code",
   "execution_count": 73,
   "id": "1932404f",
   "metadata": {},
   "outputs": [
    {
     "data": {
      "text/plain": [
       "MultiIndex([('bar', 'one'),\n",
       "            ('bar', 'two'),\n",
       "            ('baz', 'one'),\n",
       "            ('baz', 'two'),\n",
       "            ('foo', 'one'),\n",
       "            ('foo', 'two'),\n",
       "            ('qux', 'one'),\n",
       "            ('qux', 'two')],\n",
       "           names=['first', 'second'])"
      ]
     },
     "execution_count": 73,
     "metadata": {},
     "output_type": "execute_result"
    }
   ],
   "source": [
    "index = pd.MultiIndex.from_tuples(tuples, name=['first','second'])\n",
    "index"
   ]
  },
  {
   "cell_type": "code",
   "execution_count": 74,
   "id": "465fdd3b",
   "metadata": {},
   "outputs": [
    {
     "data": {
      "text/html": [
       "<div>\n",
       "<style scoped>\n",
       "    .dataframe tbody tr th:only-of-type {\n",
       "        vertical-align: middle;\n",
       "    }\n",
       "\n",
       "    .dataframe tbody tr th {\n",
       "        vertical-align: top;\n",
       "    }\n",
       "\n",
       "    .dataframe thead th {\n",
       "        text-align: right;\n",
       "    }\n",
       "</style>\n",
       "<table border=\"1\" class=\"dataframe\">\n",
       "  <thead>\n",
       "    <tr style=\"text-align: right;\">\n",
       "      <th></th>\n",
       "      <th></th>\n",
       "      <th>A</th>\n",
       "      <th>B</th>\n",
       "    </tr>\n",
       "    <tr>\n",
       "      <th>first</th>\n",
       "      <th>second</th>\n",
       "      <th></th>\n",
       "      <th></th>\n",
       "    </tr>\n",
       "  </thead>\n",
       "  <tbody>\n",
       "    <tr>\n",
       "      <th rowspan=\"2\" valign=\"top\">bar</th>\n",
       "      <th>one</th>\n",
       "      <td>-0.280307</td>\n",
       "      <td>1.220721</td>\n",
       "    </tr>\n",
       "    <tr>\n",
       "      <th>two</th>\n",
       "      <td>-0.190465</td>\n",
       "      <td>-0.152819</td>\n",
       "    </tr>\n",
       "    <tr>\n",
       "      <th rowspan=\"2\" valign=\"top\">baz</th>\n",
       "      <th>one</th>\n",
       "      <td>-2.922066</td>\n",
       "      <td>0.934475</td>\n",
       "    </tr>\n",
       "    <tr>\n",
       "      <th>two</th>\n",
       "      <td>0.300386</td>\n",
       "      <td>1.425845</td>\n",
       "    </tr>\n",
       "    <tr>\n",
       "      <th rowspan=\"2\" valign=\"top\">foo</th>\n",
       "      <th>one</th>\n",
       "      <td>2.523525</td>\n",
       "      <td>-0.586948</td>\n",
       "    </tr>\n",
       "    <tr>\n",
       "      <th>two</th>\n",
       "      <td>-0.906697</td>\n",
       "      <td>1.117783</td>\n",
       "    </tr>\n",
       "    <tr>\n",
       "      <th rowspan=\"2\" valign=\"top\">qux</th>\n",
       "      <th>one</th>\n",
       "      <td>0.252760</td>\n",
       "      <td>1.908191</td>\n",
       "    </tr>\n",
       "    <tr>\n",
       "      <th>two</th>\n",
       "      <td>0.222007</td>\n",
       "      <td>1.027573</td>\n",
       "    </tr>\n",
       "  </tbody>\n",
       "</table>\n",
       "</div>"
      ],
      "text/plain": [
       "                     A         B\n",
       "first second                    \n",
       "bar   one    -0.280307  1.220721\n",
       "      two    -0.190465 -0.152819\n",
       "baz   one    -2.922066  0.934475\n",
       "      two     0.300386  1.425845\n",
       "foo   one     2.523525 -0.586948\n",
       "      two    -0.906697  1.117783\n",
       "qux   one     0.252760  1.908191\n",
       "      two     0.222007  1.027573"
      ]
     },
     "execution_count": 74,
     "metadata": {},
     "output_type": "execute_result"
    }
   ],
   "source": [
    "df = pd.DataFrame(np.random.randn(8,2),\n",
    "                 index=index, columns=['A','B'])\n",
    "df"
   ]
  },
  {
   "cell_type": "code",
   "execution_count": 75,
   "id": "129379a9",
   "metadata": {},
   "outputs": [
    {
     "data": {
      "text/html": [
       "<div>\n",
       "<style scoped>\n",
       "    .dataframe tbody tr th:only-of-type {\n",
       "        vertical-align: middle;\n",
       "    }\n",
       "\n",
       "    .dataframe tbody tr th {\n",
       "        vertical-align: top;\n",
       "    }\n",
       "\n",
       "    .dataframe thead th {\n",
       "        text-align: right;\n",
       "    }\n",
       "</style>\n",
       "<table border=\"1\" class=\"dataframe\">\n",
       "  <thead>\n",
       "    <tr style=\"text-align: right;\">\n",
       "      <th></th>\n",
       "      <th></th>\n",
       "      <th>A</th>\n",
       "      <th>B</th>\n",
       "    </tr>\n",
       "    <tr>\n",
       "      <th>first</th>\n",
       "      <th>second</th>\n",
       "      <th></th>\n",
       "      <th></th>\n",
       "    </tr>\n",
       "  </thead>\n",
       "  <tbody>\n",
       "    <tr>\n",
       "      <th rowspan=\"2\" valign=\"top\">bar</th>\n",
       "      <th>one</th>\n",
       "      <td>-0.280307</td>\n",
       "      <td>1.220721</td>\n",
       "    </tr>\n",
       "    <tr>\n",
       "      <th>two</th>\n",
       "      <td>-0.190465</td>\n",
       "      <td>-0.152819</td>\n",
       "    </tr>\n",
       "    <tr>\n",
       "      <th rowspan=\"2\" valign=\"top\">baz</th>\n",
       "      <th>one</th>\n",
       "      <td>-2.922066</td>\n",
       "      <td>0.934475</td>\n",
       "    </tr>\n",
       "    <tr>\n",
       "      <th>two</th>\n",
       "      <td>0.300386</td>\n",
       "      <td>1.425845</td>\n",
       "    </tr>\n",
       "  </tbody>\n",
       "</table>\n",
       "</div>"
      ],
      "text/plain": [
       "                     A         B\n",
       "first second                    \n",
       "bar   one    -0.280307  1.220721\n",
       "      two    -0.190465 -0.152819\n",
       "baz   one    -2.922066  0.934475\n",
       "      two     0.300386  1.425845"
      ]
     },
     "execution_count": 75,
     "metadata": {},
     "output_type": "execute_result"
    }
   ],
   "source": [
    "df2 = df[:4]\n",
    "df2"
   ]
  },
  {
   "cell_type": "code",
   "execution_count": 76,
   "id": "62c7723c",
   "metadata": {},
   "outputs": [
    {
     "data": {
      "text/plain": [
       "first  second   \n",
       "bar    one     A   -0.280307\n",
       "               B    1.220721\n",
       "       two     A   -0.190465\n",
       "               B   -0.152819\n",
       "baz    one     A   -2.922066\n",
       "               B    0.934475\n",
       "       two     A    0.300386\n",
       "               B    1.425845\n",
       "dtype: float64"
      ]
     },
     "execution_count": 76,
     "metadata": {},
     "output_type": "execute_result"
    }
   ],
   "source": [
    "#stack() 메소드는 df 열들의 계층을 압축한다.\n",
    "stacked = df2.stack()\n",
    "stacked"
   ]
  },
  {
   "cell_type": "code",
   "execution_count": 77,
   "id": "e29ba1c9",
   "metadata": {},
   "outputs": [
    {
     "data": {
      "text/html": [
       "<div>\n",
       "<style scoped>\n",
       "    .dataframe tbody tr th:only-of-type {\n",
       "        vertical-align: middle;\n",
       "    }\n",
       "\n",
       "    .dataframe tbody tr th {\n",
       "        vertical-align: top;\n",
       "    }\n",
       "\n",
       "    .dataframe thead th {\n",
       "        text-align: right;\n",
       "    }\n",
       "</style>\n",
       "<table border=\"1\" class=\"dataframe\">\n",
       "  <thead>\n",
       "    <tr style=\"text-align: right;\">\n",
       "      <th></th>\n",
       "      <th></th>\n",
       "      <th>A</th>\n",
       "      <th>B</th>\n",
       "    </tr>\n",
       "    <tr>\n",
       "      <th>first</th>\n",
       "      <th>second</th>\n",
       "      <th></th>\n",
       "      <th></th>\n",
       "    </tr>\n",
       "  </thead>\n",
       "  <tbody>\n",
       "    <tr>\n",
       "      <th rowspan=\"2\" valign=\"top\">bar</th>\n",
       "      <th>one</th>\n",
       "      <td>-0.280307</td>\n",
       "      <td>1.220721</td>\n",
       "    </tr>\n",
       "    <tr>\n",
       "      <th>two</th>\n",
       "      <td>-0.190465</td>\n",
       "      <td>-0.152819</td>\n",
       "    </tr>\n",
       "    <tr>\n",
       "      <th rowspan=\"2\" valign=\"top\">baz</th>\n",
       "      <th>one</th>\n",
       "      <td>-2.922066</td>\n",
       "      <td>0.934475</td>\n",
       "    </tr>\n",
       "    <tr>\n",
       "      <th>two</th>\n",
       "      <td>0.300386</td>\n",
       "      <td>1.425845</td>\n",
       "    </tr>\n",
       "  </tbody>\n",
       "</table>\n",
       "</div>"
      ],
      "text/plain": [
       "                     A         B\n",
       "first second                    \n",
       "bar   one    -0.280307  1.220721\n",
       "      two    -0.190465 -0.152819\n",
       "baz   one    -2.922066  0.934475\n",
       "      two     0.300386  1.425845"
      ]
     },
     "execution_count": 77,
     "metadata": {},
     "output_type": "execute_result"
    }
   ],
   "source": [
    "#Stack된 df 또는 Multiindex를 인덱스로 사용하는 Series의 경우,\n",
    "#stack()의 역 연산은 unstack()이며, 마지막 계층을 unstack함.\n",
    "stacked.unstack()"
   ]
  },
  {
   "cell_type": "code",
   "execution_count": 78,
   "id": "c6f3ad1a",
   "metadata": {},
   "outputs": [
    {
     "data": {
      "text/html": [
       "<div>\n",
       "<style scoped>\n",
       "    .dataframe tbody tr th:only-of-type {\n",
       "        vertical-align: middle;\n",
       "    }\n",
       "\n",
       "    .dataframe tbody tr th {\n",
       "        vertical-align: top;\n",
       "    }\n",
       "\n",
       "    .dataframe thead th {\n",
       "        text-align: right;\n",
       "    }\n",
       "</style>\n",
       "<table border=\"1\" class=\"dataframe\">\n",
       "  <thead>\n",
       "    <tr style=\"text-align: right;\">\n",
       "      <th></th>\n",
       "      <th>second</th>\n",
       "      <th>one</th>\n",
       "      <th>two</th>\n",
       "    </tr>\n",
       "    <tr>\n",
       "      <th>first</th>\n",
       "      <th></th>\n",
       "      <th></th>\n",
       "      <th></th>\n",
       "    </tr>\n",
       "  </thead>\n",
       "  <tbody>\n",
       "    <tr>\n",
       "      <th rowspan=\"2\" valign=\"top\">bar</th>\n",
       "      <th>A</th>\n",
       "      <td>-0.280307</td>\n",
       "      <td>-0.190465</td>\n",
       "    </tr>\n",
       "    <tr>\n",
       "      <th>B</th>\n",
       "      <td>1.220721</td>\n",
       "      <td>-0.152819</td>\n",
       "    </tr>\n",
       "    <tr>\n",
       "      <th rowspan=\"2\" valign=\"top\">baz</th>\n",
       "      <th>A</th>\n",
       "      <td>-2.922066</td>\n",
       "      <td>0.300386</td>\n",
       "    </tr>\n",
       "    <tr>\n",
       "      <th>B</th>\n",
       "      <td>0.934475</td>\n",
       "      <td>1.425845</td>\n",
       "    </tr>\n",
       "  </tbody>\n",
       "</table>\n",
       "</div>"
      ],
      "text/plain": [
       "second        one       two\n",
       "first                      \n",
       "bar   A -0.280307 -0.190465\n",
       "      B  1.220721 -0.152819\n",
       "baz   A -2.922066  0.300386\n",
       "      B  0.934475  1.425845"
      ]
     },
     "execution_count": 78,
     "metadata": {},
     "output_type": "execute_result"
    }
   ],
   "source": [
    "stacked.unstack(1)"
   ]
  },
  {
   "cell_type": "code",
   "execution_count": 79,
   "id": "4b304ea2",
   "metadata": {},
   "outputs": [
    {
     "data": {
      "text/html": [
       "<div>\n",
       "<style scoped>\n",
       "    .dataframe tbody tr th:only-of-type {\n",
       "        vertical-align: middle;\n",
       "    }\n",
       "\n",
       "    .dataframe tbody tr th {\n",
       "        vertical-align: top;\n",
       "    }\n",
       "\n",
       "    .dataframe thead th {\n",
       "        text-align: right;\n",
       "    }\n",
       "</style>\n",
       "<table border=\"1\" class=\"dataframe\">\n",
       "  <thead>\n",
       "    <tr style=\"text-align: right;\">\n",
       "      <th></th>\n",
       "      <th>first</th>\n",
       "      <th>bar</th>\n",
       "      <th>baz</th>\n",
       "    </tr>\n",
       "    <tr>\n",
       "      <th>second</th>\n",
       "      <th></th>\n",
       "      <th></th>\n",
       "      <th></th>\n",
       "    </tr>\n",
       "  </thead>\n",
       "  <tbody>\n",
       "    <tr>\n",
       "      <th rowspan=\"2\" valign=\"top\">one</th>\n",
       "      <th>A</th>\n",
       "      <td>-0.280307</td>\n",
       "      <td>-2.922066</td>\n",
       "    </tr>\n",
       "    <tr>\n",
       "      <th>B</th>\n",
       "      <td>1.220721</td>\n",
       "      <td>0.934475</td>\n",
       "    </tr>\n",
       "    <tr>\n",
       "      <th rowspan=\"2\" valign=\"top\">two</th>\n",
       "      <th>A</th>\n",
       "      <td>-0.190465</td>\n",
       "      <td>0.300386</td>\n",
       "    </tr>\n",
       "    <tr>\n",
       "      <th>B</th>\n",
       "      <td>-0.152819</td>\n",
       "      <td>1.425845</td>\n",
       "    </tr>\n",
       "  </tbody>\n",
       "</table>\n",
       "</div>"
      ],
      "text/plain": [
       "first          bar       baz\n",
       "second                      \n",
       "one    A -0.280307 -2.922066\n",
       "       B  1.220721  0.934475\n",
       "two    A -0.190465  0.300386\n",
       "       B -0.152819  1.425845"
      ]
     },
     "execution_count": 79,
     "metadata": {},
     "output_type": "execute_result"
    }
   ],
   "source": [
    "stacked.unstack(0)"
   ]
  },
  {
   "cell_type": "code",
   "execution_count": 80,
   "id": "c3ea30de",
   "metadata": {
    "scrolled": true
   },
   "outputs": [
    {
     "data": {
      "text/html": [
       "<div>\n",
       "<style scoped>\n",
       "    .dataframe tbody tr th:only-of-type {\n",
       "        vertical-align: middle;\n",
       "    }\n",
       "\n",
       "    .dataframe tbody tr th {\n",
       "        vertical-align: top;\n",
       "    }\n",
       "\n",
       "    .dataframe thead th {\n",
       "        text-align: right;\n",
       "    }\n",
       "</style>\n",
       "<table border=\"1\" class=\"dataframe\">\n",
       "  <thead>\n",
       "    <tr style=\"text-align: right;\">\n",
       "      <th></th>\n",
       "      <th>A</th>\n",
       "      <th>B</th>\n",
       "      <th>C</th>\n",
       "      <th>D</th>\n",
       "      <th>E</th>\n",
       "    </tr>\n",
       "  </thead>\n",
       "  <tbody>\n",
       "    <tr>\n",
       "      <th>0</th>\n",
       "      <td>one</td>\n",
       "      <td>A</td>\n",
       "      <td>foo</td>\n",
       "      <td>-0.568063</td>\n",
       "      <td>-0.768761</td>\n",
       "    </tr>\n",
       "    <tr>\n",
       "      <th>1</th>\n",
       "      <td>one</td>\n",
       "      <td>B</td>\n",
       "      <td>foo</td>\n",
       "      <td>-0.025129</td>\n",
       "      <td>-0.638961</td>\n",
       "    </tr>\n",
       "    <tr>\n",
       "      <th>2</th>\n",
       "      <td>two</td>\n",
       "      <td>C</td>\n",
       "      <td>foo</td>\n",
       "      <td>-0.780195</td>\n",
       "      <td>-0.152214</td>\n",
       "    </tr>\n",
       "    <tr>\n",
       "      <th>3</th>\n",
       "      <td>three</td>\n",
       "      <td>A</td>\n",
       "      <td>bar</td>\n",
       "      <td>-1.169795</td>\n",
       "      <td>-0.014012</td>\n",
       "    </tr>\n",
       "    <tr>\n",
       "      <th>4</th>\n",
       "      <td>one</td>\n",
       "      <td>B</td>\n",
       "      <td>bar</td>\n",
       "      <td>0.033207</td>\n",
       "      <td>-1.328095</td>\n",
       "    </tr>\n",
       "    <tr>\n",
       "      <th>5</th>\n",
       "      <td>one</td>\n",
       "      <td>C</td>\n",
       "      <td>bar</td>\n",
       "      <td>1.102052</td>\n",
       "      <td>-0.544904</td>\n",
       "    </tr>\n",
       "    <tr>\n",
       "      <th>6</th>\n",
       "      <td>two</td>\n",
       "      <td>A</td>\n",
       "      <td>foo</td>\n",
       "      <td>0.827531</td>\n",
       "      <td>-0.242090</td>\n",
       "    </tr>\n",
       "    <tr>\n",
       "      <th>7</th>\n",
       "      <td>three</td>\n",
       "      <td>B</td>\n",
       "      <td>foo</td>\n",
       "      <td>1.091265</td>\n",
       "      <td>-1.183577</td>\n",
       "    </tr>\n",
       "    <tr>\n",
       "      <th>8</th>\n",
       "      <td>one</td>\n",
       "      <td>C</td>\n",
       "      <td>foo</td>\n",
       "      <td>-0.489495</td>\n",
       "      <td>-0.235907</td>\n",
       "    </tr>\n",
       "    <tr>\n",
       "      <th>9</th>\n",
       "      <td>one</td>\n",
       "      <td>A</td>\n",
       "      <td>bar</td>\n",
       "      <td>0.095718</td>\n",
       "      <td>-0.505408</td>\n",
       "    </tr>\n",
       "    <tr>\n",
       "      <th>10</th>\n",
       "      <td>two</td>\n",
       "      <td>B</td>\n",
       "      <td>bar</td>\n",
       "      <td>-1.166311</td>\n",
       "      <td>-0.928235</td>\n",
       "    </tr>\n",
       "    <tr>\n",
       "      <th>11</th>\n",
       "      <td>three</td>\n",
       "      <td>C</td>\n",
       "      <td>bar</td>\n",
       "      <td>-0.458202</td>\n",
       "      <td>0.388611</td>\n",
       "    </tr>\n",
       "  </tbody>\n",
       "</table>\n",
       "</div>"
      ],
      "text/plain": [
       "        A  B    C         D         E\n",
       "0     one  A  foo -0.568063 -0.768761\n",
       "1     one  B  foo -0.025129 -0.638961\n",
       "2     two  C  foo -0.780195 -0.152214\n",
       "3   three  A  bar -1.169795 -0.014012\n",
       "4     one  B  bar  0.033207 -1.328095\n",
       "5     one  C  bar  1.102052 -0.544904\n",
       "6     two  A  foo  0.827531 -0.242090\n",
       "7   three  B  foo  1.091265 -1.183577\n",
       "8     one  C  foo -0.489495 -0.235907\n",
       "9     one  A  bar  0.095718 -0.505408\n",
       "10    two  B  bar -1.166311 -0.928235\n",
       "11  three  C  bar -0.458202  0.388611"
      ]
     },
     "execution_count": 80,
     "metadata": {},
     "output_type": "execute_result"
    }
   ],
   "source": [
    "#Pivot Tables (피봇 테이블)\n",
    "df = pd.DataFrame({'A' : ['one', 'one', 'two', 'three'] * 3,\n",
    "                   'B' : ['A', 'B', 'C'] * 4,\n",
    "                   'C' : ['foo', 'foo', 'foo', 'bar', 'bar', 'bar'] * 2,\n",
    "                   'D' : np.random.randn(12),\n",
    "                   'E' : np.random.randn(12)})\n",
    "df"
   ]
  },
  {
   "cell_type": "code",
   "execution_count": 81,
   "id": "2fbb4069",
   "metadata": {},
   "outputs": [
    {
     "data": {
      "text/html": [
       "<div>\n",
       "<style scoped>\n",
       "    .dataframe tbody tr th:only-of-type {\n",
       "        vertical-align: middle;\n",
       "    }\n",
       "\n",
       "    .dataframe tbody tr th {\n",
       "        vertical-align: top;\n",
       "    }\n",
       "\n",
       "    .dataframe thead th {\n",
       "        text-align: right;\n",
       "    }\n",
       "</style>\n",
       "<table border=\"1\" class=\"dataframe\">\n",
       "  <thead>\n",
       "    <tr style=\"text-align: right;\">\n",
       "      <th></th>\n",
       "      <th>C</th>\n",
       "      <th>bar</th>\n",
       "      <th>foo</th>\n",
       "    </tr>\n",
       "    <tr>\n",
       "      <th>A</th>\n",
       "      <th>B</th>\n",
       "      <th></th>\n",
       "      <th></th>\n",
       "    </tr>\n",
       "  </thead>\n",
       "  <tbody>\n",
       "    <tr>\n",
       "      <th rowspan=\"3\" valign=\"top\">one</th>\n",
       "      <th>A</th>\n",
       "      <td>0.095718</td>\n",
       "      <td>-0.568063</td>\n",
       "    </tr>\n",
       "    <tr>\n",
       "      <th>B</th>\n",
       "      <td>0.033207</td>\n",
       "      <td>-0.025129</td>\n",
       "    </tr>\n",
       "    <tr>\n",
       "      <th>C</th>\n",
       "      <td>1.102052</td>\n",
       "      <td>-0.489495</td>\n",
       "    </tr>\n",
       "    <tr>\n",
       "      <th rowspan=\"3\" valign=\"top\">three</th>\n",
       "      <th>A</th>\n",
       "      <td>-1.169795</td>\n",
       "      <td>NaN</td>\n",
       "    </tr>\n",
       "    <tr>\n",
       "      <th>B</th>\n",
       "      <td>NaN</td>\n",
       "      <td>1.091265</td>\n",
       "    </tr>\n",
       "    <tr>\n",
       "      <th>C</th>\n",
       "      <td>-0.458202</td>\n",
       "      <td>NaN</td>\n",
       "    </tr>\n",
       "    <tr>\n",
       "      <th rowspan=\"3\" valign=\"top\">two</th>\n",
       "      <th>A</th>\n",
       "      <td>NaN</td>\n",
       "      <td>0.827531</td>\n",
       "    </tr>\n",
       "    <tr>\n",
       "      <th>B</th>\n",
       "      <td>-1.166311</td>\n",
       "      <td>NaN</td>\n",
       "    </tr>\n",
       "    <tr>\n",
       "      <th>C</th>\n",
       "      <td>NaN</td>\n",
       "      <td>-0.780195</td>\n",
       "    </tr>\n",
       "  </tbody>\n",
       "</table>\n",
       "</div>"
      ],
      "text/plain": [
       "C             bar       foo\n",
       "A     B                    \n",
       "one   A  0.095718 -0.568063\n",
       "      B  0.033207 -0.025129\n",
       "      C  1.102052 -0.489495\n",
       "three A -1.169795       NaN\n",
       "      B       NaN  1.091265\n",
       "      C -0.458202       NaN\n",
       "two   A       NaN  0.827531\n",
       "      B -1.166311       NaN\n",
       "      C       NaN -0.780195"
      ]
     },
     "execution_count": 81,
     "metadata": {},
     "output_type": "execute_result"
    }
   ],
   "source": [
    "pd.pivot_table(df, values='D', index=['A','B'], columns=['C'])"
   ]
  },
  {
   "cell_type": "markdown",
   "id": "69543e46",
   "metadata": {},
   "source": [
    "9. Time Series (시계열)"
   ]
  },
  {
   "cell_type": "code",
   "execution_count": 82,
   "id": "465e3aa4",
   "metadata": {},
   "outputs": [
    {
     "data": {
      "text/plain": [
       "DatetimeIndex(['2012-01-01 00:00:00', '2012-01-01 00:00:01',\n",
       "               '2012-01-01 00:00:02', '2012-01-01 00:00:03',\n",
       "               '2012-01-01 00:00:04', '2012-01-01 00:00:05',\n",
       "               '2012-01-01 00:00:06', '2012-01-01 00:00:07',\n",
       "               '2012-01-01 00:00:08', '2012-01-01 00:00:09',\n",
       "               '2012-01-01 00:00:10', '2012-01-01 00:00:11',\n",
       "               '2012-01-01 00:00:12', '2012-01-01 00:00:13',\n",
       "               '2012-01-01 00:00:14', '2012-01-01 00:00:15',\n",
       "               '2012-01-01 00:00:16', '2012-01-01 00:00:17',\n",
       "               '2012-01-01 00:00:18', '2012-01-01 00:00:19',\n",
       "               '2012-01-01 00:00:20', '2012-01-01 00:00:21',\n",
       "               '2012-01-01 00:00:22', '2012-01-01 00:00:23',\n",
       "               '2012-01-01 00:00:24', '2012-01-01 00:00:25',\n",
       "               '2012-01-01 00:00:26', '2012-01-01 00:00:27',\n",
       "               '2012-01-01 00:00:28', '2012-01-01 00:00:29',\n",
       "               '2012-01-01 00:00:30', '2012-01-01 00:00:31',\n",
       "               '2012-01-01 00:00:32', '2012-01-01 00:00:33',\n",
       "               '2012-01-01 00:00:34', '2012-01-01 00:00:35',\n",
       "               '2012-01-01 00:00:36', '2012-01-01 00:00:37',\n",
       "               '2012-01-01 00:00:38', '2012-01-01 00:00:39',\n",
       "               '2012-01-01 00:00:40', '2012-01-01 00:00:41',\n",
       "               '2012-01-01 00:00:42', '2012-01-01 00:00:43',\n",
       "               '2012-01-01 00:00:44', '2012-01-01 00:00:45',\n",
       "               '2012-01-01 00:00:46', '2012-01-01 00:00:47',\n",
       "               '2012-01-01 00:00:48', '2012-01-01 00:00:49',\n",
       "               '2012-01-01 00:00:50', '2012-01-01 00:00:51',\n",
       "               '2012-01-01 00:00:52', '2012-01-01 00:00:53',\n",
       "               '2012-01-01 00:00:54', '2012-01-01 00:00:55',\n",
       "               '2012-01-01 00:00:56', '2012-01-01 00:00:57',\n",
       "               '2012-01-01 00:00:58', '2012-01-01 00:00:59',\n",
       "               '2012-01-01 00:01:00', '2012-01-01 00:01:01',\n",
       "               '2012-01-01 00:01:02', '2012-01-01 00:01:03',\n",
       "               '2012-01-01 00:01:04', '2012-01-01 00:01:05',\n",
       "               '2012-01-01 00:01:06', '2012-01-01 00:01:07',\n",
       "               '2012-01-01 00:01:08', '2012-01-01 00:01:09',\n",
       "               '2012-01-01 00:01:10', '2012-01-01 00:01:11',\n",
       "               '2012-01-01 00:01:12', '2012-01-01 00:01:13',\n",
       "               '2012-01-01 00:01:14', '2012-01-01 00:01:15',\n",
       "               '2012-01-01 00:01:16', '2012-01-01 00:01:17',\n",
       "               '2012-01-01 00:01:18', '2012-01-01 00:01:19',\n",
       "               '2012-01-01 00:01:20', '2012-01-01 00:01:21',\n",
       "               '2012-01-01 00:01:22', '2012-01-01 00:01:23',\n",
       "               '2012-01-01 00:01:24', '2012-01-01 00:01:25',\n",
       "               '2012-01-01 00:01:26', '2012-01-01 00:01:27',\n",
       "               '2012-01-01 00:01:28', '2012-01-01 00:01:29',\n",
       "               '2012-01-01 00:01:30', '2012-01-01 00:01:31',\n",
       "               '2012-01-01 00:01:32', '2012-01-01 00:01:33',\n",
       "               '2012-01-01 00:01:34', '2012-01-01 00:01:35',\n",
       "               '2012-01-01 00:01:36', '2012-01-01 00:01:37',\n",
       "               '2012-01-01 00:01:38', '2012-01-01 00:01:39'],\n",
       "              dtype='datetime64[ns]', freq='S')"
      ]
     },
     "execution_count": 82,
     "metadata": {},
     "output_type": "execute_result"
    }
   ],
   "source": [
    "rng = pd.date_range('1/1/2012', periods=100, freq='S')\n",
    "rng"
   ]
  },
  {
   "cell_type": "code",
   "execution_count": 83,
   "id": "25cd6697",
   "metadata": {},
   "outputs": [
    {
     "data": {
      "text/plain": [
       "2012-01-01 00:00:00    462\n",
       "2012-01-01 00:00:01    124\n",
       "2012-01-01 00:00:02     83\n",
       "2012-01-01 00:00:03     47\n",
       "2012-01-01 00:00:04    435\n",
       "                      ... \n",
       "2012-01-01 00:01:35    441\n",
       "2012-01-01 00:01:36    183\n",
       "2012-01-01 00:01:37    180\n",
       "2012-01-01 00:01:38    202\n",
       "2012-01-01 00:01:39    413\n",
       "Freq: S, Length: 100, dtype: int32"
      ]
     },
     "execution_count": 83,
     "metadata": {},
     "output_type": "execute_result"
    }
   ],
   "source": [
    "ts = pd.Series(np.random.randint(0, 500, len(rng)), index=rng)\n",
    "ts"
   ]
  },
  {
   "cell_type": "code",
   "execution_count": 84,
   "id": "dc22e1a4",
   "metadata": {},
   "outputs": [
    {
     "data": {
      "text/plain": [
       "2012-01-01    26809\n",
       "Freq: 5T, dtype: int32"
      ]
     },
     "execution_count": 84,
     "metadata": {},
     "output_type": "execute_result"
    }
   ],
   "source": [
    "ts.resample('5MIN').sum()"
   ]
  },
  {
   "cell_type": "code",
   "execution_count": 85,
   "id": "72823bda",
   "metadata": {},
   "outputs": [
    {
     "data": {
      "text/plain": [
       "DatetimeIndex(['2012-03-06', '2012-03-07', '2012-03-08', '2012-03-09',\n",
       "               '2012-03-10'],\n",
       "              dtype='datetime64[ns]', freq='D')"
      ]
     },
     "execution_count": 85,
     "metadata": {},
     "output_type": "execute_result"
    }
   ],
   "source": [
    "#시간대 표현\n",
    "rng = pd.date_range('3/6/2012 00:00', periods=5, freq='D')\n",
    "rng"
   ]
  },
  {
   "cell_type": "code",
   "execution_count": 86,
   "id": "5c2012e4",
   "metadata": {},
   "outputs": [
    {
     "data": {
      "text/plain": [
       "2012-03-06    0.394039\n",
       "2012-03-07    0.458543\n",
       "2012-03-08    0.741190\n",
       "2012-03-09    0.066941\n",
       "2012-03-10    0.936793\n",
       "Freq: D, dtype: float64"
      ]
     },
     "execution_count": 86,
     "metadata": {},
     "output_type": "execute_result"
    }
   ],
   "source": [
    "ts = pd.Series(np.random.randn(len(rng)), rng)\n",
    "ts"
   ]
  },
  {
   "cell_type": "code",
   "execution_count": 87,
   "id": "93ee4f2f",
   "metadata": {},
   "outputs": [
    {
     "data": {
      "text/plain": [
       "2012-03-06 00:00:00+00:00    0.394039\n",
       "2012-03-07 00:00:00+00:00    0.458543\n",
       "2012-03-08 00:00:00+00:00    0.741190\n",
       "2012-03-09 00:00:00+00:00    0.066941\n",
       "2012-03-10 00:00:00+00:00    0.936793\n",
       "Freq: D, dtype: float64"
      ]
     },
     "execution_count": 87,
     "metadata": {},
     "output_type": "execute_result"
    }
   ],
   "source": [
    "ts_utc = ts.tz_localize('UTC')\n",
    "ts_utc"
   ]
  },
  {
   "cell_type": "code",
   "execution_count": 88,
   "id": "b645e720",
   "metadata": {},
   "outputs": [
    {
     "data": {
      "text/plain": [
       "2012-03-05 19:00:00-05:00    0.394039\n",
       "2012-03-06 19:00:00-05:00    0.458543\n",
       "2012-03-07 19:00:00-05:00    0.741190\n",
       "2012-03-08 19:00:00-05:00    0.066941\n",
       "2012-03-09 19:00:00-05:00    0.936793\n",
       "Freq: D, dtype: float64"
      ]
     },
     "execution_count": 88,
     "metadata": {},
     "output_type": "execute_result"
    }
   ],
   "source": [
    "#다른 시간대로 변환\n",
    "ts_utc.tz_convert('US/Eastern')"
   ]
  },
  {
   "cell_type": "code",
   "execution_count": 89,
   "id": "6424eeae",
   "metadata": {},
   "outputs": [
    {
     "data": {
      "text/plain": [
       "DatetimeIndex(['2012-01-31', '2012-02-29', '2012-03-31', '2012-04-30',\n",
       "               '2012-05-31'],\n",
       "              dtype='datetime64[ns]', freq='M')"
      ]
     },
     "execution_count": 89,
     "metadata": {},
     "output_type": "execute_result"
    }
   ],
   "source": [
    "#시간표현을 기간표현으로 변환\n",
    "rng = pd.date_range('1/1/2012', periods=5, freq='M')\n",
    "rng"
   ]
  },
  {
   "cell_type": "code",
   "execution_count": 90,
   "id": "99bd54be",
   "metadata": {},
   "outputs": [
    {
     "data": {
      "text/plain": [
       "2012-01-31   -0.256050\n",
       "2012-02-29   -0.969653\n",
       "2012-03-31    0.488510\n",
       "2012-04-30   -0.934793\n",
       "2012-05-31    0.286762\n",
       "Freq: M, dtype: float64"
      ]
     },
     "execution_count": 90,
     "metadata": {},
     "output_type": "execute_result"
    }
   ],
   "source": [
    "ts = pd.Series(np.random.randn(len(rng)), index=rng)\n",
    "ts"
   ]
  },
  {
   "cell_type": "code",
   "execution_count": 91,
   "id": "378f8a9c",
   "metadata": {},
   "outputs": [
    {
     "data": {
      "text/plain": [
       "2012-01   -0.256050\n",
       "2012-02   -0.969653\n",
       "2012-03    0.488510\n",
       "2012-04   -0.934793\n",
       "2012-05    0.286762\n",
       "Freq: M, dtype: float64"
      ]
     },
     "execution_count": 91,
     "metadata": {},
     "output_type": "execute_result"
    }
   ],
   "source": [
    "ps = ts.to_period()\n",
    "ps"
   ]
  },
  {
   "cell_type": "code",
   "execution_count": 92,
   "id": "e580b613",
   "metadata": {},
   "outputs": [
    {
     "data": {
      "text/plain": [
       "2012-01-01   -0.256050\n",
       "2012-02-01   -0.969653\n",
       "2012-03-01    0.488510\n",
       "2012-04-01   -0.934793\n",
       "2012-05-01    0.286762\n",
       "Freq: MS, dtype: float64"
      ]
     },
     "execution_count": 92,
     "metadata": {},
     "output_type": "execute_result"
    }
   ],
   "source": [
    "ps.to_timestamp()"
   ]
  },
  {
   "cell_type": "code",
   "execution_count": 93,
   "id": "0ecf5b88",
   "metadata": {},
   "outputs": [
    {
     "data": {
      "text/plain": [
       "PeriodIndex(['1990Q1', '1990Q2', '1990Q3', '1990Q4', '1991Q1', '1991Q2',\n",
       "             '1991Q3', '1991Q4', '1992Q1', '1992Q2', '1992Q3', '1992Q4',\n",
       "             '1993Q1', '1993Q2', '1993Q3', '1993Q4', '1994Q1', '1994Q2',\n",
       "             '1994Q3', '1994Q4', '1995Q1', '1995Q2', '1995Q3', '1995Q4',\n",
       "             '1996Q1', '1996Q2', '1996Q3', '1996Q4', '1997Q1', '1997Q2',\n",
       "             '1997Q3', '1997Q4', '1998Q1', '1998Q2', '1998Q3', '1998Q4',\n",
       "             '1999Q1', '1999Q2', '1999Q3', '1999Q4', '2000Q1', '2000Q2',\n",
       "             '2000Q3', '2000Q4'],\n",
       "            dtype='period[Q-NOV]', freq='Q-NOV')"
      ]
     },
     "execution_count": 93,
     "metadata": {},
     "output_type": "execute_result"
    }
   ],
   "source": [
    "#예제: 11월에 끝나는 연말 결산의 분기별 빈도를\n",
    "#      분기말 익월의 월말인 오전 9시로 변환\n",
    "prng = pd.period_range('1990Q1', '2000Q4', freq='Q-NOV')\n",
    "prng"
   ]
  },
  {
   "cell_type": "code",
   "execution_count": 94,
   "id": "7acdaf6d",
   "metadata": {},
   "outputs": [
    {
     "data": {
      "text/plain": [
       "1990Q1   -0.507647\n",
       "1990Q2    2.491948\n",
       "1990Q3   -0.691313\n",
       "1990Q4   -1.124119\n",
       "1991Q1    0.027479\n",
       "1991Q2   -0.589705\n",
       "1991Q3    0.289666\n",
       "1991Q4    1.667744\n",
       "1992Q1    0.704327\n",
       "1992Q2   -0.321640\n",
       "1992Q3   -0.535240\n",
       "1992Q4    1.284501\n",
       "1993Q1   -0.825383\n",
       "1993Q2    1.194374\n",
       "1993Q3   -1.225190\n",
       "1993Q4   -1.142078\n",
       "1994Q1    0.187690\n",
       "1994Q2    1.790290\n",
       "1994Q3   -0.133579\n",
       "1994Q4    0.368062\n",
       "1995Q1    2.304614\n",
       "1995Q2    0.014994\n",
       "1995Q3    0.256172\n",
       "1995Q4   -0.586387\n",
       "1996Q1   -0.025689\n",
       "1996Q2   -0.100913\n",
       "1996Q3    0.357767\n",
       "1996Q4    0.893365\n",
       "1997Q1   -0.330360\n",
       "1997Q2   -1.557881\n",
       "1997Q3   -0.482089\n",
       "1997Q4   -1.295203\n",
       "1998Q1    1.022178\n",
       "1998Q2    0.208001\n",
       "1998Q3    0.235381\n",
       "1998Q4    0.093853\n",
       "1999Q1    1.968791\n",
       "1999Q2    1.626704\n",
       "1999Q3   -0.745838\n",
       "1999Q4    0.318937\n",
       "2000Q1    1.724546\n",
       "2000Q2   -0.765394\n",
       "2000Q3    0.012663\n",
       "2000Q4    0.603961\n",
       "Freq: Q-NOV, dtype: float64"
      ]
     },
     "execution_count": 94,
     "metadata": {},
     "output_type": "execute_result"
    }
   ],
   "source": [
    "ts = pd.Series(np.random.randn(len(prng)), prng)\n",
    "ts"
   ]
  },
  {
   "cell_type": "code",
   "execution_count": 95,
   "id": "488c2af4",
   "metadata": {},
   "outputs": [
    {
     "data": {
      "text/plain": [
       "PeriodIndex(['1990-03-01 09:00', '1990-06-01 09:00', '1990-09-01 09:00',\n",
       "             '1990-12-01 09:00', '1991-03-01 09:00', '1991-06-01 09:00',\n",
       "             '1991-09-01 09:00', '1991-12-01 09:00', '1992-03-01 09:00',\n",
       "             '1992-06-01 09:00', '1992-09-01 09:00', '1992-12-01 09:00',\n",
       "             '1993-03-01 09:00', '1993-06-01 09:00', '1993-09-01 09:00',\n",
       "             '1993-12-01 09:00', '1994-03-01 09:00', '1994-06-01 09:00',\n",
       "             '1994-09-01 09:00', '1994-12-01 09:00', '1995-03-01 09:00',\n",
       "             '1995-06-01 09:00', '1995-09-01 09:00', '1995-12-01 09:00',\n",
       "             '1996-03-01 09:00', '1996-06-01 09:00', '1996-09-01 09:00',\n",
       "             '1996-12-01 09:00', '1997-03-01 09:00', '1997-06-01 09:00',\n",
       "             '1997-09-01 09:00', '1997-12-01 09:00', '1998-03-01 09:00',\n",
       "             '1998-06-01 09:00', '1998-09-01 09:00', '1998-12-01 09:00',\n",
       "             '1999-03-01 09:00', '1999-06-01 09:00', '1999-09-01 09:00',\n",
       "             '1999-12-01 09:00', '2000-03-01 09:00', '2000-06-01 09:00',\n",
       "             '2000-09-01 09:00', '2000-12-01 09:00'],\n",
       "            dtype='period[H]', freq='H')"
      ]
     },
     "execution_count": 95,
     "metadata": {},
     "output_type": "execute_result"
    }
   ],
   "source": [
    "ts.index = (prng.asfreq('M','e') + 1).asfreq('H', 's') + 9\n",
    "ts.index"
   ]
  },
  {
   "cell_type": "code",
   "execution_count": 96,
   "id": "ecbe7b89",
   "metadata": {},
   "outputs": [
    {
     "data": {
      "text/plain": [
       "1990-03-01 09:00   -0.507647\n",
       "1990-06-01 09:00    2.491948\n",
       "1990-09-01 09:00   -0.691313\n",
       "1990-12-01 09:00   -1.124119\n",
       "1991-03-01 09:00    0.027479\n",
       "Freq: H, dtype: float64"
      ]
     },
     "execution_count": 96,
     "metadata": {},
     "output_type": "execute_result"
    }
   ],
   "source": [
    "ts.head()"
   ]
  },
  {
   "cell_type": "markdown",
   "id": "22ec0553",
   "metadata": {},
   "source": [
    "10. Categoricals (범주화)"
   ]
  },
  {
   "cell_type": "code",
   "execution_count": 97,
   "id": "689f13f2",
   "metadata": {},
   "outputs": [
    {
     "data": {
      "text/html": [
       "<div>\n",
       "<style scoped>\n",
       "    .dataframe tbody tr th:only-of-type {\n",
       "        vertical-align: middle;\n",
       "    }\n",
       "\n",
       "    .dataframe tbody tr th {\n",
       "        vertical-align: top;\n",
       "    }\n",
       "\n",
       "    .dataframe thead th {\n",
       "        text-align: right;\n",
       "    }\n",
       "</style>\n",
       "<table border=\"1\" class=\"dataframe\">\n",
       "  <thead>\n",
       "    <tr style=\"text-align: right;\">\n",
       "      <th></th>\n",
       "      <th>id</th>\n",
       "      <th>raw_grade</th>\n",
       "    </tr>\n",
       "  </thead>\n",
       "  <tbody>\n",
       "    <tr>\n",
       "      <th>0</th>\n",
       "      <td>1</td>\n",
       "      <td>a</td>\n",
       "    </tr>\n",
       "    <tr>\n",
       "      <th>1</th>\n",
       "      <td>2</td>\n",
       "      <td>b</td>\n",
       "    </tr>\n",
       "    <tr>\n",
       "      <th>2</th>\n",
       "      <td>3</td>\n",
       "      <td>b</td>\n",
       "    </tr>\n",
       "    <tr>\n",
       "      <th>3</th>\n",
       "      <td>4</td>\n",
       "      <td>a</td>\n",
       "    </tr>\n",
       "    <tr>\n",
       "      <th>4</th>\n",
       "      <td>5</td>\n",
       "      <td>a</td>\n",
       "    </tr>\n",
       "    <tr>\n",
       "      <th>5</th>\n",
       "      <td>6</td>\n",
       "      <td>e</td>\n",
       "    </tr>\n",
       "  </tbody>\n",
       "</table>\n",
       "</div>"
      ],
      "text/plain": [
       "   id raw_grade\n",
       "0   1         a\n",
       "1   2         b\n",
       "2   3         b\n",
       "3   4         a\n",
       "4   5         a\n",
       "5   6         e"
      ]
     },
     "execution_count": 97,
     "metadata": {},
     "output_type": "execute_result"
    }
   ],
   "source": [
    "df = pd.DataFrame({\"id\":[1,2,3,4,5,6], \"raw_grade\":['a', 'b', 'b', 'a', 'a', 'e']})\n",
    "df"
   ]
  },
  {
   "cell_type": "code",
   "execution_count": 98,
   "id": "14f78d33",
   "metadata": {},
   "outputs": [
    {
     "data": {
      "text/html": [
       "<div>\n",
       "<style scoped>\n",
       "    .dataframe tbody tr th:only-of-type {\n",
       "        vertical-align: middle;\n",
       "    }\n",
       "\n",
       "    .dataframe tbody tr th {\n",
       "        vertical-align: top;\n",
       "    }\n",
       "\n",
       "    .dataframe thead th {\n",
       "        text-align: right;\n",
       "    }\n",
       "</style>\n",
       "<table border=\"1\" class=\"dataframe\">\n",
       "  <thead>\n",
       "    <tr style=\"text-align: right;\">\n",
       "      <th></th>\n",
       "      <th>id</th>\n",
       "      <th>raw_grade</th>\n",
       "      <th>grade</th>\n",
       "    </tr>\n",
       "  </thead>\n",
       "  <tbody>\n",
       "    <tr>\n",
       "      <th>0</th>\n",
       "      <td>1</td>\n",
       "      <td>a</td>\n",
       "      <td>a</td>\n",
       "    </tr>\n",
       "    <tr>\n",
       "      <th>1</th>\n",
       "      <td>2</td>\n",
       "      <td>b</td>\n",
       "      <td>b</td>\n",
       "    </tr>\n",
       "    <tr>\n",
       "      <th>2</th>\n",
       "      <td>3</td>\n",
       "      <td>b</td>\n",
       "      <td>b</td>\n",
       "    </tr>\n",
       "    <tr>\n",
       "      <th>3</th>\n",
       "      <td>4</td>\n",
       "      <td>a</td>\n",
       "      <td>a</td>\n",
       "    </tr>\n",
       "    <tr>\n",
       "      <th>4</th>\n",
       "      <td>5</td>\n",
       "      <td>a</td>\n",
       "      <td>a</td>\n",
       "    </tr>\n",
       "    <tr>\n",
       "      <th>5</th>\n",
       "      <td>6</td>\n",
       "      <td>e</td>\n",
       "      <td>e</td>\n",
       "    </tr>\n",
       "  </tbody>\n",
       "</table>\n",
       "</div>"
      ],
      "text/plain": [
       "   id raw_grade grade\n",
       "0   1         a     a\n",
       "1   2         b     b\n",
       "2   3         b     b\n",
       "3   4         a     a\n",
       "4   5         a     a\n",
       "5   6         e     e"
      ]
     },
     "execution_count": 98,
     "metadata": {},
     "output_type": "execute_result"
    }
   ],
   "source": [
    "#가공하지 않은 성적을 범주형(category) 데이터로 변환\n",
    "df['grade'] = df['raw_grade'].astype('category')\n",
    "df"
   ]
  },
  {
   "cell_type": "code",
   "execution_count": 99,
   "id": "2e6b9051",
   "metadata": {},
   "outputs": [
    {
     "data": {
      "text/plain": [
       "0    very good\n",
       "1         good\n",
       "2         good\n",
       "3    very good\n",
       "4    very good\n",
       "5     very bad\n",
       "Name: grade, dtype: category\n",
       "Categories (3, object): ['very good', 'good', 'very bad']"
      ]
     },
     "execution_count": 99,
     "metadata": {},
     "output_type": "execute_result"
    }
   ],
   "source": [
    "#범주에 의미 있는 이름 짓기\n",
    "#(Series.cat.categories로 할당하는 것이 적합함.)\n",
    "df['grade'].cat.categories = [\"very good\", \"good\", \"very bad\"]\n",
    "df.grade"
   ]
  },
  {
   "cell_type": "code",
   "execution_count": 100,
   "id": "b4be581d",
   "metadata": {},
   "outputs": [
    {
     "data": {
      "text/plain": [
       "0    very good\n",
       "1         good\n",
       "2         good\n",
       "3    very good\n",
       "4    very good\n",
       "5     very bad\n",
       "Name: grade, dtype: category\n",
       "Categories (5, object): ['very bad', 'bad', 'medium', 'good', 'very good']"
      ]
     },
     "execution_count": 100,
     "metadata": {},
     "output_type": "execute_result"
    }
   ],
   "source": [
    "#범주의 순서를 바꾸고 동시에 누락된 범주를 추가함\n",
    "#(Series.cat에 속하는 메소드는 기본적으로 새로운 Series를 반환함.)\n",
    "df['grade'] = df['grade'].cat.set_categories(['very bad','bad','medium','good','very good'])\n",
    "df.grade"
   ]
  },
  {
   "cell_type": "code",
   "execution_count": 101,
   "id": "0e5e1966",
   "metadata": {},
   "outputs": [],
   "source": [
    "#정렬은 사전 순서가 아닌, 해당 범주에서 지정된 순으로 배열"
   ]
  },
  {
   "cell_type": "code",
   "execution_count": 102,
   "id": "00e467df",
   "metadata": {},
   "outputs": [
    {
     "data": {
      "text/html": [
       "<div>\n",
       "<style scoped>\n",
       "    .dataframe tbody tr th:only-of-type {\n",
       "        vertical-align: middle;\n",
       "    }\n",
       "\n",
       "    .dataframe tbody tr th {\n",
       "        vertical-align: top;\n",
       "    }\n",
       "\n",
       "    .dataframe thead th {\n",
       "        text-align: right;\n",
       "    }\n",
       "</style>\n",
       "<table border=\"1\" class=\"dataframe\">\n",
       "  <thead>\n",
       "    <tr style=\"text-align: right;\">\n",
       "      <th></th>\n",
       "      <th>id</th>\n",
       "      <th>raw_grade</th>\n",
       "      <th>grade</th>\n",
       "    </tr>\n",
       "  </thead>\n",
       "  <tbody>\n",
       "    <tr>\n",
       "      <th>0</th>\n",
       "      <td>1</td>\n",
       "      <td>a</td>\n",
       "      <td>very good</td>\n",
       "    </tr>\n",
       "    <tr>\n",
       "      <th>1</th>\n",
       "      <td>2</td>\n",
       "      <td>b</td>\n",
       "      <td>good</td>\n",
       "    </tr>\n",
       "    <tr>\n",
       "      <th>2</th>\n",
       "      <td>3</td>\n",
       "      <td>b</td>\n",
       "      <td>good</td>\n",
       "    </tr>\n",
       "    <tr>\n",
       "      <th>3</th>\n",
       "      <td>4</td>\n",
       "      <td>a</td>\n",
       "      <td>very good</td>\n",
       "    </tr>\n",
       "    <tr>\n",
       "      <th>4</th>\n",
       "      <td>5</td>\n",
       "      <td>a</td>\n",
       "      <td>very good</td>\n",
       "    </tr>\n",
       "    <tr>\n",
       "      <th>5</th>\n",
       "      <td>6</td>\n",
       "      <td>e</td>\n",
       "      <td>very bad</td>\n",
       "    </tr>\n",
       "  </tbody>\n",
       "</table>\n",
       "</div>"
      ],
      "text/plain": [
       "   id raw_grade      grade\n",
       "0   1         a  very good\n",
       "1   2         b       good\n",
       "2   3         b       good\n",
       "3   4         a  very good\n",
       "4   5         a  very good\n",
       "5   6         e   very bad"
      ]
     },
     "execution_count": 102,
     "metadata": {},
     "output_type": "execute_result"
    }
   ],
   "source": [
    "df"
   ]
  },
  {
   "cell_type": "code",
   "execution_count": 103,
   "id": "0df0d2a2",
   "metadata": {},
   "outputs": [
    {
     "data": {
      "text/html": [
       "<div>\n",
       "<style scoped>\n",
       "    .dataframe tbody tr th:only-of-type {\n",
       "        vertical-align: middle;\n",
       "    }\n",
       "\n",
       "    .dataframe tbody tr th {\n",
       "        vertical-align: top;\n",
       "    }\n",
       "\n",
       "    .dataframe thead th {\n",
       "        text-align: right;\n",
       "    }\n",
       "</style>\n",
       "<table border=\"1\" class=\"dataframe\">\n",
       "  <thead>\n",
       "    <tr style=\"text-align: right;\">\n",
       "      <th></th>\n",
       "      <th>id</th>\n",
       "      <th>raw_grade</th>\n",
       "      <th>grade</th>\n",
       "    </tr>\n",
       "  </thead>\n",
       "  <tbody>\n",
       "    <tr>\n",
       "      <th>5</th>\n",
       "      <td>6</td>\n",
       "      <td>e</td>\n",
       "      <td>very bad</td>\n",
       "    </tr>\n",
       "    <tr>\n",
       "      <th>1</th>\n",
       "      <td>2</td>\n",
       "      <td>b</td>\n",
       "      <td>good</td>\n",
       "    </tr>\n",
       "    <tr>\n",
       "      <th>2</th>\n",
       "      <td>3</td>\n",
       "      <td>b</td>\n",
       "      <td>good</td>\n",
       "    </tr>\n",
       "    <tr>\n",
       "      <th>0</th>\n",
       "      <td>1</td>\n",
       "      <td>a</td>\n",
       "      <td>very good</td>\n",
       "    </tr>\n",
       "    <tr>\n",
       "      <th>3</th>\n",
       "      <td>4</td>\n",
       "      <td>a</td>\n",
       "      <td>very good</td>\n",
       "    </tr>\n",
       "    <tr>\n",
       "      <th>4</th>\n",
       "      <td>5</td>\n",
       "      <td>a</td>\n",
       "      <td>very good</td>\n",
       "    </tr>\n",
       "  </tbody>\n",
       "</table>\n",
       "</div>"
      ],
      "text/plain": [
       "   id raw_grade      grade\n",
       "5   6         e   very bad\n",
       "1   2         b       good\n",
       "2   3         b       good\n",
       "0   1         a  very good\n",
       "3   4         a  very good\n",
       "4   5         a  very good"
      ]
     },
     "execution_count": 103,
     "metadata": {},
     "output_type": "execute_result"
    }
   ],
   "source": [
    "df.sort_values(by='grade')"
   ]
  },
  {
   "cell_type": "code",
   "execution_count": 104,
   "id": "b3e8b25e",
   "metadata": {},
   "outputs": [
    {
     "data": {
      "text/plain": [
       "grade\n",
       "very bad     1\n",
       "bad          0\n",
       "medium       0\n",
       "good         2\n",
       "very good    3\n",
       "dtype: int64"
      ]
     },
     "execution_count": 104,
     "metadata": {},
     "output_type": "execute_result"
    }
   ],
   "source": [
    "#범주의 열을 기준으로 그룹화하면 빈 범주도 표시됨.\n",
    "df.groupby('grade').size()"
   ]
  },
  {
   "cell_type": "markdown",
   "id": "b27e94f3",
   "metadata": {},
   "source": [
    "11. Plotting (그래프)\\\n",
    "참고: https://pandas.pydata.org/pandas-docs/stable/user_guide/visualization.html"
   ]
  },
  {
   "cell_type": "code",
   "execution_count": 105,
   "id": "208f0f93",
   "metadata": {
    "scrolled": true
   },
   "outputs": [
    {
     "data": {
      "text/plain": [
       "0     -0.892199\n",
       "1     -0.326370\n",
       "2     -0.471249\n",
       "3     -1.128505\n",
       "4     -0.918464\n",
       "         ...   \n",
       "995    0.275128\n",
       "996   -2.668392\n",
       "997    0.189688\n",
       "998    0.320869\n",
       "999    1.197404\n",
       "Length: 1000, dtype: float64"
      ]
     },
     "execution_count": 105,
     "metadata": {},
     "output_type": "execute_result"
    }
   ],
   "source": [
    "pd.Series(np.random.randn(1000))"
   ]
  },
  {
   "cell_type": "code",
   "execution_count": 106,
   "id": "ed4ec6de",
   "metadata": {},
   "outputs": [
    {
     "data": {
      "text/plain": [
       "DatetimeIndex(['2000-01-01', '2000-01-02', '2000-01-03', '2000-01-04',\n",
       "               '2000-01-05', '2000-01-06', '2000-01-07', '2000-01-08',\n",
       "               '2000-01-09', '2000-01-10',\n",
       "               ...\n",
       "               '2002-09-17', '2002-09-18', '2002-09-19', '2002-09-20',\n",
       "               '2002-09-21', '2002-09-22', '2002-09-23', '2002-09-24',\n",
       "               '2002-09-25', '2002-09-26'],\n",
       "              dtype='datetime64[ns]', length=1000, freq='D')"
      ]
     },
     "execution_count": 106,
     "metadata": {},
     "output_type": "execute_result"
    }
   ],
   "source": [
    "pd.date_range('1,1,2000', periods=1000)"
   ]
  },
  {
   "cell_type": "code",
   "execution_count": 107,
   "id": "ee46ee9c",
   "metadata": {},
   "outputs": [
    {
     "data": {
      "text/plain": [
       "2000-01-01   -0.043425\n",
       "2000-01-02    0.656193\n",
       "2000-01-03    1.179521\n",
       "2000-01-04    1.767618\n",
       "2000-01-05    1.227457\n",
       "                ...   \n",
       "2002-09-22    1.065701\n",
       "2002-09-23   -0.709020\n",
       "2002-09-24    0.622296\n",
       "2002-09-25    1.221315\n",
       "2002-09-26    1.106649\n",
       "Freq: D, Length: 1000, dtype: float64"
      ]
     },
     "execution_count": 107,
     "metadata": {},
     "output_type": "execute_result"
    }
   ],
   "source": [
    "ts = pd.Series(np.random.randn(1000), index=pd.date_range('1/1/2000', periods=1000))\n",
    "ts"
   ]
  },
  {
   "cell_type": "code",
   "execution_count": 108,
   "id": "1a1ea399",
   "metadata": {},
   "outputs": [
    {
     "data": {
      "text/plain": [
       "3.4074928968752722"
      ]
     },
     "execution_count": 108,
     "metadata": {},
     "output_type": "execute_result"
    }
   ],
   "source": [
    "ts.sum()"
   ]
  },
  {
   "cell_type": "code",
   "execution_count": 109,
   "id": "a5e9e15e",
   "metadata": {},
   "outputs": [
    {
     "data": {
      "text/plain": [
       "2000-01-01   -0.043425\n",
       "2000-01-02    0.612767\n",
       "2000-01-03    1.792289\n",
       "2000-01-04    3.559907\n",
       "2000-01-05    4.787364\n",
       "                ...   \n",
       "2002-09-22    1.166252\n",
       "2002-09-23    0.457232\n",
       "2002-09-24    1.079528\n",
       "2002-09-25    2.300844\n",
       "2002-09-26    3.407493\n",
       "Freq: D, Length: 1000, dtype: float64"
      ]
     },
     "execution_count": 109,
     "metadata": {},
     "output_type": "execute_result"
    }
   ],
   "source": [
    "ts.cumsum()"
   ]
  },
  {
   "cell_type": "code",
   "execution_count": 110,
   "id": "0e898321",
   "metadata": {},
   "outputs": [
    {
     "data": {
      "text/plain": [
       "<AxesSubplot:>"
      ]
     },
     "execution_count": 110,
     "metadata": {},
     "output_type": "execute_result"
    },
    {
     "data": {
      "image/png": "[encoded data removed]",
      "text/plain": [
       "<Figure size 432x288 with 1 Axes>"
      ]
     },
     "metadata": {
      "needs_background": "light"
     },
     "output_type": "display_data"
    }
   ],
   "source": [
    "ts = ts.cumsum()\n",
    "ts.plot()"
   ]
  },
  {
   "cell_type": "code",
   "execution_count": 111,
   "id": "569a706c",
   "metadata": {},
   "outputs": [
    {
     "data": {
      "text/html": [
       "<div>\n",
       "<style scoped>\n",
       "    .dataframe tbody tr th:only-of-type {\n",
       "        vertical-align: middle;\n",
       "    }\n",
       "\n",
       "    .dataframe tbody tr th {\n",
       "        vertical-align: top;\n",
       "    }\n",
       "\n",
       "    .dataframe thead th {\n",
       "        text-align: right;\n",
       "    }\n",
       "</style>\n",
       "<table border=\"1\" class=\"dataframe\">\n",
       "  <thead>\n",
       "    <tr style=\"text-align: right;\">\n",
       "      <th></th>\n",
       "      <th>A</th>\n",
       "      <th>B</th>\n",
       "      <th>C</th>\n",
       "      <th>D</th>\n",
       "    </tr>\n",
       "  </thead>\n",
       "  <tbody>\n",
       "    <tr>\n",
       "      <th>2000-01-01</th>\n",
       "      <td>0.128007</td>\n",
       "      <td>0.001008</td>\n",
       "      <td>-0.131230</td>\n",
       "      <td>-0.086302</td>\n",
       "    </tr>\n",
       "    <tr>\n",
       "      <th>2000-01-02</th>\n",
       "      <td>-0.038483</td>\n",
       "      <td>0.740063</td>\n",
       "      <td>1.581432</td>\n",
       "      <td>0.600369</td>\n",
       "    </tr>\n",
       "    <tr>\n",
       "      <th>2000-01-03</th>\n",
       "      <td>0.260490</td>\n",
       "      <td>1.198067</td>\n",
       "      <td>0.779527</td>\n",
       "      <td>0.053567</td>\n",
       "    </tr>\n",
       "    <tr>\n",
       "      <th>2000-01-04</th>\n",
       "      <td>-0.012913</td>\n",
       "      <td>0.218204</td>\n",
       "      <td>0.110837</td>\n",
       "      <td>-0.069430</td>\n",
       "    </tr>\n",
       "    <tr>\n",
       "      <th>2000-01-05</th>\n",
       "      <td>-0.135137</td>\n",
       "      <td>1.058221</td>\n",
       "      <td>-1.387031</td>\n",
       "      <td>1.024162</td>\n",
       "    </tr>\n",
       "    <tr>\n",
       "      <th>...</th>\n",
       "      <td>...</td>\n",
       "      <td>...</td>\n",
       "      <td>...</td>\n",
       "      <td>...</td>\n",
       "    </tr>\n",
       "    <tr>\n",
       "      <th>2002-09-22</th>\n",
       "      <td>0.396320</td>\n",
       "      <td>0.865690</td>\n",
       "      <td>0.005217</td>\n",
       "      <td>-0.533083</td>\n",
       "    </tr>\n",
       "    <tr>\n",
       "      <th>2002-09-23</th>\n",
       "      <td>-0.531170</td>\n",
       "      <td>-1.364751</td>\n",
       "      <td>0.591799</td>\n",
       "      <td>-0.141014</td>\n",
       "    </tr>\n",
       "    <tr>\n",
       "      <th>2002-09-24</th>\n",
       "      <td>-2.295286</td>\n",
       "      <td>1.587562</td>\n",
       "      <td>0.480053</td>\n",
       "      <td>0.704148</td>\n",
       "    </tr>\n",
       "    <tr>\n",
       "      <th>2002-09-25</th>\n",
       "      <td>2.059393</td>\n",
       "      <td>-0.249076</td>\n",
       "      <td>0.028466</td>\n",
       "      <td>-1.073949</td>\n",
       "    </tr>\n",
       "    <tr>\n",
       "      <th>2002-09-26</th>\n",
       "      <td>0.183416</td>\n",
       "      <td>0.862800</td>\n",
       "      <td>0.501587</td>\n",
       "      <td>-0.277106</td>\n",
       "    </tr>\n",
       "  </tbody>\n",
       "</table>\n",
       "<p>1000 rows × 4 columns</p>\n",
       "</div>"
      ],
      "text/plain": [
       "                   A         B         C         D\n",
       "2000-01-01  0.128007  0.001008 -0.131230 -0.086302\n",
       "2000-01-02 -0.038483  0.740063  1.581432  0.600369\n",
       "2000-01-03  0.260490  1.198067  0.779527  0.053567\n",
       "2000-01-04 -0.012913  0.218204  0.110837 -0.069430\n",
       "2000-01-05 -0.135137  1.058221 -1.387031  1.024162\n",
       "...              ...       ...       ...       ...\n",
       "2002-09-22  0.396320  0.865690  0.005217 -0.533083\n",
       "2002-09-23 -0.531170 -1.364751  0.591799 -0.141014\n",
       "2002-09-24 -2.295286  1.587562  0.480053  0.704148\n",
       "2002-09-25  2.059393 -0.249076  0.028466 -1.073949\n",
       "2002-09-26  0.183416  0.862800  0.501587 -0.277106\n",
       "\n",
       "[1000 rows x 4 columns]"
      ]
     },
     "execution_count": 111,
     "metadata": {},
     "output_type": "execute_result"
    }
   ],
   "source": [
    "#데이터프레임에서 plot()메소드는\n",
    "#라벨이 존재하는 모든 열을 그릴 때 편리하다.\n",
    "df = pd.DataFrame(np.random.randn(1000, 4), index=ts.index,\n",
    "                 columns=['A','B','C','D'])\n",
    "df"
   ]
  },
  {
   "cell_type": "code",
   "execution_count": 112,
   "id": "3ec71b8f",
   "metadata": {},
   "outputs": [
    {
     "data": {
      "text/html": [
       "<div>\n",
       "<style scoped>\n",
       "    .dataframe tbody tr th:only-of-type {\n",
       "        vertical-align: middle;\n",
       "    }\n",
       "\n",
       "    .dataframe tbody tr th {\n",
       "        vertical-align: top;\n",
       "    }\n",
       "\n",
       "    .dataframe thead th {\n",
       "        text-align: right;\n",
       "    }\n",
       "</style>\n",
       "<table border=\"1\" class=\"dataframe\">\n",
       "  <thead>\n",
       "    <tr style=\"text-align: right;\">\n",
       "      <th></th>\n",
       "      <th>A</th>\n",
       "      <th>B</th>\n",
       "      <th>C</th>\n",
       "      <th>D</th>\n",
       "    </tr>\n",
       "  </thead>\n",
       "  <tbody>\n",
       "    <tr>\n",
       "      <th>2000-01-01</th>\n",
       "      <td>0.128007</td>\n",
       "      <td>0.001008</td>\n",
       "      <td>-0.131230</td>\n",
       "      <td>-0.086302</td>\n",
       "    </tr>\n",
       "    <tr>\n",
       "      <th>2000-01-02</th>\n",
       "      <td>0.089525</td>\n",
       "      <td>0.741072</td>\n",
       "      <td>1.450203</td>\n",
       "      <td>0.514067</td>\n",
       "    </tr>\n",
       "    <tr>\n",
       "      <th>2000-01-03</th>\n",
       "      <td>0.350015</td>\n",
       "      <td>1.939139</td>\n",
       "      <td>2.229730</td>\n",
       "      <td>0.567634</td>\n",
       "    </tr>\n",
       "    <tr>\n",
       "      <th>2000-01-04</th>\n",
       "      <td>0.337102</td>\n",
       "      <td>2.157342</td>\n",
       "      <td>2.340566</td>\n",
       "      <td>0.498204</td>\n",
       "    </tr>\n",
       "    <tr>\n",
       "      <th>2000-01-05</th>\n",
       "      <td>0.201965</td>\n",
       "      <td>3.215563</td>\n",
       "      <td>0.953535</td>\n",
       "      <td>1.522366</td>\n",
       "    </tr>\n",
       "    <tr>\n",
       "      <th>...</th>\n",
       "      <td>...</td>\n",
       "      <td>...</td>\n",
       "      <td>...</td>\n",
       "      <td>...</td>\n",
       "    </tr>\n",
       "    <tr>\n",
       "      <th>2002-09-22</th>\n",
       "      <td>49.328432</td>\n",
       "      <td>5.507702</td>\n",
       "      <td>-3.974212</td>\n",
       "      <td>8.219986</td>\n",
       "    </tr>\n",
       "    <tr>\n",
       "      <th>2002-09-23</th>\n",
       "      <td>48.797262</td>\n",
       "      <td>4.142951</td>\n",
       "      <td>-3.382413</td>\n",
       "      <td>8.078972</td>\n",
       "    </tr>\n",
       "    <tr>\n",
       "      <th>2002-09-24</th>\n",
       "      <td>46.501977</td>\n",
       "      <td>5.730514</td>\n",
       "      <td>-2.902360</td>\n",
       "      <td>8.783120</td>\n",
       "    </tr>\n",
       "    <tr>\n",
       "      <th>2002-09-25</th>\n",
       "      <td>48.561370</td>\n",
       "      <td>5.481438</td>\n",
       "      <td>-2.873894</td>\n",
       "      <td>7.709170</td>\n",
       "    </tr>\n",
       "    <tr>\n",
       "      <th>2002-09-26</th>\n",
       "      <td>48.744786</td>\n",
       "      <td>6.344237</td>\n",
       "      <td>-2.372307</td>\n",
       "      <td>7.432065</td>\n",
       "    </tr>\n",
       "  </tbody>\n",
       "</table>\n",
       "<p>1000 rows × 4 columns</p>\n",
       "</div>"
      ],
      "text/plain": [
       "                    A         B         C         D\n",
       "2000-01-01   0.128007  0.001008 -0.131230 -0.086302\n",
       "2000-01-02   0.089525  0.741072  1.450203  0.514067\n",
       "2000-01-03   0.350015  1.939139  2.229730  0.567634\n",
       "2000-01-04   0.337102  2.157342  2.340566  0.498204\n",
       "2000-01-05   0.201965  3.215563  0.953535  1.522366\n",
       "...               ...       ...       ...       ...\n",
       "2002-09-22  49.328432  5.507702 -3.974212  8.219986\n",
       "2002-09-23  48.797262  4.142951 -3.382413  8.078972\n",
       "2002-09-24  46.501977  5.730514 -2.902360  8.783120\n",
       "2002-09-25  48.561370  5.481438 -2.873894  7.709170\n",
       "2002-09-26  48.744786  6.344237 -2.372307  7.432065\n",
       "\n",
       "[1000 rows x 4 columns]"
      ]
     },
     "execution_count": 112,
     "metadata": {},
     "output_type": "execute_result"
    }
   ],
   "source": [
    "df.cumsum()"
   ]
  },
  {
   "cell_type": "code",
   "execution_count": 113,
   "id": "655bd7cf",
   "metadata": {},
   "outputs": [
    {
     "data": {
      "text/plain": [
       "(<Figure size 432x288 with 0 Axes>,\n",
       " <AxesSubplot:>,\n",
       " <matplotlib.legend.Legend at 0x1f7aba15640>)"
      ]
     },
     "execution_count": 113,
     "metadata": {},
     "output_type": "execute_result"
    },
    {
     "data": {
      "text/plain": [
       "<Figure size 432x288 with 0 Axes>"
      ]
     },
     "metadata": {},
     "output_type": "display_data"
    },
    {
     "data": {
      "image/png": "[encoded data removed]",
      "text/plain": [
       "<Figure size 432x288 with 1 Axes>"
      ]
     },
     "metadata": {
      "needs_background": "light"
     },
     "output_type": "display_data"
    }
   ],
   "source": [
    "df = df.cumsum()\n",
    "plt.figure(), df.plot(), plt.legend(loc='best')\n",
    "\n",
    "#loc=''\n",
    "#best\n",
    "#upper right\n",
    "#upper left\n",
    "#lower left\n",
    "#lower right\n",
    "#right\n",
    "#center left\n",
    "#center right\n",
    "#lower center\n",
    "#upper center\n",
    "#center"
   ]
  },
  {
   "cell_type": "markdown",
   "id": "216c7ac1",
   "metadata": {},
   "source": [
    "12. Getting Data In/Out (데이터 입/출력)"
   ]
  },
  {
   "cell_type": "code",
   "execution_count": 114,
   "id": "eaebe181",
   "metadata": {},
   "outputs": [],
   "source": [
    "#CSV\n",
    "#csv 파일에 쓴다.\n",
    "df.to_csv('foo.csv')"
   ]
  },
  {
   "cell_type": "code",
   "execution_count": 115,
   "id": "e93e4161",
   "metadata": {},
   "outputs": [
    {
     "data": {
      "text/html": [
       "<div>\n",
       "<style scoped>\n",
       "    .dataframe tbody tr th:only-of-type {\n",
       "        vertical-align: middle;\n",
       "    }\n",
       "\n",
       "    .dataframe tbody tr th {\n",
       "        vertical-align: top;\n",
       "    }\n",
       "\n",
       "    .dataframe thead th {\n",
       "        text-align: right;\n",
       "    }\n",
       "</style>\n",
       "<table border=\"1\" class=\"dataframe\">\n",
       "  <thead>\n",
       "    <tr style=\"text-align: right;\">\n",
       "      <th></th>\n",
       "      <th>Unnamed: 0</th>\n",
       "      <th>A</th>\n",
       "      <th>B</th>\n",
       "      <th>C</th>\n",
       "      <th>D</th>\n",
       "    </tr>\n",
       "  </thead>\n",
       "  <tbody>\n",
       "    <tr>\n",
       "      <th>0</th>\n",
       "      <td>2000-01-01</td>\n",
       "      <td>0.128007</td>\n",
       "      <td>0.001008</td>\n",
       "      <td>-0.131230</td>\n",
       "      <td>-0.086302</td>\n",
       "    </tr>\n",
       "    <tr>\n",
       "      <th>1</th>\n",
       "      <td>2000-01-02</td>\n",
       "      <td>0.089525</td>\n",
       "      <td>0.741072</td>\n",
       "      <td>1.450203</td>\n",
       "      <td>0.514067</td>\n",
       "    </tr>\n",
       "    <tr>\n",
       "      <th>2</th>\n",
       "      <td>2000-01-03</td>\n",
       "      <td>0.350015</td>\n",
       "      <td>1.939139</td>\n",
       "      <td>2.229730</td>\n",
       "      <td>0.567634</td>\n",
       "    </tr>\n",
       "    <tr>\n",
       "      <th>3</th>\n",
       "      <td>2000-01-04</td>\n",
       "      <td>0.337102</td>\n",
       "      <td>2.157342</td>\n",
       "      <td>2.340566</td>\n",
       "      <td>0.498204</td>\n",
       "    </tr>\n",
       "    <tr>\n",
       "      <th>4</th>\n",
       "      <td>2000-01-05</td>\n",
       "      <td>0.201965</td>\n",
       "      <td>3.215563</td>\n",
       "      <td>0.953535</td>\n",
       "      <td>1.522366</td>\n",
       "    </tr>\n",
       "    <tr>\n",
       "      <th>...</th>\n",
       "      <td>...</td>\n",
       "      <td>...</td>\n",
       "      <td>...</td>\n",
       "      <td>...</td>\n",
       "      <td>...</td>\n",
       "    </tr>\n",
       "    <tr>\n",
       "      <th>995</th>\n",
       "      <td>2002-09-22</td>\n",
       "      <td>49.328432</td>\n",
       "      <td>5.507702</td>\n",
       "      <td>-3.974212</td>\n",
       "      <td>8.219986</td>\n",
       "    </tr>\n",
       "    <tr>\n",
       "      <th>996</th>\n",
       "      <td>2002-09-23</td>\n",
       "      <td>48.797262</td>\n",
       "      <td>4.142951</td>\n",
       "      <td>-3.382413</td>\n",
       "      <td>8.078972</td>\n",
       "    </tr>\n",
       "    <tr>\n",
       "      <th>997</th>\n",
       "      <td>2002-09-24</td>\n",
       "      <td>46.501977</td>\n",
       "      <td>5.730514</td>\n",
       "      <td>-2.902360</td>\n",
       "      <td>8.783120</td>\n",
       "    </tr>\n",
       "    <tr>\n",
       "      <th>998</th>\n",
       "      <td>2002-09-25</td>\n",
       "      <td>48.561370</td>\n",
       "      <td>5.481438</td>\n",
       "      <td>-2.873894</td>\n",
       "      <td>7.709170</td>\n",
       "    </tr>\n",
       "    <tr>\n",
       "      <th>999</th>\n",
       "      <td>2002-09-26</td>\n",
       "      <td>48.744786</td>\n",
       "      <td>6.344237</td>\n",
       "      <td>-2.372307</td>\n",
       "      <td>7.432065</td>\n",
       "    </tr>\n",
       "  </tbody>\n",
       "</table>\n",
       "<p>1000 rows × 5 columns</p>\n",
       "</div>"
      ],
      "text/plain": [
       "     Unnamed: 0          A         B         C         D\n",
       "0    2000-01-01   0.128007  0.001008 -0.131230 -0.086302\n",
       "1    2000-01-02   0.089525  0.741072  1.450203  0.514067\n",
       "2    2000-01-03   0.350015  1.939139  2.229730  0.567634\n",
       "3    2000-01-04   0.337102  2.157342  2.340566  0.498204\n",
       "4    2000-01-05   0.201965  3.215563  0.953535  1.522366\n",
       "..          ...        ...       ...       ...       ...\n",
       "995  2002-09-22  49.328432  5.507702 -3.974212  8.219986\n",
       "996  2002-09-23  48.797262  4.142951 -3.382413  8.078972\n",
       "997  2002-09-24  46.501977  5.730514 -2.902360  8.783120\n",
       "998  2002-09-25  48.561370  5.481438 -2.873894  7.709170\n",
       "999  2002-09-26  48.744786  6.344237 -2.372307  7.432065\n",
       "\n",
       "[1000 rows x 5 columns]"
      ]
     },
     "execution_count": 115,
     "metadata": {},
     "output_type": "execute_result"
    }
   ],
   "source": [
    "#csv 파일을 읽는다.\n",
    "pd.read_csv('foo.csv')"
   ]
  },
  {
   "cell_type": "code",
   "execution_count": 116,
   "id": "900ebc0e",
   "metadata": {},
   "outputs": [
    {
     "data": {
      "text/html": [
       "<div>\n",
       "<style scoped>\n",
       "    .dataframe tbody tr th:only-of-type {\n",
       "        vertical-align: middle;\n",
       "    }\n",
       "\n",
       "    .dataframe tbody tr th {\n",
       "        vertical-align: top;\n",
       "    }\n",
       "\n",
       "    .dataframe thead th {\n",
       "        text-align: right;\n",
       "    }\n",
       "</style>\n",
       "<table border=\"1\" class=\"dataframe\">\n",
       "  <thead>\n",
       "    <tr style=\"text-align: right;\">\n",
       "      <th></th>\n",
       "      <th>A</th>\n",
       "      <th>B</th>\n",
       "      <th>C</th>\n",
       "      <th>D</th>\n",
       "    </tr>\n",
       "  </thead>\n",
       "  <tbody>\n",
       "    <tr>\n",
       "      <th>2000-01-01</th>\n",
       "      <td>0.128007</td>\n",
       "      <td>0.001008</td>\n",
       "      <td>-0.131230</td>\n",
       "      <td>-0.086302</td>\n",
       "    </tr>\n",
       "    <tr>\n",
       "      <th>2000-01-02</th>\n",
       "      <td>0.089525</td>\n",
       "      <td>0.741072</td>\n",
       "      <td>1.450203</td>\n",
       "      <td>0.514067</td>\n",
       "    </tr>\n",
       "    <tr>\n",
       "      <th>2000-01-03</th>\n",
       "      <td>0.350015</td>\n",
       "      <td>1.939139</td>\n",
       "      <td>2.229730</td>\n",
       "      <td>0.567634</td>\n",
       "    </tr>\n",
       "    <tr>\n",
       "      <th>2000-01-04</th>\n",
       "      <td>0.337102</td>\n",
       "      <td>2.157342</td>\n",
       "      <td>2.340566</td>\n",
       "      <td>0.498204</td>\n",
       "    </tr>\n",
       "    <tr>\n",
       "      <th>2000-01-05</th>\n",
       "      <td>0.201965</td>\n",
       "      <td>3.215563</td>\n",
       "      <td>0.953535</td>\n",
       "      <td>1.522366</td>\n",
       "    </tr>\n",
       "    <tr>\n",
       "      <th>...</th>\n",
       "      <td>...</td>\n",
       "      <td>...</td>\n",
       "      <td>...</td>\n",
       "      <td>...</td>\n",
       "    </tr>\n",
       "    <tr>\n",
       "      <th>2002-09-22</th>\n",
       "      <td>49.328432</td>\n",
       "      <td>5.507702</td>\n",
       "      <td>-3.974212</td>\n",
       "      <td>8.219986</td>\n",
       "    </tr>\n",
       "    <tr>\n",
       "      <th>2002-09-23</th>\n",
       "      <td>48.797262</td>\n",
       "      <td>4.142951</td>\n",
       "      <td>-3.382413</td>\n",
       "      <td>8.078972</td>\n",
       "    </tr>\n",
       "    <tr>\n",
       "      <th>2002-09-24</th>\n",
       "      <td>46.501977</td>\n",
       "      <td>5.730514</td>\n",
       "      <td>-2.902360</td>\n",
       "      <td>8.783120</td>\n",
       "    </tr>\n",
       "    <tr>\n",
       "      <th>2002-09-25</th>\n",
       "      <td>48.561370</td>\n",
       "      <td>5.481438</td>\n",
       "      <td>-2.873894</td>\n",
       "      <td>7.709170</td>\n",
       "    </tr>\n",
       "    <tr>\n",
       "      <th>2002-09-26</th>\n",
       "      <td>48.744786</td>\n",
       "      <td>6.344237</td>\n",
       "      <td>-2.372307</td>\n",
       "      <td>7.432065</td>\n",
       "    </tr>\n",
       "  </tbody>\n",
       "</table>\n",
       "<p>1000 rows × 4 columns</p>\n",
       "</div>"
      ],
      "text/plain": [
       "                    A         B         C         D\n",
       "2000-01-01   0.128007  0.001008 -0.131230 -0.086302\n",
       "2000-01-02   0.089525  0.741072  1.450203  0.514067\n",
       "2000-01-03   0.350015  1.939139  2.229730  0.567634\n",
       "2000-01-04   0.337102  2.157342  2.340566  0.498204\n",
       "2000-01-05   0.201965  3.215563  0.953535  1.522366\n",
       "...               ...       ...       ...       ...\n",
       "2002-09-22  49.328432  5.507702 -3.974212  8.219986\n",
       "2002-09-23  48.797262  4.142951 -3.382413  8.078972\n",
       "2002-09-24  46.501977  5.730514 -2.902360  8.783120\n",
       "2002-09-25  48.561370  5.481438 -2.873894  7.709170\n",
       "2002-09-26  48.744786  6.344237 -2.372307  7.432065\n",
       "\n",
       "[1000 rows x 4 columns]"
      ]
     },
     "execution_count": 116,
     "metadata": {},
     "output_type": "execute_result"
    }
   ],
   "source": [
    "#HDF\n",
    "#HDFStores에 읽고 쓴다.\n",
    "#HDF5 Store에 쓴다.\n",
    "df.to_hdf('foo.h5','df')\n",
    "#HDF5 Store에서 읽어온다.\n",
    "pd.read_hdf('foo.h5','df')"
   ]
  },
  {
   "cell_type": "code",
   "execution_count": 117,
   "id": "803b448c",
   "metadata": {},
   "outputs": [
    {
     "data": {
      "text/html": [
       "<div>\n",
       "<style scoped>\n",
       "    .dataframe tbody tr th:only-of-type {\n",
       "        vertical-align: middle;\n",
       "    }\n",
       "\n",
       "    .dataframe tbody tr th {\n",
       "        vertical-align: top;\n",
       "    }\n",
       "\n",
       "    .dataframe thead th {\n",
       "        text-align: right;\n",
       "    }\n",
       "</style>\n",
       "<table border=\"1\" class=\"dataframe\">\n",
       "  <thead>\n",
       "    <tr style=\"text-align: right;\">\n",
       "      <th></th>\n",
       "      <th>Unnamed: 0</th>\n",
       "      <th>A</th>\n",
       "      <th>B</th>\n",
       "      <th>C</th>\n",
       "      <th>D</th>\n",
       "    </tr>\n",
       "  </thead>\n",
       "  <tbody>\n",
       "    <tr>\n",
       "      <th>0</th>\n",
       "      <td>2000-01-01</td>\n",
       "      <td>0.128007</td>\n",
       "      <td>0.001008</td>\n",
       "      <td>-0.131230</td>\n",
       "      <td>-0.086302</td>\n",
       "    </tr>\n",
       "    <tr>\n",
       "      <th>1</th>\n",
       "      <td>2000-01-02</td>\n",
       "      <td>0.089525</td>\n",
       "      <td>0.741072</td>\n",
       "      <td>1.450203</td>\n",
       "      <td>0.514067</td>\n",
       "    </tr>\n",
       "    <tr>\n",
       "      <th>2</th>\n",
       "      <td>2000-01-03</td>\n",
       "      <td>0.350015</td>\n",
       "      <td>1.939139</td>\n",
       "      <td>2.229730</td>\n",
       "      <td>0.567634</td>\n",
       "    </tr>\n",
       "    <tr>\n",
       "      <th>3</th>\n",
       "      <td>2000-01-04</td>\n",
       "      <td>0.337102</td>\n",
       "      <td>2.157342</td>\n",
       "      <td>2.340566</td>\n",
       "      <td>0.498204</td>\n",
       "    </tr>\n",
       "    <tr>\n",
       "      <th>4</th>\n",
       "      <td>2000-01-05</td>\n",
       "      <td>0.201965</td>\n",
       "      <td>3.215563</td>\n",
       "      <td>0.953535</td>\n",
       "      <td>1.522366</td>\n",
       "    </tr>\n",
       "    <tr>\n",
       "      <th>...</th>\n",
       "      <td>...</td>\n",
       "      <td>...</td>\n",
       "      <td>...</td>\n",
       "      <td>...</td>\n",
       "      <td>...</td>\n",
       "    </tr>\n",
       "    <tr>\n",
       "      <th>995</th>\n",
       "      <td>2002-09-22</td>\n",
       "      <td>49.328432</td>\n",
       "      <td>5.507702</td>\n",
       "      <td>-3.974212</td>\n",
       "      <td>8.219986</td>\n",
       "    </tr>\n",
       "    <tr>\n",
       "      <th>996</th>\n",
       "      <td>2002-09-23</td>\n",
       "      <td>48.797262</td>\n",
       "      <td>4.142951</td>\n",
       "      <td>-3.382413</td>\n",
       "      <td>8.078972</td>\n",
       "    </tr>\n",
       "    <tr>\n",
       "      <th>997</th>\n",
       "      <td>2002-09-24</td>\n",
       "      <td>46.501977</td>\n",
       "      <td>5.730514</td>\n",
       "      <td>-2.902360</td>\n",
       "      <td>8.783120</td>\n",
       "    </tr>\n",
       "    <tr>\n",
       "      <th>998</th>\n",
       "      <td>2002-09-25</td>\n",
       "      <td>48.561370</td>\n",
       "      <td>5.481438</td>\n",
       "      <td>-2.873894</td>\n",
       "      <td>7.709170</td>\n",
       "    </tr>\n",
       "    <tr>\n",
       "      <th>999</th>\n",
       "      <td>2002-09-26</td>\n",
       "      <td>48.744786</td>\n",
       "      <td>6.344237</td>\n",
       "      <td>-2.372307</td>\n",
       "      <td>7.432065</td>\n",
       "    </tr>\n",
       "  </tbody>\n",
       "</table>\n",
       "<p>1000 rows × 5 columns</p>\n",
       "</div>"
      ],
      "text/plain": [
       "    Unnamed: 0          A         B         C         D\n",
       "0   2000-01-01   0.128007  0.001008 -0.131230 -0.086302\n",
       "1   2000-01-02   0.089525  0.741072  1.450203  0.514067\n",
       "2   2000-01-03   0.350015  1.939139  2.229730  0.567634\n",
       "3   2000-01-04   0.337102  2.157342  2.340566  0.498204\n",
       "4   2000-01-05   0.201965  3.215563  0.953535  1.522366\n",
       "..         ...        ...       ...       ...       ...\n",
       "995 2002-09-22  49.328432  5.507702 -3.974212  8.219986\n",
       "996 2002-09-23  48.797262  4.142951 -3.382413  8.078972\n",
       "997 2002-09-24  46.501977  5.730514 -2.902360  8.783120\n",
       "998 2002-09-25  48.561370  5.481438 -2.873894  7.709170\n",
       "999 2002-09-26  48.744786  6.344237 -2.372307  7.432065\n",
       "\n",
       "[1000 rows x 5 columns]"
      ]
     },
     "execution_count": 117,
     "metadata": {},
     "output_type": "execute_result"
    }
   ],
   "source": [
    "#Excel\n",
    "#MS Excel에 읽고 쓴다.\n",
    "#엑셀 파일에 쓴다.\n",
    "df.to_excel('foo.xlsx', sheet_name='Sheet1')\n",
    "#엑셀 파일을 읽어온다.\n",
    "pd.read_excel('foo.xlsx','Sheet1', index_col=None, na_values=['NA'])"
   ]
  },
  {
   "cell_type": "markdown",
   "id": "9cc99cc2",
   "metadata": {},
   "source": [
    "13. Gotchas (잡았다!)"
   ]
  },
  {
   "cell_type": "code",
   "execution_count": 118,
   "id": "ff32a0ec",
   "metadata": {},
   "outputs": [
    {
     "ename": "ValueError",
     "evalue": "The truth value of a Series is ambiguous. Use a.empty, a.bool(), a.item(), a.any() or a.all().",
     "output_type": "error",
     "traceback": [
      "\u001b[1;31m---------------------------------------------------------------------------\u001b[0m",
      "\u001b[1;31mValueError\u001b[0m                                Traceback (most recent call last)",
      "\u001b[1;32m<ipython-input-118-5367ffe4f540>\u001b[0m in \u001b[0;36m<module>\u001b[1;34m\u001b[0m\n\u001b[0;32m      1\u001b[0m \u001b[1;31m#연산 수행 시 다음과 같은 예외 상황을 볼 수도 있다.\u001b[0m\u001b[1;33m\u001b[0m\u001b[1;33m\u001b[0m\u001b[1;33m\u001b[0m\u001b[0m\n\u001b[1;32m----> 2\u001b[1;33m \u001b[1;32mif\u001b[0m \u001b[0mpd\u001b[0m\u001b[1;33m.\u001b[0m\u001b[0mSeries\u001b[0m\u001b[1;33m(\u001b[0m\u001b[1;33m[\u001b[0m\u001b[1;32mFalse\u001b[0m\u001b[1;33m,\u001b[0m \u001b[1;32mTrue\u001b[0m\u001b[1;33m,\u001b[0m \u001b[1;32mFalse\u001b[0m\u001b[1;33m]\u001b[0m\u001b[1;33m)\u001b[0m\u001b[1;33m:\u001b[0m\u001b[1;33m\u001b[0m\u001b[1;33m\u001b[0m\u001b[0m\n\u001b[0m\u001b[0;32m      3\u001b[0m     \u001b[0mprint\u001b[0m\u001b[1;33m(\u001b[0m\u001b[1;34m\"I was true\"\u001b[0m\u001b[1;33m)\u001b[0m\u001b[1;33m\u001b[0m\u001b[1;33m\u001b[0m\u001b[0m\n",
      "\u001b[1;32mC:\\ProgramData\\Anaconda3\\lib\\site-packages\\pandas\\core\\generic.py\u001b[0m in \u001b[0;36m__nonzero__\u001b[1;34m(self)\u001b[0m\n\u001b[0;32m   1440\u001b[0m     \u001b[1;33m@\u001b[0m\u001b[0mfinal\u001b[0m\u001b[1;33m\u001b[0m\u001b[1;33m\u001b[0m\u001b[0m\n\u001b[0;32m   1441\u001b[0m     \u001b[1;32mdef\u001b[0m \u001b[0m__nonzero__\u001b[0m\u001b[1;33m(\u001b[0m\u001b[0mself\u001b[0m\u001b[1;33m)\u001b[0m\u001b[1;33m:\u001b[0m\u001b[1;33m\u001b[0m\u001b[1;33m\u001b[0m\u001b[0m\n\u001b[1;32m-> 1442\u001b[1;33m         raise ValueError(\n\u001b[0m\u001b[0;32m   1443\u001b[0m             \u001b[1;34mf\"The truth value of a {type(self).__name__} is ambiguous. \"\u001b[0m\u001b[1;33m\u001b[0m\u001b[1;33m\u001b[0m\u001b[0m\n\u001b[0;32m   1444\u001b[0m             \u001b[1;34m\"Use a.empty, a.bool(), a.item(), a.any() or a.all().\"\u001b[0m\u001b[1;33m\u001b[0m\u001b[1;33m\u001b[0m\u001b[0m\n",
      "\u001b[1;31mValueError\u001b[0m: The truth value of a Series is ambiguous. Use a.empty, a.bool(), a.item(), a.any() or a.all()."
     ]
    }
   ],
   "source": [
    "#연산 수행 시 다음과 같은 예외 상황을 볼 수도 있다.\n",
    "if pd.Series([False, True, False]):\n",
    "    print(\"I was true\")"
   ]
  },
  {
   "cell_type": "code",
   "execution_count": 119,
   "id": "d51af62d",
   "metadata": {},
   "outputs": [
    {
     "name": "stdout",
     "output_type": "stream",
     "text": [
      "I was not None\n"
     ]
    }
   ],
   "source": [
    "#이럴 땐 any(), all(), empty 등을 사용해서 뭘 원하는지 선택해야 함.\n",
    "if pd.Series([False, True, False])is not None:\n",
    "      print(\"I was not None\")"
   ]
  },
  {
   "cell_type": "markdown",
   "id": "c30db61a",
   "metadata": {},
   "source": [
    "#비교: https://pandas.pydata.org/pandas-docs/stable/user_guide/basics.html\n",
    "#Gotchas: https://pandas.pydata.org/pandas-docs/stable/user_guide/gotchas.html"
   ]
  }
 ],
 "metadata": {
  "kernelspec": {
   "display_name": "Python 3",
   "language": "python",
   "name": "python3"
  },
  "language_info": {
   "codemirror_mode": {
    "name": "ipython",
    "version": 3
   },
   "file_extension": ".py",
   "mimetype": "text/x-python",
   "name": "python",
   "nbconvert_exporter": "python",
   "pygments_lexer": "ipython3",
   "version": "3.8.10"
  }
 },
 "nbformat": 4,
 "nbformat_minor": 5
}
