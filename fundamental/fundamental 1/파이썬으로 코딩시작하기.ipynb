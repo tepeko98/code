{
 "cells": [
  {
   "cell_type": "markdown",
   "id": "03aca376",
   "metadata": {},
   "source": [
    "#(1) 함수 불러보기"
   ]
  },
  {
   "cell_type": "code",
   "execution_count": 1,
   "id": "c169e792",
   "metadata": {},
   "outputs": [
    {
     "name": "stdout",
     "output_type": "stream",
     "text": [
      "\n"
     ]
    }
   ],
   "source": [
    "print()"
   ]
  },
  {
   "cell_type": "code",
   "execution_count": 2,
   "id": "8c243627",
   "metadata": {},
   "outputs": [
    {
     "name": "stdout",
     "output_type": "stream",
     "text": [
      "1\n"
     ]
    }
   ],
   "source": [
    "print(1)"
   ]
  },
  {
   "cell_type": "code",
   "execution_count": 3,
   "id": "f1ec5e4d",
   "metadata": {},
   "outputs": [
    {
     "name": "stdout",
     "output_type": "stream",
     "text": [
      "2\n"
     ]
    }
   ],
   "source": [
    "print(1+1)"
   ]
  },
  {
   "cell_type": "code",
   "execution_count": 4,
   "id": "b310a3cf",
   "metadata": {},
   "outputs": [
    {
     "name": "stdout",
     "output_type": "stream",
     "text": [
      "Hello\n"
     ]
    }
   ],
   "source": [
    "print('Hello')"
   ]
  },
  {
   "cell_type": "code",
   "execution_count": 5,
   "id": "f07af80c",
   "metadata": {},
   "outputs": [
    {
     "name": "stdout",
     "output_type": "stream",
     "text": [
      "HelloWorld\n"
     ]
    }
   ],
   "source": [
    "print('Hello'+'World')"
   ]
  },
  {
   "cell_type": "code",
   "execution_count": 6,
   "id": "73068085",
   "metadata": {
    "scrolled": true
   },
   "outputs": [
    {
     "ename": "TypeError",
     "evalue": "unsupported operand type(s) for -: 'str' and 'str'",
     "output_type": "error",
     "traceback": [
      "\u001b[1;31m---------------------------------------------------------------------------\u001b[0m",
      "\u001b[1;31mTypeError\u001b[0m                                 Traceback (most recent call last)",
      "\u001b[1;32m<ipython-input-6-847e459a6172>\u001b[0m in \u001b[0;36m<module>\u001b[1;34m\u001b[0m\n\u001b[1;32m----> 1\u001b[1;33m \u001b[0mprint\u001b[0m\u001b[1;33m(\u001b[0m\u001b[1;34m'Hello'\u001b[0m \u001b[1;33m-\u001b[0m \u001b[1;34m'0'\u001b[0m\u001b[1;33m)\u001b[0m\u001b[1;33m\u001b[0m\u001b[1;33m\u001b[0m\u001b[0m\n\u001b[0m\u001b[0;32m      2\u001b[0m \u001b[1;31m#문자열 간 - 연산은 안 됨\u001b[0m\u001b[1;33m\u001b[0m\u001b[1;33m\u001b[0m\u001b[1;33m\u001b[0m\u001b[0m\n",
      "\u001b[1;31mTypeError\u001b[0m: unsupported operand type(s) for -: 'str' and 'str'"
     ]
    }
   ],
   "source": [
    "print('Hello' - '0')\n",
    "#문자열 간 - 연산은 안 됨"
   ]
  },
  {
   "cell_type": "markdown",
   "id": "3a9cd29b",
   "metadata": {},
   "source": [
    "#(2) 변수 사용하기"
   ]
  },
  {
   "cell_type": "code",
   "execution_count": null,
   "id": "ec5767b7",
   "metadata": {},
   "outputs": [],
   "source": [
    "greeting = '안녕하세요'\n",
    "# greeting 변수에 '안녕하세요'를 저장\n",
    "\n",
    "print(greeting)\n",
    "#greeting을 출력"
   ]
  },
  {
   "cell_type": "code",
   "execution_count": null,
   "id": "c80bd900",
   "metadata": {},
   "outputs": [],
   "source": [
    "print(something)\n",
    "#변수 선언하지 않았기 때문에 오류"
   ]
  },
  {
   "cell_type": "code",
   "execution_count": 7,
   "id": "ba735ce6",
   "metadata": {},
   "outputs": [
    {
     "name": "stdout",
     "output_type": "stream",
     "text": [
      "안녕\n"
     ]
    }
   ],
   "source": [
    "greeting = '안녕하세요'\n",
    "greeting = '안녕'\n",
    "print(greeting)\n",
    "#변수를 재사용할 경우 나중에 한 거로 적용"
   ]
  },
  {
   "cell_type": "code",
   "execution_count": 8,
   "id": "d349db92",
   "metadata": {},
   "outputs": [
    {
     "name": "stdout",
     "output_type": "stream",
     "text": [
      "안녕하세요\n"
     ]
    }
   ],
   "source": [
    "greeting = '안녕하세요'\n",
    "print(greeting)\n",
    "greeting = '안녕'\n",
    "#위에서부터 순서대로 실행되므로 '안녕하세요'가 출력됨"
   ]
  },
  {
   "cell_type": "markdown",
   "id": "a0fdcabe",
   "metadata": {},
   "source": [
    "#(3) 새로운 함수를 정의하기"
   ]
  },
  {
   "cell_type": "code",
   "execution_count": 9,
   "id": "3d3e15bf",
   "metadata": {},
   "outputs": [
    {
     "name": "stdout",
     "output_type": "stream",
     "text": [
      "안녕\n"
     ]
    }
   ],
   "source": [
    "def say_hi():\n",
    "    print('안녕')\n",
    "#호출하면 '안녕'을 출력하는 함수 정의\n",
    "say_hi()"
   ]
  },
  {
   "cell_type": "code",
   "execution_count": 10,
   "id": "4773a6d6",
   "metadata": {},
   "outputs": [
    {
     "ename": "IndentationError",
     "evalue": "expected an indented block (<ipython-input-10-a04d1f6025ef>, line 2)",
     "output_type": "error",
     "traceback": [
      "\u001b[1;36m  File \u001b[1;32m\"<ipython-input-10-a04d1f6025ef>\"\u001b[1;36m, line \u001b[1;32m2\u001b[0m\n\u001b[1;33m    print('안녕!')\u001b[0m\n\u001b[1;37m    ^\u001b[0m\n\u001b[1;31mIndentationError\u001b[0m\u001b[1;31m:\u001b[0m expected an indented block\n"
     ]
    }
   ],
   "source": [
    "def say_hi_no_indent():\n",
    "print('안녕!')\n",
    "#들여쓰기 없으면 에러남"
   ]
  },
  {
   "cell_type": "code",
   "execution_count": 11,
   "id": "9b9d7fc1",
   "metadata": {},
   "outputs": [
    {
     "name": "stdout",
     "output_type": "stream",
     "text": [
      "안녕\n",
      "반가워\n"
     ]
    }
   ],
   "source": [
    "def say_hi_nice():\n",
    "    print('안녕')\n",
    "    print('반가워')\n",
    "#새로운 함수 정의\n",
    "say_hi_nice()"
   ]
  },
  {
   "cell_type": "markdown",
   "id": "f70e72c4",
   "metadata": {},
   "source": [
    "#(4) 스코프: 변수의 유효 범위"
   ]
  },
  {
   "cell_type": "code",
   "execution_count": 12,
   "id": "8f71b166",
   "metadata": {},
   "outputs": [
    {
     "ename": "NameError",
     "evalue": "name 'goodbye' is not defined",
     "output_type": "error",
     "traceback": [
      "\u001b[1;31m---------------------------------------------------------------------------\u001b[0m",
      "\u001b[1;31mNameError\u001b[0m                                 Traceback (most recent call last)",
      "\u001b[1;32m<ipython-input-12-f6e74d0da879>\u001b[0m in \u001b[0;36m<module>\u001b[1;34m\u001b[0m\n\u001b[0;32m      2\u001b[0m     \u001b[0mgoodbye\u001b[0m \u001b[1;33m=\u001b[0m \u001b[1;34m'잘 가'\u001b[0m\u001b[1;33m\u001b[0m\u001b[1;33m\u001b[0m\u001b[0m\n\u001b[0;32m      3\u001b[0m \u001b[1;33m\u001b[0m\u001b[0m\n\u001b[1;32m----> 4\u001b[1;33m \u001b[0mprint\u001b[0m\u001b[1;33m(\u001b[0m\u001b[0mgoodbye\u001b[0m\u001b[1;33m)\u001b[0m\u001b[1;33m\u001b[0m\u001b[1;33m\u001b[0m\u001b[0m\n\u001b[0m\u001b[0;32m      5\u001b[0m \u001b[1;31m#함수 밖에서 함수 내의 변수를 읽을 수 없음\u001b[0m\u001b[1;33m\u001b[0m\u001b[1;33m\u001b[0m\u001b[1;33m\u001b[0m\u001b[0m\n",
      "\u001b[1;31mNameError\u001b[0m: name 'goodbye' is not defined"
     ]
    }
   ],
   "source": [
    "def say_goodbye():\n",
    "    goodbye = '잘 가'\n",
    "    \n",
    "print(goodbye)\n",
    "#함수 밖에서 함수 내의 변수를 읽을 수 없음"
   ]
  },
  {
   "cell_type": "code",
   "execution_count": 20,
   "id": "0d8a13ce",
   "metadata": {},
   "outputs": [
    {
     "name": "stdout",
     "output_type": "stream",
     "text": [
      "하루\n"
     ]
    }
   ],
   "source": [
    "name = '하루'\n",
    "#변수 선언\n",
    "\n",
    "def say_name():\n",
    "    print(name)\n",
    "#함수 밖의 변수를 불러옴\n",
    "\n",
    "say_name()"
   ]
  },
  {
   "cell_type": "code",
   "execution_count": 21,
   "id": "888f9339",
   "metadata": {},
   "outputs": [
    {
     "name": "stdout",
     "output_type": "stream",
     "text": [
      "시우\n"
     ]
    }
   ],
   "source": [
    "name = '시우'\n",
    "#변수 재선언\n",
    "say_name()"
   ]
  },
  {
   "cell_type": "code",
   "execution_count": 22,
   "id": "1e815c76",
   "metadata": {},
   "outputs": [
    {
     "name": "stdout",
     "output_type": "stream",
     "text": [
      "하루\n"
     ]
    }
   ],
   "source": [
    "name = '하루'\n",
    "#변수 선언\n",
    "\n",
    "def change_name():\n",
    "    name = '시우'\n",
    "    #함수 내에서만 '시우'인 거임\n",
    "\n",
    "change_name()\n",
    "#반응 없음\n",
    "\n",
    "print(name)\n",
    "#함수 밖 변수로 출력"
   ]
  },
  {
   "cell_type": "markdown",
   "id": "ab875314",
   "metadata": {},
   "source": [
    "#(5) 함수에 인자 전달하기"
   ]
  },
  {
   "cell_type": "code",
   "execution_count": 23,
   "id": "d6b502d7",
   "metadata": {},
   "outputs": [
    {
     "name": "stdout",
     "output_type": "stream",
     "text": [
      "가연, 안녕\n"
     ]
    }
   ],
   "source": [
    "def say_hi_somebody(name):\n",
    "    print(name + ', 안녕')\n",
    "#함수 정의, 문자열 한 개를 입력받아 '[name], 안녕' 출력\n",
    "\n",
    "say_hi_somebody('가연')"
   ]
  },
  {
   "cell_type": "code",
   "execution_count": 24,
   "id": "e794895b",
   "metadata": {},
   "outputs": [
    {
     "ename": "TypeError",
     "evalue": "say_hi_somebody() missing 1 required positional argument: 'name'",
     "output_type": "error",
     "traceback": [
      "\u001b[1;31m---------------------------------------------------------------------------\u001b[0m",
      "\u001b[1;31mTypeError\u001b[0m                                 Traceback (most recent call last)",
      "\u001b[1;32m<ipython-input-24-82c766904e3b>\u001b[0m in \u001b[0;36m<module>\u001b[1;34m\u001b[0m\n\u001b[1;32m----> 1\u001b[1;33m \u001b[0msay_hi_somebody\u001b[0m\u001b[1;33m(\u001b[0m\u001b[1;33m)\u001b[0m\u001b[1;33m\u001b[0m\u001b[1;33m\u001b[0m\u001b[0m\n\u001b[0m\u001b[0;32m      2\u001b[0m \u001b[1;31m#name 매개변수에 아무것도 안 넣으면 에러남\u001b[0m\u001b[1;33m\u001b[0m\u001b[1;33m\u001b[0m\u001b[1;33m\u001b[0m\u001b[0m\n",
      "\u001b[1;31mTypeError\u001b[0m: say_hi_somebody() missing 1 required positional argument: 'name'"
     ]
    }
   ],
   "source": [
    "say_hi_somebody()\n",
    "#name 매개변수에 아무것도 안 넣으면 에러남"
   ]
  },
  {
   "cell_type": "code",
   "execution_count": 25,
   "id": "eb4ea81f",
   "metadata": {},
   "outputs": [
    {
     "ename": "TypeError",
     "evalue": "say_hi_nice() takes 0 positional arguments but 1 was given",
     "output_type": "error",
     "traceback": [
      "\u001b[1;31m---------------------------------------------------------------------------\u001b[0m",
      "\u001b[1;31mTypeError\u001b[0m                                 Traceback (most recent call last)",
      "\u001b[1;32m<ipython-input-25-f7751f2ff6e6>\u001b[0m in \u001b[0;36m<module>\u001b[1;34m\u001b[0m\n\u001b[1;32m----> 1\u001b[1;33m \u001b[0msay_hi_nice\u001b[0m\u001b[1;33m(\u001b[0m\u001b[1;34m'준이'\u001b[0m\u001b[1;33m)\u001b[0m\u001b[1;33m\u001b[0m\u001b[1;33m\u001b[0m\u001b[0m\n\u001b[0m\u001b[0;32m      2\u001b[0m \u001b[1;31m#이건 빈 건데 매개변수 넣으니까 에러남\u001b[0m\u001b[1;33m\u001b[0m\u001b[1;33m\u001b[0m\u001b[1;33m\u001b[0m\u001b[0m\n",
      "\u001b[1;31mTypeError\u001b[0m: say_hi_nice() takes 0 positional arguments but 1 was given"
     ]
    }
   ],
   "source": [
    "say_hi_nice('준이')\n",
    "#이건 빈 건데 매개변수 넣으니까 에러남"
   ]
  },
  {
   "cell_type": "code",
   "execution_count": 26,
   "id": "7935e16c",
   "metadata": {},
   "outputs": [
    {
     "name": "stdout",
     "output_type": "stream",
     "text": [
      "안녕, 준이!\n"
     ]
    }
   ],
   "source": [
    "def say_hi_default(name='somebody'):\n",
    "    print('안녕, ' + name + '!')\n",
    "say_hi_default('준이')\n",
    "#매개변수가 name으로 들어감"
   ]
  },
  {
   "cell_type": "code",
   "execution_count": 27,
   "id": "a45d4407",
   "metadata": {},
   "outputs": [
    {
     "name": "stdout",
     "output_type": "stream",
     "text": [
      "안녕, somebody!\n"
     ]
    }
   ],
   "source": [
    "say_hi_default()\n",
    "#안 넣으면 'somebody'가 출력됨"
   ]
  },
  {
   "cell_type": "markdown",
   "id": "98e0131c",
   "metadata": {},
   "source": [
    "#(6) 함수에 인자 여러 개 한꺼번에 전달하기"
   ]
  },
  {
   "cell_type": "code",
   "execution_count": 28,
   "id": "38073c5d",
   "metadata": {},
   "outputs": [
    {
     "name": "stdout",
     "output_type": "stream",
     "text": [
      "그리, 단테 안녕\n"
     ]
    }
   ],
   "source": [
    "def say_hi_couple(name1, name2):\n",
    "    print(name1 + ', ' + name2 + ' 안녕')\n",
    "say_hi_couple('그리', '단테')\n",
    "#매개변수 두 개에 순서대로 들어감"
   ]
  },
  {
   "cell_type": "code",
   "execution_count": 29,
   "id": "95561d83",
   "metadata": {},
   "outputs": [
    {
     "ename": "TypeError",
     "evalue": "say_hi_couple() missing 1 required positional argument: 'name2'",
     "output_type": "error",
     "traceback": [
      "\u001b[1;31m---------------------------------------------------------------------------\u001b[0m",
      "\u001b[1;31mTypeError\u001b[0m                                 Traceback (most recent call last)",
      "\u001b[1;32m<ipython-input-29-b928a34517fd>\u001b[0m in \u001b[0;36m<module>\u001b[1;34m\u001b[0m\n\u001b[1;32m----> 1\u001b[1;33m \u001b[0msay_hi_couple\u001b[0m\u001b[1;33m(\u001b[0m\u001b[1;34m'그리'\u001b[0m\u001b[1;33m)\u001b[0m\u001b[1;33m\u001b[0m\u001b[1;33m\u001b[0m\u001b[0m\n\u001b[0m\u001b[0;32m      2\u001b[0m \u001b[1;31m#매개변수 수가 안 맞으니 에러남\u001b[0m\u001b[1;33m\u001b[0m\u001b[1;33m\u001b[0m\u001b[1;33m\u001b[0m\u001b[0m\n",
      "\u001b[1;31mTypeError\u001b[0m: say_hi_couple() missing 1 required positional argument: 'name2'"
     ]
    }
   ],
   "source": [
    "say_hi_couple('그리')\n",
    "#매개변수 수가 안 맞으니 에러남"
   ]
  },
  {
   "cell_type": "code",
   "execution_count": 30,
   "id": "9e1204c2",
   "metadata": {},
   "outputs": [
    {
     "name": "stdout",
     "output_type": "stream",
     "text": [
      "단테, 그리 안녕\n"
     ]
    }
   ],
   "source": [
    "say_hi_couple(name2='그리', name1='단테')\n",
    "#변수선언하면 순서 바껴도 됨"
   ]
  },
  {
   "cell_type": "code",
   "execution_count": 31,
   "id": "887c6ac6",
   "metadata": {},
   "outputs": [
    {
     "ename": "TypeError",
     "evalue": "say_hi_couple() got an unexpected keyword argument 'name'",
     "output_type": "error",
     "traceback": [
      "\u001b[1;31m---------------------------------------------------------------------------\u001b[0m",
      "\u001b[1;31mTypeError\u001b[0m                                 Traceback (most recent call last)",
      "\u001b[1;32m<ipython-input-31-339de094a177>\u001b[0m in \u001b[0;36m<module>\u001b[1;34m\u001b[0m\n\u001b[1;32m----> 1\u001b[1;33m \u001b[0msay_hi_couple\u001b[0m\u001b[1;33m(\u001b[0m\u001b[0mname\u001b[0m\u001b[1;33m=\u001b[0m\u001b[1;34m'그리'\u001b[0m\u001b[1;33m,\u001b[0m \u001b[0mname2\u001b[0m\u001b[1;33m=\u001b[0m\u001b[1;34m'단테'\u001b[0m\u001b[1;33m)\u001b[0m\u001b[1;33m\u001b[0m\u001b[1;33m\u001b[0m\u001b[0m\n\u001b[0m\u001b[0;32m      2\u001b[0m \u001b[1;31m#매개변수 이름이 달라서 에러남\u001b[0m\u001b[1;33m\u001b[0m\u001b[1;33m\u001b[0m\u001b[1;33m\u001b[0m\u001b[0m\n",
      "\u001b[1;31mTypeError\u001b[0m: say_hi_couple() got an unexpected keyword argument 'name'"
     ]
    }
   ],
   "source": [
    "say_hi_couple(name='그리', name2='단테')\n",
    "#매개변수 이름이 달라서 에러남"
   ]
  },
  {
   "cell_type": "code",
   "execution_count": 32,
   "id": "af6ed5e4",
   "metadata": {},
   "outputs": [],
   "source": [
    "def say_hi_couple_default(name1, name2='nobody'):\n",
    "    print(name1+', '+name2+' 안녕')\n",
    "#기본값 없는 매개변수는 기본값 있는 매개변수보다 앞에 와야 함"
   ]
  },
  {
   "cell_type": "code",
   "execution_count": 33,
   "id": "eed36039",
   "metadata": {},
   "outputs": [
    {
     "ename": "SyntaxError",
     "evalue": "non-default argument follows default argument (<ipython-input-33-8f8371191e55>, line 1)",
     "output_type": "error",
     "traceback": [
      "\u001b[1;36m  File \u001b[1;32m\"<ipython-input-33-8f8371191e55>\"\u001b[1;36m, line \u001b[1;32m1\u001b[0m\n\u001b[1;33m    def say_hi_couple_default_wrong(name1='nobody', name2):\u001b[0m\n\u001b[1;37m                                    ^\u001b[0m\n\u001b[1;31mSyntaxError\u001b[0m\u001b[1;31m:\u001b[0m non-default argument follows default argument\n"
     ]
    }
   ],
   "source": [
    "def say_hi_couple_default_wrong(name1='nobody', name2):\n",
    "    print(name1+', '+name2+' 안녕')\n",
    "#기본값 있는 매개변수가 앞에 오면 에러남"
   ]
  },
  {
   "cell_type": "markdown",
   "id": "bb0655ce",
   "metadata": {},
   "source": [
    "#(7) 함수의 결과로 값을 반환하기"
   ]
  },
  {
   "cell_type": "code",
   "execution_count": 34,
   "id": "f1ca53c3",
   "metadata": {},
   "outputs": [
    {
     "name": "stdout",
     "output_type": "stream",
     "text": [
      "3\n"
     ]
    }
   ],
   "source": [
    "def add(number1, number2):\n",
    "    print(number1 + number2)\n",
    "add(1,2)\n",
    "#걍 들어감"
   ]
  },
  {
   "cell_type": "code",
   "execution_count": 35,
   "id": "c9b88c15",
   "metadata": {},
   "outputs": [
    {
     "name": "stdout",
     "output_type": "stream",
     "text": [
      "3\n"
     ]
    },
    {
     "ename": "TypeError",
     "evalue": "unsupported operand type(s) for +: 'NoneType' and 'int'",
     "output_type": "error",
     "traceback": [
      "\u001b[1;31m---------------------------------------------------------------------------\u001b[0m",
      "\u001b[1;31mTypeError\u001b[0m                                 Traceback (most recent call last)",
      "\u001b[1;32m<ipython-input-35-1698cede64df>\u001b[0m in \u001b[0;36m<module>\u001b[1;34m\u001b[0m\n\u001b[1;32m----> 1\u001b[1;33m \u001b[0mprint\u001b[0m\u001b[1;33m(\u001b[0m\u001b[0madd\u001b[0m\u001b[1;33m(\u001b[0m\u001b[1;36m1\u001b[0m\u001b[1;33m,\u001b[0m\u001b[1;36m2\u001b[0m\u001b[1;33m)\u001b[0m\u001b[1;33m+\u001b[0m\u001b[1;36m3\u001b[0m\u001b[1;33m)\u001b[0m\u001b[1;33m\u001b[0m\u001b[1;33m\u001b[0m\u001b[0m\n\u001b[0m\u001b[0;32m      2\u001b[0m \u001b[1;31m#함수의 결과는 nonetype인데 3은 int라 타입 달라서 에러남\u001b[0m\u001b[1;33m\u001b[0m\u001b[1;33m\u001b[0m\u001b[1;33m\u001b[0m\u001b[0m\n",
      "\u001b[1;31mTypeError\u001b[0m: unsupported operand type(s) for +: 'NoneType' and 'int'"
     ]
    }
   ],
   "source": [
    "print(add(1,2)+3)\n",
    "#함수의 결과는 nonetype인데 3은 int라 타입 달라서 에러남"
   ]
  },
  {
   "cell_type": "code",
   "execution_count": 36,
   "id": "48a1262f",
   "metadata": {},
   "outputs": [
    {
     "name": "stdout",
     "output_type": "stream",
     "text": [
      "3\n",
      "6\n"
     ]
    }
   ],
   "source": [
    "def add_and_return(num1, num2):\n",
    "    print(num1+num2)\n",
    "    return num1 + num2\n",
    "print(add_and_return(1,2)+3)\n",
    "#함수가 실행되면서 return으로 이미 안에서 연산을 끝냈으니\n",
    "#반환되어도 int타입이므로 3과 연산이 가능"
   ]
  },
  {
   "cell_type": "code",
   "execution_count": 37,
   "id": "8573ba25",
   "metadata": {},
   "outputs": [
    {
     "name": "stdout",
     "output_type": "stream",
     "text": [
      "D\n",
      "C\n",
      "A\n",
      "B\n"
     ]
    }
   ],
   "source": [
    "def print_two(word1, word2):\n",
    "    print(word1)\n",
    "    print(word2)\n",
    "#매개변수 2개인 함수 선언\n",
    "    \n",
    "def print_and_return(word1, word2, word3):\n",
    "    print_two(word3, word2)\n",
    "    return word1\n",
    "#매개변수 3개인 함수 선언, 위에 함수 불러와서 word3, word2순서로 대입\n",
    "#word1은 return\n",
    "\n",
    "print_two('A', print_and_return('B', 'C', 'D'))\n",
    "#함수를 불러오는데 매개변수가 함수\n",
    "#'A'가 print_two의 word1로,\n",
    "#print_and_return('B', 'C', 'D')가 print_two의 word2로 들어감\n",
    "#print_two의 word2가 print_and_return의 word1, word2, word3으로 드가는데\n",
    "#순서는 B, C, D 순\n",
    "#D, C를 먼저 출력하고 B를 저장\n",
    "#최종적으로 D, C, A, B 순으로 출력"
   ]
  }
 ],
 "metadata": {
  "kernelspec": {
   "display_name": "Python 3",
   "language": "python",
   "name": "python3"
  },
  "language_info": {
   "codemirror_mode": {
    "name": "ipython",
    "version": 3
   },
   "file_extension": ".py",
   "mimetype": "text/x-python",
   "name": "python",
   "nbconvert_exporter": "python",
   "pygments_lexer": "ipython3",
   "version": "3.8.10"
  }
 },
 "nbformat": 4,
 "nbformat_minor": 5
}
