{
 "cells": [
  {
   "cell_type": "markdown",
   "id": "2b032bf9",
   "metadata": {},
   "source": [
    "'if': 진실 혹은 거짓"
   ]
  },
  {
   "cell_type": "code",
   "execution_count": 1,
   "id": "3ef92c9a",
   "metadata": {},
   "outputs": [
    {
     "name": "stdout",
     "output_type": "stream",
     "text": [
      "1\n"
     ]
    }
   ],
   "source": [
    "def print_if_positive(number):\n",
    "    if number >= 0:\n",
    "        print(number)\n",
    "        \n",
    "#숫자가 0보다 크거나 같을 경우에만 숫자를 출력한다.\n",
    "\n",
    "print_if_positive(1)\n",
    "print_if_positive(-1)"
   ]
  },
  {
   "cell_type": "code",
   "execution_count": 2,
   "id": "1c96c68a",
   "metadata": {},
   "outputs": [],
   "source": [
    "def print_whether_positive_or_nagative(number):\n",
    "    if number >= 0:\n",
    "        print('+')\n",
    "    else:\n",
    "        print('-')\n",
    "        \n",
    "#숫자가 0이상이면 +, 미만이면 -를 출력합니다."
   ]
  },
  {
   "cell_type": "code",
   "execution_count": 3,
   "id": "102b78a6",
   "metadata": {},
   "outputs": [
    {
     "name": "stdout",
     "output_type": "stream",
     "text": [
      "+\n",
      "-\n"
     ]
    }
   ],
   "source": [
    "print_whether_positive_or_nagative(1)\n",
    "print_whether_positive_or_nagative(-1)"
   ]
  },
  {
   "cell_type": "markdown",
   "id": "4a8eccfd",
   "metadata": {},
   "source": [
    "0에 대한 조건문 추가하기"
   ]
  },
  {
   "cell_type": "code",
   "execution_count": 4,
   "id": "d5305b2e",
   "metadata": {},
   "outputs": [
    {
     "name": "stdout",
     "output_type": "stream",
     "text": [
      "+\n",
      "0\n",
      "-\n"
     ]
    }
   ],
   "source": [
    "def print_whether_positive_or_nagative_or_zero(number):\n",
    "    if number > 0:\n",
    "        print('+')\n",
    "    elif number == 0:\n",
    "        print('0')\n",
    "    else:\n",
    "        print('-')\n",
    "        \n",
    "#양수면 +, 음수면 -, 0은 0으로 출력\n",
    "\n",
    "print_whether_positive_or_nagative_or_zero(1)\n",
    "print_whether_positive_or_nagative_or_zero(0)\n",
    "print_whether_positive_or_nagative_or_zero(-1)"
   ]
  },
  {
   "cell_type": "markdown",
   "id": "07235892",
   "metadata": {},
   "source": [
    "양수이며 짝수일 때만 출력"
   ]
  },
  {
   "cell_type": "code",
   "execution_count": 5,
   "id": "54f861f8",
   "metadata": {},
   "outputs": [
    {
     "name": "stdout",
     "output_type": "stream",
     "text": [
      "2\n"
     ]
    }
   ],
   "source": [
    "def print_if_positive_and_even(number):\n",
    "    if (number > 0) and (number % 2 == 0):\n",
    "        print(number)\n",
    "        \n",
    "#숫자가 양수이고(and) 짝수일 때 해당 숫자를 출력\n",
    "#양수: number > 0\n",
    "#짝수: number % 2 == 0 즉, 숫자를 2로 나눈 나머지가 0인 경우\n",
    "print_if_positive_and_even(1)\n",
    "print_if_positive_and_even(-1)\n",
    "print_if_positive_and_even(2)\n",
    "print_if_positive_and_even(-2)"
   ]
  },
  {
   "cell_type": "markdown",
   "id": "6e43782d",
   "metadata": {},
   "source": [
    "음수이거나, 음양에 상관없이 홀수인 경우 출력"
   ]
  },
  {
   "cell_type": "code",
   "execution_count": 6,
   "id": "36b33093",
   "metadata": {},
   "outputs": [
    {
     "name": "stdout",
     "output_type": "stream",
     "text": [
      "1\n",
      "-1\n",
      "-2\n"
     ]
    }
   ],
   "source": [
    "def print_if_negative_or_odd(number):\n",
    "    if (number < 0) or (number % 2 != 0):\n",
    "        print(number)\n",
    "        \n",
    "#숫자가 음수이거나(or) 홀수일 때 해당 숫자를 출력합니다\n",
    "#음수: number < 0\n",
    "#홀수: number % 2 != 0 즉, 짝수가 아닐 때\n",
    "\n",
    "print_if_negative_or_odd(1)\n",
    "print_if_negative_or_odd(-1)\n",
    "print_if_negative_or_odd(2)\n",
    "print_if_negative_or_odd(-2)"
   ]
  },
  {
   "cell_type": "markdown",
   "id": "d698f9a6",
   "metadata": {},
   "source": [
    "'while': 조건이 참인 동안 반복"
   ]
  },
  {
   "cell_type": "code",
   "execution_count": 7,
   "id": "d2d825db",
   "metadata": {},
   "outputs": [
    {
     "name": "stdout",
     "output_type": "stream",
     "text": [
      "1\n",
      "-1\n",
      "-2\n"
     ]
    }
   ],
   "source": [
    "def print_if_negative_or_odd(number):\n",
    "    if (number <= 0) or (number % 2 != 0):\n",
    "        print(number)\n",
    "\n",
    "print_if_negative_or_odd(1)\n",
    "print_if_negative_or_odd(-1)\n",
    "print_if_negative_or_odd(2)\n",
    "print_if_negative_or_odd(-2)\n",
    "\n",
    "#print_if_negative_or_odd 함수를 총 4번 호출한다.\n",
    "#매개변수(number)의 인자를 각가 다르게 부여하였다."
   ]
  },
  {
   "cell_type": "markdown",
   "id": "6fe69303",
   "metadata": {},
   "source": [
    "while문 활용"
   ]
  },
  {
   "cell_type": "code",
   "execution_count": 8,
   "id": "66ba8f93",
   "metadata": {},
   "outputs": [
    {
     "name": "stdout",
     "output_type": "stream",
     "text": [
      "1\n",
      "1\n",
      "2\n",
      "3\n",
      "5\n",
      "8\n",
      "13\n",
      "21\n",
      "34\n",
      "55\n",
      "89\n",
      "144\n",
      "233\n",
      "377\n",
      "610\n",
      "987\n",
      "1597\n",
      "2584\n",
      "4181\n",
      "6765\n",
      "끝\n"
     ]
    }
   ],
   "source": [
    "def fibonacci(n):\n",
    "    if n <= 2:\n",
    "        return 1\n",
    "    else:\n",
    "        return fibonacci(n-2) + fibonacci(n-1)\n",
    "    \n",
    "n=1\n",
    "\n",
    "while n <= 20:\n",
    "    print(fibonacci(n))\n",
    "    n=n+1\n",
    "print('끝')"
   ]
  },
  {
   "cell_type": "markdown",
   "id": "e306176c",
   "metadata": {},
   "source": [
    "무한루프"
   ]
  },
  {
   "cell_type": "code",
   "execution_count": 9,
   "id": "a873166d",
   "metadata": {},
   "outputs": [],
   "source": [
    "#경고: 실행하지 마시오\n",
    "#실행했다면 강제종료하시오\n",
    "#while True:\n",
    "    #print('Infinite loop')"
   ]
  },
  {
   "cell_type": "markdown",
   "id": "3cfb26d2",
   "metadata": {},
   "source": [
    "'for': 하나씩 반복"
   ]
  },
  {
   "cell_type": "code",
   "execution_count": 10,
   "id": "4f493dde",
   "metadata": {},
   "outputs": [
    {
     "name": "stdout",
     "output_type": "stream",
     "text": [
      "H\n",
      "e\n",
      "l\n",
      "l\n",
      "o\n"
     ]
    }
   ],
   "source": [
    "for character in 'Hello':\n",
    "    print(character)\n",
    "\n",
    "#for문을 사용하면 'Hello'의 첫 글자인 'H'가 character변수에 할당.\n",
    "#이후 'e'부터 한글자씩 print()가 실행되며, 마지막 'o'를 마친 뒤\n",
    "#해당 for문의 코드 블럭에서 빠져나옴."
   ]
  }
 ],
 "metadata": {
  "kernelspec": {
   "display_name": "Python 3",
   "language": "python",
   "name": "python3"
  },
  "language_info": {
   "codemirror_mode": {
    "name": "ipython",
    "version": 3
   },
   "file_extension": ".py",
   "mimetype": "text/x-python",
   "name": "python",
   "nbconvert_exporter": "python",
   "pygments_lexer": "ipython3",
   "version": "3.8.10"
  }
 },
 "nbformat": 4,
 "nbformat_minor": 5
}
