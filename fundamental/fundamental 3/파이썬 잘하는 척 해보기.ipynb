{
 "cells": [
  {
   "cell_type": "markdown",
   "id": "92e1b465",
   "metadata": {},
   "source": [
    "(1) for문 잘 사용하기"
   ]
  },
  {
   "cell_type": "markdown",
   "id": "875004bf",
   "metadata": {},
   "source": [
    "실행시간 측정"
   ]
  },
  {
   "cell_type": "code",
   "execution_count": 1,
   "id": "7beec4f5",
   "metadata": {},
   "outputs": [
    {
     "name": "stdout",
     "output_type": "stream",
     "text": [
      "time : 0.0\n"
     ]
    }
   ],
   "source": [
    "import time\n",
    "start = time.time() #시작 시간 저장\n",
    "\n",
    "a=1\n",
    "for i in range(100):\n",
    "    a += 1\n",
    "    \n",
    "#작업 코드\n",
    "print(\"time :\", time.time() - start) #결과는 '초' 단위입니다."
   ]
  },
  {
   "cell_type": "markdown",
   "id": "cf41cf74",
   "metadata": {},
   "source": [
    "enumerate()와 이중 for문"
   ]
  },
  {
   "cell_type": "code",
   "execution_count": 2,
   "id": "c3557502",
   "metadata": {},
   "outputs": [
    {
     "name": "stdout",
     "output_type": "stream",
     "text": [
      "값 :  a\n",
      "값 :  b\n",
      "값 :  c\n",
      "값 :  d\n"
     ]
    }
   ],
   "source": [
    "my_list = ['a','b','c','d']\n",
    "for i in my_list:\n",
    "    print(\"값 : \", i)"
   ]
  },
  {
   "cell_type": "code",
   "execution_count": 3,
   "id": "b78c6951",
   "metadata": {},
   "outputs": [
    {
     "name": "stdout",
     "output_type": "stream",
     "text": [
      "순번 :  0  , 값 :  a\n",
      "순번 :  1  , 값 :  b\n",
      "순번 :  2  , 값 :  c\n",
      "순번 :  3  , 값 :  d\n"
     ]
    }
   ],
   "source": [
    "my_list = ['a','b','c','d']\n",
    "\n",
    "for i, value in enumerate(my_list):\n",
    "    print(\"순번 : \", i, \" , 값 : \", value)"
   ]
  },
  {
   "cell_type": "code",
   "execution_count": 4,
   "id": "4b63942a",
   "metadata": {},
   "outputs": [
    {
     "name": "stdout",
     "output_type": "stream",
     "text": [
      "[(0, 'a'), (0, 'b'), (0, 'c'), (0, 'd'), (1, 'a'), (1, 'b'), (1, 'c'), (1, 'd')]\n"
     ]
    }
   ],
   "source": [
    "my_list = ['a','b','c','d']\n",
    "result_list = []\n",
    "\n",
    "for i in range(2):\n",
    "    for j in my_list:\n",
    "        result_list.append((i,j))\n",
    "        \n",
    "print(result_list)"
   ]
  },
  {
   "cell_type": "markdown",
   "id": "ba21c5f6",
   "metadata": {},
   "source": [
    "리스트 컴프리헨션(list Comprehension)"
   ]
  },
  {
   "cell_type": "code",
   "execution_count": 5,
   "id": "468f7c13",
   "metadata": {},
   "outputs": [
    {
     "name": "stdout",
     "output_type": "stream",
     "text": [
      "[(0, 'a'), (0, 'b'), (0, 'c'), (0, 'd'), (1, 'a'), (1, 'b'), (1, 'c'), (1, 'd')]\n"
     ]
    }
   ],
   "source": [
    "my_list = ['a','b','c','d']\n",
    "\n",
    "result_list = [(i,j) for i in range(2) for j in my_list]\n",
    "\n",
    "print(result_list)"
   ]
  },
  {
   "cell_type": "markdown",
   "id": "1c7f824e",
   "metadata": {},
   "source": [
    "제너레이터(Generator)"
   ]
  },
  {
   "cell_type": "code",
   "execution_count": 6,
   "id": "3a949a62",
   "metadata": {},
   "outputs": [
    {
     "name": "stdout",
     "output_type": "stream",
     "text": [
      ">> 8 data loaded..\n",
      "0 a\n",
      "0 b\n",
      "0 c\n",
      "0 d\n",
      "1 a\n",
      "1 b\n",
      "1 c\n",
      "1 d\n"
     ]
    }
   ],
   "source": [
    "my_list = ['a','b','c','d']\n",
    "\n",
    "#인자로 받은 리스트를 가공해서 만든 데이터셋 리스트를 리턴하는 함수\n",
    "def get_dataset_list(my_list):\n",
    "    result_list = []\n",
    "    for i in range(2):\n",
    "        for j in my_list:\n",
    "            result_list.append((i,j))\n",
    "            \n",
    "    print('>> {} data loaded..'.format(len(result_list)))\n",
    "    return result_list\n",
    "\n",
    "for x, y in get_dataset_list(my_list):\n",
    "    print(x, y)"
   ]
  },
  {
   "cell_type": "code",
   "execution_count": 7,
   "id": "cd6e20f5",
   "metadata": {},
   "outputs": [
    {
     "name": "stdout",
     "output_type": "stream",
     "text": [
      "0 a\n",
      "0 b\n",
      "0 c\n",
      "0 d\n",
      "1 a\n",
      "1 b\n",
      "1 c\n",
      "1 d\n",
      ">> 1 data loaded..\n"
     ]
    }
   ],
   "source": [
    "my_list = ['a','b','c','d']\n",
    "# 인자로 받은 리스트로부터 데이터를 하나씩 가져오는 제너레이터를 리턴하는 함수\n",
    "def get_dataset_generator(my_list):\n",
    "    result_list = []\n",
    "    for i in range(2):\n",
    "        for j in my_list:\n",
    "            yield (i, j)\n",
    "    print('>> 1 data loaded..')\n",
    "dataset_generator = get_dataset_generator(my_list)\n",
    "for X, y in dataset_generator:\n",
    "    print(X, y)\n"
   ]
  },
  {
   "cell_type": "code",
   "execution_count": 8,
   "id": "7a315e80",
   "metadata": {},
   "outputs": [
    {
     "ename": "ZeroDivisionError",
     "evalue": "division by zero",
     "output_type": "error",
     "traceback": [
      "\u001b[1;31m---------------------------------------------------------------------------\u001b[0m",
      "\u001b[1;31mZeroDivisionError\u001b[0m                         Traceback (most recent call last)",
      "\u001b[1;32m<ipython-input-8-34854cd7127b>\u001b[0m in \u001b[0;36m<module>\u001b[1;34m\u001b[0m\n\u001b[1;32m----> 1\u001b[1;33m \u001b[0mprint\u001b[0m\u001b[1;33m(\u001b[0m\u001b[1;36m10\u001b[0m\u001b[1;33m/\u001b[0m\u001b[1;36m0\u001b[0m\u001b[1;33m)\u001b[0m\u001b[1;33m\u001b[0m\u001b[1;33m\u001b[0m\u001b[0m\n\u001b[0m\u001b[0;32m      2\u001b[0m \u001b[1;31m#0으로 나눌 수 없어 에러남\u001b[0m\u001b[1;33m\u001b[0m\u001b[1;33m\u001b[0m\u001b[1;33m\u001b[0m\u001b[0m\n",
      "\u001b[1;31mZeroDivisionError\u001b[0m: division by zero"
     ]
    }
   ],
   "source": [
    "print(10/0)\n",
    "#0으로 나눌 수 없어 에러남"
   ]
  },
  {
   "cell_type": "code",
   "execution_count": 9,
   "id": "823a4fce",
   "metadata": {},
   "outputs": [
    {
     "name": "stdout",
     "output_type": "stream",
     "text": [
      "에러 발생\n"
     ]
    }
   ],
   "source": [
    "#에러가 발생하는 경우\n",
    "\n",
    "a = 10\n",
    "b = 0\n",
    "try:\n",
    "    #실행 코드\n",
    "    print(a/b)\n",
    "    \n",
    "except:\n",
    "    #에러 처리 코드\n",
    "    print('에러 발생')"
   ]
  },
  {
   "cell_type": "code",
   "execution_count": 10,
   "id": "7902c8a5",
   "metadata": {},
   "outputs": [
    {
     "name": "stdout",
     "output_type": "stream",
     "text": [
      "10.0\n"
     ]
    }
   ],
   "source": [
    "#에러가 발생하지 않는 경우\n",
    "\n",
    "a = 10\n",
    "b = 1\n",
    "try:\n",
    "    #실행 코드\n",
    "    print(a/b)\n",
    "    \n",
    "except:\n",
    "    #에러 처리 코드\n",
    "    print('에러 발생')"
   ]
  },
  {
   "cell_type": "code",
   "execution_count": 11,
   "id": "68c9d521",
   "metadata": {},
   "outputs": [
    {
     "name": "stdout",
     "output_type": "stream",
     "text": [
      "에러 발생\n",
      "값 수정: b -> 1 10.0\n"
     ]
    }
   ],
   "source": [
    "#에러 발생 후 처리\n",
    "\n",
    "a = 10\n",
    "b = 0\n",
    "try:\n",
    "    #실행 코드\n",
    "    print(a/b)\n",
    "    \n",
    "except:\n",
    "    #에러 처리 코드\n",
    "    print('에러 발생')\n",
    "    b += 1\n",
    "    print(\"값 수정: b ->\", b, a/b)"
   ]
  },
  {
   "cell_type": "markdown",
   "id": "240d67f1",
   "metadata": {},
   "source": [
    "Multiprocessing"
   ]
  },
  {
   "cell_type": "code",
   "execution_count": 1,
   "id": "c902eaea",
   "metadata": {},
   "outputs": [
    {
     "name": "stdout",
     "output_type": "stream",
     "text": [
      "finish :  p1\n",
      "finish :  p2\n",
      "finish :  p3\n",
      "finish :  p4\n",
      "time : 8.362955093383789\n"
     ]
    }
   ],
   "source": [
    "#1억 번 돌리는 작업을 순서대로 하나씩 실행할 경우 걸리는 시간\n",
    "import time\n",
    "\n",
    "num_list = ['p1','p2','p3','p4']\n",
    "start = time.time()\n",
    "\n",
    "def count(name):\n",
    "    for i in range(0, 100000000):\n",
    "        a=1+2\n",
    "        \n",
    "    print(\"finish : \",name)\n",
    "    \n",
    "for num in num_list:\n",
    "    count(num)\n",
    "    \n",
    "print(\"time :\", time.time() - start)"
   ]
  },
  {
   "cell_type": "code",
   "execution_count": null,
   "id": "4999ead7",
   "metadata": {},
   "outputs": [],
   "source": [
    "#1억 번 돌리는 작업을 병렬처리할 경우 걸리는 시간\n",
    "import multiprocessing\n",
    "import time\n",
    "\n",
    "num_list = ['p1','p2','p3','p4']\n",
    "start = time.time()\n",
    "\n",
    "def count(name):\n",
    "    for i in range(0, 100000000):\n",
    "        a=1+2\n",
    "    print(\"finish : \",name)\n",
    "    \n",
    "if __name__=='__main__':\n",
    "    pool = multiprocessing.Pool(processes = 4)\n",
    "    pool.map(count, num_list)\n",
    "    pool.close()\n",
    "    pool.join()\n",
    "    \n",
    "print(\"time :\", time.time() - start)"
   ]
  },
  {
   "cell_type": "code",
   "execution_count": 1,
   "id": "a25dd1bf",
   "metadata": {},
   "outputs": [],
   "source": [
    "import multiprocessing\n",
    "\n",
    "def count(name):\n",
    "    for i in range(0, 100000000):\n",
    "        a=1+2\n",
    "    print(\"finish : \",name)"
   ]
  },
  {
   "cell_type": "code",
   "execution_count": null,
   "id": "9fe2a3fa",
   "metadata": {},
   "outputs": [],
   "source": [
    "num_list = ['p1','p2', 'p3', 'p4']\n",
    "\n",
    "if __name__ == '__main__':\n",
    "    pool = multiprocessing.Pool(processes = 4)\n",
    "    pool.map(count, num_list)\n",
    "    pool.close()\n",
    "    pool.join()"
   ]
  }
 ],
 "metadata": {
  "kernelspec": {
   "display_name": "Python [conda env:.conda-py3] *",
   "language": "python",
   "name": "conda-env-.conda-py3-py"
  },
  "language_info": {
   "codemirror_mode": {
    "name": "ipython",
    "version": 3
   },
   "file_extension": ".py",
   "mimetype": "text/x-python",
   "name": "python",
   "nbconvert_exporter": "python",
   "pygments_lexer": "ipython3",
   "version": "3.8.10"
  },
  "vp": {
   "base_numbering": 1,
   "nav_menu": {},
   "number_sections": true,
   "sideBar": true,
   "title_cell": "VisualPython",
   "title_sidebar": "VisualPython",
   "vpPosition": {
    "height": "calc(100% - 180px)",
    "right": "10px",
    "top": "110px",
    "width": "50%"
   },
   "vp_cell": false,
   "vp_section_display": true,
   "vp_window_display": false
  }
 },
 "nbformat": 4,
 "nbformat_minor": 5
}
