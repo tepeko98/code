{
 "cells": [
  {
   "cell_type": "code",
   "execution_count": 2,
   "id": "8e52eaa4",
   "metadata": {
    "scrolled": true
   },
   "outputs": [
    {
     "name": "stdout",
     "output_type": "stream",
     "text": [
      "Requirement already satisfied: tensorflow in c:\\users\\user\\anaconda3\\envs\\py3_7_6\\lib\\site-packages (2.4.1)\n",
      "Requirement already satisfied: flatbuffers~=1.12.0 in c:\\users\\user\\anaconda3\\envs\\py3_7_6\\lib\\site-packages (from tensorflow) (1.12)\n",
      "Requirement already satisfied: h5py~=2.10.0 in c:\\users\\user\\anaconda3\\envs\\py3_7_6\\lib\\site-packages (from tensorflow) (2.10.0)\n",
      "Requirement already satisfied: opt-einsum~=3.3.0 in c:\\users\\user\\anaconda3\\envs\\py3_7_6\\lib\\site-packages (from tensorflow) (3.3.0)\n",
      "Requirement already satisfied: protobuf>=3.9.2 in c:\\users\\user\\anaconda3\\envs\\py3_7_6\\lib\\site-packages (from tensorflow) (3.15.6)\n",
      "Requirement already satisfied: typing-extensions~=3.7.4 in c:\\users\\user\\anaconda3\\envs\\py3_7_6\\lib\\site-packages (from tensorflow) (3.7.4.3)\n",
      "Requirement already satisfied: google-pasta~=0.2 in c:\\users\\user\\anaconda3\\envs\\py3_7_6\\lib\\site-packages (from tensorflow) (0.2.0)\n",
      "Requirement already satisfied: grpcio~=1.32.0 in c:\\users\\user\\anaconda3\\envs\\py3_7_6\\lib\\site-packages (from tensorflow) (1.32.0)\n",
      "Requirement already satisfied: tensorboard~=2.4 in c:\\users\\user\\anaconda3\\envs\\py3_7_6\\lib\\site-packages (from tensorflow) (2.4.1)\n",
      "Requirement already satisfied: termcolor~=1.1.0 in c:\\users\\user\\anaconda3\\envs\\py3_7_6\\lib\\site-packages (from tensorflow) (1.1.0)\n",
      "Requirement already satisfied: wheel~=0.35 in c:\\users\\user\\anaconda3\\envs\\py3_7_6\\lib\\site-packages (from tensorflow) (0.36.2)\n",
      "Requirement already satisfied: tensorflow-estimator<2.5.0,>=2.4.0 in c:\\users\\user\\anaconda3\\envs\\py3_7_6\\lib\\site-packages (from tensorflow) (2.4.0)\n",
      "Requirement already satisfied: six~=1.15.0 in c:\\users\\user\\anaconda3\\envs\\py3_7_6\\lib\\site-packages (from tensorflow) (1.15.0)\n",
      "Requirement already satisfied: absl-py~=0.10 in c:\\users\\user\\anaconda3\\envs\\py3_7_6\\lib\\site-packages (from tensorflow) (0.12.0)\n",
      "Requirement already satisfied: gast==0.3.3 in c:\\users\\user\\anaconda3\\envs\\py3_7_6\\lib\\site-packages (from tensorflow) (0.3.3)\n",
      "Requirement already satisfied: astunparse~=1.6.3 in c:\\users\\user\\anaconda3\\envs\\py3_7_6\\lib\\site-packages (from tensorflow) (1.6.3)\n",
      "Requirement already satisfied: wrapt~=1.12.1 in c:\\users\\user\\anaconda3\\envs\\py3_7_6\\lib\\site-packages (from tensorflow) (1.12.1)\n",
      "Requirement already satisfied: numpy~=1.19.2 in c:\\users\\user\\anaconda3\\envs\\py3_7_6\\lib\\site-packages (from tensorflow) (1.19.5)\n",
      "Requirement already satisfied: keras-preprocessing~=1.1.2 in c:\\users\\user\\anaconda3\\envs\\py3_7_6\\lib\\site-packages (from tensorflow) (1.1.2)\n",
      "Requirement already satisfied: requests<3,>=2.21.0 in c:\\users\\user\\anaconda3\\envs\\py3_7_6\\lib\\site-packages (from tensorboard~=2.4->tensorflow) (2.25.1)\n",
      "Requirement already satisfied: markdown>=2.6.8 in c:\\users\\user\\anaconda3\\envs\\py3_7_6\\lib\\site-packages (from tensorboard~=2.4->tensorflow) (3.3.4)\n",
      "Requirement already satisfied: setuptools>=41.0.0 in c:\\users\\user\\anaconda3\\envs\\py3_7_6\\lib\\site-packages (from tensorboard~=2.4->tensorflow) (52.0.0.post20210125)\n",
      "Requirement already satisfied: werkzeug>=0.11.15 in c:\\users\\user\\anaconda3\\envs\\py3_7_6\\lib\\site-packages (from tensorboard~=2.4->tensorflow) (1.0.1)\n",
      "Requirement already satisfied: google-auth-oauthlib<0.5,>=0.4.1 in c:\\users\\user\\anaconda3\\envs\\py3_7_6\\lib\\site-packages (from tensorboard~=2.4->tensorflow) (0.4.4)\n",
      "Requirement already satisfied: tensorboard-plugin-wit>=1.6.0 in c:\\users\\user\\anaconda3\\envs\\py3_7_6\\lib\\site-packages (from tensorboard~=2.4->tensorflow) (1.8.0)\n",
      "Requirement already satisfied: google-auth<2,>=1.6.3 in c:\\users\\user\\anaconda3\\envs\\py3_7_6\\lib\\site-packages (from tensorboard~=2.4->tensorflow) (1.28.0)\n",
      "Requirement already satisfied: rsa<5,>=3.1.4 in c:\\users\\user\\anaconda3\\envs\\py3_7_6\\lib\\site-packages (from google-auth<2,>=1.6.3->tensorboard~=2.4->tensorflow) (4.7.2)\n",
      "Requirement already satisfied: cachetools<5.0,>=2.0.0 in c:\\users\\user\\anaconda3\\envs\\py3_7_6\\lib\\site-packages (from google-auth<2,>=1.6.3->tensorboard~=2.4->tensorflow) (4.2.1)\n",
      "Requirement already satisfied: pyasn1-modules>=0.2.1 in c:\\users\\user\\anaconda3\\envs\\py3_7_6\\lib\\site-packages (from google-auth<2,>=1.6.3->tensorboard~=2.4->tensorflow) (0.2.8)\n",
      "Requirement already satisfied: requests-oauthlib>=0.7.0 in c:\\users\\user\\anaconda3\\envs\\py3_7_6\\lib\\site-packages (from google-auth-oauthlib<0.5,>=0.4.1->tensorboard~=2.4->tensorflow) (1.3.0)\n",
      "Requirement already satisfied: importlib-metadata in c:\\users\\user\\anaconda3\\envs\\py3_7_6\\lib\\site-packages (from markdown>=2.6.8->tensorboard~=2.4->tensorflow) (3.10.0)\n",
      "Requirement already satisfied: pyasn1<0.5.0,>=0.4.6 in c:\\users\\user\\anaconda3\\envs\\py3_7_6\\lib\\site-packages (from pyasn1-modules>=0.2.1->google-auth<2,>=1.6.3->tensorboard~=2.4->tensorflow) (0.4.8)\n",
      "Requirement already satisfied: urllib3<1.27,>=1.21.1 in c:\\users\\user\\anaconda3\\envs\\py3_7_6\\lib\\site-packages (from requests<3,>=2.21.0->tensorboard~=2.4->tensorflow) (1.26.4)\n",
      "Requirement already satisfied: idna<3,>=2.5 in c:\\users\\user\\anaconda3\\envs\\py3_7_6\\lib\\site-packages (from requests<3,>=2.21.0->tensorboard~=2.4->tensorflow) (2.10)\n",
      "Requirement already satisfied: chardet<5,>=3.0.2 in c:\\users\\user\\anaconda3\\envs\\py3_7_6\\lib\\site-packages (from requests<3,>=2.21.0->tensorboard~=2.4->tensorflow) (4.0.0)\n",
      "Requirement already satisfied: certifi>=2017.4.17 in c:\\users\\user\\anaconda3\\envs\\py3_7_6\\lib\\site-packages (from requests<3,>=2.21.0->tensorboard~=2.4->tensorflow) (2020.6.20)\n",
      "Requirement already satisfied: oauthlib>=3.0.0 in c:\\users\\user\\anaconda3\\envs\\py3_7_6\\lib\\site-packages (from requests-oauthlib>=0.7.0->google-auth-oauthlib<0.5,>=0.4.1->tensorboard~=2.4->tensorflow) (3.1.0)\n",
      "Requirement already satisfied: zipp>=0.5 in c:\\users\\user\\anaconda3\\envs\\py3_7_6\\lib\\site-packages (from importlib-metadata->markdown>=2.6.8->tensorboard~=2.4->tensorflow) (3.4.1)\n"
     ]
    }
   ],
   "source": [
    "!pip install tensorflow"
   ]
  },
  {
   "cell_type": "code",
   "execution_count": 3,
   "id": "5011a862",
   "metadata": {},
   "outputs": [],
   "source": [
    "import numpy as np\n",
    "import pandas as pd\n",
    "import matplotlib.pyplot as plt\n",
    "import sklearn\n",
    "import tensorflow as tf\n"
   ]
  },
  {
   "cell_type": "code",
   "execution_count": 5,
   "id": "dea3a4e6",
   "metadata": {},
   "outputs": [
    {
     "data": {
      "text/plain": [
       "'2.4.1'"
      ]
     },
     "execution_count": 5,
     "metadata": {},
     "output_type": "execute_result"
    }
   ],
   "source": [
    "tf.__version__"
   ]
  },
  {
   "cell_type": "markdown",
   "id": "17730d64",
   "metadata": {},
   "source": [
    "파이썬 시작"
   ]
  },
  {
   "cell_type": "code",
   "execution_count": 14,
   "id": "dd9edd59",
   "metadata": {},
   "outputs": [
    {
     "name": "stdout",
     "output_type": "stream",
     "text": [
      "2\n"
     ]
    }
   ],
   "source": [
    "a = 1+1\n",
    "print(a)"
   ]
  },
  {
   "cell_type": "code",
   "execution_count": 15,
   "id": "ceb63798",
   "metadata": {},
   "outputs": [
    {
     "data": {
      "text/plain": [
       "int"
      ]
     },
     "execution_count": 15,
     "metadata": {},
     "output_type": "execute_result"
    }
   ],
   "source": [
    "type(a)"
   ]
  },
  {
   "cell_type": "markdown",
   "id": "8904811a",
   "metadata": {},
   "source": [
    "float : 실수 (소수점이 있는 수) ex)3.14"
   ]
  },
  {
   "cell_type": "code",
   "execution_count": 16,
   "id": "709cdfeb",
   "metadata": {},
   "outputs": [],
   "source": [
    "## 재밌구만"
   ]
  },
  {
   "cell_type": "code",
   "execution_count": 26,
   "id": "95f0bb93",
   "metadata": {},
   "outputs": [
    {
     "name": "stdout",
     "output_type": "stream",
     "text": [
      "3.14 3 -3 재미\n"
     ]
    }
   ],
   "source": [
    "a = 3.14\n",
    "b = 3\n",
    "c = -3\n",
    "d = str(\"재미\")\n",
    "print(a, b, c, d)"
   ]
  },
  {
   "cell_type": "code",
   "execution_count": 7,
   "id": "60ea1e09",
   "metadata": {},
   "outputs": [
    {
     "name": "stdout",
     "output_type": "stream",
     "text": [
      "Hello! Python Programming...\n"
     ]
    }
   ],
   "source": [
    "print(\"Hello! Python Programming...\")"
   ]
  },
  {
   "cell_type": "code",
   "execution_count": 27,
   "id": "4d69f501",
   "metadata": {},
   "outputs": [
    {
     "name": "stdout",
     "output_type": "stream",
     "text": [
      "안녕하세요\n"
     ]
    }
   ],
   "source": [
    "print(\"안녕하세요\")"
   ]
  },
  {
   "cell_type": "code",
   "execution_count": 28,
   "id": "77cb34b3",
   "metadata": {
    "scrolled": true
   },
   "outputs": [
    {
     "name": "stdout",
     "output_type": "stream",
     "text": [
      "안녕하세요\n"
     ]
    }
   ],
   "source": [
    "print('안녕하세요')"
   ]
  },
  {
   "cell_type": "code",
   "execution_count": 31,
   "id": "e0344cc7",
   "metadata": {},
   "outputs": [],
   "source": [
    "#따옴표를 출력하고 싶으면 작은 따옴표와 큰 따옴표를 사용"
   ]
  },
  {
   "cell_type": "code",
   "execution_count": 1,
   "id": "9f6268dd",
   "metadata": {
    "scrolled": true
   },
   "outputs": [
    {
     "name": "stdout",
     "output_type": "stream",
     "text": [
      "\"안녕하세요\"라고 말했습니다\n"
     ]
    }
   ],
   "source": [
    "print('\"안녕하세요\"라고 말했습니다')"
   ]
  },
  {
   "cell_type": "code",
   "execution_count": 6,
   "id": "f30f9e95",
   "metadata": {},
   "outputs": [
    {
     "name": "stdout",
     "output_type": "stream",
     "text": [
      "'안녕하세요'라고 말했습니다\n"
     ]
    }
   ],
   "source": [
    "print(\"'안녕하세요'라고 말했습니다\")"
   ]
  },
  {
   "cell_type": "code",
   "execution_count": 32,
   "id": "25e8697d",
   "metadata": {},
   "outputs": [],
   "source": [
    "# 역슬래시는 \\"
   ]
  },
  {
   "cell_type": "code",
   "execution_count": 34,
   "id": "46f3f477",
   "metadata": {
    "scrolled": true
   },
   "outputs": [
    {
     "name": "stdout",
     "output_type": "stream",
     "text": [
      "\"안녕하세요\"라고 말했습니다\n"
     ]
    }
   ],
   "source": [
    "print(\"\\\"안녕하세요\\\"라고 말했습니다\")"
   ]
  },
  {
   "cell_type": "code",
   "execution_count": 7,
   "id": "bf28a94f",
   "metadata": {},
   "outputs": [
    {
     "name": "stdout",
     "output_type": "stream",
     "text": [
      "'안녕하세요'라고 말했습니다\n"
     ]
    }
   ],
   "source": [
    "print('\\'안녕하세요\\'라고 말했습니다')"
   ]
  },
  {
   "cell_type": "code",
   "execution_count": 35,
   "id": "eea18cd1",
   "metadata": {},
   "outputs": [],
   "source": [
    "# \\n : 줄바꿈 의미\n",
    "# \\t : 탭의 의미"
   ]
  },
  {
   "cell_type": "code",
   "execution_count": 42,
   "id": "de3f75e7",
   "metadata": {},
   "outputs": [
    {
     "name": "stdout",
     "output_type": "stream",
     "text": [
      "안녕\n",
      "hi\n"
     ]
    }
   ],
   "source": [
    "def 몰라():\n",
    "    print(\"안녕\")\n",
    "    print(\"hi\")\n",
    "    \n",
    "몰라()"
   ]
  },
  {
   "cell_type": "code",
   "execution_count": 48,
   "id": "d7bec451",
   "metadata": {},
   "outputs": [
    {
     "name": "stdout",
     "output_type": "stream",
     "text": [
      "안녕하세요\n",
      "안녕하세요\n",
      "안녕하세요\n",
      "안녕하세요\n",
      "안녕하세요\n"
     ]
    }
   ],
   "source": [
    "def 연습(value, n):\n",
    "    for i in range(n):\n",
    "        print(value)\n",
    "        \n",
    "연습(\"안녕하세요\", 5)"
   ]
  },
  {
   "cell_type": "code",
   "execution_count": 49,
   "id": "c7d5a66d",
   "metadata": {},
   "outputs": [
    {
     "name": "stdout",
     "output_type": "stream",
     "text": [
      "안녕하세요\n",
      "안녕하세요\n"
     ]
    }
   ],
   "source": [
    "print(\"안녕하세요\\n안녕하세요\") #\\n은 줄바꿈"
   ]
  },
  {
   "cell_type": "code",
   "execution_count": 51,
   "id": "77a484bb",
   "metadata": {},
   "outputs": [
    {
     "name": "stdout",
     "output_type": "stream",
     "text": [
      "안녕하세요\t안녕하세요\n"
     ]
    }
   ],
   "source": [
    "print(\"안녕하세요\\t안녕하세요\")#\\t는 탭"
   ]
  },
  {
   "cell_type": "code",
   "execution_count": 52,
   "id": "f96b52bd",
   "metadata": {},
   "outputs": [
    {
     "name": "stdout",
     "output_type": "stream",
     "text": [
      "이름\t나이\t지역\n",
      "윤인성\t24\t관악구\n",
      "윤아린\t25\t강서구\n",
      "구름\t18\t강동구\n"
     ]
    }
   ],
   "source": [
    "print(\"이름\\t나이\\t지역\")\n",
    "print(\"윤인성\\t24\\t관악구\")\n",
    "print(\"윤아린\\t25\\t강서구\")\n",
    "print(\"구름\\t18\\t강동구\")"
   ]
  },
  {
   "cell_type": "code",
   "execution_count": 54,
   "id": "8610de67",
   "metadata": {},
   "outputs": [
    {
     "name": "stdout",
     "output_type": "stream",
     "text": [
      "안녕 하세요!\n"
     ]
    }
   ],
   "source": [
    "print(\"안녕 \" + \"하세요!\")"
   ]
  },
  {
   "cell_type": "code",
   "execution_count": 55,
   "id": "198b3ed5",
   "metadata": {},
   "outputs": [
    {
     "name": "stdout",
     "output_type": "stream",
     "text": [
      "안녕하세요\n",
      "김가연입니다\n",
      "남자입니다\n",
      "24살입니다\n",
      "마르고닳도록\n",
      "\n"
     ]
    }
   ],
   "source": [
    "print(\"\"\"안녕하세요\n",
    "김가연입니다\n",
    "남자입니다\n",
    "24살입니다\n",
    "마르고닳도록\n",
    "\"\"\")"
   ]
  },
  {
   "cell_type": "code",
   "execution_count": 57,
   "id": "0c8608a9",
   "metadata": {},
   "outputs": [
    {
     "data": {
      "text/plain": [
       "'정말 진짜 1'"
      ]
     },
     "execution_count": 57,
     "metadata": {},
     "output_type": "execute_result"
    }
   ],
   "source": [
    "\"정말 \" + \"진짜 \" + str(1) #str로 묶으면 숫자형을 문자형으로 변환"
   ]
  },
  {
   "cell_type": "code",
   "execution_count": 61,
   "id": "3071eb1a",
   "metadata": {},
   "outputs": [
    {
     "name": "stdout",
     "output_type": "stream",
     "text": [
      "안녕하세요 안녕하세요 안녕하세요 \n",
      "안녕하세요 안녕하세요 안녕하세요 \n"
     ]
    }
   ],
   "source": [
    "print(\"안녕하세요 \" * 3)\n",
    "print(3 * \"안녕하세요 \")"
   ]
  },
  {
   "cell_type": "code",
   "execution_count": 71,
   "id": "0ace0e70",
   "metadata": {},
   "outputs": [
    {
     "name": "stdout",
     "output_type": "stream",
     "text": [
      "문자 선택 연산자\n",
      "안\n",
      "녕\n",
      "하\n",
      "세\n",
      "요\n",
      "요\n",
      "세\n",
      "하\n",
      "녕\n",
      "안\n"
     ]
    }
   ],
   "source": [
    "print(\"문자 선택 연산자\")\n",
    "print(\"안녕하세요\"[0])\n",
    "print(\"안녕하세요\"[1])\n",
    "print(\"안녕하세요\"[2])\n",
    "print(\"안녕하세요\"[3])\n",
    "print(\"안녕하세요\"[4])\n",
    "print(\"안녕하세요\"[-1])\n",
    "print(\"안녕하세요\"[-2])\n",
    "print(\"안녕하세요\"[-3])\n",
    "print(\"안녕하세요\"[-4])\n",
    "print(\"안녕하세요\"[-5])\n",
    "#코딩에서 순서는 0부터 시작하므로 0~(n-1) 라고 표현할 수 있다.\n",
    "#역순으로 할 때는 -1부터 시작한다. -1~-(n+1) 라고 표현할 수 있다.\n",
    "#transforse 전치행렬, 위치를 바꿨다는 것\n"
   ]
  },
  {
   "cell_type": "code",
   "execution_count": 90,
   "id": "c866089a",
   "metadata": {},
   "outputs": [
    {
     "name": "stdout",
     "output_type": "stream",
     "text": [
      "문자열 범위 선택 연산자\n",
      "녕하세\n",
      "안녕\n",
      "녕하\n",
      "하세\n",
      "안녕하세요\n",
      "안녕하세요\n",
      "안녕하세\n",
      "안\n",
      "녕하\n",
      "세요\n",
      "안녕\n",
      "하\n",
      "세요\n"
     ]
    }
   ],
   "source": [
    "print(\"문자열 범위 선택 연산자\")\n",
    "print(\"안녕하세요\"[1:4])\n",
    "print(\"안녕하세요\"[0:2])\n",
    "print(\"안녕하세요\"[1:3])\n",
    "print(\"안녕하세요\"[2:4])\n",
    "print(\"안녕하세요\"[0:])\n",
    "print(\"안녕하세요\"[:5])\n",
    "print(\"안녕하세요\"[-5:-1])\n",
    "print(\"안녕하세요\"[:-4])\n",
    "print(\"안녕하세요\"[-4:3])\n",
    "print(\"안녕하세요\"[-2:])\n",
    "print(\"안녕하세요\"[:-3])\n",
    "print(\"안녕하세요\"[2:-2])\n",
    "print(\"안녕하세요\"[-2:])\n",
    "#[a:b]일 때, a번째부터 b-1번째까지 출력한다.\n",
    "#왼쪽을 비우면 처음부터, 오른쪽을 비우면 끝까지 라는 의미이다."
   ]
  },
  {
   "cell_type": "code",
   "execution_count": 73,
   "id": "7446f035",
   "metadata": {
    "scrolled": true
   },
   "outputs": [
    {
     "name": "stdout",
     "output_type": "stream",
     "text": [
      "안녕하세요\n"
     ]
    }
   ],
   "source": [
    "hello = \"안녕하세요\"\n",
    "print(hello[:])\n",
    "#hello변수에 \"안녕하세요\"를 저장, print(hello)로 저장된 값 출력, [:]까지 활용"
   ]
  },
  {
   "cell_type": "code",
   "execution_count": 4,
   "id": "c799868b",
   "metadata": {},
   "outputs": [
    {
     "data": {
      "text/plain": [
       "str"
      ]
     },
     "execution_count": 4,
     "metadata": {},
     "output_type": "execute_result"
    }
   ],
   "source": [
    "type(\"안녕하세요\")"
   ]
  },
  {
   "cell_type": "code",
   "execution_count": 5,
   "id": "1d764e6a",
   "metadata": {},
   "outputs": [
    {
     "data": {
      "text/plain": [
       "int"
      ]
     },
     "execution_count": 5,
     "metadata": {},
     "output_type": "execute_result"
    }
   ],
   "source": [
    "type(123)"
   ]
  },
  {
   "cell_type": "code",
   "execution_count": 9,
   "id": "b0b5df26",
   "metadata": {},
   "outputs": [
    {
     "data": {
      "text/plain": [
       "6"
      ]
     },
     "execution_count": 9,
     "metadata": {},
     "output_type": "execute_result"
    }
   ],
   "source": [
    "len(\"안녕안녕하요\")"
   ]
  },
  {
   "cell_type": "code",
   "execution_count": 10,
   "id": "b8754f16",
   "metadata": {},
   "outputs": [
    {
     "name": "stdout",
     "output_type": "stream",
     "text": [
      "273\n"
     ]
    }
   ],
   "source": [
    "print(273)"
   ]
  },
  {
   "cell_type": "code",
   "execution_count": 1,
   "id": "b821e29b",
   "metadata": {},
   "outputs": [
    {
     "name": "stdout",
     "output_type": "stream",
     "text": [
      "이걸\n",
      "이걸\n",
      "이걸\n",
      "이걸\n",
      "이걸\n"
     ]
    }
   ],
   "source": [
    "def 오잉(value, n):\n",
    "    for i in range(n):\n",
    "        print(value)\n",
    "    \n",
    "오잉(\"이걸\", 5)"
   ]
  },
  {
   "cell_type": "code",
   "execution_count": 95,
   "id": "db686ca7",
   "metadata": {},
   "outputs": [
    {
     "name": "stdout",
     "output_type": "stream",
     "text": [
      "2 3 4 5 6 7 8 9  \n",
      "4 6 8 10 12 14 16 18  \n",
      "6 9 12 15 18 21 24 27  \n",
      "8 12 16 20 24 28 32 36  \n",
      "10 15 20 25 30 35 40 45  \n",
      "12 18 24 30 36 42 48 54  \n",
      "14 21 28 35 42 49 56 63  \n",
      "16 24 32 40 48 56 64 72  \n",
      "18 27 36 45 54 63 72 81  \n"
     ]
    }
   ],
   "source": [
    "for i in range(1, 10):\n",
    "    for j in range(2, 10):\n",
    "        print(i*j, end=' ')\n",
    "    print(\" \")"
   ]
  },
  {
   "cell_type": "code",
   "execution_count": 8,
   "id": "304a2fc8",
   "metadata": {},
   "outputs": [
    {
     "data": {
      "text/plain": [
       "0"
      ]
     },
     "execution_count": 8,
     "metadata": {},
     "output_type": "execute_result"
    }
   ],
   "source": [
    "10-10"
   ]
  },
  {
   "cell_type": "code",
   "execution_count": 9,
   "id": "919b15d9",
   "metadata": {},
   "outputs": [
    {
     "name": "stdout",
     "output_type": "stream",
     "text": [
      "hello\n"
     ]
    }
   ],
   "source": [
    "print(\"hello\")"
   ]
  },
  {
   "cell_type": "code",
   "execution_count": 10,
   "id": "dddf4f16",
   "metadata": {},
   "outputs": [
    {
     "name": "stdout",
     "output_type": "stream",
     "text": [
      "hello\n",
      "\n",
      "hello\n"
     ]
    }
   ],
   "source": [
    "print(\"hello\")\n",
    "print()\n",
    "print(\"hello\")"
   ]
  },
  {
   "cell_type": "code",
   "execution_count": 11,
   "id": "1e640c99",
   "metadata": {},
   "outputs": [
    {
     "name": "stdout",
     "output_type": "stream",
     "text": [
      "#하나만 출력합니다\n",
      "Hello Python Programming...\n",
      "\n"
     ]
    }
   ],
   "source": [
    "print(\"#하나만 출력합니다\")\n",
    "print(\"Hello Python Programming...\")\n",
    "print()"
   ]
  },
  {
   "cell_type": "code",
   "execution_count": 12,
   "id": "74e49c7b",
   "metadata": {},
   "outputs": [
    {
     "name": "stdout",
     "output_type": "stream",
     "text": [
      "#여러 개를 출력합니다\n",
      "10, 20, 30, 40, 50\n",
      "안녕하세요 저의 이름은 김가연입니다.\n",
      "\n"
     ]
    }
   ],
   "source": [
    "print(\"#여러 개를 출력합니다\")\n",
    "print(\"10, 20, 30, 40, 50\")\n",
    "print(\"안녕하세요\", \"저의\", \"이름은\", \"김가연입니다.\")\n",
    "print()"
   ]
  },
  {
   "cell_type": "code",
   "execution_count": 13,
   "id": "788cf102",
   "metadata": {},
   "outputs": [
    {
     "name": "stdout",
     "output_type": "stream",
     "text": [
      "#아무것도 입력하지 않으면 단순하게 줄바꿈합니다.\n",
      "--확인전용선--\n",
      "\n",
      "\n",
      "--확인전용선--\n"
     ]
    }
   ],
   "source": [
    "print(\"#아무것도 입력하지 않으면 단순하게 줄바꿈합니다.\")\n",
    "print(\"--확인전용선--\")\n",
    "print()\n",
    "print()\n",
    "print(\"--확인전용선--\")"
   ]
  }
 ],
 "metadata": {
  "kernelspec": {
   "display_name": "Python 3",
   "language": "python",
   "name": "python3"
  },
  "language_info": {
   "codemirror_mode": {
    "name": "ipython",
    "version": 3
   },
   "file_extension": ".py",
   "mimetype": "text/x-python",
   "name": "python",
   "nbconvert_exporter": "python",
   "pygments_lexer": "ipython3",
   "version": "3.8.10"
  }
 },
 "nbformat": 4,
 "nbformat_minor": 5
}
