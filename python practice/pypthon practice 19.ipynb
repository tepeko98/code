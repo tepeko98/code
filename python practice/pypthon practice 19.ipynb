{
 "cells": [
  {
   "cell_type": "markdown",
   "id": "d255a26e",
   "metadata": {},
   "source": [
    "1-1 인공지능과 가위바위보 하기"
   ]
  },
  {
   "cell_type": "code",
   "execution_count": 1,
   "id": "48266985",
   "metadata": {},
   "outputs": [],
   "source": [
    "#손글씨 분류기 활용.\n",
    "#데이터 준비->딥러닝 네트워크 설계->학습->테스트(평가)"
   ]
  },
  {
   "cell_type": "markdown",
   "id": "cfc273e1",
   "metadata": {},
   "source": [
    "1-2 데이터를 준비하자!"
   ]
  },
  {
   "cell_type": "markdown",
   "id": "4a265fd9",
   "metadata": {},
   "source": [
    "MNIST 숫자 손글씨 Dataset 불러들이기"
   ]
  },
  {
   "cell_type": "code",
   "execution_count": 2,
   "id": "d0860a4c",
   "metadata": {},
   "outputs": [
    {
     "name": "stdout",
     "output_type": "stream",
     "text": [
      "2.3.0\n",
      "Downloading data from https://storage.googleapis.com/tensorflow/tf-keras-datasets/mnist.npz\n",
      "11493376/11490434 [==============================] - 0s 0us/step\n",
      "60000\n"
     ]
    }
   ],
   "source": [
    "import tensorflow as tf\n",
    "from tensorflow import keras\n",
    "import numpy as np\n",
    "import matplotlib.pyplot as plt\n",
    "print(tf.__version__) # Tensorflow의 버전을 출력\n",
    "mnist = keras.datasets.mnist\n",
    "# MNIST 데이터를 로드. 다운로드하지 않았다면 다운로드까지 자동으로 진행됩니다.\n",
    "(x_train, y_train), (x_test, y_test) = mnist.load_data()\n",
    "print(len(x_train)) # x_train 배열의 크기를 출력"
   ]
  },
  {
   "cell_type": "code",
   "execution_count": 5,
   "id": "3e8cde29",
   "metadata": {},
   "outputs": [
    {
     "data": {
      "image/png": "[encoded data removed]",
      "text/plain": [
       "<Figure size 432x288 with 1 Axes>"
      ]
     },
     "metadata": {
      "needs_background": "light"
     },
     "output_type": "display_data"
    },
    {
     "name": "stdout",
     "output_type": "stream",
     "text": [
      "\n",
      "0\n"
     ]
    }
   ],
   "source": [
    "plt.imshow(x_train[1],cmap=plt.cm.binary)\n",
    "plt.show()\n",
    "print()\n",
    "print(y_train[1])\n"
   ]
  },
  {
   "cell_type": "code",
   "execution_count": 7,
   "id": "8f771656",
   "metadata": {},
   "outputs": [
    {
     "data": {
      "image/png": "[encoded data removed]",
      "text/plain": [
       "<Figure size 432x288 with 1 Axes>"
      ]
     },
     "metadata": {
      "needs_background": "light"
     },
     "output_type": "display_data"
    },
    {
     "name": "stdout",
     "output_type": "stream",
     "text": [
      "12345 번째 이미지의 숫자는 바로  3 입니다.\n"
     ]
    }
   ],
   "source": [
    "# index에 0에서 59999 사이 숫자를 지정해 보세요.\n",
    "index=12344\n",
    "plt.imshow(x_train[index],cmap=plt.cm.binary)\n",
    "plt.show()\n",
    "print( (index+1), '번째 이미지의 숫자는 바로 ', y_train[index], '입니다.')"
   ]
  },
  {
   "cell_type": "code",
   "execution_count": 8,
   "id": "97a3f8ff",
   "metadata": {},
   "outputs": [
    {
     "name": "stdout",
     "output_type": "stream",
     "text": [
      "(60000, 28, 28)\n",
      "(10000, 28, 28)\n"
     ]
    }
   ],
   "source": [
    "#학습용 데이터의 수\n",
    "print(x_train.shape)\n",
    "#시험용 데이터의 수\n",
    "print(x_test.shape)"
   ]
  },
  {
   "cell_type": "markdown",
   "id": "bfa80ffe",
   "metadata": {},
   "source": [
    "데이터 전처리 하기"
   ]
  },
  {
   "cell_type": "code",
   "execution_count": 12,
   "id": "07cfd140",
   "metadata": {},
   "outputs": [
    {
     "name": "stdout",
     "output_type": "stream",
     "text": [
      "최솟값:  0 최댓값:  255\n",
      "최솟값: 0.0 최댓값: 1.0\n"
     ]
    }
   ],
   "source": [
    "print('최솟값: ', np.min(x_train), '최댓값: ', np.max(x_train))\n",
    "#MNIST 데이터는 각 필셀의 값이 0~255 사이 범위에 있으므로\n",
    "#인공지능 모델을 훈련시키고 사용할 때 입력은 0~1이 좋으므로\n",
    "#데이터들을 255.0으로 나누어 준다.\n",
    "x_train_norm, x_test_norm = x_train/255, x_test/255\n",
    "print('최솟값:', np.min(x_train_norm),'최댓값:', np.max(x_test_norm))"
   ]
  },
  {
   "cell_type": "markdown",
   "id": "b183316f",
   "metadata": {},
   "source": [
    "1-3 딥러닝 네트워크 설계\\\n",
    "Sequenential Model을 사용해 보자"
   ]
  },
  {
   "cell_type": "code",
   "execution_count": 15,
   "id": "8865ce4f",
   "metadata": {},
   "outputs": [
    {
     "name": "stdout",
     "output_type": "stream",
     "text": [
      "Model에 추가된 Layer 개수:  7\n",
      "\n",
      "Model: \"sequential_2\"\n",
      "_________________________________________________________________\n",
      "Layer (type)                 Output Shape              Param #   \n",
      "=================================================================\n",
      "conv2d_4 (Conv2D)            (None, 26, 26, 16)        160       \n",
      "_________________________________________________________________\n",
      "max_pooling2d_4 (MaxPooling2 (None, 13, 13, 16)        0         \n",
      "_________________________________________________________________\n",
      "conv2d_5 (Conv2D)            (None, 11, 11, 32)        4640      \n",
      "_________________________________________________________________\n",
      "max_pooling2d_5 (MaxPooling2 (None, 5, 5, 32)          0         \n",
      "_________________________________________________________________\n",
      "flatten_2 (Flatten)          (None, 800)               0         \n",
      "_________________________________________________________________\n",
      "dense_4 (Dense)              (None, 32)                25632     \n",
      "_________________________________________________________________\n",
      "dense_5 (Dense)              (None, 10)                330       \n",
      "=================================================================\n",
      "Total params: 30,762\n",
      "Trainable params: 30,762\n",
      "Non-trainable params: 0\n",
      "_________________________________________________________________\n"
     ]
    }
   ],
   "source": [
    "#tf.keras의 Sequential API를 이용하여\n",
    "#LeNet이라는 딥러닝 네트워크를 설계한 예\n",
    "model=keras.models.Sequential()\n",
    "model.add(keras.layers.Conv2D(16, (3,3), activation='relu', input_shape=(28,28,1)))\n",
    "model.add(keras.layers.MaxPool2D(2,2))\n",
    "model.add(keras.layers.Conv2D(32, (3,3), activation='relu'))\n",
    "model.add(keras.layers.MaxPooling2D((2,2)))\n",
    "model.add(keras.layers.Flatten())\n",
    "model.add(keras.layers.Dense(32, activation='relu'))\n",
    "model.add(keras.layers.Dense(10, activation='softmax'))\n",
    "print('Model에 추가된 Layer 개수: ', len(model.layers))\n",
    "print()\n",
    "#딥러닝 네트워크 모델 확인\n",
    "model.summary()"
   ]
  },
  {
   "cell_type": "markdown",
   "id": "c6b39eb2",
   "metadata": {},
   "source": [
    "1-4 딥러닝 네트워크 학습시키기"
   ]
  },
  {
   "cell_type": "code",
   "execution_count": 17,
   "id": "d0ffde85",
   "metadata": {},
   "outputs": [
    {
     "name": "stdout",
     "output_type": "stream",
     "text": [
      "Before Reshape - x_train_norm shape: (60000, 28, 28)\n",
      "Before Reshape - x_test_norm shape: (10000, 28, 28)\n",
      "After Reshape - x_train_reshaped shape: (60000, 28, 28, 1)\n",
      "After Reshape - x_test_reshaped shape: (10000, 28, 28, 1)\n"
     ]
    }
   ],
   "source": [
    "#우리가 만든 네트워크의 입력은 (데이터개수, 이미지크기x, 이미지크기y, 채널수)\n",
    "#와 같은 형태를 가진다. 위에서 첫번째 레이어에 input_shape=(28,28,1)로 지정했는데,\n",
    "#print(x_train.shape)을 해보면 (60000,28,28)로 채널수에 대한 정보가 없으므로\n",
    "#(60000,28,28,1)f로 만들어 주어야 한다.\n",
    "#여기서 채널수 1은 흑백, 컬러라면 R,G,B이므로 3\n",
    "print(\"Before Reshape - x_train_norm shape: {}\".format(x_train_norm.shape))\n",
    "print(\"Before Reshape - x_test_norm shape: {}\".format(x_test_norm.shape))\n",
    "x_train_reshaped=x_train_norm.reshape( -1, 28, 28, 1)\n",
    "x_test_reshaped=x_test_norm.reshape( -1, 28, 28, 1)\n",
    "# 데이터갯수에 -1을 쓰면 reshape시 자동계산됩니다.\n",
    "print(\"After Reshape - x_train_reshaped shape: {}\".format(x_train_reshaped.shape))\n",
    "print(\"After Reshape - x_test_reshaped shape: {}\".format(x_test_reshaped.shape))"
   ]
  },
  {
   "cell_type": "code",
   "execution_count": 18,
   "id": "7ff89ed7",
   "metadata": {},
   "outputs": [
    {
     "name": "stdout",
     "output_type": "stream",
     "text": [
      "Epoch 1/10\n",
      "1875/1875 [==============================] - 16s 9ms/step - loss: 0.2010 - accuracy: 0.9381\n",
      "Epoch 2/10\n",
      "1875/1875 [==============================] - 16s 9ms/step - loss: 0.0670 - accuracy: 0.9793\n",
      "Epoch 3/10\n",
      "1875/1875 [==============================] - 15s 8ms/step - loss: 0.0495 - accuracy: 0.9846\n",
      "Epoch 4/10\n",
      "1875/1875 [==============================] - 16s 9ms/step - loss: 0.0394 - accuracy: 0.9874\n",
      "Epoch 5/10\n",
      "1875/1875 [==============================] - 17s 9ms/step - loss: 0.0309 - accuracy: 0.9902\n",
      "Epoch 6/10\n",
      "1875/1875 [==============================] - 16s 9ms/step - loss: 0.0258 - accuracy: 0.9915\n",
      "Epoch 7/10\n",
      "1875/1875 [==============================] - 16s 9ms/step - loss: 0.0209 - accuracy: 0.9934\n",
      "Epoch 8/10\n",
      "1875/1875 [==============================] - 16s 9ms/step - loss: 0.0178 - accuracy: 0.9943\n",
      "Epoch 9/10\n",
      "1875/1875 [==============================] - 16s 9ms/step - loss: 0.0161 - accuracy: 0.9947\n",
      "Epoch 10/10\n",
      "1875/1875 [==============================] - 15s 8ms/step - loss: 0.0119 - accuracy: 0.9961\n"
     ]
    },
    {
     "data": {
      "text/plain": [
       "<tensorflow.python.keras.callbacks.History at 0x244b0641940>"
      ]
     },
     "execution_count": 18,
     "metadata": {},
     "output_type": "execute_result"
    }
   ],
   "source": [
    "#x_train 학습 데이터로 딥러닝 네트워크 학습시키기\n",
    "#여기서 epochs=10 은 전체 60.000개의 데이터를 10번 반복 사용해서\n",
    "#학습 시키라는 뜻이다. model의 입력 정의에 형태를 맞춘 x_train_reshaped 사용\n",
    "model.compile(optimizer='adam',\n",
    "              loss='sparse_categorical_crossentropy',\n",
    "              metrics=['accuracy'])\n",
    "\n",
    "model.fit(x_train_reshaped, y_train, epochs=10)\n",
    "#각 학습이 진행됨에 따라 epoch 별로 어느 정도 인식 정확도가 올라가는지 확인할 수 있다.\n",
    "#9 epoch정도부터는 인식률 상승이 미미하므로 10 epoch정도가 적당하다."
   ]
  },
  {
   "cell_type": "markdown",
   "id": "b920f430",
   "metadata": {},
   "source": [
    "1-5 얼마나 잘 만들었는지 확인하기"
   ]
  },
  {
   "cell_type": "code",
   "execution_count": 19,
   "id": "1e1b5f3b",
   "metadata": {},
   "outputs": [
    {
     "name": "stdout",
     "output_type": "stream",
     "text": [
      "313/313 - 1s - loss: 0.0543 - accuracy: 0.9845\n",
      "test_loss: 0.054344385862350464 \n",
      "test_accuracy: 0.984499990940094\n"
     ]
    }
   ],
   "source": [
    "#시험용 데이터를 가지고 테스트 해보기\n",
    "test_loss, test_accuracy = model.evaluate(x_test_reshaped,y_test, verbose=2)\n",
    "print(\"test_loss: {} \".format(test_loss))\n",
    "print(\"test_accuracy: {}\".format(test_accuracy))\n",
    "#예상보다 낮은 점수(98.45)가 나옴"
   ]
  },
  {
   "cell_type": "code",
   "execution_count": 21,
   "id": "cfb44ebd",
   "metadata": {},
   "outputs": [
    {
     "name": "stdout",
     "output_type": "stream",
     "text": [
      "model.predict() 결과 :  [2.6343819e-12 6.4158737e-13 5.6960964e-10 2.6090681e-09 2.6025270e-13\n",
      " 6.8705832e-13 9.8867998e-19 1.0000000e+00 5.0642897e-14 6.0947664e-11]\n",
      "model이 추론한 가장 가능성이 높은 결과 :  7\n",
      "실제 데이터의 라벨 :  7\n"
     ]
    },
    {
     "data": {
      "image/png": "[encoded data removed]",
      "text/plain": [
       "<Figure size 432x288 with 1 Axes>"
      ]
     },
     "metadata": {
      "needs_background": "light"
     },
     "output_type": "display_data"
    }
   ],
   "source": [
    "#어떤 데이터가 잘못됐는지 확인해보기\n",
    "predicted_result = model.predict(x_test_reshaped) # model이 추론한 확률값.\n",
    "predicted_labels = np.argmax(predicted_result, axis=1)\n",
    "idx=0 #1번째 x_test를 살펴보자.\n",
    "print('model.predict() 결과 : ', predicted_result[idx])\n",
    "print('model이 추론한 가장 가능성이 높은 결과 : ', predicted_labels[idx])\n",
    "print('실제 데이터의 라벨 : ', y_test[idx])\n",
    "plt.imshow(x_test[idx],cmap=plt.cm.binary)\n",
    "plt.show()"
   ]
  },
  {
   "cell_type": "code",
   "execution_count": 24,
   "id": "24e0c07b",
   "metadata": {},
   "outputs": [
    {
     "name": "stdout",
     "output_type": "stream",
     "text": [
      "예측확률분포: [1.9687722e-10 6.9239810e-08 2.4205759e-12 2.6544740e-07 4.8277277e-01\n",
      " 6.2991248e-09 8.0643938e-12 5.1632998e-08 4.3829447e-09 5.1722682e-01]\n",
      "라벨: 4, 예측결과: 9\n",
      "예측확률분포: [9.0612394e-07 1.9062889e-09 7.1289785e-02 9.1910410e-01 2.5828961e-09\n",
      " 1.6883414e-08 9.8119824e-07 3.9167108e-07 9.5987311e-03 5.0269241e-06]\n",
      "라벨: 2, 예측결과: 3\n",
      "예측확률분포: [1.9000712e-12 6.9751268e-06 1.0681473e-08 9.4895256e-01 5.2756137e-09\n",
      " 5.1039107e-02 2.3177563e-07 8.8079717e-12 1.0551676e-06 2.5279007e-08]\n",
      "라벨: 5, 예측결과: 3\n",
      "예측확률분포: [2.4080262e-07 6.0180746e-02 1.7767269e-02 5.6630035e-04 1.2469864e-06\n",
      " 5.0585442e-11 3.8916302e-14 9.2146295e-01 5.0468356e-07 2.0616653e-05]\n",
      "라벨: 2, 예측결과: 7\n",
      "예측확률분포: [9.9020630e-01 1.6639791e-05 9.0695225e-04 1.3846922e-05 8.8634780e-09\n",
      " 1.2545073e-09 9.1723450e-06 6.5556141e-03 2.2841191e-03 7.4020527e-06]\n",
      "라벨: 2, 예측결과: 0\n"
     ]
    },
    {
     "data": {
      "image/png": "[encoded data removed]",
      "text/plain": [
       "<Figure size 432x288 with 1 Axes>"
      ]
     },
     "metadata": {
      "needs_background": "light"
     },
     "output_type": "display_data"
    }
   ],
   "source": [
    "#틀린 경우 확인해보기\n",
    "import random\n",
    "wrong_predict_list=[]\n",
    "for i, _ in enumerate(predicted_labels):\n",
    "    # i번째 test_labels과 y_test이 다른 경우만 모아 봅시다.\n",
    "    if predicted_labels[i] != y_test[i]:\n",
    "        wrong_predict_list.append(i)\n",
    "        # wrong_predict_list 에서 랜덤하게 5개만 뽑아봅시다.\n",
    "samples = random.choices(population=wrong_predict_list, k=5)\n",
    "for n in samples:\n",
    "    print(\"예측확률분포: \" + str(predicted_result[n]))\n",
    "    print(\"라벨: \" + str(y_test[n]) + \", 예측결과: \" + str(predicted_labels[n]))\n",
    "plt.imshow(x_test[n], cmap=plt.cm.binary)\n",
    "plt.show()"
   ]
  },
  {
   "cell_type": "markdown",
   "id": "ae3f62c0",
   "metadata": {},
   "source": [
    "1-6 더 좋은 네트워크 만들기"
   ]
  },
  {
   "cell_type": "code",
   "execution_count": 25,
   "id": "5d0aae52",
   "metadata": {},
   "outputs": [
    {
     "name": "stdout",
     "output_type": "stream",
     "text": [
      "Model: \"sequential_3\"\n",
      "_________________________________________________________________\n",
      "Layer (type)                 Output Shape              Param #   \n",
      "=================================================================\n",
      "conv2d_6 (Conv2D)            (None, 26, 26, 16)        160       \n",
      "_________________________________________________________________\n",
      "max_pooling2d_6 (MaxPooling2 (None, 13, 13, 16)        0         \n",
      "_________________________________________________________________\n",
      "conv2d_7 (Conv2D)            (None, 11, 11, 32)        4640      \n",
      "_________________________________________________________________\n",
      "max_pooling2d_7 (MaxPooling2 (None, 5, 5, 32)          0         \n",
      "_________________________________________________________________\n",
      "flatten_3 (Flatten)          (None, 800)               0         \n",
      "_________________________________________________________________\n",
      "dense_6 (Dense)              (None, 32)                25632     \n",
      "_________________________________________________________________\n",
      "dense_7 (Dense)              (None, 10)                330       \n",
      "=================================================================\n",
      "Total params: 30,762\n",
      "Trainable params: 30,762\n",
      "Non-trainable params: 0\n",
      "_________________________________________________________________\n",
      "Epoch 1/10\n",
      "1875/1875 [==============================] - 17s 9ms/step - loss: 0.2195 - accuracy: 0.9317\n",
      "Epoch 2/10\n",
      "1875/1875 [==============================] - 17s 9ms/step - loss: 0.0697 - accuracy: 0.9783\n",
      "Epoch 3/10\n",
      "1875/1875 [==============================] - 17s 9ms/step - loss: 0.0511 - accuracy: 0.9844\n",
      "Epoch 4/10\n",
      "1875/1875 [==============================] - 16s 9ms/step - loss: 0.0396 - accuracy: 0.9876\n",
      "Epoch 5/10\n",
      "1875/1875 [==============================] - 16s 9ms/step - loss: 0.0336 - accuracy: 0.9894\n",
      "Epoch 6/10\n",
      "1875/1875 [==============================] - 16s 9ms/step - loss: 0.0289 - accuracy: 0.9911\n",
      "Epoch 7/10\n",
      "1875/1875 [==============================] - 17s 9ms/step - loss: 0.0226 - accuracy: 0.9926\n",
      "Epoch 8/10\n",
      "1875/1875 [==============================] - 17s 9ms/step - loss: 0.0204 - accuracy: 0.9934\n",
      "Epoch 9/10\n",
      "1875/1875 [==============================] - 17s 9ms/step - loss: 0.0166 - accuracy: 0.9946\n",
      "Epoch 10/10\n",
      "1875/1875 [==============================] - 16s 9ms/step - loss: 0.0147 - accuracy: 0.9952\n",
      "313/313 - 1s - loss: 0.0414 - accuracy: 0.9879\n",
      "test_loss: 0.04143911227583885 \n",
      "test_accuracy: 0.9879000186920166\n"
     ]
    }
   ],
   "source": [
    "#하이퍼 피라미드 바꾸기\n",
    "#바꿔 볼 수 있는 하이퍼파라미터들\n",
    "n_channel_1=16\n",
    "n_channel_2=32\n",
    "n_dense=32\n",
    "n_train_epoch=10\n",
    "model=keras.models.Sequential()\n",
    "model.add(keras.layers.Conv2D(n_channel_1, (3,3), activation='relu', input_shape=\n",
    "(28,28,1)))\n",
    "model.add(keras.layers.MaxPool2D(2,2))\n",
    "model.add(keras.layers.Conv2D(n_channel_2, (3,3), activation='relu'))\n",
    "model.add(keras.layers.MaxPooling2D((2,2)))\n",
    "model.add(keras.layers.Flatten())\n",
    "model.add(keras.layers.Dense(n_dense, activation='relu'))\n",
    "model.add(keras.layers.Dense(10, activation='softmax'))\n",
    "model.summary()\n",
    "model.compile(optimizer='adam',\n",
    "             loss='sparse_categorical_crossentropy',\n",
    "             metrics=['accuracy'])\n",
    "# 모델 훈련\n",
    "model.fit(x_train_reshaped, y_train, epochs=n_train_epoch)\n",
    "# 모델 시험\n",
    "test_loss, test_accuracy = model.evaluate(x_test_reshaped, y_test, verbose=2)\n",
    "print(\"test_loss: {} \".format(test_loss))\n",
    "print(\"test_accuracy: {}\".format(test_accuracy))"
   ]
  },
  {
   "cell_type": "markdown",
   "id": "13052ef2",
   "metadata": {},
   "source": [
    "1-7 프로젝트: 가위바위보 분류기 만들기"
   ]
  },
  {
   "cell_type": "code",
   "execution_count": 17,
   "id": "d96c3e40",
   "metadata": {},
   "outputs": [
    {
     "name": "stdout",
     "output_type": "stream",
     "text": [
      "PIL 라이브러리 import 완료\n"
     ]
    }
   ],
   "source": [
    "# PIL 라이브러리가 설치되어 있지 않다면 설치\n",
    "#!pip install pillow\n",
    "from PIL import Image\n",
    "import os, glob\n",
    "import pandas as pd\n",
    "import numpy as np\n",
    "print(\"PIL 라이브러리 import 완료\")"
   ]
  },
  {
   "cell_type": "code",
   "execution_count": 12,
   "id": "53f31f9b",
   "metadata": {},
   "outputs": [
    {
     "name": "stdout",
     "output_type": "stream",
     "text": [
      "이미지 디렉토리 경로:  ./data/rock_scissor_paper/scissor\n",
      "가위 이미지 resize 완료\n"
     ]
    }
   ],
   "source": [
    "#가위 이미지 불러오기\n",
    "image_dir_path = \"./data/rock_scissor_paper/scissor\"\n",
    "print(\"이미지 디렉토리 경로: \", image_dir_path)\n",
    "\n",
    "images = glob.glob(image_dir_path + \"/*.jpg\")\n",
    "\n",
    "#모든 파일을 28*28 사이즈로 바꾸어 저장\n",
    "target_size = (28,28)\n",
    "for img in images:\n",
    "    old_img=Image.open(img)\n",
    "    new_img=old_img.resize(target_size,Image.ANTIALIAS)\n",
    "    new_img.save(img,\"JPEG\")\n",
    "    \n",
    "print(\"가위 이미지 resize 완료\")"
   ]
  },
  {
   "cell_type": "code",
   "execution_count": 13,
   "id": "f57e46ed",
   "metadata": {},
   "outputs": [
    {
     "name": "stdout",
     "output_type": "stream",
     "text": [
      "이미지 디렉토리 경로:  ./data/rock_scissor_paper/rock\n",
      "바위 이미지 resize 완료\n"
     ]
    }
   ],
   "source": [
    "#바위 이미지 불러오기\n",
    "image_dir_path = \"./data/rock_scissor_paper/rock\"\n",
    "print(\"이미지 디렉토리 경로: \", image_dir_path)\n",
    "\n",
    "images = glob.glob(image_dir_path + \"/*.jpg\")\n",
    "\n",
    "#모든 파일을 28*28 사이즈로 바꾸어 저장\n",
    "target_size = (28,28)\n",
    "for img in images:\n",
    "    old_img=Image.open(img)\n",
    "    new_img=old_img.resize(target_size,Image.ANTIALIAS)\n",
    "    new_img.save(img,\"JPEG\")\n",
    "    \n",
    "print(\"바위 이미지 resize 완료\")"
   ]
  },
  {
   "cell_type": "code",
   "execution_count": 14,
   "id": "2686379c",
   "metadata": {},
   "outputs": [
    {
     "name": "stdout",
     "output_type": "stream",
     "text": [
      "이미지 디렉토리 경로:  ./data/rock_scissor_paper/paper\n",
      "보 이미지 resize 완료\n"
     ]
    }
   ],
   "source": [
    "#보 이미지 불러오기\n",
    "image_dir_path = \"./data/rock_scissor_paper/paper\"\n",
    "print(\"이미지 디렉토리 경로: \", image_dir_path)\n",
    "\n",
    "images = glob.glob(image_dir_path + \"/*.jpg\")\n",
    "\n",
    "#모든 파일을 28*28 사이즈로 바꾸어 저장\n",
    "target_size = (28,28)\n",
    "for img in images:\n",
    "    old_img=Image.open(img)\n",
    "    new_img=old_img.resize(target_size,Image.ANTIALIAS)\n",
    "    new_img.save(img,\"JPEG\")\n",
    "    \n",
    "print(\"보 이미지 resize 완료\")"
   ]
  },
  {
   "cell_type": "code",
   "execution_count": 29,
   "id": "a69c8a40",
   "metadata": {},
   "outputs": [
    {
     "name": "stdout",
     "output_type": "stream",
     "text": [
      "학습데이터(x_train)의 이미지 개수는 300 입니다.\n",
      "x_train shape: (300, 28, 28, 3)\n",
      "y_train shape: (300,)\n"
     ]
    }
   ],
   "source": [
    "def load_data(img_path):\n",
    "    # 가위 : 0, 바위 : 1, 보 : 2\n",
    "    number_of_data=300 # 가위바위보 이미지 개수 총합에 주의하세요.\n",
    "    img_size=28\n",
    "    color=3\n",
    "    #이미지 데이터와 라벨(가위 : 0, 바위 : 1, 보 : 2) 데이터를 담을 행렬(matrix) 영역을 생성합니다.\n",
    "    imgs=np.zeros(number_of_data*img_size*img_size*color,dtype=np.int32).reshape(number_of_data,img_size,img_size,color)\n",
    "    labels=np.zeros(number_of_data,dtype=np.int32)\n",
    "    idx=0\n",
    "    for file in glob.iglob(img_path+'/scissor/*.jpg'):\n",
    "        img = np.array(Image.open(file),dtype=np.int32)\n",
    "        imgs[idx,:,:,:]=img # 데이터 영역에 이미지 행렬을 복사\n",
    "        labels[idx]=0 # 가위 : 0\n",
    "        idx=idx+1\n",
    "    for file in glob.iglob(img_path+'/rock/*.jpg'):\n",
    "        img = np.array(Image.open(file),dtype=np.int32)\n",
    "        imgs[idx,:,:,:]=img # 데이터 영역에 이미지 행렬을 복사\n",
    "        labels[idx]=1 # 바위 : 1\n",
    "        idx=idx+1\n",
    "    for file in glob.iglob(img_path+'/paper/*.jpg'):\n",
    "        img = np.array(Image.open(file),dtype=np.int32)\n",
    "        imgs[idx,:,:,:]=img # 데이터 영역에 이미지 행렬을 복사\n",
    "        labels[idx]=2 # 보 : 2\n",
    "        idx=idx+1\n",
    "    print(\"학습데이터(x_train)의 이미지 개수는\",idx,\"입니다.\")\n",
    "    return imgs, labels\n",
    "image_dir_path = \"./data/rock_scissor_paper\"\n",
    "(x_train, y_train)=load_data(image_dir_path)\n",
    "x_train_norm = x_train/255.0 # 입력은 0~1 사이의 값으로 정규화\n",
    "\n",
    "print(\"x_train shape: {}\".format(x_train.shape))\n",
    "print(\"y_train shape: {}\".format(y_train.shape))\n"
   ]
  },
  {
   "cell_type": "code",
   "execution_count": 30,
   "id": "d4e81a28",
   "metadata": {},
   "outputs": [
    {
     "name": "stdout",
     "output_type": "stream",
     "text": [
      "라벨:  0\n"
     ]
    },
    {
     "data": {
      "image/png": "[encoded data removed]",
      "text/plain": [
       "<Figure size 432x288 with 1 Axes>"
      ]
     },
     "metadata": {
      "needs_background": "light"
     },
     "output_type": "display_data"
    }
   ],
   "source": [
    "import matplotlib.pyplot as plt\n",
    "plt.imshow(x_train[0])\n",
    "print('라벨: ', y_train[0])\n",
    "라벨: 0"
   ]
  },
  {
   "cell_type": "markdown",
   "id": "88dc92e5",
   "metadata": {},
   "source": [
    "1-8 for 문 활용, 한 번에 resize 하는 방법"
   ]
  },
  {
   "cell_type": "code",
   "execution_count": 35,
   "id": "48b9ae5b",
   "metadata": {},
   "outputs": [
    {
     "name": "stdout",
     "output_type": "stream",
     "text": [
      "리사이징 완료\n"
     ]
    }
   ],
   "source": [
    "image_directory = \"./data/rock_scissor_paper/paper\"\n",
    "path_pool = \"/rock\", \"/scissor\", \"/paper\"\n",
    "target_size=(28, 28)\n",
    "for path in path_pool:\n",
    "    images=glob.glob(image_directory + path + \"/*.jpg\")\n",
    "for img in images:\n",
    "    old_img=Image.open(img)\n",
    "    new_img=old_img.resize(target_size, Image.ANTIALIAS)\n",
    "    new_img.save(img, \"JPEG\")\n",
    "print(\"리사이징 완료\")\n"
   ]
  },
  {
   "cell_type": "code",
   "execution_count": null,
   "id": "79d7c791",
   "metadata": {},
   "outputs": [],
   "source": []
  }
 ],
 "metadata": {
  "kernelspec": {
   "display_name": "Python 3",
   "language": "python",
   "name": "python3"
  },
  "language_info": {
   "codemirror_mode": {
    "name": "ipython",
    "version": 3
   },
   "file_extension": ".py",
   "mimetype": "text/x-python",
   "name": "python",
   "nbconvert_exporter": "python",
   "pygments_lexer": "ipython3",
   "version": "3.8.10"
  },
  "vp": {
   "base_numbering": 1,
   "nav_menu": {},
   "number_sections": true,
   "sideBar": true,
   "title_cell": "VisualPython",
   "title_sidebar": "VisualPython",
   "vpPosition": {
    "height": "calc(100% - 180px)",
    "right": "10px",
    "top": "110px",
    "width": "50%"
   },
   "vp_cell": false,
   "vp_section_display": true,
   "vp_window_display": false
  }
 },
 "nbformat": 4,
 "nbformat_minor": 5
}
