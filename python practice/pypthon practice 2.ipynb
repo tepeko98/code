{
 "cells": [
  {
   "cell_type": "code",
   "execution_count": 2,
   "metadata": {},
   "outputs": [
    {
     "name": "stdout",
     "output_type": "stream",
     "text": [
      "5+7= 12\n"
     ]
    }
   ],
   "source": [
    "print(\"5+7=\", 5+7)"
   ]
  },
  {
   "cell_type": "code",
   "execution_count": 5,
   "metadata": {},
   "outputs": [
    {
     "name": "stdout",
     "output_type": "stream",
     "text": [
      "8\n"
     ]
    }
   ],
   "source": [
    "print(2**3) #**는 제곱"
   ]
  },
  {
   "cell_type": "code",
   "execution_count": 7,
   "metadata": {},
   "outputs": [
    {
     "name": "stdout",
     "output_type": "stream",
     "text": [
      "1.5\n"
     ]
    }
   ],
   "source": [
    "print(3/2) # 나누기"
   ]
  },
  {
   "cell_type": "code",
   "execution_count": 8,
   "metadata": {},
   "outputs": [
    {
     "name": "stdout",
     "output_type": "stream",
     "text": [
      "2\n"
     ]
    }
   ],
   "source": [
    "print(8//3) #몫"
   ]
  },
  {
   "cell_type": "code",
   "execution_count": 9,
   "metadata": {},
   "outputs": [
    {
     "name": "stdout",
     "output_type": "stream",
     "text": [
      "1\n"
     ]
    }
   ],
   "source": [
    "print(3//2)"
   ]
  },
  {
   "cell_type": "code",
   "execution_count": 15,
   "metadata": {},
   "outputs": [
    {
     "data": {
      "text/plain": [
       "'문자열273'"
      ]
     },
     "execution_count": 15,
     "metadata": {},
     "output_type": "execute_result"
    }
   ],
   "source": [
    "string = \"문자열\"\n",
    "number = 273\n",
    "string + str(number)  #문자열과 숫자열이 동시에 출력할 수 없으므로\n",
    "#숫자열을 문자열로 변환한다"
   ]
  },
  {
   "cell_type": "code",
   "execution_count": 17,
   "metadata": {},
   "outputs": [],
   "source": [
    "pi = 3.14 #변수 지정"
   ]
  },
  {
   "cell_type": "code",
   "execution_count": 18,
   "metadata": {},
   "outputs": [
    {
     "name": "stdout",
     "output_type": "stream",
     "text": [
      "3.14\n"
     ]
    }
   ],
   "source": [
    "print(pi) #변수 출력"
   ]
  },
  {
   "cell_type": "code",
   "execution_count": 20,
   "metadata": {},
   "outputs": [
    {
     "data": {
      "text/plain": [
       "(5.140000000000001, 0.14000000000000012, 6.28)"
      ]
     },
     "execution_count": 20,
     "metadata": {},
     "output_type": "execute_result"
    }
   ],
   "source": [
    "pi + 2, pi - 3, pi + pi"
   ]
  },
  {
   "cell_type": "code",
   "execution_count": 23,
   "metadata": {},
   "outputs": [
    {
     "name": "stdout",
     "output_type": "stream",
     "text": [
      "원주율 =  3.14159265\n",
      "반지름 =  10\n",
      "원의 둘레 =  62.831853\n",
      "원의 넓이 =  314.159265\n",
      "둘레는 뭘까요?  62.831853\n",
      "넓이는 뭘까요?  314.159265\n"
     ]
    }
   ],
   "source": [
    "pi = 3.14159265\n",
    "r = 10\n",
    "print(\"원주율 = \", pi)\n",
    "print(\"반지름 = \", r)\n",
    "print(\"원의 둘레 = \", 2*pi*r)\n",
    "print(\"원의 넓이 = \", pi*r*r)\n",
    "\n",
    "둘레 = 2*pi*r\n",
    "넓이 = pi*r**2\n",
    "\n",
    "print(\"둘레는 뭘까요? \", 둘레)\n",
    "print(\"넓이는 뭘까요? \", 넓이)\n"
   ]
  },
  {
   "cell_type": "code",
   "execution_count": 26,
   "metadata": {},
   "outputs": [
    {
     "name": "stdout",
     "output_type": "stream",
     "text": [
      "17\n"
     ]
    }
   ],
   "source": [
    "a = 10\n",
    "a += 10 # a = 20\n",
    "a -= 3 # a = 17\n",
    "print(a) # +=, -= 등으로 줄여서 활용 가능, a += 10 은 a = a + 10 과 같다.\n"
   ]
  },
  {
   "cell_type": "code",
   "execution_count": 28,
   "metadata": {
    "scrolled": true
   },
   "outputs": [
    {
     "name": "stdout",
     "output_type": "stream",
     "text": [
      "인사말 입력하세요하이하이\n"
     ]
    },
    {
     "data": {
      "text/plain": [
       "'하이하이'"
      ]
     },
     "execution_count": 28,
     "metadata": {},
     "output_type": "execute_result"
    }
   ],
   "source": [
    "input(\"인사말 입력하세요 \")"
   ]
  },
  {
   "cell_type": "code",
   "execution_count": 35,
   "metadata": {},
   "outputs": [
    {
     "name": "stdout",
     "output_type": "stream",
     "text": [
      "number = 160\n"
     ]
    }
   ],
   "source": [
    "number = 100\n",
    "number += 10\n",
    "number += 20\n",
    "number += 30\n",
    "print(\"number =\", number)"
   ]
  },
  {
   "cell_type": "code",
   "execution_count": 38,
   "metadata": {},
   "outputs": [
    {
     "name": "stdout",
     "output_type": "stream",
     "text": [
      "string =  안녕하세요!!\n"
     ]
    }
   ],
   "source": [
    "string = \"안녕하세요\"\n",
    "string += \"!\"\n",
    "string += \"!\"\n",
    "print(\"string = \", string)"
   ]
  },
  {
   "cell_type": "code",
   "execution_count": 41,
   "metadata": {},
   "outputs": [
    {
     "name": "stdout",
     "output_type": "stream",
     "text": [
      "인사말을 입력해주세요>안녕하세요!\n",
      "안녕하세요!\n",
      "<class 'str'>\n"
     ]
    }
   ],
   "source": [
    "string = input(\"인사말을 입력해주세요>\")\n",
    "print(string)\n",
    "print(type(string))"
   ]
  },
  {
   "cell_type": "code",
   "execution_count": 42,
   "metadata": {},
   "outputs": [
    {
     "name": "stdout",
     "output_type": "stream",
     "text": [
      "숫자를 입력하세요>123\n",
      "123\n",
      "<class 'str'>\n"
     ]
    }
   ],
   "source": [
    "num = input(\"숫자를 입력하세요>\") # input함수는 무엇을 입력해도 문자열로 출력\n",
    "print(num)\n",
    "print(type(string))"
   ]
  },
  {
   "cell_type": "code",
   "execution_count": 44,
   "metadata": {},
   "outputs": [
    {
     "name": "stdout",
     "output_type": "stream",
     "text": [
      "입력> 안녕\n",
      "자료: 안녕\n",
      "자료형: <class 'str'>\n"
     ]
    }
   ],
   "source": [
    "string = input(\"입력> \")\n",
    "print(\"자료:\", string)\n",
    "print(\"자료형:\", type(string))"
   ]
  },
  {
   "cell_type": "code",
   "execution_count": 47,
   "metadata": {},
   "outputs": [
    {
     "name": "stdout",
     "output_type": "stream",
     "text": [
      "입력> 123\n",
      "입력 + 100: 123100\n"
     ]
    }
   ],
   "source": [
    "string = input(\"입력> \")\n",
    "print(\"입력 + 100:\", string + str(100))"
   ]
  },
  {
   "cell_type": "code",
   "execution_count": 34,
   "metadata": {},
   "outputs": [
    {
     "name": "stdout",
     "output_type": "stream",
     "text": [
      "입력바람_a> 277\n",
      "입력바람_b> 59\n",
      "문자열 자료:  27759\n",
      "숫자 자료:  336\n"
     ]
    }
   ],
   "source": [
    "str_a = input(\"입력바람_a> \")\n",
    "int_a = int(str_a)\n",
    "\n",
    "str_b = input(\"입력바람_b> \")\n",
    "int_b = int(str_b)\n",
    "\n",
    "print(\"문자열 자료: \", str_a + str_b) #문자열은 더하면 나열된다.\n",
    "print(\"숫자 자료: \", int_a + int_b) #숫자열은 수식이 된다."
   ]
  },
  {
   "cell_type": "code",
   "execution_count": 49,
   "metadata": {},
   "outputs": [
    {
     "name": "stdout",
     "output_type": "stream",
     "text": [
      "<class 'str'> 52\n",
      "<class 'str'> 52.123\n"
     ]
    }
   ],
   "source": [
    "output_a = \"52\"\n",
    "output_b = \"52.123\"\n",
    "print(type(output_a), output_a)\n",
    "print(type(output_b), output_b)"
   ]
  },
  {
   "cell_type": "code",
   "execution_count": 50,
   "metadata": {
    "scrolled": true
   },
   "outputs": [
    {
     "name": "stdout",
     "output_type": "stream",
     "text": [
      "덧셈 결과: 5.0\n",
      "뺄셈 결과: -1.0\n",
      "곱셈 결과: 6.0\n",
      "나눗셈 결과: 0.6666666666666666\n"
     ]
    }
   ],
   "source": [
    "input_a = float(int(2))\n",
    "input_b = float(int(3))\n",
    "print(\"덧셈 결과:\", input_a + input_b)\n",
    "print(\"뺄셈 결과:\", input_a - input_b)\n",
    "print(\"곱셈 결과:\", input_a * input_b)\n",
    "print(\"나눗셈 결과:\", input_a / input_b)"
   ]
  },
  {
   "cell_type": "code",
   "execution_count": 57,
   "metadata": {},
   "outputs": [
    {
     "name": "stdout",
     "output_type": "stream",
     "text": [
      "52\n",
      "52.3\n",
      "5252.3\n"
     ]
    }
   ],
   "source": [
    "a = str(52)\n",
    "b = str(52.30)\n",
    "print(a)\n",
    "print(b)\n",
    "print(a + b)\n",
    "\n"
   ]
  },
  {
   "cell_type": "code",
   "execution_count": 55,
   "metadata": {},
   "outputs": [
    {
     "data": {
      "text/plain": [
       "str"
      ]
     },
     "execution_count": 55,
     "metadata": {},
     "output_type": "execute_result"
    }
   ],
   "source": [
    "type(b)"
   ]
  },
  {
   "cell_type": "code",
   "execution_count": 56,
   "metadata": {},
   "outputs": [
    {
     "data": {
      "text/plain": [
       "str"
      ]
     },
     "execution_count": 56,
     "metadata": {},
     "output_type": "execute_result"
    }
   ],
   "source": [
    "type(a)"
   ]
  },
  {
   "cell_type": "code",
   "execution_count": 60,
   "metadata": {},
   "outputs": [
    {
     "data": {
      "text/plain": [
       "'10'"
      ]
     },
     "execution_count": 60,
     "metadata": {},
     "output_type": "execute_result"
    }
   ],
   "source": [
    "\"{}\".format(10) # 숫자를 문자열로"
   ]
  },
  {
   "cell_type": "code",
   "execution_count": 61,
   "metadata": {},
   "outputs": [
    {
     "data": {
      "text/plain": [
       "'101 202 303 404 505'"
      ]
     },
     "execution_count": 61,
     "metadata": {},
     "output_type": "execute_result"
    }
   ],
   "source": [
    "\"{} {} {} {} {}\".format(101,202,303,404,505)"
   ]
  },
  {
   "cell_type": "code",
   "execution_count": 64,
   "metadata": {},
   "outputs": [
    {
     "name": "stdout",
     "output_type": "stream",
     "text": [
      "5000만 원\n",
      "파이썬 열공하여 첫 연봉 5000만 원 만들기! \n",
      "3000 4000 5000\n",
      "1 문자열 True\n"
     ]
    }
   ],
   "source": [
    "# format() 함수로 숫자를 문자열로 변환하기\n",
    "format_a = \"{}만 원\".format(5000)\n",
    "format_b = \"파이썬 열공하여 첫 연봉 {}만 원 만들기! \".format(5000)\n",
    "format_c = \"{} {} {}\".format(3000, 4000, 5000)\n",
    "format_d = \"{} {} {}\".format(1, \"문자열\", True)\n",
    "\n",
    "print(format_a)\n",
    "print(format_b)\n",
    "print(format_c)\n",
    "print(format_d)"
   ]
  },
  {
   "cell_type": "code",
   "execution_count": 67,
   "metadata": {},
   "outputs": [
    {
     "name": "stdout",
     "output_type": "stream",
     "text": [
      "52\n",
      "   52\n"
     ]
    }
   ],
   "source": [
    "a = \"{:d}\".format(52) # {:d}는 정수로 표현하라는 것\n",
    "print(a)\n",
    "b = \"{:5d}\".format(52) #{:5d}는 5칸 띄우라는 것\n",
    "print(b)"
   ]
  },
  {
   "cell_type": "code",
   "execution_count": 68,
   "metadata": {},
   "outputs": [
    {
     "data": {
      "text/plain": [
       "'00052'"
      ]
     },
     "execution_count": 68,
     "metadata": {},
     "output_type": "execute_result"
    }
   ],
   "source": [
    "a = \"{:05d}\".format(52) # 전체를 5까지로 하고 빈 칸을 0으로 채우라는 것\n",
    "print(a)"
   ]
  },
  {
   "cell_type": "code",
   "execution_count": 70,
   "metadata": {},
   "outputs": [
    {
     "name": "stdout",
     "output_type": "stream",
     "text": [
      "+52\n",
      "-52\n",
      " 52\n",
      "-52\n"
     ]
    }
   ],
   "source": [
    "output_f = \"{:+d}\".format(52) #양수\n",
    "output_g = \"{:+d}\".format(-52) #음수\n",
    "output_h = \"{: d}\".format(52) #양수: 기호 부분 공백\n",
    "output_i = \"{: d}\".format(-52) #음수: 기호 부분 공백\n",
    "print(output_f)\n",
    "print(output_g)\n",
    "print(output_h)\n",
    "print(output_i)"
   ]
  },
  {
   "cell_type": "code",
   "execution_count": 80,
   "metadata": {},
   "outputs": [
    {
     "name": "stdout",
     "output_type": "stream",
     "text": [
      "#정수:\n",
      " 52\n",
      "#특정 칸에 출력:\n",
      "    52         52\n",
      "#빈 칸을 0, -으로 채움:\n",
      " 00052 -0052\n"
     ]
    }
   ],
   "source": [
    "#정수\n",
    "output_a = \"{:d}\".format(52)\n",
    "\n",
    "#특정 칸에 출력\n",
    "output_b = \"{:5d}\".format(52)\n",
    "output_c = \"{:10d}\".format(52)\n",
    "\n",
    "#빈 칸을 0, -으로 채움\n",
    "output_d = \"{:05d}\".format(52)\n",
    "output_e = \"{:05d}\".format(-52)\n",
    "\n",
    "print(\"#정수:\\n\", output_a)\n",
    "print(\"#특정 칸에 출력:\\n\", output_b, output_c)\n",
    "print(\"#빈 칸을 0, -으로 채움:\\n\", output_d, output_e)"
   ]
  },
  {
   "cell_type": "code",
   "execution_count": 5,
   "metadata": {},
   "outputs": [
    {
     "name": "stdout",
     "output_type": "stream",
     "text": [
      "  +52\n",
      "  -52\n",
      "+  52\n",
      "-  52\n",
      "+0052\n",
      "-0052\n"
     ]
    }
   ],
   "source": [
    "output_f = \"{:+5d}\".format(52) #기호를 뒤로 밀기:양수\n",
    "output_g = \"{:+5d}\".format(-52) #기호를 뒤로 밀기:음수\n",
    "output_h = \"{:=+5d}\".format(52) #기호를 앞으로 당기기:양수\n",
    "output_i = \"{:=+5d}\".format(-52) #기호를 앞으로 당기기:음수\n",
    "output_j = \"{:+05d}\".format(52) #빈 칸 0으로 채우기:양수\n",
    "output_k = \"{:+05d}\".format(-52) #빈 칸 0으로 채우기:음수\n",
    "\n",
    "print(output_f)\n",
    "print(output_g)\n",
    "print(output_h)\n",
    "print(output_i)\n",
    "print(output_j)\n",
    "print(output_k)"
   ]
  },
  {
   "cell_type": "code",
   "execution_count": 14,
   "metadata": {},
   "outputs": [
    {
     "name": "stdout",
     "output_type": "stream",
     "text": [
      "52.352000\n",
      "         52.352\n",
      "          52.35\n"
     ]
    }
   ],
   "source": [
    "output_a = \"{:f}\".format(52.352) #float(실수) 표현\n",
    "output_b = \"{:15.3f}\".format(52.352) #15자리까지 띄우고 소수점 셋째자리까지 표현\n",
    "output_c = \"{:15.2f}\".format(52.352) #15자리까지 띄우고 소수점 둘째자리까지 표현\n",
    "\n",
    "print(output_a)\n",
    "print(output_b)\n",
    "print(output_c)"
   ]
  },
  {
   "cell_type": "code",
   "execution_count": 15,
   "metadata": {},
   "outputs": [
    {
     "data": {
      "text/plain": [
       "str"
      ]
     },
     "execution_count": 15,
     "metadata": {},
     "output_type": "execute_result"
    }
   ],
   "source": [
    "type(output_a) #실수를 표현하였지만 문자열"
   ]
  },
  {
   "cell_type": "code",
   "execution_count": 17,
   "metadata": {},
   "outputs": [
    {
     "data": {
      "text/plain": [
       "52.352"
      ]
     },
     "execution_count": 17,
     "metadata": {},
     "output_type": "execute_result"
    }
   ],
   "source": [
    "float(output_a) #문자열을 숫자열로 변환"
   ]
  },
  {
   "cell_type": "code",
   "execution_count": 18,
   "metadata": {},
   "outputs": [
    {
     "data": {
      "text/plain": [
       "52"
      ]
     },
     "execution_count": 18,
     "metadata": {},
     "output_type": "execute_result"
    }
   ],
   "source": [
    "round(52.352) #round 함수"
   ]
  },
  {
   "cell_type": "code",
   "execution_count": 19,
   "metadata": {},
   "outputs": [
    {
     "name": "stdout",
     "output_type": "stream",
     "text": [
      "52.0\n",
      "52\n"
     ]
    }
   ],
   "source": [
    "output_a = 52.0\n",
    "output_b = \"{:g}\".format(output_a) #소수점 표시 안 함\n",
    "print(output_a)\n",
    "print(output_b)"
   ]
  },
  {
   "cell_type": "code",
   "execution_count": 22,
   "metadata": {},
   "outputs": [
    {
     "data": {
      "text/plain": [
       "'HELLO. EVERYONE'"
      ]
     },
     "execution_count": 22,
     "metadata": {},
     "output_type": "execute_result"
    }
   ],
   "source": [
    "a = \"hello. everyone\"\n",
    "a.upper() # 다 대문자로 표현\n"
   ]
  },
  {
   "cell_type": "code",
   "execution_count": 25,
   "metadata": {},
   "outputs": [
    {
     "data": {
      "text/plain": [
       "'hello. everyone'"
      ]
     },
     "execution_count": 25,
     "metadata": {},
     "output_type": "execute_result"
    }
   ],
   "source": [
    "b = \"HELLO. EVERYONE\"\n",
    "b.lower() # 다 소문자로 표현"
   ]
  },
  {
   "cell_type": "code",
   "execution_count": 30,
   "metadata": {},
   "outputs": [
    {
     "name": "stdout",
     "output_type": "stream",
     "text": [
      "코딩은\n",
      "재밌습니다.\n"
     ]
    }
   ],
   "source": [
    "a = \"\"\"\n",
    "            코딩은\n",
    "재밌습니다.\"\"\"\n",
    "print(a.strip()) #strip은 공백 제거, java언어를 python으로 옮길 때 등"
   ]
  },
  {
   "cell_type": "code",
   "execution_count": 31,
   "metadata": {},
   "outputs": [
    {
     "name": "stdout",
     "output_type": "stream",
     "text": [
      "0\n",
      "2\n"
     ]
    }
   ],
   "source": [
    "a = \"안녕안녕하세요\".find(\"안녕\") #왼쪽부터 찾기 #0번째에 나왔다는 뜻\n",
    "b = \"안녕안녕하세요\".rfind(\"안녕\") #오른쪽부터 찾기 #헷갈려\n",
    "print(a)\n",
    "print(b)"
   ]
  },
  {
   "cell_type": "code",
   "execution_count": 34,
   "metadata": {},
   "outputs": [
    {
     "name": "stdout",
     "output_type": "stream",
     "text": [
      "True\n",
      "False\n"
     ]
    }
   ],
   "source": [
    "print(\"안녕\" in \"안녕하세요\") #안에 있는지 찾기 # in 연산자\n",
    "print(\"잘자\" in \"안녕하세요\")"
   ]
  },
  {
   "cell_type": "code",
   "execution_count": 46,
   "metadata": {},
   "outputs": [
    {
     "name": "stdout",
     "output_type": "stream",
     "text": [
      "['10', '20', '30', '40', '50', '60']\n",
      "['10 20 30 40 50 60']\n"
     ]
    }
   ],
   "source": [
    "a = \"10 20 30 40 50 60\".split(\" \") #split는 문자열 자르기\n",
    "print(a)\n",
    "b = \"10 20 30 40 50 60\".split(\",\") #사이에 쉼표 가능\n",
    "print(b)"
   ]
  },
  {
   "cell_type": "code",
   "execution_count": 47,
   "metadata": {},
   "outputs": [
    {
     "name": "stdout",
     "output_type": "stream",
     "text": [
      "False\n",
      "True\n",
      "True\n",
      "False\n",
      "True\n",
      "False\n"
     ]
    }
   ],
   "source": [
    "print(10 == 100) #f 불 자료형(boolean)\n",
    "print(10 != 100) #t\n",
    "print(10 < 100) #t\n",
    "print(10 > 100) #f\n",
    "print(10 <= 100) #t\n",
    "print(10 >= 100) #f"
   ]
  },
  {
   "cell_type": "code",
   "execution_count": 48,
   "metadata": {},
   "outputs": [
    {
     "name": "stdout",
     "output_type": "stream",
     "text": [
      "True\n",
      "True\n",
      "True\n",
      "False\n"
     ]
    }
   ],
   "source": [
    "print(\"가방\" == \"가방\")\n",
    "print(\"가방\" != \"하마\")\n",
    "print(\"가방\" < \"하마\") # 문자열의 데이터 크기 비교\n",
    "print(\"가방\" > \"하마\")"
   ]
  },
  {
   "cell_type": "code",
   "execution_count": 49,
   "metadata": {},
   "outputs": [
    {
     "name": "stdout",
     "output_type": "stream",
     "text": [
      "False\n",
      "True\n"
     ]
    }
   ],
   "source": [
    "print(not True) #not 연산자, 반대로 바꿀 때 사용\n",
    "print(not False)#if, in, not 같이 쓰는 경우 많음"
   ]
  },
  {
   "cell_type": "code",
   "execution_count": 52,
   "metadata": {},
   "outputs": [
    {
     "name": "stdout",
     "output_type": "stream",
     "text": [
      "under_20: True\n",
      "not under_20: False\n"
     ]
    }
   ],
   "source": [
    "x = 10\n",
    "under_20 = x < 20\n",
    "print(\"under_20:\", under_20)\n",
    "print(\"not under_20:\", not under_20) "
   ]
  },
  {
   "cell_type": "code",
   "execution_count": 53,
   "metadata": {},
   "outputs": [
    {
     "name": "stdout",
     "output_type": "stream",
     "text": [
      "True\n",
      "왕 참이에요\n"
     ]
    }
   ],
   "source": [
    "if True:\n",
    "    print(\"True\")\n",
    "    print(\"왕 참이에요\")\n",
    "    "
   ]
  },
  {
   "cell_type": "code",
   "execution_count": 58,
   "metadata": {},
   "outputs": [
    {
     "name": "stdout",
     "output_type": "stream",
     "text": [
      "정수 입력> -1\n",
      "음수입니다\n"
     ]
    }
   ],
   "source": [
    "#정수를 입력\n",
    "number = input(\"정수 입력> \")\n",
    "number = int(number)\n",
    "#양수 조건\n",
    "if number > 0:\n",
    "    print(\"양수입니다\")\n",
    "#음수 조건    \n",
    "if number < 0:\n",
    "    print(\"음수입니다\")\n",
    "#0 조건\n",
    "if number == 0:\n",
    "    print(\"0입니다\")"
   ]
  },
  {
   "cell_type": "code",
   "execution_count": 59,
   "metadata": {},
   "outputs": [],
   "source": [
    "import datetime #datetime 기능 사용"
   ]
  },
  {
   "cell_type": "code",
   "execution_count": 85,
   "metadata": {},
   "outputs": [],
   "source": [
    "now = datetime.datetime.now() # 현재 시각 출력"
   ]
  },
  {
   "cell_type": "code",
   "execution_count": 86,
   "metadata": {},
   "outputs": [
    {
     "name": "stdout",
     "output_type": "stream",
     "text": [
      "2021\n"
     ]
    }
   ],
   "source": [
    "print(now.year)"
   ]
  },
  {
   "cell_type": "code",
   "execution_count": 87,
   "metadata": {},
   "outputs": [
    {
     "name": "stdout",
     "output_type": "stream",
     "text": [
      "4\n"
     ]
    }
   ],
   "source": [
    "print(now.month)"
   ]
  },
  {
   "cell_type": "code",
   "execution_count": 88,
   "metadata": {},
   "outputs": [
    {
     "name": "stdout",
     "output_type": "stream",
     "text": [
      "1\n"
     ]
    }
   ],
   "source": [
    "print(now.day)"
   ]
  },
  {
   "cell_type": "code",
   "execution_count": 89,
   "metadata": {},
   "outputs": [
    {
     "name": "stdout",
     "output_type": "stream",
     "text": [
      "14\n"
     ]
    }
   ],
   "source": [
    "print(now.hour)"
   ]
  },
  {
   "cell_type": "code",
   "execution_count": 90,
   "metadata": {},
   "outputs": [
    {
     "name": "stdout",
     "output_type": "stream",
     "text": [
      "59\n"
     ]
    }
   ],
   "source": [
    "print(now.minute) #now.까지 치고 shift + tab 누르면 설명 뜸"
   ]
  },
  {
   "cell_type": "code",
   "execution_count": 91,
   "metadata": {},
   "outputs": [
    {
     "name": "stdout",
     "output_type": "stream",
     "text": [
      "35\n"
     ]
    }
   ],
   "source": [
    "print(now.second)"
   ]
  },
  {
   "cell_type": "code",
   "execution_count": 99,
   "metadata": {},
   "outputs": [
    {
     "name": "stdout",
     "output_type": "stream",
     "text": [
      "2021/ 4/ 1/ 14: 59: 35\n"
     ]
    }
   ],
   "source": [
    "print(\"{}/ {}/ {}/ {}: {}: {}\".format(\n",
    "    now.year,\n",
    "    now.month,\n",
    "    now.day,\n",
    "    now.hour,\n",
    "    now.minute,\n",
    "    now.second\n",
    "))"
   ]
  },
  {
   "cell_type": "code",
   "execution_count": 104,
   "metadata": {},
   "outputs": [
    {
     "name": "stdout",
     "output_type": "stream",
     "text": [
      "현재 시각은 15시로 오후입니다.\n"
     ]
    }
   ],
   "source": [
    "now = datetime.datetime.now()\n",
    "if now.hour < 12:\n",
    "    print(\"현재 시각은 {}시로 오전입니다.\".format(now.hour))\n",
    "    \n",
    "if now.hour > 12:\n",
    "    print(\"현재 시각은 {}시로 오후입니다.\".format(now.hour))"
   ]
  },
  {
   "cell_type": "markdown",
   "metadata": {},
   "source": [
    "기준: 계절 구분, 3개월 단위로 함(연간 12개월)"
   ]
  },
  {
   "cell_type": "code",
   "execution_count": 1,
   "metadata": {},
   "outputs": [
    {
     "name": "stdout",
     "output_type": "stream",
     "text": [
      "이번 달은 4월로 봄입니다.\n"
     ]
    }
   ],
   "source": [
    "import datetime\n",
    "now = datetime.datetime.now()\n",
    "\n",
    "if 3 <= now.month <= 5:\n",
    "    print(\"이번 달은 {}월로 봄입니다.\".format(now.month))\n",
    "    \n",
    "if 6 <= now.month <= 8:\n",
    "    print(\"이번 달은 {}월로 여름입니다.\".format(now.month))\n",
    "    \n",
    "if 9 <= now.month <= 11:\n",
    "    print(\"이번 달은 {}월로 가을입니다.\".format(now.month))\n",
    "    \n",
    "if now.month == 12 or 1 <= now.month <= 2:\n",
    "    print(\"이번 달은 {}월로 겨울입니다.\".format(now.month))"
   ]
  },
  {
   "cell_type": "code",
   "execution_count": 3,
   "metadata": {},
   "outputs": [
    {
     "name": "stdout",
     "output_type": "stream",
     "text": [
      "정수 입력>135839674381\n",
      "홀수입니다\n"
     ]
    }
   ],
   "source": [
    "num = input(\"정수 입력>\")\n",
    "char = num[-1]\n",
    "re_num = int(char)\n",
    "if re_num % 2 == 0:\n",
    "    print(\"짝수입니다.\")\n",
    "else:\n",
    "    print(\"홀수입니다\")"
   ]
  },
  {
   "cell_type": "code",
   "execution_count": 9,
   "metadata": {},
   "outputs": [
    {
     "name": "stdout",
     "output_type": "stream",
     "text": [
      "점수 입력> 0\n",
      "시대를 앞서가는 혁명의 씨앗\n"
     ]
    }
   ],
   "source": [
    "score = float(input(\"점수 입력> \"))\n",
    "\n",
    "if score == 4.5:\n",
    "    print(\"신\")\n",
    "elif score >= 4.2:\n",
    "    print(\"교수님의 사랑\")\n",
    "elif score >= 3.5:\n",
    "    print(\"현 체제의 수호자\")\n",
    "elif score >= 2.8:\n",
    "    print(\"일반인\")\n",
    "elif score >= 2.3:\n",
    "    print(\"일탈을 꿈꾸는 소시민\")\n",
    "elif score >= 1.75:\n",
    "    print(\"오락문화의 선구자\")\n",
    "elif score >= 1.0:\n",
    "    print(\"불가촉천민\")\n",
    "elif score >= 0.5:\n",
    "    print(\"자벌레\")\n",
    "elif score > 0:\n",
    "    print(\"플랑크톤\")\n",
    "else:\n",
    "    print(\"시대를 앞서가는 혁명의 씨앗\")"
   ]
  },
  {
   "cell_type": "code",
   "execution_count": 10,
   "metadata": {},
   "outputs": [
    {
     "name": "stdout",
     "output_type": "stream",
     "text": [
      "# if 조건문에 0 넣기\n",
      "0은 False로 전환됩니다.\n",
      "# if 조건문에 빈 공간 넣기\n",
      "빈 공간은 False로 전환됩니다.\n"
     ]
    }
   ],
   "source": [
    "print(\"# if 조건문에 0 넣기\")\n",
    "if 0:\n",
    "    print(\"0은 True로 전환됩니다.\")\n",
    "else:\n",
    "    print(\"0은 False로 전환됩니다.\")\n",
    "    \n",
    "print(\"# if 조건문에 빈 공간 넣기\")\n",
    "if \"\":\n",
    "    print(\"빈 공간은 True로 전환됩니다.\")\n",
    "else:\n",
    "    print(\"빈 공간은 False로 전환됩니다.\")"
   ]
  },
  {
   "cell_type": "code",
   "execution_count": 11,
   "metadata": {},
   "outputs": [
    {
     "name": "stdout",
     "output_type": "stream",
     "text": [
      "정수 입력> 123\n"
     ]
    }
   ],
   "source": [
    "number = input(\"정수 입력> \")\n",
    "number = int(number)\n",
    "if number > 0:\n",
    "    pass\n",
    "else:\n",
    "    pass"
   ]
  },
  {
   "cell_type": "code",
   "execution_count": 15,
   "metadata": {},
   "outputs": [
    {
     "name": "stdout",
     "output_type": "stream",
     "text": [
      "[273, 32, 103, '문자열', True, False]\n"
     ]
    }
   ],
   "source": [
    "array = [273, 32, 103, \"문자열\", True, False]\n",
    "print(array)"
   ]
  },
  {
   "cell_type": "code",
   "execution_count": 16,
   "metadata": {},
   "outputs": [
    {
     "data": {
      "text/plain": [
       "'문자열'"
      ]
     },
     "execution_count": 16,
     "metadata": {},
     "output_type": "execute_result"
    }
   ],
   "source": [
    "array[-3]"
   ]
  },
  {
   "cell_type": "code",
   "execution_count": 17,
   "metadata": {},
   "outputs": [
    {
     "data": {
      "text/plain": [
       "273"
      ]
     },
     "execution_count": 17,
     "metadata": {},
     "output_type": "execute_result"
    }
   ],
   "source": [
    "array[0]"
   ]
  },
  {
   "cell_type": "code",
   "execution_count": 18,
   "metadata": {},
   "outputs": [
    {
     "data": {
      "text/plain": [
       "'문'"
      ]
     },
     "execution_count": 18,
     "metadata": {},
     "output_type": "execute_result"
    }
   ],
   "source": [
    "array[3][0]"
   ]
  },
  {
   "cell_type": "code",
   "execution_count": 19,
   "metadata": {},
   "outputs": [
    {
     "data": {
      "text/plain": [
       "[1, 2, 3]"
      ]
     },
     "execution_count": 19,
     "metadata": {},
     "output_type": "execute_result"
    }
   ],
   "source": [
    "list_a = [[1, 2, 3], [4, 5, 6], [7, 8, 9]]\n",
    "list_a[0]"
   ]
  },
  {
   "cell_type": "code",
   "execution_count": 20,
   "metadata": {},
   "outputs": [
    {
     "data": {
      "text/plain": [
       "4"
      ]
     },
     "execution_count": 20,
     "metadata": {},
     "output_type": "execute_result"
    }
   ],
   "source": [
    "list_a[1][0]"
   ]
  },
  {
   "cell_type": "code",
   "execution_count": 25,
   "metadata": {},
   "outputs": [
    {
     "name": "stdout",
     "output_type": "stream",
     "text": [
      "# 리스트\n",
      "list_a:  [1, 2, 3]\n",
      "list_a:  [4, 5, 6]\n",
      "\n",
      "# 리스트 기본 연산자\n",
      "list_a + list_b:  [1, 2, 3, 4, 5, 6]\n",
      "list_a * 3:  [1, 2, 3, 1, 2, 3, 1, 2, 3]\n",
      "\n",
      "# 길이 구하기\n",
      "len(list_a):  3\n"
     ]
    }
   ],
   "source": [
    "# 리스트 선언\n",
    "list_a = [1, 2, 3]\n",
    "list_b = [4, 5, 6]\n",
    "\n",
    "#출력\n",
    "print(\"# 리스트\")\n",
    "print(\"list_a: \", list_a)\n",
    "print(\"list_a: \", list_b)\n",
    "print()\n",
    "\n",
    "#기본 연산자\n",
    "print(\"# 리스트 기본 연산자\")\n",
    "print(\"list_a + list_b: \", list_a + list_b)\n",
    "print(\"list_a * 3: \", list_a * 3)\n",
    "print()\n",
    "\n",
    "#함수\n",
    "print(\"# 길이 구하기\")\n",
    "print(\"len(list_a): \", len(list_a))"
   ]
  },
  {
   "cell_type": "code",
   "execution_count": 28,
   "metadata": {},
   "outputs": [
    {
     "name": "stdout",
     "output_type": "stream",
     "text": [
      "# 리스트 뒤에 요소 추가하기\n",
      "[1, 2, 3, 4, 5]\n",
      "\n",
      "# 리스트 중간에 요소 추가하기\n",
      "[11, 10, 1, 2, 3, 4, 5]\n"
     ]
    }
   ],
   "source": [
    "# 리스트를 선언합니다.\n",
    "list_a = [1, 2, 3]\n",
    "\n",
    "#리스트 뒤에 요소 추가하기\n",
    "print(\"# 리스트 뒤에 요소 추가하기\")\n",
    "list_a.append(4)\n",
    "list_a.append(5)\n",
    "print(list_a)\n",
    "print()\n",
    "\n",
    "#리스트 중간에 요소 추가하기\n",
    "print(\"# 리스트 중간에 요소 추가하기\")\n",
    "list_a.insert(0, 10)\n",
    "list_a.insert(0, 11)\n",
    "print(list_a)"
   ]
  },
  {
   "cell_type": "code",
   "execution_count": 31,
   "metadata": {},
   "outputs": [
    {
     "name": "stdout",
     "output_type": "stream",
     "text": [
      "[1, 2, 3, 4, 5, 6]\n",
      "[1, 2, 3]\n",
      "[4, 5, 6]\n"
     ]
    }
   ],
   "source": [
    "#리스트 연결 연산자\n",
    "list_a = [1, 2, 3]\n",
    "list_b = [4, 5, 6]\n",
    "print(list_a + list_b)\n",
    "print(list_a)\n",
    "print(list_b)\n"
   ]
  },
  {
   "cell_type": "code",
   "execution_count": 32,
   "metadata": {},
   "outputs": [
    {
     "name": "stdout",
     "output_type": "stream",
     "text": [
      "[1, 2, 3, 4, 5, 6]\n",
      "[4, 5, 6]\n"
     ]
    }
   ],
   "source": [
    "#리스트 요소 추가\n",
    "list_a.extend(list_b)\n",
    "print(list_a)\n",
    "print(list_b)"
   ]
  },
  {
   "cell_type": "code",
   "execution_count": 39,
   "metadata": {},
   "outputs": [
    {
     "name": "stdout",
     "output_type": "stream",
     "text": [
      "[1, 2, 3, 4]\n",
      "[1, 2, 3]\n"
     ]
    }
   ],
   "source": [
    "#index로 리스트 요소 제거\n",
    "list_a = [1, 2, 3, 4, 5, 6]\n",
    "del list_a[-2:]\n",
    "print(list_a)\n",
    "list_a.pop(-1)\n",
    "print(list_a)\n"
   ]
  },
  {
   "cell_type": "code",
   "execution_count": 43,
   "metadata": {},
   "outputs": [
    {
     "name": "stdout",
     "output_type": "stream",
     "text": [
      "[1, 2]\n",
      "[1, 1, 2]\n"
     ]
    }
   ],
   "source": [
    "#값으로 리스트 요소 제거\n",
    "list_a = [1, 2, 3]\n",
    "list_a.remove(3)\n",
    "print(list_a)\n",
    "\n",
    "list_a = [1, 2, 1, 2] #remove는 앞쪽에 있는 것 하나만 제거\n",
    "list_a.remove(2)\n",
    "print(list_a)"
   ]
  },
  {
   "cell_type": "code",
   "execution_count": 44,
   "metadata": {},
   "outputs": [
    {
     "name": "stdout",
     "output_type": "stream",
     "text": [
      "[]\n"
     ]
    }
   ],
   "source": [
    "#리스트 요소 모두 제거\n",
    "list_a = [1, 2, 3, 4, 5, 6]\n",
    "list_a.clear()\n",
    "print(list_a)"
   ]
  },
  {
   "cell_type": "code",
   "execution_count": 48,
   "metadata": {},
   "outputs": [
    {
     "name": "stdout",
     "output_type": "stream",
     "text": [
      "True\n",
      "False\n",
      "False\n",
      "True\n"
     ]
    }
   ],
   "source": [
    "#리스트 내부에 있는지 확인 값 in 리스트, 값 not it 리스트\n",
    "list_a = [1, 2, 3, 4, 5]\n",
    "print(1 in list_a)\n",
    "print(8 in list_a)\n",
    "print(2 not in list_a)\n",
    "print(7 not in list_a)"
   ]
  },
  {
   "cell_type": "code",
   "execution_count": 55,
   "metadata": {},
   "outputs": [
    {
     "name": "stdout",
     "output_type": "stream",
     "text": [
      "행복은\n",
      "행복은\n",
      "행복은\n",
      "행복은\n",
      "행복은\n",
      "행복은\n",
      "행복은\n",
      "행복은\n",
      "행복은\n",
      "행복은\n"
     ]
    }
   ],
   "source": [
    "# for 반복문\n",
    "# for 반복자 in 반복할 수 있는 것:\n",
    "    #코드\n",
    "for i in range(10):\n",
    "    print(\"행복은\")"
   ]
  },
  {
   "cell_type": "code",
   "execution_count": 56,
   "metadata": {},
   "outputs": [
    {
     "name": "stdout",
     "output_type": "stream",
     "text": [
      "가까이\n",
      "가까이\n",
      "가까이\n",
      "가까이\n",
      "가까이\n",
      "가까이\n",
      "가까이\n",
      "가까이\n",
      "가까이\n",
      "가까이\n",
      "있어요\n",
      "있어요\n",
      "있어요\n",
      "있어요\n",
      "있어요\n",
      "있어요\n",
      "있어요\n",
      "있어요\n",
      "있어요\n",
      "있어요\n"
     ]
    }
   ],
   "source": [
    "for i in range(10):\n",
    "    print(\"가까이\")\n",
    "for i in range(10):\n",
    "    print(\"있어요\")"
   ]
  },
  {
   "cell_type": "code",
   "execution_count": 57,
   "metadata": {},
   "outputs": [
    {
     "name": "stdout",
     "output_type": "stream",
     "text": [
      "273\n",
      "32\n",
      "103\n",
      "57\n",
      "52\n"
     ]
    }
   ],
   "source": [
    "array = [273, 32, 103, 57, 52]\n",
    "\n",
    "for element in array:\n",
    "    print(element)"
   ]
  },
  {
   "cell_type": "code",
   "execution_count": 61,
   "metadata": {},
   "outputs": [
    {
     "name": "stdout",
     "output_type": "stream",
     "text": [
      "정수 입력> 6\n",
      "짝수입니다.\n"
     ]
    }
   ],
   "source": [
    "#홀짝 구분\n",
    "number = int(input(\"정수 입력> \"))\n",
    "\n",
    "if number % 2 == 0:\n",
    "    print(\"짝수입니다.\")\n",
    "else:\n",
    "    print(\"홀수입니다.\")"
   ]
  },
  {
   "cell_type": "code",
   "execution_count": 68,
   "metadata": {},
   "outputs": [
    {
     "name": "stdout",
     "output_type": "stream",
     "text": [
      "2021/ 4/ 1/ 21: 20: 17\n"
     ]
    }
   ],
   "source": [
    "import datetime\n",
    "now=datetime.datetime.now()\n",
    "print(\"{}/ {}/ {}/ {}: {}: {}\".format(\n",
    "now.year,\n",
    "now.month,\n",
    "now.day,\n",
    "now.hour,\n",
    "now.minute,\n",
    "now.second))"
   ]
  },
  {
   "cell_type": "code",
   "execution_count": 1,
   "metadata": {},
   "outputs": [
    {
     "name": "stdout",
     "output_type": "stream",
     "text": [
      "지금은 4월이고, 봄입니다.\n"
     ]
    }
   ],
   "source": [
    "import datetime\n",
    "now = datetime.datetime.now()\n",
    "month = now.month\n",
    "\n",
    "if 3 <= month <= 5:\n",
    "    print(\"지금은 {}월이고, 봄입니다.\".format(month))\n",
    "elif 6 <= month <= 8:\n",
    "    print(\"지금은 {}월이고, 여름입니다.\".format(month))\n",
    "elif 9 <= month <= 11:\n",
    "    print(\"지금은 {}월이고, 가을입니다.\".format(month))\n",
    "else:\n",
    "    print(\"지금은 {}월이고, 겨울입니다.\".format(month))"
   ]
  },
  {
   "cell_type": "code",
   "execution_count": 2,
   "metadata": {},
   "outputs": [
    {
     "name": "stdout",
     "output_type": "stream",
     "text": [
      "[1, 1, 2]\n"
     ]
    }
   ],
   "source": [
    "c = [1, 2, 1, 2]\n",
    "c.remove(2) #특정 값을 제거, 앞부터 한 번만\n",
    "print(c)"
   ]
  },
  {
   "cell_type": "code",
   "execution_count": 3,
   "metadata": {},
   "outputs": [
    {
     "name": "stdout",
     "output_type": "stream",
     "text": [
      "[]\n"
     ]
    }
   ],
   "source": [
    "c = [1, 2, 1, 2]\n",
    "c.clear()\n",
    "print(c)"
   ]
  },
  {
   "cell_type": "code",
   "execution_count": 7,
   "metadata": {},
   "outputs": [
    {
     "data": {
      "text/plain": [
       "True"
      ]
     },
     "execution_count": 7,
     "metadata": {},
     "output_type": "execute_result"
    }
   ],
   "source": [
    "list_a = [273, 32, 103, 123, 99]\n",
    "273 in list_a\n"
   ]
  },
  {
   "cell_type": "code",
   "execution_count": 6,
   "metadata": {},
   "outputs": [
    {
     "data": {
      "text/plain": [
       "False"
      ]
     },
     "execution_count": 6,
     "metadata": {},
     "output_type": "execute_result"
    }
   ],
   "source": [
    "0 in list_a"
   ]
  },
  {
   "cell_type": "code",
   "execution_count": 8,
   "metadata": {},
   "outputs": [
    {
     "data": {
      "text/plain": [
       "False"
      ]
     },
     "execution_count": 8,
     "metadata": {},
     "output_type": "execute_result"
    }
   ],
   "source": [
    "32 not in list_a"
   ]
  },
  {
   "cell_type": "code",
   "execution_count": 9,
   "metadata": {},
   "outputs": [
    {
     "data": {
      "text/plain": [
       "True"
      ]
     },
     "execution_count": 9,
     "metadata": {},
     "output_type": "execute_result"
    }
   ],
   "source": [
    "15 not in list_a"
   ]
  },
  {
   "cell_type": "code",
   "execution_count": 12,
   "metadata": {},
   "outputs": [],
   "source": [
    "a = [273, 32, 103, 57, 52]\n",
    "\n"
   ]
  },
  {
   "cell_type": "code",
   "execution_count": 13,
   "metadata": {
    "scrolled": true
   },
   "outputs": [
    {
     "name": "stdout",
     "output_type": "stream",
     "text": [
      "출력\n",
      "출력\n",
      "출력\n",
      "출력\n",
      "출력\n"
     ]
    }
   ],
   "source": [
    "for i in a: #a가 리스트이고 요소가 5개이기 때문에 5번 반복\n",
    "    print(\"출력\")"
   ]
  },
  {
   "cell_type": "code",
   "execution_count": 14,
   "metadata": {},
   "outputs": [
    {
     "name": "stdout",
     "output_type": "stream",
     "text": [
      "출구\n",
      "출구\n",
      "출구\n",
      "출구\n",
      "출구\n"
     ]
    }
   ],
   "source": [
    "for i in [273, 32, 103, 57, 52]:\n",
    "    print(\"출구\")"
   ]
  },
  {
   "cell_type": "code",
   "execution_count": 15,
   "metadata": {},
   "outputs": [
    {
     "name": "stdout",
     "output_type": "stream",
     "text": [
      "273\n",
      "32\n",
      "103\n",
      "57\n",
      "52\n"
     ]
    }
   ],
   "source": [
    "for i in a: # a를 i에 넣고 index 위치에 따라 print, 끝까지 반복\n",
    "    print(i)"
   ]
  },
  {
   "cell_type": "code",
   "execution_count": 16,
   "metadata": {},
   "outputs": [
    {
     "name": "stdout",
     "output_type": "stream",
     "text": [
      "{'name': '어밴저스 엔드게임', 'type': '히어로 무비'}\n"
     ]
    }
   ],
   "source": [
    "#dictionary는 {}사용\n",
    "dict_a = {\n",
    "    \"name\": \"어밴저스 엔드게임\",\n",
    "    \"type\": \"히어로 무비\"\n",
    "}\n",
    "print(dict_a)"
   ]
  },
  {
   "cell_type": "code",
   "execution_count": 18,
   "metadata": {},
   "outputs": [
    {
     "data": {
      "text/plain": [
       "'어밴저스 엔드게임'"
      ]
     },
     "execution_count": 18,
     "metadata": {},
     "output_type": "execute_result"
    }
   ],
   "source": [
    "############시험문제#############\n",
    "dict_a['name'] # dictionary에서 특정 요소만 출력하려면 list 형식으로 표현"
   ]
  },
  {
   "cell_type": "code",
   "execution_count": 19,
   "metadata": {},
   "outputs": [
    {
     "data": {
      "text/plain": [
       "'히어로 무비'"
      ]
     },
     "execution_count": 19,
     "metadata": {},
     "output_type": "execute_result"
    }
   ],
   "source": [
    "dict_a['type']"
   ]
  },
  {
   "cell_type": "code",
   "execution_count": 22,
   "metadata": {},
   "outputs": [
    {
     "name": "stdout",
     "output_type": "stream",
     "text": [
      "{'director': ['안소니 루소', '조 루소'], 'cast': ['아이언맨,', '타노스', '토르', '닥터스트레인지', '헐크']}\n",
      "['안소니 루소', '조 루소']\n",
      "['아이언맨,', '타노스', '토르', '닥터스트레인지', '헐크']\n"
     ]
    }
   ],
   "source": [
    "dict_b = {\n",
    "    \"director\": [\"안소니 루소\", \"조 루소\"], \"cast\": [\"아이언맨,\", \"타노스\", \"토르\", \"닥터스트레인지\", \"헐크\"]\n",
    "}\n",
    "print(dict_b)\n",
    "print(dict_b[\"director\"])\n",
    "print(dict_b[\"cast\"])"
   ]
  },
  {
   "cell_type": "code",
   "execution_count": 72,
   "metadata": {},
   "outputs": [
    {
     "name": "stdout",
     "output_type": "stream",
     "text": [
      "{'name': '7D 건조 망고', 'type': '당절임', 'ingredient': ['망고', '설탕', '메타중아황산나트륨', '치자황색소'], 'origin': '필리핀'}\n",
      "7D 건조 망고\n"
     ]
    }
   ],
   "source": [
    "dict = {\n",
    "    \"name\": \"7D 건조 망고\", #딕트 중괄호 안에서는 :을 사용\n",
    "    \"type\": \"당절임\",\n",
    "    \"ingredient\": [\"망고\", \"설탕\", \"메타중아황산나트륨\", \"치자황색소\"],\n",
    "    \"origin\": \"필리핀\"\n",
    "}\n",
    "print(dict)\n",
    "print(dict[\"name\"])"
   ]
  },
  {
   "cell_type": "code",
   "execution_count": 30,
   "metadata": {},
   "outputs": [
    {
     "name": "stdout",
     "output_type": "stream",
     "text": [
      "['망고', '설탕', '메타중아황산나트륨', '치자황색소']\n"
     ]
    }
   ],
   "source": [
    "print(dict[\"ingredient\"])"
   ]
  },
  {
   "cell_type": "code",
   "execution_count": 31,
   "metadata": {},
   "outputs": [
    {
     "name": "stdout",
     "output_type": "stream",
     "text": [
      "필리핀\n"
     ]
    }
   ],
   "source": [
    "print(dict[\"origin\"])"
   ]
  },
  {
   "cell_type": "code",
   "execution_count": 32,
   "metadata": {},
   "outputs": [
    {
     "name": "stdout",
     "output_type": "stream",
     "text": [
      "당절임\n"
     ]
    }
   ],
   "source": [
    "print(dict[\"type\"])"
   ]
  },
  {
   "cell_type": "code",
   "execution_count": 33,
   "metadata": {},
   "outputs": [
    {
     "name": "stdout",
     "output_type": "stream",
     "text": [
      "망고\n"
     ]
    }
   ],
   "source": [
    "print(dict[\"ingredient\"][0])"
   ]
  },
  {
   "cell_type": "code",
   "execution_count": 58,
   "metadata": {},
   "outputs": [],
   "source": [
    "name = \"이름\"\n",
    "type_key = \"형태\"\n",
    "dict_key = {\n",
    "    name: \"망고\",\n",
    "    type_key: \"당절임\"\n",
    "}"
   ]
  },
  {
   "cell_type": "code",
   "execution_count": 59,
   "metadata": {},
   "outputs": [
    {
     "name": "stdout",
     "output_type": "stream",
     "text": [
      "{'이름': '망고', '형태': '당절임'}\n"
     ]
    }
   ],
   "source": [
    "print(dict_key)"
   ]
  },
  {
   "cell_type": "code",
   "execution_count": 60,
   "metadata": {},
   "outputs": [],
   "source": [
    "dict_key[\"price\"] = 5000"
   ]
  },
  {
   "cell_type": "code",
   "execution_count": 61,
   "metadata": {},
   "outputs": [
    {
     "name": "stdout",
     "output_type": "stream",
     "text": [
      "{'이름': '망고', '형태': '당절임', 'price': 5000}\n"
     ]
    }
   ],
   "source": [
    "print(dict_key)"
   ]
  },
  {
   "cell_type": "code",
   "execution_count": 62,
   "metadata": {},
   "outputs": [],
   "source": [
    "dict_key[\"이름\"] = \"수박\""
   ]
  },
  {
   "cell_type": "code",
   "execution_count": 63,
   "metadata": {},
   "outputs": [
    {
     "name": "stdout",
     "output_type": "stream",
     "text": [
      "{'이름': '수박', '형태': '당절임', 'price': 5000}\n"
     ]
    }
   ],
   "source": [
    "print(dict_key)"
   ]
  },
  {
   "cell_type": "code",
   "execution_count": 70,
   "metadata": {},
   "outputs": [
    {
     "name": "stdout",
     "output_type": "stream",
     "text": [
      "{'이름': '수박', 'price': 5000}\n"
     ]
    }
   ],
   "source": [
    "del dict_key[\"형태\"]\n",
    "print(dict_key)"
   ]
  },
  {
   "cell_type": "code",
   "execution_count": 75,
   "metadata": {},
   "outputs": [
    {
     "name": "stdout",
     "output_type": "stream",
     "text": [
      "{'name': '이름', 'head': '머리', 'body': '몸'}\n"
     ]
    }
   ],
   "source": [
    "dict = {} #비워놓고 나중에 추가\n",
    "\n",
    "dict[\"name\"] = \"이름\"\n",
    "dict[\"head\"] = \"머리\"\n",
    "dict[\"body\"] = \"몸\"\n",
    "\n",
    "print(dict)"
   ]
  },
  {
   "cell_type": "code",
   "execution_count": 76,
   "metadata": {},
   "outputs": [
    {
     "name": "stdout",
     "output_type": "stream",
     "text": [
      "{'name': '이름', 'head': '머리'}\n"
     ]
    }
   ],
   "source": [
    "del dict[\"body\"]\n",
    "print(dict)"
   ]
  },
  {
   "cell_type": "code",
   "execution_count": 83,
   "metadata": {},
   "outputs": [
    {
     "name": "stdout",
     "output_type": "stream",
     "text": [
      "접근하고자 하는 키> 망고\n",
      "잘못된 접근입니다.\n"
     ]
    }
   ],
   "source": [
    "#dictionary = {안에 : , 잊지 말자!!!}\n",
    "dict = {\n",
    "    \"name\": \"건조 망고\",\n",
    "    \"type\": \"당절임\",\n",
    "    \"ingredient\": [\"망고\", \"설탕\", \"메타중아황산나트륨\", \"치자황색소\"],\n",
    "    \"origin\": \"필리핀\"\n",
    "}\n",
    "key = input(\"접근하고자 하는 키> \")\n",
    "if key in dict:\n",
    "    print(dict[key])\n",
    "else:\n",
    "    print(\"잘못된 접근입니다.\")"
   ]
  },
  {
   "cell_type": "code",
   "execution_count": 85,
   "metadata": {},
   "outputs": [
    {
     "name": "stdout",
     "output_type": "stream",
     "text": [
      "건조 망고\n",
      "당절임\n",
      "['망고', '설탕', '메타중아황산나트륨', '치자황색소']\n",
      "필리핀\n"
     ]
    }
   ],
   "source": [
    "#dictionary = {안에 : , 잊지 말자!!!}\n",
    "dict = {\n",
    "    \"name\": \"건조 망고\",\n",
    "    \"type\": \"당절임\",\n",
    "    \"ingredient\": [\"망고\", \"설탕\", \"메타중아황산나트륨\", \"치자황색소\"],\n",
    "    \"origin\": \"필리핀\"\n",
    "}\n",
    "\n",
    "for key in dict:\n",
    "    print(dict[key])"
   ]
  },
  {
   "cell_type": "code",
   "execution_count": null,
   "metadata": {},
   "outputs": [],
   "source": []
  }
 ],
 "metadata": {
  "kernelspec": {
   "display_name": "Python 3",
   "language": "python",
   "name": "python3"
  },
  "language_info": {
   "codemirror_mode": {
    "name": "ipython",
    "version": 3
   },
   "file_extension": ".py",
   "mimetype": "text/x-python",
   "name": "python",
   "nbconvert_exporter": "python",
   "pygments_lexer": "ipython3",
   "version": "3.8.8"
  }
 },
 "nbformat": 4,
 "nbformat_minor": 4
}
