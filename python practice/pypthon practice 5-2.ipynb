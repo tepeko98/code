{
 "cells": [
  {
   "cell_type": "code",
   "execution_count": 4,
   "id": "monthly-reaction",
   "metadata": {},
   "outputs": [],
   "source": [
    "#numpy: C언어로 구현된 파이썬 라이브러리, 수치 계산용. 딥러닝에서 많이 씀\n",
    "import numpy as np\n"
   ]
  },
  {
   "cell_type": "code",
   "execution_count": 21,
   "id": "nutritional-brave",
   "metadata": {},
   "outputs": [
    {
     "data": {
      "text/plain": [
       "array([1, 2, 3, 4])"
      ]
     },
     "execution_count": 21,
     "metadata": {},
     "output_type": "execute_result"
    }
   ],
   "source": [
    "nd1 = np.array([1,2,3,4])\n",
    "nd1\n"
   ]
  },
  {
   "cell_type": "code",
   "execution_count": 22,
   "id": "identified-scene",
   "metadata": {},
   "outputs": [
    {
     "data": {
      "text/plain": [
       "numpy.ndarray"
      ]
     },
     "execution_count": 22,
     "metadata": {},
     "output_type": "execute_result"
    }
   ],
   "source": [
    "type(nd1)"
   ]
  },
  {
   "cell_type": "code",
   "execution_count": 23,
   "id": "reported-terrain",
   "metadata": {},
   "outputs": [
    {
     "data": {
      "text/plain": [
       "1"
      ]
     },
     "execution_count": 23,
     "metadata": {},
     "output_type": "execute_result"
    }
   ],
   "source": [
    "#1차원 표현\n",
    "nd1.ndim"
   ]
  },
  {
   "cell_type": "code",
   "execution_count": 24,
   "id": "involved-content",
   "metadata": {},
   "outputs": [
    {
     "data": {
      "text/plain": [
       "(4,)"
      ]
     },
     "execution_count": 24,
     "metadata": {},
     "output_type": "execute_result"
    }
   ],
   "source": [
    "nd1.shape"
   ]
  },
  {
   "cell_type": "code",
   "execution_count": 25,
   "id": "inside-madagascar",
   "metadata": {},
   "outputs": [
    {
     "data": {
      "text/plain": [
       "4"
      ]
     },
     "execution_count": 25,
     "metadata": {},
     "output_type": "execute_result"
    }
   ],
   "source": [
    "nd1.size"
   ]
  },
  {
   "cell_type": "code",
   "execution_count": 16,
   "id": "color-hostel",
   "metadata": {},
   "outputs": [
    {
     "data": {
      "text/plain": [
       "(4,)"
      ]
     },
     "execution_count": 16,
     "metadata": {},
     "output_type": "execute_result"
    }
   ],
   "source": [
    "nd1.shape # (4,1) 4행, 1열로 이루어져 있다는 뜻\n",
    "#nd2.shape (2,3)\n",
    "#nd3.shape (2,4,3)\n",
    "#nd4.shape (3,2,2,2)"
   ]
  },
  {
   "cell_type": "code",
   "execution_count": 13,
   "id": "tribal-ghana",
   "metadata": {},
   "outputs": [
    {
     "data": {
      "text/plain": [
       "numpy.ndarray"
      ]
     },
     "execution_count": 13,
     "metadata": {},
     "output_type": "execute_result"
    }
   ],
   "source": [
    "type(nd1)"
   ]
  },
  {
   "cell_type": "code",
   "execution_count": 27,
   "id": "strange-hypothetical",
   "metadata": {},
   "outputs": [
    {
     "name": "stdout",
     "output_type": "stream",
     "text": [
      "[[1 2 3]\n",
      " [4 5 6]]\n",
      "2\n",
      "<class 'numpy.ndarray'>\n",
      "(2, 3)\n",
      "4\n"
     ]
    }
   ],
   "source": [
    "nd2 = np.array([[1,2,3], [4,5,6]]) #행/열 구조로 표현하기 위해 대괄호로 묶어준다\n",
    "print(nd2) #2차원 모양으로 전체 출력\n",
    "print(nd2.ndim) #차원 확인 number of dimention\n",
    "print(type(nd2))\n",
    "print(nd2.shape)#모양 확인하여 (열, 행)으로 표현\n",
    "print(nd1.size)#전체 개수\n",
    "#2차원 읽는 순서는 0,0 0,1 0,2\n",
    "                  #1,0 1,1 1,2 이런 식으로 순서대로 간다."
   ]
  },
  {
   "cell_type": "code",
   "execution_count": 11,
   "id": "authorized-thanksgiving",
   "metadata": {},
   "outputs": [],
   "source": [
    "#ndarray 객체는 차원(ndim), 자료형(dtype), 모양(shape), 크기(size)\n",
    "#차원을 바꿀 때는 reshape()함수를 사용"
   ]
  },
  {
   "cell_type": "code",
   "execution_count": 15,
   "id": "marine-hepatitis",
   "metadata": {},
   "outputs": [],
   "source": [
    "#dtype = 'np.float32'\n",
    "#dtype = 'float64'\n",
    "#nd1 = dn1.astype(np.int32)"
   ]
  },
  {
   "cell_type": "code",
   "execution_count": 32,
   "id": "british-superintendent",
   "metadata": {},
   "outputs": [
    {
     "name": "stdout",
     "output_type": "stream",
     "text": [
      "[[0. 0. 0.]\n",
      " [0. 0. 0.]\n",
      " [0. 0. 0.]\n",
      " [0. 0. 0.]]\n",
      "[[1. 1. 1. 1.]\n",
      " [1. 1. 1. 1.]\n",
      " [1. 1. 1. 1.]]\n"
     ]
    }
   ],
   "source": [
    "print(np.zeros((4,3))) #0으로 채우기\n",
    "print(np.ones((3,4))) #1로 채우기"
   ]
  },
  {
   "cell_type": "code",
   "execution_count": 34,
   "id": "jewish-century",
   "metadata": {},
   "outputs": [
    {
     "data": {
      "text/plain": [
       "12"
      ]
     },
     "execution_count": 34,
     "metadata": {},
     "output_type": "execute_result"
    }
   ],
   "source": [
    "a = np.ones((3,4))\n",
    "a.size"
   ]
  },
  {
   "cell_type": "code",
   "execution_count": 35,
   "id": "average-documentation",
   "metadata": {},
   "outputs": [
    {
     "data": {
      "text/plain": [
       "array([1, 3, 5, 7, 9])"
      ]
     },
     "execution_count": 35,
     "metadata": {},
     "output_type": "execute_result"
    }
   ],
   "source": [
    "np.arange(1,10,2)"
   ]
  },
  {
   "cell_type": "code",
   "execution_count": 37,
   "id": "imperial-korean",
   "metadata": {},
   "outputs": [
    {
     "data": {
      "text/plain": [
       "array([0, 2, 4, 6, 8])"
      ]
     },
     "execution_count": 37,
     "metadata": {},
     "output_type": "execute_result"
    }
   ],
   "source": [
    "np.arange(0,10,2)"
   ]
  },
  {
   "cell_type": "code",
   "execution_count": 38,
   "id": "optional-underwear",
   "metadata": {},
   "outputs": [
    {
     "data": {
      "text/plain": [
       "array([[ 0,  1,  2],\n",
       "       [ 3,  4,  5],\n",
       "       [ 6,  7,  8],\n",
       "       [ 9, 10, 11]])"
      ]
     },
     "execution_count": 38,
     "metadata": {},
     "output_type": "execute_result"
    }
   ],
   "source": [
    "np.arange(12).reshape(4,3)"
   ]
  },
  {
   "cell_type": "code",
   "execution_count": 42,
   "id": "lightweight-shape",
   "metadata": {},
   "outputs": [
    {
     "data": {
      "text/plain": [
       "array([[   0,    1,    2, ...,  297,  298,  299],\n",
       "       [ 300,  301,  302, ...,  597,  598,  599],\n",
       "       [ 600,  601,  602, ...,  897,  898,  899],\n",
       "       [ 900,  901,  902, ..., 1197, 1198, 1199]])"
      ]
     },
     "execution_count": 42,
     "metadata": {},
     "output_type": "execute_result"
    }
   ],
   "source": [
    "np.arange(1200).reshape(4,-1)#끝자리 자동계산 -1"
   ]
  },
  {
   "cell_type": "code",
   "execution_count": 1,
   "id": "golden-feeding",
   "metadata": {},
   "outputs": [
    {
     "name": "stdout",
     "output_type": "stream",
     "text": [
      "도시: 서울\n",
      "날씨: 맑음\n",
      "최저기온: 7\n",
      "최고기온: 17\n",
      "\n",
      "도시: 인천\n",
      "날씨: 맑음\n",
      "최저기온: 8\n",
      "최고기온: 15\n",
      "\n",
      "도시: 수원\n",
      "날씨: 맑음\n",
      "최저기온: 5\n",
      "최고기온: 17\n",
      "\n",
      "도시: 파주\n",
      "날씨: 맑음\n",
      "최저기온: 2\n",
      "최고기온: 17\n",
      "\n",
      "도시: 이천\n",
      "날씨: 맑음\n",
      "최저기온: 2\n",
      "최고기온: 18\n",
      "\n",
      "도시: 평택\n",
      "날씨: 맑음\n",
      "최저기온: 4\n",
      "최고기온: 18\n",
      "\n",
      "도시: 춘천\n",
      "날씨: 맑음\n",
      "최저기온: 2\n",
      "최고기온: 19\n",
      "\n",
      "도시: 원주\n",
      "날씨: 맑음\n",
      "최저기온: 4\n",
      "최고기온: 19\n",
      "\n",
      "도시: 강릉\n",
      "날씨: 맑음\n",
      "최저기온: 5\n",
      "최고기온: 17\n",
      "\n",
      "도시: 대전\n",
      "날씨: 맑음\n",
      "최저기온: 5\n",
      "최고기온: 19\n",
      "\n",
      "도시: 세종\n",
      "날씨: 맑음\n",
      "최저기온: 4\n",
      "최고기온: 18\n",
      "\n",
      "도시: 홍성\n",
      "날씨: 맑음\n",
      "최저기온: 3\n",
      "최고기온: 17\n",
      "\n",
      "도시: 청주\n",
      "날씨: 맑음\n",
      "최저기온: 6\n",
      "최고기온: 19\n",
      "\n",
      "도시: 충주\n",
      "날씨: 맑음\n",
      "최저기온: 2\n",
      "최고기온: 18\n",
      "\n",
      "도시: 영동\n",
      "날씨: 맑음\n",
      "최저기온: 2\n",
      "최고기온: 19\n",
      "\n",
      "도시: 광주\n",
      "날씨: 맑음\n",
      "최저기온: 7\n",
      "최고기온: 19\n",
      "\n",
      "도시: 목포\n",
      "날씨: 맑음\n",
      "최저기온: 8\n",
      "최고기온: 17\n",
      "\n",
      "도시: 여수\n",
      "날씨: 맑음\n",
      "최저기온: 9\n",
      "최고기온: 15\n",
      "\n",
      "도시: 순천\n",
      "날씨: 맑음\n",
      "최저기온: 6\n",
      "최고기온: 17\n",
      "\n",
      "도시: 광양\n",
      "날씨: 맑음\n",
      "최저기온: 7\n",
      "최고기온: 17\n",
      "\n",
      "도시: 나주\n",
      "날씨: 맑음\n",
      "최저기온: 5\n",
      "최고기온: 18\n",
      "\n",
      "도시: 전주\n",
      "날씨: 맑음\n",
      "최저기온: 5\n",
      "최고기온: 19\n",
      "\n",
      "도시: 군산\n",
      "날씨: 맑음\n",
      "최저기온: 4\n",
      "최고기온: 17\n",
      "\n",
      "도시: 정읍\n",
      "날씨: 맑음\n",
      "최저기온: 5\n",
      "최고기온: 18\n",
      "\n",
      "도시: 남원\n",
      "날씨: 맑음\n",
      "최저기온: 3\n",
      "최고기온: 19\n",
      "\n",
      "도시: 고창\n",
      "날씨: 맑음\n",
      "최저기온: 4\n",
      "최고기온: 18\n",
      "\n",
      "도시: 무주\n",
      "날씨: 맑음\n",
      "최저기온: 2\n",
      "최고기온: 18\n",
      "\n",
      "도시: 부산\n",
      "날씨: 맑음\n",
      "최저기온: 8\n",
      "최고기온: 16\n",
      "\n",
      "도시: 울산\n",
      "날씨: 맑음\n",
      "최저기온: 5\n",
      "최고기온: 15\n",
      "\n",
      "도시: 창원\n",
      "날씨: 맑음\n",
      "최저기온: 6\n",
      "최고기온: 16\n",
      "\n",
      "도시: 진주\n",
      "날씨: 맑음\n",
      "최저기온: 3\n",
      "최고기온: 17\n",
      "\n",
      "도시: 거창\n",
      "날씨: 맑음\n",
      "최저기온: 2\n",
      "최고기온: 17\n",
      "\n",
      "도시: 통영\n",
      "날씨: 맑음\n",
      "최저기온: 8\n",
      "최고기온: 16\n",
      "\n",
      "도시: 대구\n",
      "날씨: 맑음\n",
      "최저기온: 4\n",
      "최고기온: 17\n",
      "\n",
      "도시: 안동\n",
      "날씨: 맑음\n",
      "최저기온: 2\n",
      "최고기온: 17\n",
      "\n",
      "도시: 포항\n",
      "날씨: 맑음\n",
      "최저기온: 6\n",
      "최고기온: 14\n",
      "\n",
      "도시: 경주\n",
      "날씨: 맑음\n",
      "최저기온: 1\n",
      "최고기온: 17\n",
      "\n",
      "도시: 울진\n",
      "날씨: 맑음\n",
      "최저기온: 3\n",
      "최고기온: 14\n",
      "\n",
      "도시: 울릉도\n",
      "날씨: 맑음\n",
      "최저기온: 5\n",
      "최고기온: 13\n",
      "\n",
      "도시: 제주\n",
      "날씨: 구름많음\n",
      "최저기온: 11\n",
      "최고기온: 16\n",
      "\n",
      "도시: 서귀포\n",
      "날씨: 구름많음\n",
      "최저기온: 11\n",
      "최고기온: 17\n",
      "\n"
     ]
    }
   ],
   "source": [
    "from urllib import request\n",
    "from bs4 import BeautifulSoup\n",
    "\n",
    "target = request.urlopen(\"http://www.kma.go.kr/weather/forecast/mid-term-rss3.jsp?stnId=108\")\n",
    "\n",
    "soup = BeautifulSoup(target, \"html.parser\")\n",
    "\n",
    "for location in soup.select(\"location\"):\n",
    "    print(\"도시:\", location.select_one(\"city\").string)\n",
    "    print(\"날씨:\", location.select_one(\"wf\").string)\n",
    "    print(\"최저기온:\", location.select_one(\"tmn\").string)\n",
    "    print(\"최고기온:\", location.select_one(\"tmx\").string)\n",
    "    print()\n"
   ]
  },
  {
   "cell_type": "code",
   "execution_count": 5,
   "id": "moral-rouge",
   "metadata": {},
   "outputs": [],
   "source": [
    "from flask import Flask\n",
    "\n",
    "app = Flask(__name__)\n",
    "\n",
    "@app.route(\"/\")\n",
    "def hello():\n",
    "    return \"<h1> Hi, gayeon </h1>\""
   ]
  },
  {
   "cell_type": "code",
   "execution_count": 6,
   "id": "signed-latino",
   "metadata": {},
   "outputs": [],
   "source": [
    "from flask import Flask\n",
    "from urllib import request\n",
    "from bs4 import BeautifulSoup\n",
    "\n",
    "app = Flask(__name__)\n",
    "\n",
    "@app.route(\"/\")\n",
    "\n",
    "def hello():\n",
    "    \n",
    "    target = request.urlopen(\"http://www.kma.go.kr/weather/forecast/mid-term-rss3.jsp?stnId=108\")\n",
    "\n",
    "    soup = BeautifulSoup(target, \"html.parser\")\n",
    "    \n",
    "    output = \"\"\n",
    "    for location in soup.select(\"location\"):\n",
    "        output += \"<h3>{}</h3>\".format(location.select_one(\"city\").string)\n",
    "        output += \"날씨: <br>{}</br>\".format(location.select_one(\"wf\").string)\n",
    "        output += \"최저/최고 기운: {}/{}\".format(location.select_one(\"tmn\").string,\n",
    "                                                 location.select_one(\"tmx\").string)\n",
    "        output += \"<hr/>\"\n",
    "    return output\n"
   ]
  },
  {
   "cell_type": "code",
   "execution_count": 7,
   "id": "authorized-brief",
   "metadata": {},
   "outputs": [],
   "source": [
    "from flask import Flask \n",
    "from urllib import request \n",
    "from bs4 import BeautifulSoup\n",
    "\n",
    "app = Flask(__name__)\n",
    "\n",
    "@app.route(\"/\")\n",
    "\n",
    "def hello():\n",
    "    \n",
    "    target = request.urlopen(\"http://www.kma.go.kr/weather/forecast/mid-term-rss3.jsp?stnId=108\")\n",
    "\n",
    "    soup = BeautifulSoup(target, \"html.parser\")\n",
    "    \n",
    "    output =\"\"\n",
    "    for location in soup.select(\"location\"):\n",
    "        output +=\"<h3>{}</h3>\".format(location.select_one(\"city\").string)\n",
    "        output +=\"날씨: <br>{}</br>\".format(location.select_one(\"wf\").string)\n",
    "        output +=\"최저/최고 기온:{}/{}\".format(location.select_one(\"tmn\").string,\n",
    "                                               location.select_one(\"tmx\").string)\n",
    "        output += \"<hr/>\"\n",
    "    return output        "
   ]
  },
  {
   "cell_type": "code",
   "execution_count": 8,
   "id": "written-blowing",
   "metadata": {},
   "outputs": [],
   "source": [
    "from math import *"
   ]
  },
  {
   "cell_type": "code",
   "execution_count": 9,
   "id": "contained-papua",
   "metadata": {},
   "outputs": [
    {
     "name": "stdout",
     "output_type": "stream",
     "text": [
      "0.8414709848078965\n",
      "0.5403023058681398\n",
      "1.5574077246549023\n"
     ]
    }
   ],
   "source": [
    "print(sin(1))\n",
    "print(cos(1))\n",
    "print(tan(1))"
   ]
  },
  {
   "cell_type": "code",
   "execution_count": null,
   "id": "empirical-father",
   "metadata": {},
   "outputs": [],
   "source": []
  }
 ],
 "metadata": {
  "kernelspec": {
   "display_name": "Python 3",
   "language": "python",
   "name": "python3"
  },
  "language_info": {
   "codemirror_mode": {
    "name": "ipython",
    "version": 3
   },
   "file_extension": ".py",
   "mimetype": "text/x-python",
   "name": "python",
   "nbconvert_exporter": "python",
   "pygments_lexer": "ipython3",
   "version": "3.8.10"
  }
 },
 "nbformat": 4,
 "nbformat_minor": 5
}
