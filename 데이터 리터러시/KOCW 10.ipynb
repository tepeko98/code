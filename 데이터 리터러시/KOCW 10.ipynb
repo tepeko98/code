{
 "cells": [
  {
   "cell_type": "markdown",
   "id": "b80d23ac",
   "metadata": {},
   "source": [
    "10-1 파이썬의 자료형 - 딕셔너리와 집합\\\n",
    "\\\n",
    "딕셔너리와 집합\\\n",
    "\\\n",
    "자주 사용하는 딕셔너리 함수\\\n",
    "#keys()\\\n",
    "#values()\\\n",
    "#del: 삭제\\\n",
    "\\\n",
    "자주 사용하는 집합 함수\\\n",
    "#add(): 원소 추가\\\n",
    "#remove(): 원소 삭제"
   ]
  },
  {
   "cell_type": "code",
   "execution_count": 1,
   "id": "2434408a",
   "metadata": {},
   "outputs": [],
   "source": [
    "a={0:10,1:20,2:30}"
   ]
  },
  {
   "cell_type": "code",
   "execution_count": 2,
   "id": "4241e10d",
   "metadata": {},
   "outputs": [
    {
     "data": {
      "text/plain": [
       "{0: 10, 1: 20, 2: 30}"
      ]
     },
     "execution_count": 2,
     "metadata": {},
     "output_type": "execute_result"
    }
   ],
   "source": [
    "a"
   ]
  },
  {
   "cell_type": "code",
   "execution_count": 3,
   "id": "a76620f7",
   "metadata": {},
   "outputs": [
    {
     "data": {
      "text/plain": [
       "dict"
      ]
     },
     "execution_count": 3,
     "metadata": {},
     "output_type": "execute_result"
    }
   ],
   "source": [
    "type(a)"
   ]
  },
  {
   "cell_type": "code",
   "execution_count": 4,
   "id": "b4a9f9d7",
   "metadata": {},
   "outputs": [
    {
     "data": {
      "text/plain": [
       "10"
      ]
     },
     "execution_count": 4,
     "metadata": {},
     "output_type": "execute_result"
    }
   ],
   "source": [
    "a[0]"
   ]
  },
  {
   "cell_type": "code",
   "execution_count": 5,
   "id": "98a37bcc",
   "metadata": {},
   "outputs": [],
   "source": [
    "b={'a':10, 'b':20, 'c': 30}"
   ]
  },
  {
   "cell_type": "code",
   "execution_count": 6,
   "id": "020184ba",
   "metadata": {},
   "outputs": [
    {
     "data": {
      "text/plain": [
       "{'a': 10, 'b': 20, 'c': 30}"
      ]
     },
     "execution_count": 6,
     "metadata": {},
     "output_type": "execute_result"
    }
   ],
   "source": [
    "b"
   ]
  },
  {
   "cell_type": "code",
   "execution_count": 7,
   "id": "7694e895",
   "metadata": {},
   "outputs": [
    {
     "data": {
      "text/plain": [
       "10"
      ]
     },
     "execution_count": 7,
     "metadata": {},
     "output_type": "execute_result"
    }
   ],
   "source": [
    "#dict[key]형태로 값 출력\n",
    "b['a']"
   ]
  },
  {
   "cell_type": "code",
   "execution_count": 8,
   "id": "24842d8d",
   "metadata": {},
   "outputs": [
    {
     "data": {
      "text/plain": [
       "20"
      ]
     },
     "execution_count": 8,
     "metadata": {},
     "output_type": "execute_result"
    }
   ],
   "source": [
    "b['b']"
   ]
  },
  {
   "cell_type": "code",
   "execution_count": 9,
   "id": "7f6b2e21",
   "metadata": {},
   "outputs": [
    {
     "data": {
      "text/plain": [
       "30"
      ]
     },
     "execution_count": 9,
     "metadata": {},
     "output_type": "execute_result"
    }
   ],
   "source": [
    "b['c']"
   ]
  },
  {
   "cell_type": "code",
   "execution_count": 10,
   "id": "0f687fc5",
   "metadata": {},
   "outputs": [
    {
     "data": {
      "text/plain": [
       "dict_keys(['a', 'b', 'c'])"
      ]
     },
     "execution_count": 10,
     "metadata": {},
     "output_type": "execute_result"
    }
   ],
   "source": [
    "#dict.keys()형태로 키들만 뽑을 수 있음\n",
    "b.keys()"
   ]
  },
  {
   "cell_type": "code",
   "execution_count": 11,
   "id": "24b69692",
   "metadata": {},
   "outputs": [
    {
     "data": {
      "text/plain": [
       "dict_values([10, 20, 30])"
      ]
     },
     "execution_count": 11,
     "metadata": {},
     "output_type": "execute_result"
    }
   ],
   "source": [
    "#dict.values()형태로 값들만 뽑을 수 있음\n",
    "b.values()"
   ]
  },
  {
   "cell_type": "code",
   "execution_count": 12,
   "id": "b54b7e3c",
   "metadata": {},
   "outputs": [],
   "source": [
    "#dict[key] = x 형태로 값 추가 혹은 대체 가능\n",
    "b['d'] = 4"
   ]
  },
  {
   "cell_type": "code",
   "execution_count": 13,
   "id": "050ea20b",
   "metadata": {},
   "outputs": [
    {
     "data": {
      "text/plain": [
       "{'a': 10, 'b': 20, 'c': 30, 'd': 4}"
      ]
     },
     "execution_count": 13,
     "metadata": {},
     "output_type": "execute_result"
    }
   ],
   "source": [
    "b"
   ]
  },
  {
   "cell_type": "code",
   "execution_count": 14,
   "id": "01c09bbb",
   "metadata": {},
   "outputs": [
    {
     "data": {
      "text/plain": [
       "dict_keys(['a', 'b', 'c', 'd'])"
      ]
     },
     "execution_count": 14,
     "metadata": {},
     "output_type": "execute_result"
    }
   ],
   "source": [
    "b.keys()"
   ]
  },
  {
   "cell_type": "code",
   "execution_count": 15,
   "id": "6358ca74",
   "metadata": {},
   "outputs": [
    {
     "data": {
      "text/plain": [
       "dict_values([10, 20, 30, 4])"
      ]
     },
     "execution_count": 15,
     "metadata": {},
     "output_type": "execute_result"
    }
   ],
   "source": [
    "b.values()"
   ]
  },
  {
   "cell_type": "code",
   "execution_count": 16,
   "id": "fb8579fc",
   "metadata": {},
   "outputs": [],
   "source": [
    "#del dict[key]형태로 삭제 가능\n",
    "del b['c']"
   ]
  },
  {
   "cell_type": "code",
   "execution_count": 17,
   "id": "3c30758d",
   "metadata": {},
   "outputs": [
    {
     "data": {
      "text/plain": [
       "{'a': 10, 'b': 20, 'd': 4}"
      ]
     },
     "execution_count": 17,
     "metadata": {},
     "output_type": "execute_result"
    }
   ],
   "source": [
    "b"
   ]
  },
  {
   "cell_type": "code",
   "execution_count": 18,
   "id": "27e6f2f1",
   "metadata": {},
   "outputs": [],
   "source": [
    "#리스트 추가 가능\n",
    "b['e'] = [50,60,70]"
   ]
  },
  {
   "cell_type": "code",
   "execution_count": 19,
   "id": "24c14ffe",
   "metadata": {},
   "outputs": [
    {
     "data": {
      "text/plain": [
       "{'a': 10, 'b': 20, 'd': 4, 'e': [50, 60, 70]}"
      ]
     },
     "execution_count": 19,
     "metadata": {},
     "output_type": "execute_result"
    }
   ],
   "source": [
    "b"
   ]
  },
  {
   "cell_type": "code",
   "execution_count": 20,
   "id": "68775952",
   "metadata": {},
   "outputs": [],
   "source": [
    "#튜플 추가 가능\n",
    "b['f'] = (100,200)"
   ]
  },
  {
   "cell_type": "code",
   "execution_count": 21,
   "id": "8541b1ee",
   "metadata": {},
   "outputs": [
    {
     "data": {
      "text/plain": [
       "{'a': 10, 'b': 20, 'd': 4, 'e': [50, 60, 70], 'f': (100, 200)}"
      ]
     },
     "execution_count": 21,
     "metadata": {},
     "output_type": "execute_result"
    }
   ],
   "source": [
    "b"
   ]
  },
  {
   "cell_type": "code",
   "execution_count": 22,
   "id": "18b2992b",
   "metadata": {},
   "outputs": [],
   "source": [
    "#값만 있으면 그냥 집합\n",
    "a = {1,3,5}"
   ]
  },
  {
   "cell_type": "code",
   "execution_count": 23,
   "id": "7285678e",
   "metadata": {},
   "outputs": [
    {
     "data": {
      "text/plain": [
       "set"
      ]
     },
     "execution_count": 23,
     "metadata": {},
     "output_type": "execute_result"
    }
   ],
   "source": [
    "type(a)"
   ]
  },
  {
   "cell_type": "code",
   "execution_count": 24,
   "id": "0e0da3cc",
   "metadata": {},
   "outputs": [
    {
     "data": {
      "text/plain": [
       "{1, 3, 5}"
      ]
     },
     "execution_count": 24,
     "metadata": {},
     "output_type": "execute_result"
    }
   ],
   "source": [
    "a"
   ]
  },
  {
   "cell_type": "code",
   "execution_count": 25,
   "id": "30b08064",
   "metadata": {},
   "outputs": [],
   "source": [
    "#set.add(x)형태로 집합에 값 추가 가능\n",
    "a.add(7)"
   ]
  },
  {
   "cell_type": "code",
   "execution_count": 26,
   "id": "1cee3ff8",
   "metadata": {},
   "outputs": [
    {
     "data": {
      "text/plain": [
       "{1, 3, 5, 7}"
      ]
     },
     "execution_count": 26,
     "metadata": {},
     "output_type": "execute_result"
    }
   ],
   "source": [
    "a"
   ]
  },
  {
   "cell_type": "code",
   "execution_count": 27,
   "id": "40fa6846",
   "metadata": {},
   "outputs": [],
   "source": [
    "#이미 있는 값 추가해도 집합 관점에서는 개수가 중요하지 않으므로 같음\n",
    "a.add(5)"
   ]
  },
  {
   "cell_type": "code",
   "execution_count": 28,
   "id": "14a9638d",
   "metadata": {},
   "outputs": [
    {
     "data": {
      "text/plain": [
       "{1, 3, 5, 7}"
      ]
     },
     "execution_count": 28,
     "metadata": {},
     "output_type": "execute_result"
    }
   ],
   "source": [
    "a"
   ]
  },
  {
   "cell_type": "code",
   "execution_count": 29,
   "id": "47e3dec1",
   "metadata": {},
   "outputs": [],
   "source": [
    "#set.remove(x)형태로 값 삭제\n",
    "a.remove(5)"
   ]
  },
  {
   "cell_type": "code",
   "execution_count": 30,
   "id": "9cf625cd",
   "metadata": {},
   "outputs": [
    {
     "data": {
      "text/plain": [
       "{1, 3, 7}"
      ]
     },
     "execution_count": 30,
     "metadata": {},
     "output_type": "execute_result"
    }
   ],
   "source": [
    "a"
   ]
  },
  {
   "cell_type": "code",
   "execution_count": 31,
   "id": "bed84127",
   "metadata": {},
   "outputs": [
    {
     "data": {
      "text/plain": [
       "True"
      ]
     },
     "execution_count": 31,
     "metadata": {},
     "output_type": "execute_result"
    }
   ],
   "source": [
    "#in 으로 값이 있는지 찾기\n",
    "1 in a"
   ]
  },
  {
   "cell_type": "code",
   "execution_count": 32,
   "id": "211b1d8b",
   "metadata": {},
   "outputs": [
    {
     "data": {
      "text/plain": [
       "False"
      ]
     },
     "execution_count": 32,
     "metadata": {},
     "output_type": "execute_result"
    }
   ],
   "source": [
    "2 in a"
   ]
  },
  {
   "cell_type": "code",
   "execution_count": 33,
   "id": "b97530e5",
   "metadata": {},
   "outputs": [
    {
     "data": {
      "text/plain": [
       "True"
      ]
     },
     "execution_count": 33,
     "metadata": {},
     "output_type": "execute_result"
    }
   ],
   "source": [
    "#not in도 가능\n",
    "2 not in a"
   ]
  },
  {
   "cell_type": "code",
   "execution_count": 34,
   "id": "f982bda1",
   "metadata": {},
   "outputs": [
    {
     "data": {
      "text/plain": [
       "False"
      ]
     },
     "execution_count": 34,
     "metadata": {},
     "output_type": "execute_result"
    }
   ],
   "source": [
    "1 not in a"
   ]
  },
  {
   "cell_type": "code",
   "execution_count": 35,
   "id": "214697df",
   "metadata": {},
   "outputs": [],
   "source": [
    "b={1,2,4,6}"
   ]
  },
  {
   "cell_type": "code",
   "execution_count": 36,
   "id": "44d21ef0",
   "metadata": {},
   "outputs": [
    {
     "data": {
      "text/plain": [
       "{1, 3, 7}"
      ]
     },
     "execution_count": 36,
     "metadata": {},
     "output_type": "execute_result"
    }
   ],
   "source": [
    "a"
   ]
  },
  {
   "cell_type": "code",
   "execution_count": 37,
   "id": "1c0776e3",
   "metadata": {},
   "outputs": [
    {
     "data": {
      "text/plain": [
       "{1, 2, 4, 6}"
      ]
     },
     "execution_count": 37,
     "metadata": {},
     "output_type": "execute_result"
    }
   ],
   "source": [
    "b"
   ]
  },
  {
   "cell_type": "code",
   "execution_count": 38,
   "id": "722c3767",
   "metadata": {},
   "outputs": [
    {
     "data": {
      "text/plain": [
       "{1, 2, 3, 4, 6, 7}"
      ]
     },
     "execution_count": 38,
     "metadata": {},
     "output_type": "execute_result"
    }
   ],
   "source": [
    "#합집합\n",
    "a|b"
   ]
  },
  {
   "cell_type": "code",
   "execution_count": 39,
   "id": "3cc172c4",
   "metadata": {},
   "outputs": [],
   "source": [
    "#합집합을 변수에 지정 가능\n",
    "ab = a|b"
   ]
  },
  {
   "cell_type": "code",
   "execution_count": 40,
   "id": "d7d73f84",
   "metadata": {},
   "outputs": [
    {
     "data": {
      "text/plain": [
       "set"
      ]
     },
     "execution_count": 40,
     "metadata": {},
     "output_type": "execute_result"
    }
   ],
   "source": [
    "type(ab)"
   ]
  },
  {
   "cell_type": "code",
   "execution_count": 41,
   "id": "44eb8d3f",
   "metadata": {},
   "outputs": [
    {
     "data": {
      "text/plain": [
       "{1}"
      ]
     },
     "execution_count": 41,
     "metadata": {},
     "output_type": "execute_result"
    }
   ],
   "source": [
    "#교집합\n",
    "a & b"
   ]
  },
  {
   "cell_type": "code",
   "execution_count": 42,
   "id": "cea875ab",
   "metadata": {},
   "outputs": [],
   "source": [
    "#교집합도 변수에 지정 가능\n",
    "abc = a&b"
   ]
  },
  {
   "cell_type": "code",
   "execution_count": 43,
   "id": "6d5a2518",
   "metadata": {},
   "outputs": [
    {
     "data": {
      "text/plain": [
       "set"
      ]
     },
     "execution_count": 43,
     "metadata": {},
     "output_type": "execute_result"
    }
   ],
   "source": [
    "type(abc)"
   ]
  },
  {
   "cell_type": "markdown",
   "id": "043295ae",
   "metadata": {},
   "source": [
    "10-2 파이썬의 자료형 - 문자열\\\n",
    "\\\n",
    "문자열에서의 연산\\\n",
    "#이어붙이기\\\n",
    "#반복하기\\\n",
    "\\\n",
    "자주 사용하는 문자열 함수 1\\\n",
    "#strip(): 앞/뒤 공백 제거\\\n",
    "#split(): 문자열 분리\\\n",
    "#join(): 문자열 병합\\\n",
    "\\\n",
    "자주 사용하는 문자열 함수 2\\\n",
    "#lower(): 알파벳 대문자를 소문자로\\\n",
    "#upper(): 알파벳 소문자를 대문자로\\\n",
    "#count(): 카운트"
   ]
  },
  {
   "cell_type": "code",
   "execution_count": 44,
   "id": "1f082b8c",
   "metadata": {},
   "outputs": [],
   "source": [
    "a='안녕'"
   ]
  },
  {
   "cell_type": "code",
   "execution_count": 45,
   "id": "80d68e02",
   "metadata": {},
   "outputs": [],
   "source": [
    "b='하세요'"
   ]
  },
  {
   "cell_type": "code",
   "execution_count": 46,
   "id": "07e19181",
   "metadata": {},
   "outputs": [
    {
     "data": {
      "text/plain": [
       "'안녕'"
      ]
     },
     "execution_count": 46,
     "metadata": {},
     "output_type": "execute_result"
    }
   ],
   "source": [
    "a"
   ]
  },
  {
   "cell_type": "code",
   "execution_count": 47,
   "id": "45d3fd83",
   "metadata": {},
   "outputs": [
    {
     "data": {
      "text/plain": [
       "'하세요'"
      ]
     },
     "execution_count": 47,
     "metadata": {},
     "output_type": "execute_result"
    }
   ],
   "source": [
    "b"
   ]
  },
  {
   "cell_type": "code",
   "execution_count": 48,
   "id": "4bf16bdd",
   "metadata": {},
   "outputs": [
    {
     "data": {
      "text/plain": [
       "'안녕하세요'"
      ]
     },
     "execution_count": 48,
     "metadata": {},
     "output_type": "execute_result"
    }
   ],
   "source": [
    "#덧셈으로 이어붙이기 가능\n",
    "a+b"
   ]
  },
  {
   "cell_type": "code",
   "execution_count": 49,
   "id": "405a932c",
   "metadata": {},
   "outputs": [
    {
     "data": {
      "text/plain": [
       "'안녕안녕하세요'"
      ]
     },
     "execution_count": 49,
     "metadata": {},
     "output_type": "execute_result"
    }
   ],
   "source": [
    "a+a+b"
   ]
  },
  {
   "cell_type": "code",
   "execution_count": 50,
   "id": "daa33fd8",
   "metadata": {},
   "outputs": [
    {
     "data": {
      "text/plain": [
       "'안녕안녕'"
      ]
     },
     "execution_count": 50,
     "metadata": {},
     "output_type": "execute_result"
    }
   ],
   "source": [
    "#곱셈으로 반복 가능\n",
    "a*2"
   ]
  },
  {
   "cell_type": "code",
   "execution_count": 51,
   "id": "9a8ac2d3",
   "metadata": {},
   "outputs": [
    {
     "data": {
      "text/plain": [
       "'안녕안녕안녕안녕안녕안녕안녕안녕안녕안녕'"
      ]
     },
     "execution_count": 51,
     "metadata": {},
     "output_type": "execute_result"
    }
   ],
   "source": [
    "a*10"
   ]
  },
  {
   "cell_type": "code",
   "execution_count": 52,
   "id": "32fdfb32",
   "metadata": {},
   "outputs": [
    {
     "data": {
      "text/plain": [
       "'안녕안녕하세요'"
      ]
     },
     "execution_count": 52,
     "metadata": {},
     "output_type": "execute_result"
    }
   ],
   "source": [
    "a*2+b"
   ]
  },
  {
   "cell_type": "code",
   "execution_count": 53,
   "id": "82219b44",
   "metadata": {},
   "outputs": [],
   "source": [
    "#변수에 저장\n",
    "c = a*2+b"
   ]
  },
  {
   "cell_type": "code",
   "execution_count": 54,
   "id": "acbd8505",
   "metadata": {},
   "outputs": [
    {
     "data": {
      "text/plain": [
       "'안녕안녕하세요'"
      ]
     },
     "execution_count": 54,
     "metadata": {},
     "output_type": "execute_result"
    }
   ],
   "source": [
    "c"
   ]
  },
  {
   "cell_type": "code",
   "execution_count": 55,
   "id": "84686ac8",
   "metadata": {},
   "outputs": [
    {
     "data": {
      "text/plain": [
       "'안'"
      ]
     },
     "execution_count": 55,
     "metadata": {},
     "output_type": "execute_result"
    }
   ],
   "source": [
    "#문자열도 인덱스를 가짐\n",
    "c[0]"
   ]
  },
  {
   "cell_type": "code",
   "execution_count": 56,
   "id": "0d8dd696",
   "metadata": {},
   "outputs": [
    {
     "data": {
      "text/plain": [
       "'안녕'"
      ]
     },
     "execution_count": 56,
     "metadata": {},
     "output_type": "execute_result"
    }
   ],
   "source": [
    "c[2:4]"
   ]
  },
  {
   "cell_type": "code",
   "execution_count": 57,
   "id": "c490e8d3",
   "metadata": {},
   "outputs": [
    {
     "data": {
      "text/plain": [
       "'안녕하세요'"
      ]
     },
     "execution_count": 57,
     "metadata": {},
     "output_type": "execute_result"
    }
   ],
   "source": [
    "c[2:]"
   ]
  },
  {
   "cell_type": "code",
   "execution_count": 58,
   "id": "7d6c218a",
   "metadata": {},
   "outputs": [
    {
     "data": {
      "text/plain": [
       "'안녕안녕'"
      ]
     },
     "execution_count": 58,
     "metadata": {},
     "output_type": "execute_result"
    }
   ],
   "source": [
    "c[:4]"
   ]
  },
  {
   "cell_type": "code",
   "execution_count": 59,
   "id": "9d4c2890",
   "metadata": {},
   "outputs": [
    {
     "name": "stdout",
     "output_type": "stream",
     "text": [
      "안\n",
      "녕\n",
      "안\n",
      "녕\n",
      "하\n",
      "세\n",
      "요\n"
     ]
    }
   ],
   "source": [
    "#반복문으로 나열 가능\n",
    "for x in c:\n",
    "    print(x)"
   ]
  },
  {
   "cell_type": "code",
   "execution_count": 60,
   "id": "66249022",
   "metadata": {},
   "outputs": [
    {
     "name": "stdout",
     "output_type": "stream",
     "text": [
      "H\n",
      "e\n",
      "l\n",
      "l\n",
      "o\n",
      " \n",
      "W\n",
      "o\n",
      "r\n",
      "l\n",
      "d\n",
      "!\n"
     ]
    }
   ],
   "source": [
    "d='Hello World!'\n",
    "for x in d:\n",
    "    print(x)"
   ]
  },
  {
   "cell_type": "code",
   "execution_count": 61,
   "id": "59c74245",
   "metadata": {},
   "outputs": [
    {
     "data": {
      "text/plain": [
       "'Hi World!'"
      ]
     },
     "execution_count": 61,
     "metadata": {},
     "output_type": "execute_result"
    }
   ],
   "source": [
    "#replace로 값 변경 가능\n",
    "d.replace('Hello', 'Hi')"
   ]
  },
  {
   "cell_type": "code",
   "execution_count": 62,
   "id": "d483dae1",
   "metadata": {},
   "outputs": [
    {
     "data": {
      "text/plain": [
       "'Hello World!'"
      ]
     },
     "execution_count": 62,
     "metadata": {},
     "output_type": "execute_result"
    }
   ],
   "source": [
    "#바뀌지는 않음.\n",
    "d"
   ]
  },
  {
   "cell_type": "code",
   "execution_count": 63,
   "id": "b6ca3c32",
   "metadata": {},
   "outputs": [],
   "source": [
    "#저장하려면 변수에 지정\n",
    "e = d.replace('Hello', 'Hi')"
   ]
  },
  {
   "cell_type": "code",
   "execution_count": 64,
   "id": "c22f2412",
   "metadata": {},
   "outputs": [
    {
     "data": {
      "text/plain": [
       "'Hi World!'"
      ]
     },
     "execution_count": 64,
     "metadata": {},
     "output_type": "execute_result"
    }
   ],
   "source": [
    "e"
   ]
  },
  {
   "cell_type": "code",
   "execution_count": 65,
   "id": "55450dda",
   "metadata": {},
   "outputs": [],
   "source": [
    "#strip()함수 활용: 앞뒤 공백 제거\n",
    "a='    안녕    '"
   ]
  },
  {
   "cell_type": "code",
   "execution_count": 66,
   "id": "54e657bf",
   "metadata": {},
   "outputs": [
    {
     "data": {
      "text/plain": [
       "'    안녕    '"
      ]
     },
     "execution_count": 66,
     "metadata": {},
     "output_type": "execute_result"
    }
   ],
   "source": [
    "a"
   ]
  },
  {
   "cell_type": "code",
   "execution_count": 67,
   "id": "c4ab52d3",
   "metadata": {},
   "outputs": [],
   "source": [
    "b='안녕'"
   ]
  },
  {
   "cell_type": "code",
   "execution_count": 68,
   "id": "1fb17669",
   "metadata": {},
   "outputs": [
    {
     "data": {
      "text/plain": [
       "False"
      ]
     },
     "execution_count": 68,
     "metadata": {},
     "output_type": "execute_result"
    }
   ],
   "source": [
    "#띄어쓰기도 문자다.\n",
    "a==b"
   ]
  },
  {
   "cell_type": "code",
   "execution_count": 69,
   "id": "1d666067",
   "metadata": {},
   "outputs": [
    {
     "data": {
      "text/plain": [
       "'안녕'"
      ]
     },
     "execution_count": 69,
     "metadata": {},
     "output_type": "execute_result"
    }
   ],
   "source": [
    "#다 없애버리기\n",
    "a.strip()"
   ]
  },
  {
   "cell_type": "code",
   "execution_count": 70,
   "id": "a9fb738d",
   "metadata": {},
   "outputs": [
    {
     "data": {
      "text/plain": [
       "'    안녕    '"
      ]
     },
     "execution_count": 70,
     "metadata": {},
     "output_type": "execute_result"
    }
   ],
   "source": [
    "#바뀌지는 않음\n",
    "a"
   ]
  },
  {
   "cell_type": "code",
   "execution_count": 71,
   "id": "c12dc76d",
   "metadata": {},
   "outputs": [],
   "source": [
    "#바꾸려면 변수에 지정\n",
    "a=a.strip()"
   ]
  },
  {
   "cell_type": "code",
   "execution_count": 72,
   "id": "e4add738",
   "metadata": {},
   "outputs": [
    {
     "data": {
      "text/plain": [
       "'안녕'"
      ]
     },
     "execution_count": 72,
     "metadata": {},
     "output_type": "execute_result"
    }
   ],
   "source": [
    "a"
   ]
  },
  {
   "cell_type": "code",
   "execution_count": 73,
   "id": "a1425724",
   "metadata": {},
   "outputs": [
    {
     "data": {
      "text/plain": [
       "True"
      ]
     },
     "execution_count": 73,
     "metadata": {},
     "output_type": "execute_result"
    }
   ],
   "source": [
    "a==b"
   ]
  },
  {
   "cell_type": "code",
   "execution_count": 74,
   "id": "3b421ad9",
   "metadata": {},
   "outputs": [],
   "source": [
    "#split 함수 활용: 특정 문자열로 분리\n",
    "b='000-123-4567'"
   ]
  },
  {
   "cell_type": "code",
   "execution_count": 75,
   "id": "585857d3",
   "metadata": {},
   "outputs": [
    {
     "data": {
      "text/plain": [
       "['000', '123', '4567']"
      ]
     },
     "execution_count": 75,
     "metadata": {},
     "output_type": "execute_result"
    }
   ],
   "source": [
    "b.split('-')"
   ]
  },
  {
   "cell_type": "code",
   "execution_count": 76,
   "id": "3b9a548e",
   "metadata": {},
   "outputs": [
    {
     "data": {
      "text/plain": [
       "'000-123-4567'"
      ]
     },
     "execution_count": 76,
     "metadata": {},
     "output_type": "execute_result"
    }
   ],
   "source": [
    "b"
   ]
  },
  {
   "cell_type": "code",
   "execution_count": 77,
   "id": "422e4465",
   "metadata": {},
   "outputs": [],
   "source": [
    "b=b.split('-')"
   ]
  },
  {
   "cell_type": "code",
   "execution_count": 78,
   "id": "98f89e83",
   "metadata": {},
   "outputs": [
    {
     "data": {
      "text/plain": [
       "['000', '123', '4567']"
      ]
     },
     "execution_count": 78,
     "metadata": {},
     "output_type": "execute_result"
    }
   ],
   "source": [
    "b"
   ]
  },
  {
   "cell_type": "code",
   "execution_count": 79,
   "id": "df0f6c46",
   "metadata": {},
   "outputs": [
    {
     "data": {
      "text/plain": [
       "'000'"
      ]
     },
     "execution_count": 79,
     "metadata": {},
     "output_type": "execute_result"
    }
   ],
   "source": [
    "b[0]"
   ]
  },
  {
   "cell_type": "code",
   "execution_count": 80,
   "id": "963c3a1a",
   "metadata": {},
   "outputs": [
    {
     "data": {
      "text/plain": [
       "'123'"
      ]
     },
     "execution_count": 80,
     "metadata": {},
     "output_type": "execute_result"
    }
   ],
   "source": [
    "b[1]"
   ]
  },
  {
   "cell_type": "code",
   "execution_count": 81,
   "id": "dcf1f838",
   "metadata": {},
   "outputs": [],
   "source": [
    "d='빅데이터 머신러닝 인공지능'"
   ]
  },
  {
   "cell_type": "code",
   "execution_count": 82,
   "id": "d1a1a530",
   "metadata": {},
   "outputs": [
    {
     "data": {
      "text/plain": [
       "['빅데이터', '머신러닝', '인공지능']"
      ]
     },
     "execution_count": 82,
     "metadata": {},
     "output_type": "execute_result"
    }
   ],
   "source": [
    "#띄어쓰기로 구분 가능\n",
    "d.split(' ')"
   ]
  },
  {
   "cell_type": "code",
   "execution_count": 83,
   "id": "c2cd3430",
   "metadata": {},
   "outputs": [
    {
     "data": {
      "text/plain": [
       "['빅데이터', '머신러닝', '인공지능']"
      ]
     },
     "execution_count": 83,
     "metadata": {},
     "output_type": "execute_result"
    }
   ],
   "source": [
    "#띄어쓰기는 생략 가능\n",
    "d.split()"
   ]
  },
  {
   "cell_type": "code",
   "execution_count": 84,
   "id": "292c2d41",
   "metadata": {},
   "outputs": [
    {
     "data": {
      "text/plain": [
       "'빅데이터 머신러닝 인공지능'"
      ]
     },
     "execution_count": 84,
     "metadata": {},
     "output_type": "execute_result"
    }
   ],
   "source": [
    "d"
   ]
  },
  {
   "cell_type": "code",
   "execution_count": 85,
   "id": "c418365b",
   "metadata": {},
   "outputs": [],
   "source": [
    "d=d.split()"
   ]
  },
  {
   "cell_type": "code",
   "execution_count": 86,
   "id": "787bbc9c",
   "metadata": {},
   "outputs": [
    {
     "data": {
      "text/plain": [
       "['빅데이터', '머신러닝', '인공지능']"
      ]
     },
     "execution_count": 86,
     "metadata": {},
     "output_type": "execute_result"
    }
   ],
   "source": [
    "d"
   ]
  },
  {
   "cell_type": "code",
   "execution_count": 87,
   "id": "6a6fe825",
   "metadata": {},
   "outputs": [],
   "source": [
    "e='빅데이터.머신러닝.인공지능'"
   ]
  },
  {
   "cell_type": "code",
   "execution_count": 88,
   "id": "74ccb8b2",
   "metadata": {},
   "outputs": [
    {
     "data": {
      "text/plain": [
       "['빅데이터', '머신러닝', '인공지능']"
      ]
     },
     "execution_count": 88,
     "metadata": {},
     "output_type": "execute_result"
    }
   ],
   "source": [
    "e.split('.')"
   ]
  },
  {
   "cell_type": "code",
   "execution_count": 89,
   "id": "fc32936d",
   "metadata": {},
   "outputs": [],
   "source": [
    "e=e.split('.')"
   ]
  },
  {
   "cell_type": "code",
   "execution_count": 90,
   "id": "cebae58b",
   "metadata": {},
   "outputs": [
    {
     "data": {
      "text/plain": [
       "['빅데이터', '머신러닝', '인공지능']"
      ]
     },
     "execution_count": 90,
     "metadata": {},
     "output_type": "execute_result"
    }
   ],
   "source": [
    "e"
   ]
  },
  {
   "cell_type": "code",
   "execution_count": 91,
   "id": "ab52990d",
   "metadata": {},
   "outputs": [
    {
     "data": {
      "text/plain": [
       "'빅데이터머신러닝인공지능'"
      ]
     },
     "execution_count": 91,
     "metadata": {},
     "output_type": "execute_result"
    }
   ],
   "source": [
    "#join함수 활용: 병합\n",
    "''.join(e)"
   ]
  },
  {
   "cell_type": "code",
   "execution_count": 92,
   "id": "94faa515",
   "metadata": {},
   "outputs": [
    {
     "data": {
      "text/plain": [
       "['빅데이터', '머신러닝', '인공지능']"
      ]
     },
     "execution_count": 92,
     "metadata": {},
     "output_type": "execute_result"
    }
   ],
   "source": [
    "e"
   ]
  },
  {
   "cell_type": "code",
   "execution_count": 93,
   "id": "5c0a0eb4",
   "metadata": {},
   "outputs": [
    {
     "data": {
      "text/plain": [
       "'빅데이터 머신러닝 인공지능'"
      ]
     },
     "execution_count": 93,
     "metadata": {},
     "output_type": "execute_result"
    }
   ],
   "source": [
    "' '.join(e)"
   ]
  },
  {
   "cell_type": "code",
   "execution_count": 94,
   "id": "261dfbce",
   "metadata": {},
   "outputs": [
    {
     "data": {
      "text/plain": [
       "'빅데이터-머신러닝-인공지능'"
      ]
     },
     "execution_count": 94,
     "metadata": {},
     "output_type": "execute_result"
    }
   ],
   "source": [
    "'-'.join(e)"
   ]
  },
  {
   "cell_type": "code",
   "execution_count": 95,
   "id": "0c0a5c18",
   "metadata": {},
   "outputs": [
    {
     "data": {
      "text/plain": [
       "['빅데이터', '머신러닝', '인공지능']"
      ]
     },
     "execution_count": 95,
     "metadata": {},
     "output_type": "execute_result"
    }
   ],
   "source": [
    "e"
   ]
  },
  {
   "cell_type": "code",
   "execution_count": 96,
   "id": "b23eb6f9",
   "metadata": {},
   "outputs": [],
   "source": [
    "f = '-'.join(e)"
   ]
  },
  {
   "cell_type": "code",
   "execution_count": 97,
   "id": "c0b754a0",
   "metadata": {},
   "outputs": [
    {
     "data": {
      "text/plain": [
       "'빅데이터-머신러닝-인공지능'"
      ]
     },
     "execution_count": 97,
     "metadata": {},
     "output_type": "execute_result"
    }
   ],
   "source": [
    "f"
   ]
  },
  {
   "cell_type": "code",
   "execution_count": 98,
   "id": "a8ecdeaf",
   "metadata": {},
   "outputs": [],
   "source": [
    "#upper함수 활용: 전부 대문자로 치환\n",
    "a = 'Hello World!'"
   ]
  },
  {
   "cell_type": "code",
   "execution_count": 99,
   "id": "1a6ad9c5",
   "metadata": {},
   "outputs": [
    {
     "data": {
      "text/plain": [
       "'Hello World!'"
      ]
     },
     "execution_count": 99,
     "metadata": {},
     "output_type": "execute_result"
    }
   ],
   "source": [
    "a"
   ]
  },
  {
   "cell_type": "code",
   "execution_count": 100,
   "id": "1ef8aa08",
   "metadata": {},
   "outputs": [
    {
     "data": {
      "text/plain": [
       "'HELLO WORLD!'"
      ]
     },
     "execution_count": 100,
     "metadata": {},
     "output_type": "execute_result"
    }
   ],
   "source": [
    "a.upper()"
   ]
  },
  {
   "cell_type": "code",
   "execution_count": 101,
   "id": "42e91c20",
   "metadata": {},
   "outputs": [
    {
     "data": {
      "text/plain": [
       "'hello world!'"
      ]
     },
     "execution_count": 101,
     "metadata": {},
     "output_type": "execute_result"
    }
   ],
   "source": [
    "#lower함수 활용: 전부 소문자로 치환\n",
    "a.lower()"
   ]
  },
  {
   "cell_type": "code",
   "execution_count": 102,
   "id": "6025dd3d",
   "metadata": {},
   "outputs": [
    {
     "data": {
      "text/plain": [
       "1"
      ]
     },
     "execution_count": 102,
     "metadata": {},
     "output_type": "execute_result"
    }
   ],
   "source": [
    "#count함수 활용: 특정 문자의 개수 세기, 대소문자 구분함\n",
    "c='HeLlo'\n",
    "c.count('l')"
   ]
  },
  {
   "cell_type": "code",
   "execution_count": 103,
   "id": "d94f0d4d",
   "metadata": {},
   "outputs": [],
   "source": [
    "d = c.lower()"
   ]
  },
  {
   "cell_type": "code",
   "execution_count": 104,
   "id": "0a4ec88e",
   "metadata": {},
   "outputs": [
    {
     "data": {
      "text/plain": [
       "'hello'"
      ]
     },
     "execution_count": 104,
     "metadata": {},
     "output_type": "execute_result"
    }
   ],
   "source": [
    "d"
   ]
  },
  {
   "cell_type": "code",
   "execution_count": 105,
   "id": "693ac2eb",
   "metadata": {},
   "outputs": [
    {
     "data": {
      "text/plain": [
       "2"
      ]
     },
     "execution_count": 105,
     "metadata": {},
     "output_type": "execute_result"
    }
   ],
   "source": [
    "d.count('l')"
   ]
  },
  {
   "cell_type": "markdown",
   "id": "57b3f745",
   "metadata": {},
   "source": [
    "10-3 파이썬의 자료형-기타(1)\\\n",
    "\\\n",
    "#Counter\\\n",
    "#복사\\\n",
    "#zip()\\\n",
    "#enumerate()"
   ]
  },
  {
   "cell_type": "code",
   "execution_count": 106,
   "id": "af89243b",
   "metadata": {},
   "outputs": [],
   "source": [
    "from collections import Counter"
   ]
  },
  {
   "cell_type": "code",
   "execution_count": 107,
   "id": "d095662b",
   "metadata": {},
   "outputs": [],
   "source": [
    "a = 'a abc a ab abc a'"
   ]
  },
  {
   "cell_type": "code",
   "execution_count": 108,
   "id": "e60ac9f0",
   "metadata": {},
   "outputs": [],
   "source": [
    "#끊기\n",
    "b = a.split()"
   ]
  },
  {
   "cell_type": "code",
   "execution_count": 109,
   "id": "cfbdee6e",
   "metadata": {},
   "outputs": [
    {
     "data": {
      "text/plain": [
       "['a', 'abc', 'a', 'ab', 'abc', 'a']"
      ]
     },
     "execution_count": 109,
     "metadata": {},
     "output_type": "execute_result"
    }
   ],
   "source": [
    "b"
   ]
  },
  {
   "cell_type": "code",
   "execution_count": 110,
   "id": "2e560966",
   "metadata": {},
   "outputs": [],
   "source": [
    "#개수 세기\n",
    "c = Counter(b)"
   ]
  },
  {
   "cell_type": "code",
   "execution_count": 111,
   "id": "8225d7ef",
   "metadata": {},
   "outputs": [
    {
     "data": {
      "text/plain": [
       "Counter({'a': 3, 'abc': 2, 'ab': 1})"
      ]
     },
     "execution_count": 111,
     "metadata": {},
     "output_type": "execute_result"
    }
   ],
   "source": [
    "c"
   ]
  },
  {
   "cell_type": "code",
   "execution_count": 112,
   "id": "352dc444",
   "metadata": {},
   "outputs": [
    {
     "data": {
      "text/plain": [
       "[('a', 3), ('abc', 2), ('ab', 1)]"
      ]
     },
     "execution_count": 112,
     "metadata": {},
     "output_type": "execute_result"
    }
   ],
   "source": [
    "#가장 많이 나온 순서로 출력\n",
    "c.most_common()"
   ]
  },
  {
   "cell_type": "code",
   "execution_count": 113,
   "id": "066f0447",
   "metadata": {},
   "outputs": [
    {
     "data": {
      "text/plain": [
       "[('a', 3)]"
      ]
     },
     "execution_count": 113,
     "metadata": {},
     "output_type": "execute_result"
    }
   ],
   "source": [
    "#괄호 안에 숫자를 넣으면 가장 많이 나온 것을 개수에 맞게 출력\n",
    "c.most_common(1)"
   ]
  },
  {
   "cell_type": "code",
   "execution_count": 114,
   "id": "cfa654bd",
   "metadata": {},
   "outputs": [
    {
     "data": {
      "text/plain": [
       "[('a', 3), ('abc', 2)]"
      ]
     },
     "execution_count": 114,
     "metadata": {},
     "output_type": "execute_result"
    }
   ],
   "source": [
    "c.most_common(2)"
   ]
  },
  {
   "cell_type": "code",
   "execution_count": 115,
   "id": "ff32c64f",
   "metadata": {},
   "outputs": [],
   "source": [
    "#딕셔너리로 옮기기\n",
    "d = dict(c.most_common())"
   ]
  },
  {
   "cell_type": "code",
   "execution_count": 116,
   "id": "176a7984",
   "metadata": {},
   "outputs": [
    {
     "data": {
      "text/plain": [
       "{'a': 3, 'abc': 2, 'ab': 1}"
      ]
     },
     "execution_count": 116,
     "metadata": {},
     "output_type": "execute_result"
    }
   ],
   "source": [
    "d"
   ]
  },
  {
   "cell_type": "code",
   "execution_count": 117,
   "id": "47457fa1",
   "metadata": {},
   "outputs": [
    {
     "data": {
      "text/plain": [
       "dict"
      ]
     },
     "execution_count": 117,
     "metadata": {},
     "output_type": "execute_result"
    }
   ],
   "source": [
    "type(d)"
   ]
  },
  {
   "cell_type": "code",
   "execution_count": 118,
   "id": "f7bb60aa",
   "metadata": {},
   "outputs": [
    {
     "data": {
      "text/plain": [
       "3"
      ]
     },
     "execution_count": 118,
     "metadata": {},
     "output_type": "execute_result"
    }
   ],
   "source": [
    "#dict[key]형태로 특정 단어의 개수만 출력 가능\n",
    "d['a']"
   ]
  },
  {
   "cell_type": "code",
   "execution_count": 119,
   "id": "606be8e8",
   "metadata": {},
   "outputs": [
    {
     "data": {
      "text/plain": [
       "1"
      ]
     },
     "execution_count": 119,
     "metadata": {},
     "output_type": "execute_result"
    }
   ],
   "source": [
    "d['ab']"
   ]
  },
  {
   "cell_type": "markdown",
   "id": "baade4e7",
   "metadata": {},
   "source": [
    "10-3 파이썬의 자료형-기타(2)"
   ]
  },
  {
   "cell_type": "code",
   "execution_count": 120,
   "id": "52749d6d",
   "metadata": {},
   "outputs": [],
   "source": [
    "#값 복사\n",
    "a = [10,20,30]"
   ]
  },
  {
   "cell_type": "code",
   "execution_count": 121,
   "id": "172e6653",
   "metadata": {},
   "outputs": [],
   "source": [
    "#이렇게 단순복사를 하게 되면\n",
    "b = a"
   ]
  },
  {
   "cell_type": "code",
   "execution_count": 122,
   "id": "d0dd00f2",
   "metadata": {},
   "outputs": [
    {
     "data": {
      "text/plain": [
       "[10, 20, 30]"
      ]
     },
     "execution_count": 122,
     "metadata": {},
     "output_type": "execute_result"
    }
   ],
   "source": [
    "a"
   ]
  },
  {
   "cell_type": "code",
   "execution_count": 123,
   "id": "1192bac3",
   "metadata": {},
   "outputs": [
    {
     "data": {
      "text/plain": [
       "[10, 20, 30]"
      ]
     },
     "execution_count": 123,
     "metadata": {},
     "output_type": "execute_result"
    }
   ],
   "source": [
    "b"
   ]
  },
  {
   "cell_type": "code",
   "execution_count": 124,
   "id": "f28415cb",
   "metadata": {},
   "outputs": [
    {
     "data": {
      "text/plain": [
       "list"
      ]
     },
     "execution_count": 124,
     "metadata": {},
     "output_type": "execute_result"
    }
   ],
   "source": [
    "type(a)"
   ]
  },
  {
   "cell_type": "code",
   "execution_count": 125,
   "id": "181a843e",
   "metadata": {},
   "outputs": [
    {
     "data": {
      "text/plain": [
       "list"
      ]
     },
     "execution_count": 125,
     "metadata": {},
     "output_type": "execute_result"
    }
   ],
   "source": [
    "type(b)"
   ]
  },
  {
   "cell_type": "code",
   "execution_count": 126,
   "id": "901afe69",
   "metadata": {},
   "outputs": [],
   "source": [
    "#이렇게 값을 바꿨을 때 원본까지 같이 바뀐다.\n",
    "b[1] = 200"
   ]
  },
  {
   "cell_type": "code",
   "execution_count": 127,
   "id": "f2dc6dcb",
   "metadata": {},
   "outputs": [
    {
     "data": {
      "text/plain": [
       "[10, 200, 30]"
      ]
     },
     "execution_count": 127,
     "metadata": {},
     "output_type": "execute_result"
    }
   ],
   "source": [
    "b"
   ]
  },
  {
   "cell_type": "code",
   "execution_count": 128,
   "id": "8738dcae",
   "metadata": {},
   "outputs": [
    {
     "data": {
      "text/plain": [
       "[10, 200, 30]"
      ]
     },
     "execution_count": 128,
     "metadata": {},
     "output_type": "execute_result"
    }
   ],
   "source": [
    "a"
   ]
  },
  {
   "cell_type": "code",
   "execution_count": 129,
   "id": "7b08e465",
   "metadata": {},
   "outputs": [
    {
     "data": {
      "text/plain": [
       "True"
      ]
     },
     "execution_count": 129,
     "metadata": {},
     "output_type": "execute_result"
    }
   ],
   "source": [
    "a==b"
   ]
  },
  {
   "cell_type": "code",
   "execution_count": 130,
   "id": "f050b60e",
   "metadata": {},
   "outputs": [],
   "source": [
    "#그러므로 copy 라이브러리로 원본을 보존한다.\n",
    "from copy import copy"
   ]
  },
  {
   "cell_type": "code",
   "execution_count": 131,
   "id": "d59efa85",
   "metadata": {},
   "outputs": [],
   "source": [
    "a = [10,20,30]\n",
    "b = a.copy()"
   ]
  },
  {
   "cell_type": "code",
   "execution_count": 132,
   "id": "cf784d49",
   "metadata": {},
   "outputs": [
    {
     "data": {
      "text/plain": [
       "[10, 20, 30]"
      ]
     },
     "execution_count": 132,
     "metadata": {},
     "output_type": "execute_result"
    }
   ],
   "source": [
    "b"
   ]
  },
  {
   "cell_type": "code",
   "execution_count": 133,
   "id": "1203506f",
   "metadata": {},
   "outputs": [],
   "source": [
    "b[1]=200"
   ]
  },
  {
   "cell_type": "code",
   "execution_count": 134,
   "id": "c3d8b0c4",
   "metadata": {},
   "outputs": [
    {
     "data": {
      "text/plain": [
       "[10, 200, 30]"
      ]
     },
     "execution_count": 134,
     "metadata": {},
     "output_type": "execute_result"
    }
   ],
   "source": [
    "b"
   ]
  },
  {
   "cell_type": "code",
   "execution_count": 135,
   "id": "f1321156",
   "metadata": {},
   "outputs": [
    {
     "data": {
      "text/plain": [
       "[10, 20, 30]"
      ]
     },
     "execution_count": 135,
     "metadata": {},
     "output_type": "execute_result"
    }
   ],
   "source": [
    "a"
   ]
  },
  {
   "cell_type": "code",
   "execution_count": 136,
   "id": "95225b18",
   "metadata": {},
   "outputs": [
    {
     "data": {
      "text/plain": [
       "False"
      ]
     },
     "execution_count": 136,
     "metadata": {},
     "output_type": "execute_result"
    }
   ],
   "source": [
    "a == b"
   ]
  },
  {
   "cell_type": "code",
   "execution_count": 137,
   "id": "31abb156",
   "metadata": {},
   "outputs": [],
   "source": [
    "#딕셔너리 또한 단순복사 시 원본까지 바뀐다.\n",
    "c = {1:100, 2:200, 3:300}\n",
    "d = c"
   ]
  },
  {
   "cell_type": "code",
   "execution_count": 138,
   "id": "30e8a8ea",
   "metadata": {},
   "outputs": [],
   "source": [
    "del c[1]"
   ]
  },
  {
   "cell_type": "code",
   "execution_count": 139,
   "id": "ef524ba3",
   "metadata": {},
   "outputs": [
    {
     "data": {
      "text/plain": [
       "{2: 200, 3: 300}"
      ]
     },
     "execution_count": 139,
     "metadata": {},
     "output_type": "execute_result"
    }
   ],
   "source": [
    "c"
   ]
  },
  {
   "cell_type": "code",
   "execution_count": 140,
   "id": "e9276249",
   "metadata": {},
   "outputs": [
    {
     "data": {
      "text/plain": [
       "{2: 200, 3: 300}"
      ]
     },
     "execution_count": 140,
     "metadata": {},
     "output_type": "execute_result"
    }
   ],
   "source": [
    "d"
   ]
  },
  {
   "cell_type": "code",
   "execution_count": 141,
   "id": "9f1381e1",
   "metadata": {},
   "outputs": [
    {
     "data": {
      "text/plain": [
       "True"
      ]
     },
     "execution_count": 141,
     "metadata": {},
     "output_type": "execute_result"
    }
   ],
   "source": [
    "c==d"
   ]
  },
  {
   "cell_type": "code",
   "execution_count": 142,
   "id": "136c9502",
   "metadata": {},
   "outputs": [],
   "source": [
    "#딕셔너리 또한 copy 라이브러리를 사용한다.\n",
    "c = {1:100, 2:200, 3:300}\n",
    "d=c.copy()"
   ]
  },
  {
   "cell_type": "code",
   "execution_count": 143,
   "id": "98716a7a",
   "metadata": {},
   "outputs": [
    {
     "data": {
      "text/plain": [
       "True"
      ]
     },
     "execution_count": 143,
     "metadata": {},
     "output_type": "execute_result"
    }
   ],
   "source": [
    "c==d"
   ]
  },
  {
   "cell_type": "code",
   "execution_count": 144,
   "id": "5c1ea51f",
   "metadata": {},
   "outputs": [],
   "source": [
    "del c[1]"
   ]
  },
  {
   "cell_type": "code",
   "execution_count": 145,
   "id": "f218f52a",
   "metadata": {},
   "outputs": [
    {
     "data": {
      "text/plain": [
       "{2: 200, 3: 300}"
      ]
     },
     "execution_count": 145,
     "metadata": {},
     "output_type": "execute_result"
    }
   ],
   "source": [
    "c"
   ]
  },
  {
   "cell_type": "code",
   "execution_count": 146,
   "id": "3180bf6b",
   "metadata": {},
   "outputs": [
    {
     "data": {
      "text/plain": [
       "{1: 100, 2: 200, 3: 300}"
      ]
     },
     "execution_count": 146,
     "metadata": {},
     "output_type": "execute_result"
    }
   ],
   "source": [
    "d"
   ]
  },
  {
   "cell_type": "code",
   "execution_count": 147,
   "id": "774e31de",
   "metadata": {},
   "outputs": [
    {
     "data": {
      "text/plain": [
       "False"
      ]
     },
     "execution_count": 147,
     "metadata": {},
     "output_type": "execute_result"
    }
   ],
   "source": [
    "c==d"
   ]
  },
  {
   "cell_type": "code",
   "execution_count": 148,
   "id": "43af7ff0",
   "metadata": {},
   "outputs": [],
   "source": [
    "#집합또한 원본이 같이 바뀐다.\n",
    "e = {1, 3, 5}"
   ]
  },
  {
   "cell_type": "code",
   "execution_count": 149,
   "id": "5947c69c",
   "metadata": {},
   "outputs": [],
   "source": [
    "f = e"
   ]
  },
  {
   "cell_type": "code",
   "execution_count": 150,
   "id": "28e514ee",
   "metadata": {},
   "outputs": [],
   "source": [
    "e.remove(1)"
   ]
  },
  {
   "cell_type": "code",
   "execution_count": 151,
   "id": "bc2c2351",
   "metadata": {},
   "outputs": [
    {
     "data": {
      "text/plain": [
       "{3, 5}"
      ]
     },
     "execution_count": 151,
     "metadata": {},
     "output_type": "execute_result"
    }
   ],
   "source": [
    "e"
   ]
  },
  {
   "cell_type": "code",
   "execution_count": 152,
   "id": "9a697824",
   "metadata": {},
   "outputs": [
    {
     "data": {
      "text/plain": [
       "{3, 5}"
      ]
     },
     "execution_count": 152,
     "metadata": {},
     "output_type": "execute_result"
    }
   ],
   "source": [
    "f"
   ]
  },
  {
   "cell_type": "code",
   "execution_count": 153,
   "id": "e5779909",
   "metadata": {},
   "outputs": [
    {
     "data": {
      "text/plain": [
       "True"
      ]
     },
     "execution_count": 153,
     "metadata": {},
     "output_type": "execute_result"
    }
   ],
   "source": [
    "e==f"
   ]
  },
  {
   "cell_type": "code",
   "execution_count": 154,
   "id": "5412f576",
   "metadata": {},
   "outputs": [],
   "source": [
    "#copy를 사용한다.\n",
    "e = {1, 3, 5}\n",
    "f = e.copy()"
   ]
  },
  {
   "cell_type": "code",
   "execution_count": 155,
   "id": "62bc09ba",
   "metadata": {},
   "outputs": [
    {
     "data": {
      "text/plain": [
       "True"
      ]
     },
     "execution_count": 155,
     "metadata": {},
     "output_type": "execute_result"
    }
   ],
   "source": [
    "e==f"
   ]
  },
  {
   "cell_type": "code",
   "execution_count": 156,
   "id": "e05c0cae",
   "metadata": {},
   "outputs": [],
   "source": [
    "e.remove(1)"
   ]
  },
  {
   "cell_type": "code",
   "execution_count": 157,
   "id": "82003c2d",
   "metadata": {},
   "outputs": [
    {
     "data": {
      "text/plain": [
       "False"
      ]
     },
     "execution_count": 157,
     "metadata": {},
     "output_type": "execute_result"
    }
   ],
   "source": [
    "e==f"
   ]
  },
  {
   "cell_type": "code",
   "execution_count": 158,
   "id": "a40934d1",
   "metadata": {},
   "outputs": [],
   "source": [
    "#zip()함수: 여러 개의 문자열의 값을 1:1 비율로 가져온다.\n",
    "a = 'abcd'"
   ]
  },
  {
   "cell_type": "code",
   "execution_count": 159,
   "id": "fb0f9889",
   "metadata": {},
   "outputs": [],
   "source": [
    "b = [1,2,3,4]"
   ]
  },
  {
   "cell_type": "code",
   "execution_count": 160,
   "id": "bbe23e0b",
   "metadata": {},
   "outputs": [
    {
     "name": "stdout",
     "output_type": "stream",
     "text": [
      "a\n",
      "b\n",
      "c\n",
      "d\n"
     ]
    }
   ],
   "source": [
    "for i in a:\n",
    "    print(i)"
   ]
  },
  {
   "cell_type": "code",
   "execution_count": 161,
   "id": "bfc826db",
   "metadata": {},
   "outputs": [
    {
     "name": "stdout",
     "output_type": "stream",
     "text": [
      "1\n",
      "2\n",
      "3\n",
      "4\n"
     ]
    }
   ],
   "source": [
    "for i in b:\n",
    "    print(i)"
   ]
  },
  {
   "cell_type": "code",
   "execution_count": 162,
   "id": "6746b0d1",
   "metadata": {},
   "outputs": [
    {
     "name": "stdout",
     "output_type": "stream",
     "text": [
      "a 1\n",
      "b 2\n",
      "c 3\n",
      "d 4\n"
     ]
    }
   ],
   "source": [
    "#두 개의 문자열을 한 번에 가져오기\n",
    "for x, y in zip(a, b):\n",
    "    print(x, y)"
   ]
  },
  {
   "cell_type": "code",
   "execution_count": 163,
   "id": "54f658c0",
   "metadata": {},
   "outputs": [],
   "source": [
    "#이것을 딕셔너리로 만들 수 있다.\n",
    "ab = dict(zip(a,b))"
   ]
  },
  {
   "cell_type": "code",
   "execution_count": 164,
   "id": "ff8b7a76",
   "metadata": {},
   "outputs": [
    {
     "data": {
      "text/plain": [
       "{'a': 1, 'b': 2, 'c': 3, 'd': 4}"
      ]
     },
     "execution_count": 164,
     "metadata": {},
     "output_type": "execute_result"
    }
   ],
   "source": [
    "ab"
   ]
  },
  {
   "cell_type": "code",
   "execution_count": 165,
   "id": "252fa10c",
   "metadata": {},
   "outputs": [
    {
     "data": {
      "text/plain": [
       "dict"
      ]
     },
     "execution_count": 165,
     "metadata": {},
     "output_type": "execute_result"
    }
   ],
   "source": [
    "type(ab)"
   ]
  },
  {
   "cell_type": "code",
   "execution_count": 166,
   "id": "a457c60c",
   "metadata": {},
   "outputs": [],
   "source": [
    "abc = {'a': 1, 'b': 2, 'c': 3, 'd': 4}"
   ]
  },
  {
   "cell_type": "code",
   "execution_count": 167,
   "id": "84e60060",
   "metadata": {},
   "outputs": [
    {
     "data": {
      "text/plain": [
       "True"
      ]
     },
     "execution_count": 167,
     "metadata": {},
     "output_type": "execute_result"
    }
   ],
   "source": [
    "#직접 만들어도 결과는 같다.\n",
    "ab == abc"
   ]
  },
  {
   "cell_type": "code",
   "execution_count": 168,
   "id": "38fc34e4",
   "metadata": {},
   "outputs": [
    {
     "data": {
      "text/plain": [
       "'abcd'"
      ]
     },
     "execution_count": 168,
     "metadata": {},
     "output_type": "execute_result"
    }
   ],
   "source": [
    "a"
   ]
  },
  {
   "cell_type": "code",
   "execution_count": 169,
   "id": "0fc85f77",
   "metadata": {},
   "outputs": [
    {
     "data": {
      "text/plain": [
       "[1, 2, 3, 4]"
      ]
     },
     "execution_count": 169,
     "metadata": {},
     "output_type": "execute_result"
    }
   ],
   "source": [
    "b"
   ]
  },
  {
   "cell_type": "code",
   "execution_count": 170,
   "id": "f779dba5",
   "metadata": {},
   "outputs": [],
   "source": [
    "c = [10,20,30,40]"
   ]
  },
  {
   "cell_type": "code",
   "execution_count": 171,
   "id": "9f2cbc73",
   "metadata": {},
   "outputs": [
    {
     "name": "stdout",
     "output_type": "stream",
     "text": [
      "a 1 10\n",
      "b 2 20\n",
      "c 3 30\n",
      "d 4 40\n"
     ]
    }
   ],
   "source": [
    "#3개 이상도 가능\n",
    "for x, y, z in zip(a,b,c):\n",
    "    print(x,y,z)"
   ]
  },
  {
   "cell_type": "code",
   "execution_count": 172,
   "id": "bbe46ade",
   "metadata": {},
   "outputs": [
    {
     "data": {
      "text/plain": [
       "'abcd'"
      ]
     },
     "execution_count": 172,
     "metadata": {},
     "output_type": "execute_result"
    }
   ],
   "source": [
    "#enumerate함수: 위치정보를 함께 표시한다.\n",
    "a"
   ]
  },
  {
   "cell_type": "code",
   "execution_count": 173,
   "id": "4a48aa3a",
   "metadata": {},
   "outputs": [
    {
     "name": "stdout",
     "output_type": "stream",
     "text": [
      "a\n",
      "b\n",
      "c\n",
      "d\n"
     ]
    }
   ],
   "source": [
    "for x in a:\n",
    "    print(x)"
   ]
  },
  {
   "cell_type": "code",
   "execution_count": 174,
   "id": "24168deb",
   "metadata": {},
   "outputs": [
    {
     "name": "stdout",
     "output_type": "stream",
     "text": [
      "0 a\n",
      "1 b\n",
      "2 c\n",
      "3 d\n"
     ]
    }
   ],
   "source": [
    "for i, x in enumerate(a):\n",
    "    print(i, x)"
   ]
  },
  {
   "cell_type": "code",
   "execution_count": 175,
   "id": "09d45668",
   "metadata": {},
   "outputs": [
    {
     "name": "stdout",
     "output_type": "stream",
     "text": [
      "10 a\n",
      "11 b\n",
      "12 c\n",
      "13 d\n"
     ]
    }
   ],
   "source": [
    "for i, x in enumerate(a, 10): #10은 인덱스의 시작값을 적은 것\n",
    "    print(i, x)"
   ]
  },
  {
   "cell_type": "code",
   "execution_count": 176,
   "id": "0baf8eb5",
   "metadata": {},
   "outputs": [
    {
     "name": "stdout",
     "output_type": "stream",
     "text": [
      "1 a\n",
      "2 b\n",
      "3 c\n",
      "4 d\n"
     ]
    }
   ],
   "source": [
    "for i, x in enumerate(a, 1): #1부터 표시하는 게 가독성 좋음\n",
    "    print(i, x)"
   ]
  },
  {
   "cell_type": "code",
   "execution_count": 177,
   "id": "ba5cd546",
   "metadata": {},
   "outputs": [],
   "source": [
    "#이것을 딕셔너리로 표현\n",
    "d = dict(enumerate(a,1))"
   ]
  },
  {
   "cell_type": "code",
   "execution_count": 178,
   "id": "5f7ab043",
   "metadata": {},
   "outputs": [
    {
     "data": {
      "text/plain": [
       "{1: 'a', 2: 'b', 3: 'c', 4: 'd'}"
      ]
     },
     "execution_count": 178,
     "metadata": {},
     "output_type": "execute_result"
    }
   ],
   "source": [
    "d"
   ]
  },
  {
   "cell_type": "code",
   "execution_count": 179,
   "id": "c7db2956",
   "metadata": {},
   "outputs": [],
   "source": [
    "#enumerate list 예시\n",
    "e = ['홍길동', '홍길순', '아무개']"
   ]
  },
  {
   "cell_type": "code",
   "execution_count": 180,
   "id": "a4743447",
   "metadata": {},
   "outputs": [
    {
     "name": "stdout",
     "output_type": "stream",
     "text": [
      "1 홍길동\n",
      "2 홍길순\n",
      "3 아무개\n"
     ]
    }
   ],
   "source": [
    "for i, x in enumerate(e, 1):\n",
    "    print(i, x)"
   ]
  },
  {
   "cell_type": "code",
   "execution_count": 181,
   "id": "d3e54561",
   "metadata": {},
   "outputs": [],
   "source": [
    "f = dict(enumerate(e,1))"
   ]
  },
  {
   "cell_type": "code",
   "execution_count": 182,
   "id": "cd84d63a",
   "metadata": {},
   "outputs": [
    {
     "data": {
      "text/plain": [
       "{1: '홍길동', 2: '홍길순', 3: '아무개'}"
      ]
     },
     "execution_count": 182,
     "metadata": {},
     "output_type": "execute_result"
    }
   ],
   "source": [
    "f"
   ]
  },
  {
   "cell_type": "code",
   "execution_count": 183,
   "id": "d6aa50c6",
   "metadata": {},
   "outputs": [
    {
     "data": {
      "text/plain": [
       "dict"
      ]
     },
     "execution_count": 183,
     "metadata": {},
     "output_type": "execute_result"
    }
   ],
   "source": [
    "type(f)"
   ]
  },
  {
   "cell_type": "code",
   "execution_count": 184,
   "id": "899083ea",
   "metadata": {},
   "outputs": [],
   "source": [
    "#enumerate 문자열 예시\n",
    "g = '빅데이터 머신러닝 인공지능'"
   ]
  },
  {
   "cell_type": "code",
   "execution_count": 185,
   "id": "a2e3921e",
   "metadata": {},
   "outputs": [],
   "source": [
    "#글자 단위로 구분\n",
    "h = dict(enumerate(g,1))"
   ]
  },
  {
   "cell_type": "code",
   "execution_count": 186,
   "id": "232ded5e",
   "metadata": {},
   "outputs": [
    {
     "data": {
      "text/plain": [
       "{1: '빅',\n",
       " 2: '데',\n",
       " 3: '이',\n",
       " 4: '터',\n",
       " 5: ' ',\n",
       " 6: '머',\n",
       " 7: '신',\n",
       " 8: '러',\n",
       " 9: '닝',\n",
       " 10: ' ',\n",
       " 11: '인',\n",
       " 12: '공',\n",
       " 13: '지',\n",
       " 14: '능'}"
      ]
     },
     "execution_count": 186,
     "metadata": {},
     "output_type": "execute_result"
    }
   ],
   "source": [
    "h"
   ]
  },
  {
   "cell_type": "code",
   "execution_count": 187,
   "id": "1a990f65",
   "metadata": {},
   "outputs": [],
   "source": [
    "#단어 단위로 구분\n",
    "g = '빅데이터 머신러닝 인공지능'.split()"
   ]
  },
  {
   "cell_type": "code",
   "execution_count": 188,
   "id": "113d32b3",
   "metadata": {},
   "outputs": [
    {
     "data": {
      "text/plain": [
       "['빅데이터', '머신러닝', '인공지능']"
      ]
     },
     "execution_count": 188,
     "metadata": {},
     "output_type": "execute_result"
    }
   ],
   "source": [
    "g"
   ]
  },
  {
   "cell_type": "code",
   "execution_count": 189,
   "id": "2191c287",
   "metadata": {},
   "outputs": [],
   "source": [
    "h = dict(enumerate(g,1))"
   ]
  },
  {
   "cell_type": "code",
   "execution_count": 190,
   "id": "e527ee59",
   "metadata": {},
   "outputs": [
    {
     "data": {
      "text/plain": [
       "{1: '빅데이터', 2: '머신러닝', 3: '인공지능'}"
      ]
     },
     "execution_count": 190,
     "metadata": {},
     "output_type": "execute_result"
    }
   ],
   "source": [
    "h"
   ]
  }
 ],
 "metadata": {
  "kernelspec": {
   "display_name": "Python 3",
   "language": "python",
   "name": "python3"
  },
  "language_info": {
   "codemirror_mode": {
    "name": "ipython",
    "version": 3
   },
   "file_extension": ".py",
   "mimetype": "text/x-python",
   "name": "python",
   "nbconvert_exporter": "python",
   "pygments_lexer": "ipython3",
   "version": "3.8.10"
  },
  "vp": {
   "base_numbering": 1,
   "nav_menu": {},
   "number_sections": true,
   "sideBar": true,
   "title_cell": "VisualPython",
   "title_sidebar": "VisualPython",
   "vpPosition": {
    "height": "calc(100% - 180px)",
    "right": "10px",
    "top": "110px",
    "width": "50%"
   },
   "vp_cell": false,
   "vp_section_display": true,
   "vp_window_display": false
  }
 },
 "nbformat": 4,
 "nbformat_minor": 5
}
