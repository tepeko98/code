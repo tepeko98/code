{
 "cells": [
  {
   "cell_type": "markdown",
   "metadata": {
    "id": "g9d1s3ysr1Dv"
   },
   "source": [
    "# 생활 데이터 처리하기"
   ]
  },
  {
   "cell_type": "markdown",
   "metadata": {
    "id": "mFRvHsOlOvp7"
   },
   "source": [
    "## 0. 변수와 리스트\n",
    "### 01. 변수\n",
    "- 변수 \n",
    "  - 어떤 값을 저장하기 위한 기억공간 \n",
    "  - 변수를 사용하면 값을 저장하고, 저장된 값을 이용하여 계산할 수 있으며, 다양한 동작을 실행할 수 있음 \n",
    "\n",
    "- 선언 \n",
    "  - 변수에 값을 저장하기 위해 기억공간을 마련하는 것 \n",
    "  - 프로그래밍 언어에 따라 변수 선언 방식이 다름 \n",
    "```\n",
    "변수명 = 변수에 저장할 값 \n",
    "(예) a=3    # 변수 a에 3을 저장함\n",
    "```\n",
    "\n",
    "- 변수명 만드는 규칙 \n",
    "  - 변수명은 대, 소문자를 구분하므로 서로 다른 변수\n",
    "  - 가능 : 문자, 숫자, 언더바(_)를 포함 가능함\n",
    "  - 불가능 : 숫자로 시작하는 변수명이나 특별한 의미가 있는 '키워드' \n",
    "    - 키워드(keyword) : True, False, and, or, not, return, for, while, if, else, elif, global 등 \n",
    "\n",
    "\n"
   ]
  },
  {
   "cell_type": "markdown",
   "metadata": {
    "id": "0F3QZEF-dHCJ"
   },
   "source": [
    "### 02. 리스트(list)\n",
    "- 데이터 여러개를 한꺼번에 묶어서 관리하는 자료구조 \n",
    "- 데이터의 위치를 나타내는 번호(즉, 인덱스)에 대응하는 데이터들을 이루어진 자료구조 \n",
    "- 리스트 \n",
    "  - 데이터를 한꺼번에 묶어 하나의 이름으로 관리하는 방법 \n",
    "  - 대괄호 [ ] 로 값들을 감싸고, 값들을 쉼표(,)로 구분함.\n",
    "  ```\n",
    "  리스트 선언하기\n",
    "  리스트명 = [값1, 값2]\n",
    "  ```\n",
    "  ```\n",
    "  n1 = [1, 3, 4.5]\n",
    "  n2 = [ ]\n",
    "  ```\n",
    "\n"
   ]
  },
  {
   "cell_type": "markdown",
   "metadata": {
    "id": "nYPVzIFSQo80"
   },
   "source": [
    "- 1차원 리스트 : 한 행으로 데이터들이 저장된 구조 \n",
    "  - a = [10, 20, 30]\n",
    "  - b = []\n",
    "  - c = list(range(1, 10))\n",
    "  "
   ]
  },
  {
   "cell_type": "code",
   "execution_count": 1,
   "metadata": {
    "colab": {
     "base_uri": "https://localhost:8080/"
    },
    "id": "rs76ox-dRPJR",
    "outputId": "e73183c4-1485-4f9b-de85-1e904756aac0"
   },
   "outputs": [
    {
     "name": "stdout",
     "output_type": "stream",
     "text": [
      "[10, 20, 30]\n"
     ]
    }
   ],
   "source": [
    "#(실습) [10, 20, 30] 1차원 리스트 만들기 \n",
    "a = [10, 20, 30]\n",
    "print(a)"
   ]
  },
  {
   "cell_type": "code",
   "execution_count": 2,
   "metadata": {
    "colab": {
     "base_uri": "https://localhost:8080/"
    },
    "id": "ngvTZG16Rd3L",
    "outputId": "1b643a11-630a-48d3-ab9a-f78c015cbf57"
   },
   "outputs": [
    {
     "name": "stdout",
     "output_type": "stream",
     "text": [
      "[]\n"
     ]
    }
   ],
   "source": [
    "# (실습) 빈 리스트 만들기 \n",
    "b = []\n",
    "print(b)"
   ]
  },
  {
   "cell_type": "code",
   "execution_count": 3,
   "metadata": {
    "colab": {
     "base_uri": "https://localhost:8080/"
    },
    "id": "9CRC_AiPRozT",
    "outputId": "bb3fa17e-e71f-4ffe-f57e-219edadded67"
   },
   "outputs": [
    {
     "name": "stdout",
     "output_type": "stream",
     "text": [
      "[1, 2, 3, 4, 5, 6, 7, 8, 9, 10]\n"
     ]
    }
   ],
   "source": [
    "# (실습) list(), range() 함수를 이용해 [1,2,3,4,5,6,7,8,9,10] 가 저장된 1차원 리스트 만들기 \n",
    "c = list(range(1,11))\n",
    "print(c)"
   ]
  },
  {
   "cell_type": "markdown",
   "metadata": {
    "id": "KFrFS2tFRM9J"
   },
   "source": [
    "- 2차원 리스트 \n",
    "  - 1차원 리스트를 여러개 쌓아 놓는 구조\n",
    "  - 2개의 인덱스를 사용해 접근할 수 있음\n",
    "  - d = [ [ 10, 20, 30], [40, 50, 60] ]\n",
    "\n",
    "  - **2행 3열의 2차원 리스트 a**\n",
    "\n",
    "<table>\n",
    "<tr><td>10</td><td>20</td><td>30</td>\n",
    "<tr><td>40</td><td>50</td><td>60</td>\n",
    "\n",
    "</table>\n",
    "\n",
    "\n",
    "  "
   ]
  },
  {
   "cell_type": "code",
   "execution_count": null,
   "metadata": {
    "id": "OgPyUJXXSr9Z"
   },
   "outputs": [],
   "source": [
    "# a 리스트 만들기 \n",
    "a = [[10, 20, 30],[40, 50, 60], [70, 80, 90]]\n",
    "\n",
    "# a 리스트 전체 출력하기 \n",
    "print(a)\n",
    "\n",
    "# a 리스트의 0번 인덱스 행 출력하기 \n",
    "print(a[0])\n",
    "\n",
    "# a 리스트의 2번 인덱스 행, 1번 인덱스 열에 있는 값 출력하기 \n",
    "print(a[2][1])"
   ]
  },
  {
   "cell_type": "markdown",
   "metadata": {
    "id": "brOaI2ODcF33"
   },
   "source": [
    "- 리스트의 다양한 함수들\n",
    "  - 리스트에는 데이터를 저장하거나 조작하기 위해 다양한 리스트 함수들을 사용할 수 있다. \n",
    "\n",
    "  - len(리스트명) : 리스트에 저장된 데이터의 개수를 출력함.\n",
    "  - 리스트명.append(데이터) : 리스트의 마지막에 데이터를 추가함.\n",
    "  - 리스트명.insert(인덱스, 데이터) : 리스트의 원하는 인덱스에 데이터를 삽입함.\n",
    "  - 리스트명.remove(데이터) : 리스트에서 첫번째로 나오는 해당 데이터를 삭제한다. \n",
    "  - 리스트명.sort() : 리스트에 있는 데이터를 오름차순으로 정렬한다. \n",
    "  - 리스트명.reverse() : 리스트에 있는 데이터를 역순으로 배열한다. "
   ]
  },
  {
   "cell_type": "code",
   "execution_count": 9,
   "metadata": {
    "colab": {
     "base_uri": "https://localhost:8080/"
    },
    "id": "Y-h8jQUISv56",
    "outputId": "a94ede1d-96d0-44ee-bf6b-a7643b60f1af"
   },
   "outputs": [
    {
     "name": "stdout",
     "output_type": "stream",
     "text": [
      "4\n"
     ]
    }
   ],
   "source": [
    "a = [5, 10, 3, 40]\n",
    "# (실습) a 리스트에 저장된 데이터의 갯수를 출력함. \n",
    "print(len(a))"
   ]
  },
  {
   "cell_type": "code",
   "execution_count": 10,
   "metadata": {
    "colab": {
     "base_uri": "https://localhost:8080/"
    },
    "id": "642i-lT8ecYx",
    "outputId": "704a2020-6c15-4520-bd16-5f0f7a083277"
   },
   "outputs": [
    {
     "name": "stdout",
     "output_type": "stream",
     "text": [
      "[5, 10, 3, 40, 10]\n"
     ]
    }
   ],
   "source": [
    "# (실습) a 리스트의 마지막에 10을 추가해 출력함. \n",
    "a.append(10)\n",
    "print(a)"
   ]
  },
  {
   "cell_type": "code",
   "execution_count": 11,
   "metadata": {
    "colab": {
     "base_uri": "https://localhost:8080/"
    },
    "id": "-mkRyL-6edgn",
    "outputId": "7b6ff6d6-c9cb-4b7a-fb43-e3d7d5303ff4"
   },
   "outputs": [
    {
     "name": "stdout",
     "output_type": "stream",
     "text": [
      "[5, 10, 100, 3, 40, 10]\n"
     ]
    }
   ],
   "source": [
    "# (실습) a 리스트의 2번 인덱스에 100을 삽입하고 출력함.\n",
    "a.insert(2, 100)\n",
    "print(a)"
   ]
  },
  {
   "cell_type": "code",
   "execution_count": 12,
   "metadata": {
    "colab": {
     "base_uri": "https://localhost:8080/"
    },
    "id": "0lMjEJnNeeh0",
    "outputId": "65cad488-680f-4902-da2a-1facf8fda939"
   },
   "outputs": [
    {
     "name": "stdout",
     "output_type": "stream",
     "text": [
      "[5, 100, 3, 40]\n"
     ]
    }
   ],
   "source": [
    "# (실습) a 리스트에 저장된 10을 삭제하고 출력함.\n",
    "for i in range(2):\n",
    "  a.remove(10)\n",
    "print(a)"
   ]
  },
  {
   "cell_type": "code",
   "execution_count": 13,
   "metadata": {
    "colab": {
     "base_uri": "https://localhost:8080/"
    },
    "id": "PQ3BGLAUefWR",
    "outputId": "bf03bff7-9603-46fa-968f-b2adcc64d273"
   },
   "outputs": [
    {
     "name": "stdout",
     "output_type": "stream",
     "text": [
      "[3, 5, 40, 100]\n"
     ]
    }
   ],
   "source": [
    "# (실습) a 리스트를 오름차순으로 정렬하고 출력함. \n",
    "a.sort()\n",
    "print(a)"
   ]
  },
  {
   "cell_type": "code",
   "execution_count": 15,
   "metadata": {
    "colab": {
     "base_uri": "https://localhost:8080/"
    },
    "id": "PSbx1_HZegx9",
    "outputId": "406d7dad-d245-4baa-f7a6-f08cfcd0c4fc"
   },
   "outputs": [
    {
     "name": "stdout",
     "output_type": "stream",
     "text": [
      "[100, 40, 5, 3]\n"
     ]
    }
   ],
   "source": [
    "# (실습) a 리스트에 있는 값을 역순으로 저장해 출력함. \n",
    "a.reverse()\n",
    "print(a)"
   ]
  },
  {
   "cell_type": "markdown",
   "metadata": {
    "id": "TPQpO0753Ofm"
   },
   "source": [
    "## 01 생활 데이터 표현하기"
   ]
  },
  {
   "cell_type": "markdown",
   "metadata": {
    "id": "3Rdw7HKb3gL1"
   },
   "source": [
    "### [Step 1] 유동 인구 데이터를 컴퓨터로 저장한 후 출력하기\n",
    "\n",
    "<table align=\"left\">\n",
    "<tr align=\"center\"><th>요일</th><th>월</th><th>화</th><th>수</th><th>목</th><th>금</th><th>토</th><th>일</th><th>총합</th><th>평균</th></tr>\n",
    "<tr align= \"center\"><td>유동 인구수</td><td>242</td><td>256</td><td>237</td><td>223</td><td>263</td><td>81</td><td>46</td><td>?</td><td>?</td></tr>\n",
    "</table>\n",
    "\n"
   ]
  },
  {
   "cell_type": "markdown",
   "metadata": {
    "id": "yBeZIBk8j4w5"
   },
   "source": [
    "- 수열로 표현하기\n",
    "  - $A = {a_n} : 242, 256, 237, 223, 263, 81, 46 $"
   ]
  },
  {
   "cell_type": "code",
   "execution_count": 23,
   "metadata": {
    "colab": {
     "base_uri": "https://localhost:8080/"
    },
    "id": "wlrFG2gwbdFs",
    "outputId": "415944c0-934d-4bfa-d3b3-ab32e84b3356"
   },
   "outputs": [
    {
     "name": "stdout",
     "output_type": "stream",
     "text": [
      "A =  [242, 256, 237, 223, 263, 81, 46]\n"
     ]
    }
   ],
   "source": [
    "# 은재가 조사한 일주일간 유동인구 데이터(월~일)를 리스트에 저장하기 \n",
    "# 데이터 : 242, 256, 237, 223, 263, 81, 46\n",
    "\n",
    "# (실습) 리스트 만들기 \n",
    "a = [242,256,237,223,263,81,46]\n",
    "print(\"A = \", a)"
   ]
  },
  {
   "cell_type": "markdown",
   "metadata": {
    "id": "J-DdzKbT3zlq"
   },
   "source": [
    "### [Step 2] 유동 인구수 데이터의 총합과 평균 구하기\n",
    "\n",
    "- 수열로 표현하기\n",
    "  - $A = {a_n} : 242, 256, 237, 223, 263, 81, 46 $\n",
    "  \n",
    "   ```python\n",
    "a = [ 242, 256, 237, 223, 263, 81, 46 ]\n",
    "   ```\n",
    "\n",
    "- 평균($avg$)\n",
    "  - $ avg = \\frac{{1}}{{n}}{\\sum_{i = 1}^{n}a_i} $  \n",
    "  - $ avg = \\frac{{1}}{{7}}{\\sum_{i = 1}^{7}a_i} $\n"
   ]
  },
  {
   "cell_type": "code",
   "execution_count": 24,
   "metadata": {
    "colab": {
     "base_uri": "https://localhost:8080/"
    },
    "id": "jkpBb6ZRcQE0",
    "outputId": "aa9821bd-32cb-460b-ccda-c55d3b61dcc1"
   },
   "outputs": [
    {
     "name": "stdout",
     "output_type": "stream",
     "text": [
      "7\n"
     ]
    }
   ],
   "source": [
    "# (실습) n : a 리스트 원소 갯수 구하기 \n",
    "n = len(a)\n",
    "\n",
    "print(n)"
   ]
  },
  {
   "cell_type": "code",
   "execution_count": 25,
   "metadata": {
    "colab": {
     "base_uri": "https://localhost:8080/"
    },
    "id": "DBqKqvMznjnD",
    "outputId": "09903043-94b9-4e7f-e715-3c2124ef84cb"
   },
   "outputs": [
    {
     "name": "stdout",
     "output_type": "stream",
     "text": [
      "Total sum : 1348\n"
     ]
    }
   ],
   "source": [
    "# my_sum : a 리스트 합 구하기\n",
    "\n",
    "# 합을 구하는 변수 선언하기(0으로 초기화)\n",
    "my_sum = 0\n",
    "\n",
    "# (실습) a 리스트 합 구하기 \n",
    "for i in range(0, n):\n",
    "  my_sum += a[i]\n",
    "  \n",
    "\n",
    "# 합 출력하기 \n",
    "print(\"Total sum :\", my_sum)"
   ]
  },
  {
   "cell_type": "code",
   "execution_count": 31,
   "metadata": {
    "colab": {
     "base_uri": "https://localhost:8080/"
    },
    "id": "bxBWCqmU1R6D",
    "outputId": "02559abb-0289-4352-f058-891608c34216"
   },
   "outputs": [
    {
     "name": "stdout",
     "output_type": "stream",
     "text": [
      "Total average  192.57142857142858\n"
     ]
    }
   ],
   "source": [
    "# my_avg : a 리스트 평균 구하기\n",
    "\n",
    "# 평균을 구하는 변수 선언하기(0으로 초기화)\n",
    "my_avg = 0 \n",
    "\n",
    "# (실습) a 리스트 평균 구하기 \n",
    "my_avg = my_sum / n\n",
    "\n",
    "# 평균 출력하기 \n",
    "print(\"Total average \", my_avg)"
   ]
  },
  {
   "cell_type": "markdown",
   "metadata": {
    "id": "hR-fvu134JhQ"
   },
   "source": [
    "### [Step 3] 주어진 수열 데이터를 꺾은선 그래프로 표현하기\n",
    "- matplotlib : 그래프 시각화 하기 \n",
    "```python\n",
    "import matplotlib.pyplot as plot\n",
    "```"
   ]
  },
  {
   "cell_type": "code",
   "execution_count": 34,
   "metadata": {
    "colab": {
     "base_uri": "https://localhost:8080/",
     "height": 300
    },
    "id": "GCB3EsQpeQfp",
    "outputId": "6798d96f-f8d9-4ddf-e398-b839471a8ae1"
   },
   "outputs": [
    {
     "data": {
      "image/png": "[encoded data removed]",
      "text/plain": [
       "<Figure size 432x288 with 1 Axes>"
      ]
     },
     "metadata": {
      "needs_background": "light",
      "tags": []
     },
     "output_type": "display_data"
    }
   ],
   "source": [
    "#(실습) matplotlib.pyplot 불러오기 \n",
    "import matplotlib.pyplot as plt\n",
    "\n",
    "# x 축 데이터 저장하기 \n",
    "x_data = ['MON', 'TUE', 'WED', 'THR', 'FRI', 'SAT', 'SUN']\n",
    "\n",
    "# 유동인구 제목 : Floating Population Data(1week)\n",
    "plt.title(\"Floating Population Data(1week)\", fontsize=16)\n",
    "\n",
    "# x축(요일), y축(유동인구수)\n",
    "plt.xlabel(\"Day of the week\", fontsize=12)\n",
    "plt.ylabel(\"Floating Population\", fontsize=12)\n",
    "\n",
    "# 산점도 그리기 (x축 : 요일, y축 ; 유동인구수)\n",
    "plt.scatter(x_data, a)\n",
    "\n",
    "# 라인 그래프 그리기  (x축 : 요일, y축 ; 유동인구수)\n",
    "plt.plot(x_data,a)\n",
    "\n",
    "# 그래프 그리기 \n",
    "# plt.plot(x_data, a, 'bo-')\n",
    "\n",
    "# 그래프 보여주기 \n",
    "plt.show()"
   ]
  },
  {
   "cell_type": "markdown",
   "metadata": {
    "id": "F72NEvYnQftx"
   },
   "source": [
    "### [Step 4] 주중 유동 인구수의 합과 평균을 구해 그래프와 함께 출력하기 "
   ]
  },
  {
   "cell_type": "code",
   "execution_count": 35,
   "metadata": {
    "colab": {
     "base_uri": "https://localhost:8080/"
    },
    "id": "zSfGQ0uP-3YX",
    "outputId": "d15277a3-6150-4fb1-9104-2a2b28e6e57f"
   },
   "outputs": [
    {
     "name": "stdout",
     "output_type": "stream",
     "text": [
      "weekday Data :  [242, 256, 237, 223, 263]\n",
      "weekday Sum : 1221\n",
      "weekday Average :  244.2\n"
     ]
    }
   ],
   "source": [
    "'''\n",
    "weekday_size : 주중(5)\n",
    "weekday_sum : 주중 합 구하는 변수 \n",
    "weekday_avg : 주중 평균 구하는 변수 \n",
    "'''\n",
    "weekday_size = 5\n",
    "weekday_sum = 0\n",
    "weekday_avg = 0\n",
    "\n",
    "# (실습) 주중 합 구하기(weekday_sum)\n",
    "for i in range(0, weekday_size):\n",
    "  weekday_sum +=a[i]\n",
    "  \n",
    "\n",
    "# (실습) 주중 평균 구하기(weekday_avg)\n",
    "weekday_avg = weekday_sum / weekday_size\n",
    "\n",
    "# 주중 데이터, 주중 합, 주중 평균 구하기 \n",
    "print(\"weekday Data : \",a[0:5])\n",
    "print(\"weekday Sum :\", weekday_sum)\n",
    "print(\"weekday Average : \", weekday_avg)"
   ]
  },
  {
   "cell_type": "code",
   "execution_count": 39,
   "metadata": {
    "colab": {
     "base_uri": "https://localhost:8080/",
     "height": 300
    },
    "id": "X8upy0kIS0_i",
    "outputId": "850eb59b-5143-4d67-a170-de46f1a89d69"
   },
   "outputs": [
    {
     "data": {
      "image/png": "[encoded data removed]",
      "text/plain": [
       "<Figure size 432x288 with 1 Axes>"
      ]
     },
     "metadata": {
      "needs_background": "light",
      "tags": []
     },
     "output_type": "display_data"
    }
   ],
   "source": [
    "# 그래프 그리기 \n",
    "# (실습) matplotlib.pyplot 불러오기 \n",
    "import matplotlib.pyplot as plt\n",
    "\n",
    "# 유동인구 제목 : Floating Population Data(1week)\n",
    "plt.title(\"Floating Population Data(1week)\", fontsize=16)\n",
    "\n",
    "# x축(요일), y축(유동인구수)\n",
    "plt.xlabel(\"Day of the week\", fontsize=12)\n",
    "plt.ylabel(\"Floating Population\", fontsize=12)\n",
    "\n",
    "# (실습) 일주일 라인 그래프 그리기 \n",
    "plt.plot(x_data, a)\n",
    "\n",
    "# (실습) 주중(월~금) 산점도 그래프 그리기 ('red', 50)\n",
    "plt.scatter(x_data[0:5], a[0:5], c = 'red', s = 50)\n",
    "\n",
    "# 그래프 보여주기 \n",
    "plt.show()"
   ]
  },
  {
   "cell_type": "code",
   "execution_count": null,
   "metadata": {
    "id": "s5d-w-PujWdf"
   },
   "outputs": [],
   "source": []
  }
 ],
 "metadata": {
  "colab": {
   "collapsed_sections": [],
   "name": "3_김가연_생활_데이터_처리하기_실습.ipynb",
   "provenance": []
  },
  "kernelspec": {
   "display_name": "Python 3",
   "language": "python",
   "name": "python3"
  },
  "language_info": {
   "codemirror_mode": {
    "name": "ipython",
    "version": 3
   },
   "file_extension": ".py",
   "mimetype": "text/x-python",
   "name": "python",
   "nbconvert_exporter": "python",
   "pygments_lexer": "ipython3",
   "version": "3.8.8"
  }
 },
 "nbformat": 4,
 "nbformat_minor": 1
}
