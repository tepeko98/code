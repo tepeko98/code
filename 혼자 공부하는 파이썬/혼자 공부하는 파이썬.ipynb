{
 "cells": [
  {
   "cell_type": "code",
   "execution_count": 32,
   "metadata": {},
   "outputs": [
    {
     "name": "stdout",
     "output_type": "stream",
     "text": [
      "\\\\\\\\\n",
      "--------\n"
     ]
    }
   ],
   "source": [
    "# print(\"# 연습 문제\")\n",
    "print(\"\\\\\\\\\\\\\\\\\")\n",
    "print(\"-\" * 8)"
   ]
  },
  {
   "cell_type": "code",
   "execution_count": 33,
   "metadata": {},
   "outputs": [
    {
     "name": "stdout",
     "output_type": "stream",
     "text": [
      "15 / 4 = 3.75\n"
     ]
    }
   ],
   "source": [
    "print(15, \"/\", 4, \"=\", 15 / 4)"
   ]
  },
  {
   "cell_type": "code",
   "execution_count": 34,
   "metadata": {},
   "outputs": [
    {
     "name": "stdout",
     "output_type": "stream",
     "text": [
      "203\n",
      "11\n"
     ]
    }
   ],
   "source": [
    "print(3462//17)\n",
    "print(3462%17)"
   ]
  },
  {
   "cell_type": "code",
   "execution_count": 36,
   "metadata": {},
   "outputs": [
    {
     "name": "stdout",
     "output_type": "stream",
     "text": [
      "문자열 입력> 4\n",
      "문자열 입력> 7\n",
      "('4', '7')\n",
      "('7', '4')\n"
     ]
    }
   ],
   "source": [
    "#튜플을 활용하여 변수 교체(스왑)\n",
    "a = input(\"문자열 입력> \")\n",
    "b = input(\"문자열 입력> \")\n",
    "\n",
    "tuple = (a, b)\n",
    "print(tuple)\n",
    "tuple = (b, a)\n",
    "print(tuple)"
   ]
  },
  {
   "cell_type": "code",
   "execution_count": 37,
   "metadata": {},
   "outputs": [
    {
     "name": "stdout",
     "output_type": "stream",
     "text": [
      "['10', '20', '30', '40', '50']\n",
      "['10 20 30 40 50']\n"
     ]
    }
   ],
   "source": [
    "a = \"10 20 30 40 50\".split(\" \") # 각각 자르기\n",
    "print(a)\n",
    "b = \"10 20 30 40 50\".split(\",\") #한데 모으기\n",
    "print(b)"
   ]
  },
  {
   "cell_type": "code",
   "execution_count": 39,
   "metadata": {},
   "outputs": [
    {
     "name": "stdout",
     "output_type": "stream",
     "text": [
      "첫번째숫자> 2\n",
      "두번쨰숫자> 8\n",
      "\n",
      "2 + 8 = 10\n"
     ]
    }
   ],
   "source": [
    "a = input(\"첫번째숫자> \")\n",
    "b = input(\"두번쨰숫자> \")\n",
    "print()\n",
    "print(\"{} + {} = {}\".format(int(a), int(b), int(a) + int(b)))"
   ]
  },
  {
   "cell_type": "code",
   "execution_count": 40,
   "metadata": {},
   "outputs": [
    {
     "name": "stdout",
     "output_type": "stream",
     "text": [
      "string:  hello\n",
      "string:  HELLO\n"
     ]
    }
   ],
   "source": [
    "string = \"hello\"\n",
    "string.upper()\n",
    "print(\"string: \", string)\n",
    "print(\"string: \", string.upper())"
   ]
  },
  {
   "cell_type": "code",
   "execution_count": 41,
   "metadata": {},
   "outputs": [
    {
     "name": "stdout",
     "output_type": "stream",
     "text": [
      "첫번째숫자> 4\n",
      "두번째숫자> 2\n",
      "첫번째로입력한4.0가두번째로입력한2.0보다큽니다.\n"
     ]
    }
   ],
   "source": [
    "a = float(input(\"첫번째숫자> \"))\n",
    "b = float(input(\"두번째숫자> \"))\n",
    "if a > b:\n",
    "    print(\"첫번째로입력한{}가두번째로입력한{}보다큽니다.\".format(a, b))\n",
    "else:\n",
    "    print(\"두번째로입력한{}가첫번째로입력한{}보다큽니다.\".format(b, a))"
   ]
  },
  {
   "cell_type": "code",
   "execution_count": 42,
   "metadata": {},
   "outputs": [
    {
     "name": "stdout",
     "output_type": "stream",
     "text": [
      "8\n"
     ]
    }
   ],
   "source": [
    "x = 10\n",
    "y = 2\n",
    "\n",
    "if x > 4:\n",
    "    if y > 2:\n",
    "        print(x * y)\n",
    "    else: print(x - y)\n",
    "else:\n",
    "    print(x + y)"
   ]
  },
  {
   "cell_type": "code",
   "execution_count": 43,
   "metadata": {},
   "outputs": [
    {
     "name": "stdout",
     "output_type": "stream",
     "text": [
      "조건에 맞습니다.\n"
     ]
    }
   ],
   "source": [
    "x = 14\n",
    "if 10 < x < 20:\n",
    "    print(\"조건에 맞습니다.\")"
   ]
  },
  {
   "cell_type": "code",
   "execution_count": 46,
   "metadata": {},
   "outputs": [
    {
     "name": "stdout",
     "output_type": "stream",
     "text": [
      "태어난 해를 입력해주세요> 1998\n",
      "범띠입니다.\n"
     ]
    }
   ],
   "source": [
    "string = input(\"태어난 해를 입력해주세요> \")\n",
    "birth = int(string)\n",
    "if birth % 12 == 0:\n",
    "    print(\"원숭이띠입니다.\")\n",
    "elif birth % 12 == 1:\n",
    "    print(\"닭띠입니다.\")\n",
    "elif birth % 12 == 2:\n",
    "    print(\"개띠입니다.\")\n",
    "elif birth % 12 == 3:\n",
    "    print(\"돼지띠입니다.\")\n",
    "elif birth % 12 == 4:\n",
    "    print(\"쥐띠입니다.\")\n",
    "elif birth % 12 == 5:\n",
    "    print(\"소띠입니다.\")\n",
    "elif birth % 12 == 6:\n",
    "    print(\"범띠입니다.\")\n",
    "elif birth % 12 == 7:\n",
    "    print(\"토끼띠입니다.\")\n",
    "elif birth % 12 == 8:\n",
    "    print(\"용띠입니다.\")\n",
    "elif birth % 12 == 9:\n",
    "    print(\"뱀띠입니다.\")\n",
    "elif birth % 12 == 10:\n",
    "    print(\"말띠입니다.\")\n",
    "else:\n",
    "    print(\"양띠입니다.\")\n",
    "    "
   ]
  },
  {
   "cell_type": "code",
   "execution_count": 45,
   "metadata": {},
   "outputs": [
    {
     "name": "stdout",
     "output_type": "stream",
     "text": [
      "생년> 1998\n",
      "나이는 24입니다.\n"
     ]
    }
   ],
   "source": [
    "#나이 구하기\n",
    "birth_year = int(input(\"생년> \"))\n",
    "this_year = 2021\n",
    "age = this_year - birth_year + 1\n",
    "print(\"나이는 \" + str(age) + \"입니다.\")"
   ]
  },
  {
   "cell_type": "code",
   "execution_count": 48,
   "metadata": {},
   "outputs": [
    {
     "name": "stdout",
     "output_type": "stream",
     "text": [
      "[1, 2, 3]\n",
      "[4, 5, 6, 7]\n",
      "[8, 9]\n"
     ]
    }
   ],
   "source": [
    "list_of_list = [\n",
    "    [1, 2, 3],\n",
    "    [4, 5, 6, 7],\n",
    "    [8, 9]\n",
    "]\n",
    "\n",
    "for i in list_of_list:\n",
    "    print(i)"
   ]
  },
  {
   "cell_type": "code",
   "execution_count": 49,
   "metadata": {},
   "outputs": [
    {
     "name": "stdout",
     "output_type": "stream",
     "text": [
      "[0, 4, 8, 12, 16, 20, 24, 28, 32, 36]\n"
     ]
    }
   ],
   "source": [
    "list_a = []\n",
    "for i in range(0, 20, 2):\n",
    "    list_a.append(i + i)\n",
    "print(list_a)"
   ]
  },
  {
   "cell_type": "code",
   "execution_count": 50,
   "metadata": {},
   "outputs": [
    {
     "name": "stdout",
     "output_type": "stream",
     "text": [
      "[0, 4, 8, 12, 16, 20, 24, 28, 32, 36]\n"
     ]
    }
   ],
   "source": [
    "list_a = [i + i for i in range(0, 20, 2)]\n",
    "print(list_a)"
   ]
  },
  {
   "cell_type": "code",
   "execution_count": 51,
   "metadata": {},
   "outputs": [
    {
     "name": "stdout",
     "output_type": "stream",
     "text": [
      "[0, 4, 16, 36, 64, 100, 144, 196, 324]\n"
     ]
    }
   ],
   "source": [
    "list_a = [i * i for i in range(0, 20, 2) if i != 16]\n",
    "print(list_a)"
   ]
  },
  {
   "cell_type": "code",
   "execution_count": 52,
   "metadata": {},
   "outputs": [
    {
     "name": "stdout",
     "output_type": "stream",
     "text": [
      "[121, 144, 169, 196, 225, 256, 289, 324, 361, 400]\n"
     ]
    }
   ],
   "source": [
    "# 11부터 20까지의 제곱\n",
    "a = [i * i for i in range(11, 20+1)]\n",
    "print(a)"
   ]
  },
  {
   "cell_type": "code",
   "execution_count": 53,
   "metadata": {},
   "outputs": [],
   "source": [
    "numbers = [273, 103, 5, 32, 65, 9, 72, 800, 99]"
   ]
  },
  {
   "cell_type": "code",
   "execution_count": 54,
   "metadata": {},
   "outputs": [
    {
     "name": "stdout",
     "output_type": "stream",
     "text": [
      "273 는 홀수입니다.\n",
      "103 는 홀수입니다.\n",
      "5 는 홀수입니다.\n",
      "32 는 짝수입니다.\n",
      "65 는 홀수입니다.\n",
      "9 는 홀수입니다.\n",
      "72 는 짝수입니다.\n",
      "800 는 짝수입니다.\n",
      "99 는 홀수입니다.\n"
     ]
    }
   ],
   "source": [
    "for i in numbers:\n",
    "    if i % 2 == 0:\n",
    "        print(i, \"는 짝수입니다.\")\n",
    "    else:\n",
    "        print(i, \"는 홀수입니다.\")"
   ]
  },
  {
   "cell_type": "code",
   "execution_count": 55,
   "metadata": {},
   "outputs": [
    {
     "name": "stdout",
     "output_type": "stream",
     "text": [
      "273 는 3 자릿수입니다.\n",
      "103 는 3 자릿수입니다.\n",
      "5 는 1 자릿수입니다.\n",
      "32 는 2 자릿수입니다.\n",
      "65 는 2 자릿수입니다.\n",
      "9 는 1 자릿수입니다.\n",
      "72 는 2 자릿수입니다.\n",
      "800 는 3 자릿수입니다.\n",
      "99 는 2 자릿수입니다.\n"
     ]
    }
   ],
   "source": [
    "for i in numbers:\n",
    "    print(i, \"는\", len(str(i)), \"자릿수입니다.\")"
   ]
  },
  {
   "cell_type": "code",
   "execution_count": 56,
   "metadata": {},
   "outputs": [
    {
     "name": "stdout",
     "output_type": "stream",
     "text": [
      "1\n",
      "2\n",
      "3\n",
      "4\n",
      "5\n",
      "6\n",
      "7\n",
      "8\n",
      "9\n"
     ]
    }
   ],
   "source": [
    "list = [\n",
    "    [1, 2, 3],\n",
    "    [4, 5, 6, 7],\n",
    "    [8, 9]\n",
    "]\n",
    "for i in list:\n",
    "    for item in i:\n",
    "        print(item)"
   ]
  },
  {
   "cell_type": "code",
   "execution_count": 57,
   "metadata": {},
   "outputs": [
    {
     "name": "stdout",
     "output_type": "stream",
     "text": [
      "[[1, 4, 7], [2, 5, 8], [3, 6, 9]]\n"
     ]
    }
   ],
   "source": [
    "numbers = [1,2,3,4,5,6,7,8,9]\n",
    "output = [[], [], []]\n",
    "\n",
    "for number in numbers:\n",
    "    output[(number + 2) % 3].append(number)\n",
    "    \n",
    "print(output)"
   ]
  },
  {
   "cell_type": "code",
   "execution_count": 58,
   "metadata": {},
   "outputs": [
    {
     "name": "stdout",
     "output_type": "stream",
     "text": [
      "170\n",
      "58\n",
      "투블럭\n"
     ]
    }
   ],
   "source": [
    "#dictionary\n",
    "dict = {\n",
    "    \"키\": 170,\n",
    "    \"몸무게\": 58,\n",
    "    \"헤어스타일\": \"투블럭\"\n",
    "}\n",
    "print(dict[\"키\"])\n",
    "print(dict[\"몸무게\"])\n",
    "print(dict[\"헤어스타일\"])"
   ]
  },
  {
   "cell_type": "code",
   "execution_count": 59,
   "metadata": {},
   "outputs": [
    {
     "name": "stdout",
     "output_type": "stream",
     "text": [
      "[160, 170, 175, 180]\n"
     ]
    }
   ],
   "source": [
    "#dictionary 특정 키만 출력\n",
    "dict = {\n",
    "    \"키\": [160, 170, 175, 180],\n",
    "    \"몸무게\": [50, 55, 60, 65],\n",
    "    \"헤어스타일\": [\"투블럭\", \"댄디\", \"포마드\", \"리젠트\"]\n",
    "}\n",
    "print(dict[\"키\"])"
   ]
  },
  {
   "cell_type": "code",
   "execution_count": 60,
   "metadata": {},
   "outputs": [
    {
     "name": "stdout",
     "output_type": "stream",
     "text": [
      "키:  [160, 170, 175, 180]\n",
      "몸무게:  [50, 55, 60, 65]\n",
      "헤어스타일:  ['투블럭', '댄디', '포마드', '리젠트']\n",
      "\n",
      "키:  [165, 170, 175, 180]\n"
     ]
    }
   ],
   "source": [
    "#dictionary 특정 키의 특정 값 변경\n",
    "dict = {\n",
    "    \"키\": [160, 170, 175, 180],\n",
    "    \"몸무게\": [50, 55, 60, 65],\n",
    "    \"헤어스타일\": [\"투블럭\", \"댄디\", \"포마드\", \"리젠트\"]\n",
    "}\n",
    "print(\"키: \", dict[\"키\"])\n",
    "print(\"몸무게: \", dict[\"몸무게\"])\n",
    "print(\"헤어스타일: \", dict[\"헤어스타일\"])\n",
    "print()\n",
    "dict[\"키\"][0] = 165\n",
    "print(\"키: \", dict[\"키\"])"
   ]
  },
  {
   "cell_type": "code",
   "execution_count": 61,
   "metadata": {},
   "outputs": [
    {
     "name": "stdout",
     "output_type": "stream",
     "text": [
      "{'키': [160, 170, 175, 180], '몸무게': [50, 55, 60, 65], '헤어스타일': ['투블럭', '댄디', '포마드', '리젠트']}\n",
      "{'키': [160, 170, 175, 180], '몸무게': [50, 55, 60, 65], '헤어스타일': ['투블럭', '댄디', '포마드', '리젠트'], '이상형': ['긴생머리', '마른체형', '키 160정도', '귀여운스타일']}\n"
     ]
    }
   ],
   "source": [
    "#dictionary 키와 값 추가\n",
    "dict = {\n",
    "    \"키\": [160, 170, 175, 180],\n",
    "    \"몸무게\": [50, 55, 60, 65],\n",
    "    \"헤어스타일\": [\"투블럭\", \"댄디\", \"포마드\", \"리젠트\"]\n",
    "}\n",
    "print(dict)\n",
    "dict[\"이상형\"] = [\"긴생머리\", \"마른체형\", \"키 160정도\", \"귀여운스타일\"]\n",
    "print(dict)"
   ]
  },
  {
   "cell_type": "code",
   "execution_count": 62,
   "metadata": {},
   "outputs": [
    {
     "name": "stdout",
     "output_type": "stream",
     "text": [
      "{'키': [160, 170, 175, 180], '몸무게': [50, 55, 60, 65], '헤어스타일': ['투블럭', '댄디', '포마드', '리젠트']}\n",
      "{'몸무게': [50, 55, 60, 65], '헤어스타일': ['투블럭', '댄디', '포마드', '리젠트']}\n"
     ]
    }
   ],
   "source": [
    "#키와 값 제거\n",
    "dict = {\n",
    "    \"키\": [160, 170, 175, 180],\n",
    "    \"몸무게\": [50, 55, 60, 65],\n",
    "    \"헤어스타일\": [\"투블럭\", \"댄디\", \"포마드\", \"리젠트\"]\n",
    "}\n",
    "print(dict)\n",
    "del dict[\"키\"]\n",
    "print(dict)"
   ]
  },
  {
   "cell_type": "code",
   "execution_count": 63,
   "metadata": {},
   "outputs": [
    {
     "name": "stdout",
     "output_type": "stream",
     "text": [
      "{'키': [160, 170, 175, 180], '몸무게': [50, 55, 60, 65], '헤어스타일': ['투블럭', '댄디', '포마드', '리젠트']}\n",
      "키를 입력하세요> 키\n",
      "[160, 170, 175, 180]\n"
     ]
    }
   ],
   "source": [
    "#dictionary 키 존재 여부 확인 후 접근\n",
    "dict = {\n",
    "    \"키\": [160, 170, 175, 180],\n",
    "    \"몸무게\": [50, 55, 60, 65],\n",
    "    \"헤어스타일\": [\"투블럭\", \"댄디\", \"포마드\", \"리젠트\"]\n",
    "}\n",
    "print(dict)\n",
    "key = input(\"키를 입력하세요> \")\n",
    "if key in dict:\n",
    "    print(dict[key])\n",
    "else:\n",
    "    print(\"존재하지 않는 키에 접근했습니다.\")"
   ]
  },
  {
   "cell_type": "code",
   "execution_count": 64,
   "metadata": {},
   "outputs": [
    {
     "name": "stdout",
     "output_type": "stream",
     "text": [
      "None\n",
      "존재하지 않는 키에 접근했었다.\n"
     ]
    }
   ],
   "source": [
    "# dictionary 존재하지 않는 키에 접근 후 get 함수\n",
    "dict = {\n",
    "    \"키\": [160, 170, 175, 180],\n",
    "    \"몸무게\": [50, 55, 60, 65],\n",
    "    \"헤어스타일\": [\"투블럭\", \"댄디\", \"포마드\", \"리젠트\"]\n",
    "}\n",
    "value = dict.get(\"데이트스타일\")\n",
    "print(value)\n",
    "if value == None:\n",
    "    print(\"존재하지 않는 키에 접근했었다.\")"
   ]
  },
  {
   "cell_type": "code",
   "execution_count": 65,
   "metadata": {},
   "outputs": [
    {
     "name": "stdout",
     "output_type": "stream",
     "text": [
      "키 : [160, 170, 175, 180]\n",
      "몸무게 : [50, 55, 60, 65]\n",
      "헤어스타일 : ['투블럭', '댄디', '포마드', '리젠트']\n"
     ]
    }
   ],
   "source": [
    "#dictionary 반복문 활용\n",
    "dict = {\n",
    "    \"키\": [160, 170, 175, 180],\n",
    "    \"몸무게\": [50, 55, 60, 65],\n",
    "    \"헤어스타일\": [\"투블럭\", \"댄디\", \"포마드\", \"리젠트\"]\n",
    "}\n",
    "for i in dict:\n",
    "    print(i, \":\", dict[i])"
   ]
  },
  {
   "cell_type": "code",
   "execution_count": 66,
   "metadata": {},
   "outputs": [
    {
     "data": {
      "text/plain": [
       "{'name': ['구름']}"
      ]
     },
     "execution_count": 66,
     "metadata": {},
     "output_type": "execute_result"
    }
   ],
   "source": [
    "dict_a = {}\n",
    "\n",
    "dict_a['name'] = ['구름']\n",
    "dict_a"
   ]
  },
  {
   "cell_type": "code",
   "execution_count": 67,
   "metadata": {},
   "outputs": [
    {
     "data": {
      "text/plain": [
       "{}"
      ]
     },
     "execution_count": 67,
     "metadata": {},
     "output_type": "execute_result"
    }
   ],
   "source": [
    "del dict_a['name']\n",
    "dict_a"
   ]
  },
  {
   "cell_type": "code",
   "execution_count": 68,
   "metadata": {},
   "outputs": [
    {
     "name": "stdout",
     "output_type": "stream",
     "text": [
      "#우리 동네 애완동물들\n",
      "구름 5살\n",
      "초코 3살\n",
      "아지 1살\n",
      "호랑이 1살\n"
     ]
    }
   ],
   "source": [
    "pets = [\n",
    "    {\"name\": \"구름\", \"age\": 5},\n",
    "    {\"name\": \"초코\", \"age\": 3},\n",
    "    {\"name\": \"아지\", \"age\": 1},\n",
    "    {\"name\": \"호랑이\", \"age\": 1},\n",
    "]\n",
    "\n",
    "print(\"#우리 동네 애완동물들\")\n",
    "for i in pets:\n",
    "    print(i[\"name\"], str(i[\"age\"]) + \"살\")"
   ]
  },
  {
   "cell_type": "code",
   "execution_count": 69,
   "metadata": {},
   "outputs": [
    {
     "name": "stdout",
     "output_type": "stream",
     "text": [
      "{1: 2, 3: 2, 5: 3, 7: 2, 9: 2, 8: 2, 4: 2, 6: 2, 2: 2}\n"
     ]
    }
   ],
   "source": [
    "numbers = [1,3,5,7,9,8,4,6,2,3,5,1,6,8,7,4,9,2,5]\n",
    "counter = {}\n",
    "for i in numbers:\n",
    "    if i in counter:\n",
    "        counter[i] = counter[i] + 1\n",
    "    else:\n",
    "        counter[i] = 1\n",
    "    \n",
    "    \n",
    "print(counter)"
   ]
  },
  {
   "cell_type": "code",
   "execution_count": 70,
   "metadata": {},
   "outputs": [
    {
     "name": "stdout",
     "output_type": "stream",
     "text": [
      "name : 기사\n",
      "lv : 12\n",
      "items : {'sword': '불꽃의 검', 'armor': '풀플레이트'}\n",
      "skill : ['베기', '세게 베기', '아주 세게 베기']\n"
     ]
    }
   ],
   "source": [
    "char = {\n",
    "    \"name\": \"기사\",\n",
    "    \"lv\": 12,\n",
    "    \"items\": {\n",
    "        \"sword\": \"불꽃의 검\",\n",
    "        \"armor\": \"풀플레이트\"\n",
    "    },\n",
    "    \"skill\": [\"베기\", \"세게 베기\", \"아주 세게 베기\"]\n",
    "}\n",
    "\n",
    "for key in char:\n",
    "    if type(char[key]) is dict:\n",
    "        for key_items in char[key]:\n",
    "            print(key_items, \":\", char[key][key_items])\n",
    "    elif type(char[key]) is list:\n",
    "        for item in char[key]:\n",
    "            print(key, \":\", item)\n",
    "    else:\n",
    "        print(key, \":\", char[key])"
   ]
  },
  {
   "cell_type": "code",
   "execution_count": 2,
   "metadata": {},
   "outputs": [
    {
     "data": {
      "text/plain": [
       "range(0, 5)"
      ]
     },
     "execution_count": 2,
     "metadata": {},
     "output_type": "execute_result"
    }
   ],
   "source": [
    "a = range(5)\n",
    "\n",
    "a"
   ]
  },
  {
   "cell_type": "code",
   "execution_count": 3,
   "metadata": {},
   "outputs": [
    {
     "data": {
      "text/plain": [
       "[0, 1, 2, 3, 4]"
      ]
     },
     "execution_count": 3,
     "metadata": {},
     "output_type": "execute_result"
    }
   ],
   "source": [
    "list(a)"
   ]
  },
  {
   "cell_type": "code",
   "execution_count": 4,
   "metadata": {},
   "outputs": [
    {
     "data": {
      "text/plain": [
       "[0, 1, 2, 3, 4, 5, 6, 7, 8, 9]"
      ]
     },
     "execution_count": 4,
     "metadata": {},
     "output_type": "execute_result"
    }
   ],
   "source": [
    "list(range(10))"
   ]
  },
  {
   "cell_type": "code",
   "execution_count": 5,
   "metadata": {},
   "outputs": [
    {
     "data": {
      "text/plain": [
       "[0, 1, 2, 3, 4]"
      ]
     },
     "execution_count": 5,
     "metadata": {},
     "output_type": "execute_result"
    }
   ],
   "source": [
    "list(range(0, 5))"
   ]
  },
  {
   "cell_type": "code",
   "execution_count": 6,
   "metadata": {},
   "outputs": [
    {
     "data": {
      "text/plain": [
       "[0, 3, 6, 9]"
      ]
     },
     "execution_count": 6,
     "metadata": {},
     "output_type": "execute_result"
    }
   ],
   "source": [
    "list(range(0, 10, 3))"
   ]
  },
  {
   "cell_type": "code",
   "execution_count": 7,
   "metadata": {},
   "outputs": [
    {
     "data": {
      "text/plain": [
       "[0, 1, 2, 3, 4]"
      ]
     },
     "execution_count": 7,
     "metadata": {},
     "output_type": "execute_result"
    }
   ],
   "source": [
    "list(range(0, 10 // 2))"
   ]
  },
  {
   "cell_type": "code",
   "execution_count": 77,
   "metadata": {},
   "outputs": [
    {
     "name": "stdout",
     "output_type": "stream",
     "text": [
      "0 = 반복 변수\n",
      "2 = 반복 변수\n",
      "4 = 반복 변수\n",
      "6 = 반복 변수\n",
      "8 = 반복 변수\n",
      "0: 반복 변수\n",
      "2: 반복 변수\n",
      "4: 반복 변수\n",
      "6: 반복 변수\n",
      "8: 반복 변수\n"
     ]
    }
   ],
   "source": [
    "for i in range(0, 10, 2):\n",
    "    print(i, \"= 반복 변수\")\n",
    "    \n",
    "for i in range(0, 10, 2):\n",
    "    print(str(i) + \": 반복 변수\")"
   ]
  },
  {
   "cell_type": "code",
   "execution_count": 78,
   "metadata": {},
   "outputs": [
    {
     "name": "stdout",
     "output_type": "stream",
     "text": [
      "0번째 반복: 123\n",
      "1번째 반복: 456\n",
      "2번째 반복: 789\n",
      "3번째 반복: 1358\n"
     ]
    }
   ],
   "source": [
    "list = [123,456,789,1358]\n",
    "for i in range(len(list)):\n",
    "    print(\"{}번째 반복: {}\".format(i, list[i]))"
   ]
  },
  {
   "cell_type": "code",
   "execution_count": 79,
   "metadata": {},
   "outputs": [
    {
     "name": "stdout",
     "output_type": "stream",
     "text": [
      "현재 반복 변수: 4\n",
      "현재 반복 변수: 3\n",
      "현재 반복 변수: 2\n",
      "현재 반복 변수: 1\n",
      "현재 반복 변수: 0\n"
     ]
    }
   ],
   "source": [
    "for i in range(4, -1, -1):\n",
    "    print(\"현재 반복 변수: {}\".format(i))"
   ]
  },
  {
   "cell_type": "code",
   "execution_count": 80,
   "metadata": {},
   "outputs": [
    {
     "name": "stdout",
     "output_type": "stream",
     "text": [
      "현재 반복 변수: 4\n",
      "현재 반복 변수: 3\n",
      "현재 반복 변수: 2\n",
      "현재 반복 변수: 1\n",
      "현재 반복 변수: 0\n"
     ]
    }
   ],
   "source": [
    "for i in reversed(range(0, 5)):\n",
    "    print(\"현재 반복 변수: {}\".format(i))"
   ]
  },
  {
   "cell_type": "code",
   "execution_count": 81,
   "metadata": {},
   "outputs": [
    {
     "name": "stdout",
     "output_type": "stream",
     "text": [
      "0번째 반복입니다.\n",
      "1번째 반복입니다.\n",
      "2번째 반복입니다.\n",
      "3번째 반복입니다.\n",
      "4번째 반복입니다.\n",
      "5번째 반복입니다.\n",
      "6번째 반복입니다.\n",
      "7번째 반복입니다.\n",
      "8번째 반복입니다.\n",
      "9번째 반복입니다.\n"
     ]
    }
   ],
   "source": [
    "i = 0\n",
    "while i < 10:\n",
    "    print(\"{}번째 반복입니다.\".format(i))\n",
    "    i += 1"
   ]
  },
  {
   "cell_type": "code",
   "execution_count": 82,
   "metadata": {},
   "outputs": [
    {
     "name": "stdout",
     "output_type": "stream",
     "text": [
      "[1, 1, 1, 1]\n"
     ]
    }
   ],
   "source": [
    "list = [1,2,1,2,1,2,1,2]\n",
    "value = 2\n",
    "while value in list:\n",
    "    list.remove(value)\n",
    "print(list)"
   ]
  },
  {
   "cell_type": "code",
   "execution_count": 83,
   "metadata": {},
   "outputs": [
    {
     "data": {
      "text/plain": [
       "1623850224.6021178"
      ]
     },
     "execution_count": 83,
     "metadata": {},
     "output_type": "execute_result"
    }
   ],
   "source": [
    "import time\n",
    "time.time()"
   ]
  },
  {
   "cell_type": "code",
   "execution_count": 84,
   "metadata": {},
   "outputs": [
    {
     "name": "stdout",
     "output_type": "stream",
     "text": [
      "5초 동안 29859084번 반복했습니다.\n"
     ]
    }
   ],
   "source": [
    "import time\n",
    "n = 0\n",
    "tick = time.time() + 5\n",
    "while time.time() < tick:\n",
    "    n += 1\n",
    "print(\"5초 동안 {}번 반복했습니다.\".format(n))"
   ]
  },
  {
   "cell_type": "code",
   "execution_count": 88,
   "metadata": {},
   "outputs": [
    {
     "name": "stdout",
     "output_type": "stream",
     "text": [
      "0번째 반복문입니다.\n",
      "<종료하시겠습니까?> y/n \n",
      "1번째 반복문입니다.\n",
      "<종료하시겠습니까?> y/n \n",
      "2번째 반복문입니다.\n",
      "<종료하시겠습니까?> y/n y\n",
      "끝\n"
     ]
    }
   ],
   "source": [
    "i = 0\n",
    "\n",
    "while True:\n",
    "    print(\"{}번째 반복문입니다.\".format(i))\n",
    "    i += 1\n",
    "    input_text = input(\"<종료하시겠습니까?> y/n \")\n",
    "    if input_text in [\"y\", \"Y\"]:\n",
    "        print(\"끝\")\n",
    "        break"
   ]
  },
  {
   "cell_type": "code",
   "execution_count": 89,
   "metadata": {},
   "outputs": [
    {
     "name": "stdout",
     "output_type": "stream",
     "text": [
      "15\n",
      "25\n",
      "35\n"
     ]
    }
   ],
   "source": [
    "list = [5, 15, 6, 25, 7, 35, 8]\n",
    "for i in list:\n",
    "    if i < 10:\n",
    "        continue\n",
    "    print(i)"
   ]
  },
  {
   "cell_type": "code",
   "execution_count": 8,
   "metadata": {},
   "outputs": [
    {
     "data": {
      "text/plain": [
       "[7, 6, 5, 4, 3, 2, 1]"
      ]
     },
     "execution_count": 8,
     "metadata": {},
     "output_type": "execute_result"
    }
   ],
   "source": [
    "a = range(7, 0, -1)\n",
    "list(a)"
   ]
  },
  {
   "cell_type": "code",
   "execution_count": 9,
   "metadata": {},
   "outputs": [
    {
     "data": {
      "text/plain": [
       "[3, 6, 9]"
      ]
     },
     "execution_count": 9,
     "metadata": {},
     "output_type": "execute_result"
    }
   ],
   "source": [
    "list(range(3, 10, 3))"
   ]
  },
  {
   "cell_type": "code",
   "execution_count": 92,
   "metadata": {},
   "outputs": [
    {
     "name": "stdout",
     "output_type": "stream",
     "text": [
      "{'name': '기사', 'hp': 200, 'me': 30, 'level': 5}\n"
     ]
    }
   ],
   "source": [
    "key = [\"name\", \"hp\", \"me\", \"level\"]\n",
    "value = [\"기사\", 200, 30, 5]\n",
    "char = {}\n",
    "\n",
    "for i in range(0, 4):\n",
    "    char[key[i]] = value[i]\n",
    "print(char)"
   ]
  },
  {
   "cell_type": "code",
   "execution_count": 93,
   "metadata": {},
   "outputs": [
    {
     "name": "stdout",
     "output_type": "stream",
     "text": [
      "141를 더할 때 10000을 넘으며 그때의 값은 10011입니다.\n"
     ]
    }
   ],
   "source": [
    "limit = 10000\n",
    "i = 1\n",
    "sum_value = 0\n",
    "while sum_value < limit:\n",
    "    sum_value += i\n",
    "    i += 1\n",
    "\n",
    "print(\"{}를 더할 때 {}을 넘으며 그때의 값은 {}입니다.\".format(i-1, limit, sum_value))"
   ]
  },
  {
   "cell_type": "code",
   "execution_count": 94,
   "metadata": {},
   "outputs": [
    {
     "name": "stdout",
     "output_type": "stream",
     "text": [
      "최대가 되는 경우: 50 * 50 = 2500\n"
     ]
    }
   ],
   "source": [
    "max_value = 0\n",
    "a = 0\n",
    "b = 0\n",
    "\n",
    "for i in range(1, 51):\n",
    "    j = 100-i\n",
    "mul = i * j\n",
    "if mul > max_value:\n",
    "    a = i\n",
    "    b = j\n",
    "    max_value = mul\n",
    "print(\"최대가 되는 경우: {} * {} = {}\".format(a, b, max_value))"
   ]
  },
  {
   "cell_type": "code",
   "execution_count": 95,
   "metadata": {},
   "outputs": [
    {
     "name": "stdout",
     "output_type": "stream",
     "text": [
      "32\n",
      "273\n",
      "537\n"
     ]
    }
   ],
   "source": [
    "numbers = [103, 52, 273, 32, 77]\n",
    "print(min(numbers))\n",
    "print(max(numbers))\n",
    "print(sum(numbers))"
   ]
  },
  {
   "cell_type": "code",
   "execution_count": 96,
   "metadata": {},
   "outputs": [
    {
     "name": "stdout",
     "output_type": "stream",
     "text": [
      "name : 기사\n",
      "level : 12\n",
      "items : {'sword': '불꽃의 검', 'armor': '풀플레이트'}\n",
      "skill : ['베기', '세게 베기', '아주 세게 베기']\n"
     ]
    }
   ],
   "source": [
    "char = {\n",
    "    \"name\": \"기사\",\n",
    "    \"level\": 12,\n",
    "    \"items\": {\n",
    "        \"sword\": \"불꽃의 검\",\n",
    "        \"armor\": \"풀플레이트\"\n",
    "    },\n",
    "    \"skill\": [\"베기\", \"세게 베기\", \"아주 세게 베기\"]\n",
    "}\n",
    "\n",
    "for key in char:\n",
    "    if type(char[key]) is dict:\n",
    "        for key_items in char[key]:\n",
    "            print(key_items, \":\", char[key][key_items])\n",
    "    elif type(char[key]) is list:\n",
    "        for item in char[key]:\n",
    "            print(key, \":\", item)\n",
    "    else:\n",
    "        print(key, \":\", char[key])"
   ]
  },
  {
   "cell_type": "code",
   "execution_count": 10,
   "metadata": {},
   "outputs": [
    {
     "name": "stdout",
     "output_type": "stream",
     "text": [
      "<list_reverseiterator object at 0x0000021341AE5310>\n",
      "[5, 4, 3, 2, 1]\n",
      "for i in reversed(list_a): \n",
      "- 5\n",
      "- 4\n",
      "- 3\n",
      "- 2\n",
      "- 1\n"
     ]
    }
   ],
   "source": [
    "list_a = [1,2,3,4,5]\n",
    "list_reversed = reversed(list_a)\n",
    "\n",
    "print(list_reversed)\n",
    "print(list(list_reversed))\n",
    "print(\"for i in reversed(list_a): \")\n",
    "for i in reversed(list_a):\n",
    "    print(\"-\", i)"
   ]
  },
  {
   "cell_type": "code",
   "execution_count": 98,
   "metadata": {},
   "outputs": [
    {
     "name": "stdout",
     "output_type": "stream",
     "text": [
      "- 7\n",
      "- 6\n",
      "- 5\n",
      "- 4\n",
      "- 3\n",
      "- 2\n",
      "- 1\n"
     ]
    }
   ],
   "source": [
    "numbers = [1,2,3,4,5,6,7]\n",
    "for i in reversed(numbers):\n",
    "    print(\"-\", i)"
   ]
  },
  {
   "cell_type": "code",
   "execution_count": 99,
   "metadata": {},
   "outputs": [
    {
     "name": "stdout",
     "output_type": "stream",
     "text": [
      "[1, 2, 3, 4, 5, 6, 7]\n"
     ]
    }
   ],
   "source": [
    "numbers = [7,6,5,4,3,2,1]\n",
    "print(numbers[::-1]) #슬라이싱으로 리스트 뒤집기"
   ]
  },
  {
   "cell_type": "code",
   "execution_count": 100,
   "metadata": {},
   "outputs": [
    {
     "name": "stdout",
     "output_type": "stream",
     "text": [
      "0번째 요소는 요소1입니다.\n",
      "1번째 요소는 요소2입니다.\n",
      "2번째 요소는 요소3입니다.\n"
     ]
    }
   ],
   "source": [
    "list = [\"요소1\", \"요소2\", \"요소3\"]\n",
    "i = 0\n",
    "for item in list:\n",
    "    print(\"{}번째 요소는 {}입니다.\".format(i, list[i]))\n",
    "    i += 1"
   ]
  },
  {
   "cell_type": "code",
   "execution_count": 101,
   "metadata": {},
   "outputs": [
    {
     "name": "stdout",
     "output_type": "stream",
     "text": [
      "0번째 요소는 요소1입니다.\n",
      "1번째 요소는 요소2입니다.\n",
      "2번째 요소는 요소3입니다.\n"
     ]
    }
   ],
   "source": [
    "list_a = [\"요소1\", \"요소2\", \"요소3\"]\n",
    "for i in range(len(list_a)):\n",
    "    print(\"{}번째 요소는 {}입니다.\".format(i, list_a[i]))"
   ]
  },
  {
   "cell_type": "code",
   "execution_count": 102,
   "metadata": {},
   "outputs": [
    {
     "name": "stdout",
     "output_type": "stream",
     "text": [
      "0번째 요소는 요소1입니다.\n",
      "1번째 요소는 요소2입니다.\n",
      "2번째 요소는 요소3입니다.\n"
     ]
    }
   ],
   "source": [
    "list_b = [\"요소1\", \"요소2\", \"요소3\"]\n",
    "#list에서 반복문은 index, value 순\n",
    "for i, value in enumerate(list_b):\n",
    "    print(\"{}번째 요소는 {}입니다.\".format(i, value))"
   ]
  },
  {
   "cell_type": "code",
   "execution_count": 103,
   "metadata": {},
   "outputs": [
    {
     "name": "stdout",
     "output_type": "stream",
     "text": [
      "items():  dict_items([('키1', '값1'), ('키2', '값2'), ('키3', '값3')])\n",
      "dict[키1] = 값1\n",
      "dict[키2] = 값2\n",
      "dict[키3] = 값3\n"
     ]
    }
   ],
   "source": [
    "dict = {\n",
    "    \"키1\": \"값1\",\n",
    "    \"키2\": \"값2\",\n",
    "    \"키3\": \"값3\"\n",
    "}\n",
    "\n",
    "print(\"items(): \", dict.items())\n",
    "#dict에서 반복문은 key, elements 순\n",
    "for key, elements in dict.items():\n",
    "    print(\"dict[{}] = {}\".format(key, elements))"
   ]
  },
  {
   "cell_type": "code",
   "execution_count": 104,
   "metadata": {},
   "outputs": [
    {
     "name": "stdout",
     "output_type": "stream",
     "text": [
      "[0, 4, 16, 36, 64, 100, 144, 196, 256, 324]\n"
     ]
    }
   ],
   "source": [
    "a = []\n",
    "\n",
    "for i in range(0, 20, 2):\n",
    "    a.append(i * i)\n",
    "    \n",
    "print(a)"
   ]
  },
  {
   "cell_type": "code",
   "execution_count": 105,
   "metadata": {},
   "outputs": [
    {
     "name": "stdout",
     "output_type": "stream",
     "text": [
      "[0, 4, 16, 36, 64, 100, 144, 196, 256, 324]\n"
     ]
    }
   ],
   "source": [
    "a = [i * i for i in range(0,20,2)]\n",
    "print(a)"
   ]
  },
  {
   "cell_type": "code",
   "execution_count": 106,
   "metadata": {},
   "outputs": [
    {
     "data": {
      "text/plain": [
       "['사과', '자두', '수박', '바나나']"
      ]
     },
     "execution_count": 106,
     "metadata": {},
     "output_type": "execute_result"
    }
   ],
   "source": [
    "a = [\"사과\", \"자두\", \"사쿠란보\", \"수박\", \"바나나\"]\n",
    "output = [i for i in a if i != \"사쿠란보\"]\n",
    "output"
   ]
  },
  {
   "cell_type": "code",
   "execution_count": 109,
   "metadata": {},
   "outputs": [
    {
     "name": "stdout",
     "output_type": "stream",
     "text": [
      "정수입력> 211\n",
      "211는 홀수입니다.\n"
     ]
    }
   ],
   "source": [
    "number = int(input(\"정수입력> \"))\n",
    "\n",
    "if number % 2 == 0:\n",
    "    print(\"{}는 짝수입니다.\".format(number))\n",
    "    \n",
    "else:\n",
    "    print(\"{}는 홀수입니다.\".format(number))"
   ]
  },
  {
   "cell_type": "code",
   "execution_count": 108,
   "metadata": {},
   "outputs": [
    {
     "name": "stdout",
     "output_type": "stream",
     "text": [
      "정수입력> 278\n",
      "입력한 문자열은 278입니다.\n",
      "278는(은) 짝수입니다.\n"
     ]
    }
   ],
   "source": [
    "number = int(input(\"정수입력> \"))\n",
    "\n",
    "if number % 2 == 0:\n",
    "    print(\"\"\"입력한 문자열은 {}입니다.\n",
    "{}는(은) 짝수입니다.\"\"\".format(number, number))\n",
    "else:\n",
    "    print(\"\"\"입력한 문자열은 {}입니다.\n",
    "{}는(은) 홀수입니다.\"\"\".format(number, number))"
   ]
  },
  {
   "cell_type": "code",
   "execution_count": 110,
   "metadata": {},
   "outputs": [
    {
     "name": "stdout",
     "output_type": "stream",
     "text": [
      "정수입력> 1561\n",
      "입력한 문자열은 1561입니다.\n",
      "1561는(은) 홀수입니다.\n"
     ]
    }
   ],
   "source": [
    "number = int(input(\"정수입력> \"))\n",
    "\n",
    "if number % 2 == 0:\n",
    "    print(\"\"\"입력한 문자열은 {}입니다.\\n{}는(은) 짝수입니다.\"\"\".format(number, number))\n",
    "else:\n",
    "    print(\"\"\"입력한 문자열은 {}입니다.\\n{}는(은) 홀수입니다.\"\"\".format(number, number))"
   ]
  },
  {
   "cell_type": "code",
   "execution_count": 111,
   "metadata": {},
   "outputs": [
    {
     "name": "stdout",
     "output_type": "stream",
     "text": [
      "test:  맘대로 입력해도 하나로 출력되고 마는데 왜 이러는겨?\n",
      "type(test):  <class 'str'>\n"
     ]
    }
   ],
   "source": [
    "test = (\n",
    "    \"맘대로 입력해도 \"\n",
    "    \"하나로 출력되고 마는데 \"\n",
    "    \"왜 이러는겨?\"\n",
    ")\n",
    "print(\"test: \", test)\n",
    "print(\"type(test): \", type(test))"
   ]
  },
  {
   "cell_type": "code",
   "execution_count": 112,
   "metadata": {},
   "outputs": [
    {
     "name": "stdout",
     "output_type": "stream",
     "text": [
      "정수입력> 1786\n",
      "입력한 문자열은 1786입니다.\n",
      "1786는(은) 짝수입니다.\n"
     ]
    }
   ],
   "source": [
    "number = int(input(\"정수입력> \"))\n",
    "\n",
    "if number % 2 == 0:\n",
    "    print((\n",
    "        \"입력한 문자열은 {}입니다.\\n\"\n",
    "        \"{}는(은) 짝수입니다.\"\n",
    "        .format(number, number)))\n",
    "else:\n",
    "    print((\n",
    "        \"입력한 문자열은 {}입니다.\\n\"\n",
    "        \"{}는(은) 홀수입니다.\"\n",
    "        .format(number, number)))"
   ]
  },
  {
   "cell_type": "code",
   "execution_count": 113,
   "metadata": {},
   "outputs": [
    {
     "name": "stdout",
     "output_type": "stream",
     "text": [
      "안::녕::하::세::요\n"
     ]
    }
   ],
   "source": [
    "print(\"::\".join([\"안\", \"녕\", \"하\", \"세\", \"요\"]))"
   ]
  },
  {
   "cell_type": "code",
   "execution_count": 114,
   "metadata": {},
   "outputs": [
    {
     "name": "stdout",
     "output_type": "stream",
     "text": [
      "정수입력> 4846\n",
      "입력한 문자열은 4846입니다.\n",
      "4846는(은) 짝수입니다.\n"
     ]
    }
   ],
   "source": [
    "number = int(input(\"정수입력> \"))\n",
    "\n",
    "if number % 2 == 0:\n",
    "    print(\"\\n\".join([\n",
    "        \"입력한 문자열은 {}입니다.\",\n",
    "        \"{}는(은) 짝수입니다.\"\n",
    "        ]).format(number, number))\n",
    "else:\n",
    "    print(\"\\n\".join([\n",
    "        \"입력한 문자열은 {}입니다.\",\n",
    "        \"{}는(은) 홀수입니다.\"\n",
    "        ]).format(number,number))"
   ]
  },
  {
   "cell_type": "code",
   "execution_count": 115,
   "metadata": {},
   "outputs": [
    {
     "name": "stdout",
     "output_type": "stream",
     "text": [
      "reversed_numbers:  <list_reverseiterator object at 0x000001B265214A90>\n",
      "6\n",
      "5\n",
      "4\n",
      "3\n",
      "2\n",
      "1\n"
     ]
    }
   ],
   "source": [
    "numbers = [1,2,3,4,5,6]\n",
    "r_num = reversed(numbers)\n",
    "\n",
    "print(\"reversed_numbers: \", r_num)\n",
    "print(next(r_num))\n",
    "print(next(r_num))\n",
    "print(next(r_num))\n",
    "print(next(r_num))\n",
    "print(next(r_num))\n",
    "print(next(r_num))"
   ]
  },
  {
   "cell_type": "code",
   "execution_count": 116,
   "metadata": {},
   "outputs": [
    {
     "name": "stdout",
     "output_type": "stream",
     "text": [
      "2 : 10\n",
      "5 : 101\n",
      "6 : 110\n",
      "11 : 1011\n",
      "13 : 1101\n",
      "14 : 1110\n",
      "23 : 10111\n",
      "27 : 11011\n",
      "29 : 11101\n",
      "30 : 11110\n",
      "47 : 101111\n",
      "55 : 110111\n",
      "59 : 111011\n",
      "61 : 111101\n",
      "62 : 111110\n",
      "95 : 1011111\n",
      "합계:  539\n"
     ]
    }
   ],
   "source": [
    "output = [i for i in range(1,101,1) if \"{:b}\".format(i).count(\"0\") == 1]\n",
    "for i in output:\n",
    "    print(\"{} : {}\".format(i, \"{:b}\".format(i)))\n",
    "print(\"합계: \", sum(output))"
   ]
  },
  {
   "cell_type": "code",
   "execution_count": 117,
   "metadata": {},
   "outputs": [
    {
     "name": "stdout",
     "output_type": "stream",
     "text": [
      "안녕하세용\n",
      "안녕하세용\n",
      "안녕하세용\n"
     ]
    }
   ],
   "source": [
    "def print_3_times():\n",
    "    print(\"안녕하세용\")\n",
    "    print(\"안녕하세용\")\n",
    "    print(\"안녕하세용\")\n",
    "print_3_times()"
   ]
  },
  {
   "cell_type": "code",
   "execution_count": 118,
   "metadata": {},
   "outputs": [
    {
     "name": "stdout",
     "output_type": "stream",
     "text": [
      "안녕하세용\n",
      "안녕하세용\n",
      "안녕하세용\n",
      "안녕하세용\n",
      "안녕하세용\n",
      "안녕하세용\n",
      "안녕하세용\n",
      "안녕하세용\n",
      "안녕하세용\n",
      "안녕하세용\n"
     ]
    }
   ],
   "source": [
    "def print_n_times(value, n):\n",
    "    for i in range(n):\n",
    "        print(value)\n",
    "print_n_times(\"안녕하세용\", 10)"
   ]
  },
  {
   "cell_type": "code",
   "execution_count": 119,
   "metadata": {},
   "outputs": [
    {
     "name": "stdout",
     "output_type": "stream",
     "text": [
      "안녕하세용\n",
      "안녕하세용\n",
      "안녕하세용\n",
      "안녕하세용\n",
      "안녕하세용\n"
     ]
    }
   ],
   "source": [
    "def print_n_times(n, value):\n",
    "    for i in range(n):\n",
    "        print(value)\n",
    "print_n_times(5, \"안녕하세용\")"
   ]
  },
  {
   "cell_type": "code",
   "execution_count": 120,
   "metadata": {},
   "outputs": [
    {
     "name": "stdout",
     "output_type": "stream",
     "text": [
      "안녕하세용\n",
      "포도씨유입니당\n",
      "잘부타캥~\n",
      "\n",
      "안녕하세용\n",
      "포도씨유입니당\n",
      "잘부타캥~\n",
      "\n",
      "안녕하세용\n",
      "포도씨유입니당\n",
      "잘부타캥~\n",
      "\n",
      "안녕하세용\n",
      "포도씨유입니당\n",
      "잘부타캥~\n",
      "\n",
      "안녕하세용\n",
      "포도씨유입니당\n",
      "잘부타캥~\n",
      "\n"
     ]
    }
   ],
   "source": [
    "def print_n_times(n, *values):\n",
    "    for i in range(n):\n",
    "        for value in values:\n",
    "            print(value)\n",
    "        print()\n",
    "print_n_times(5, \"안녕하세용\", \"포도씨유입니당\", \"잘부타캥~\")"
   ]
  },
  {
   "cell_type": "code",
   "execution_count": 121,
   "metadata": {},
   "outputs": [
    {
     "name": "stdout",
     "output_type": "stream",
     "text": [
      "안녕하세용\n",
      "안녕하세용\n"
     ]
    }
   ],
   "source": [
    "def print_n_times(value, n=2):\n",
    "    for i in range(n):\n",
    "        print(value)\n",
    "print_n_times(\"안녕하세용\")"
   ]
  },
  {
   "cell_type": "code",
   "execution_count": 122,
   "metadata": {},
   "outputs": [
    {
     "name": "stdout",
     "output_type": "stream",
     "text": [
      "안\n",
      "녕\n",
      "하\n",
      "세\n",
      "용\n",
      "\n",
      "안\n",
      "녕\n",
      "하\n",
      "세\n",
      "용\n",
      "\n",
      "안\n",
      "녕\n",
      "하\n",
      "세\n",
      "용\n",
      "\n",
      "안\n",
      "녕\n",
      "하\n",
      "세\n",
      "용\n",
      "\n"
     ]
    }
   ],
   "source": [
    "def print_n_times(n=2, *values):\n",
    "    for i in range(n):\n",
    "        for i in values:\n",
    "            print(i)\n",
    "        print()\n",
    "print_n_times(4, \"안\", \"녕\", \"하\", \"세\", \"용\")"
   ]
  },
  {
   "cell_type": "code",
   "execution_count": 124,
   "metadata": {},
   "outputs": [
    {
     "name": "stdout",
     "output_type": "stream",
     "text": [
      "안녕하세용\n",
      "사랑해용\n",
      "저리 가용ㅎㅎ\n",
      "\n",
      "안녕하세용\n",
      "사랑해용\n",
      "저리 가용ㅎㅎ\n",
      "\n",
      "안녕하세용\n",
      "사랑해용\n",
      "저리 가용ㅎㅎ\n",
      "\n",
      "안녕하세용\n",
      "사랑해용\n",
      "저리 가용ㅎㅎ\n",
      "\n",
      "안녕하세용\n",
      "사랑해용\n",
      "저리 가용ㅎㅎ\n",
      "\n"
     ]
    }
   ],
   "source": [
    "def print_n_times(*keys, n=4):\n",
    "    for i in range(n):\n",
    "        for value in keys:\n",
    "            print(value)\n",
    "        print()\n",
    "        \n",
    "print_n_times(\"안녕하세용\", \"사랑해용\", \"저리 가용ㅎㅎ\", n=5)"
   ]
  },
  {
   "cell_type": "code",
   "execution_count": 125,
   "metadata": {},
   "outputs": [
    {
     "name": "stdout",
     "output_type": "stream",
     "text": [
      "60\n",
      "220\n"
     ]
    }
   ],
   "source": [
    "def test(a, b=100, c=200):\n",
    "    print(a+b+c)\n",
    "test(10,20,30)\n",
    "test(a=20,c=100)"
   ]
  },
  {
   "cell_type": "code",
   "execution_count": 126,
   "metadata": {},
   "outputs": [
    {
     "name": "stdout",
     "output_type": "stream",
     "text": [
      "A위치\n"
     ]
    }
   ],
   "source": [
    "def return_test():\n",
    "    print(\"A위치\")\n",
    "    return\n",
    "    print(\"B위치\")\n",
    "    \n",
    "return_test()"
   ]
  },
  {
   "cell_type": "code",
   "execution_count": 127,
   "metadata": {},
   "outputs": [
    {
     "name": "stdout",
     "output_type": "stream",
     "text": [
      "100\n"
     ]
    }
   ],
   "source": [
    "def return_test():\n",
    "    return 100\n",
    "good = return_test()\n",
    "print(good)"
   ]
  },
  {
   "cell_type": "code",
   "execution_count": 128,
   "metadata": {},
   "outputs": [
    {
     "name": "stdout",
     "output_type": "stream",
     "text": [
      "None\n"
     ]
    }
   ],
   "source": [
    "def return_test():\n",
    "    return\n",
    "happy = return_test()\n",
    "print(happy)"
   ]
  },
  {
   "cell_type": "code",
   "execution_count": 129,
   "metadata": {},
   "outputs": [
    {
     "name": "stdout",
     "output_type": "stream",
     "text": [
      "0 to 100:  5050\n"
     ]
    }
   ],
   "source": [
    "def sum_all(a, b):\n",
    "    output = 0\n",
    "    for i in range(a, b+1):\n",
    "        output += i\n",
    "    return output\n",
    "print(\"0 to 100: \", sum_all(0, 100))"
   ]
  },
  {
   "cell_type": "code",
   "execution_count": 130,
   "metadata": {},
   "outputs": [
    {
     "name": "stdout",
     "output_type": "stream",
     "text": [
      "21\n"
     ]
    }
   ],
   "source": [
    "def f(x):\n",
    "    return 2 * x + 1\n",
    "print(f(10))"
   ]
  },
  {
   "cell_type": "code",
   "execution_count": 131,
   "metadata": {},
   "outputs": [
    {
     "name": "stdout",
     "output_type": "stream",
     "text": [
      "121\n"
     ]
    }
   ],
   "source": [
    "def f(x):\n",
    "    return x**2+2*x+1\n",
    "print(f(10))"
   ]
  },
  {
   "cell_type": "code",
   "execution_count": 132,
   "metadata": {},
   "outputs": [
    {
     "data": {
      "text/plain": [
       "3150"
      ]
     },
     "execution_count": 132,
     "metadata": {},
     "output_type": "execute_result"
    }
   ],
   "source": [
    "def mul(*values):\n",
    "    output = 1\n",
    "    for value in values:\n",
    "        output *= value\n",
    "    return output\n",
    "mul(5, 7, 9, 10)\n"
   ]
  },
  {
   "cell_type": "code",
   "execution_count": 133,
   "metadata": {},
   "outputs": [
    {
     "data": {
      "text/plain": [
       "120"
      ]
     },
     "execution_count": 133,
     "metadata": {},
     "output_type": "execute_result"
    }
   ],
   "source": [
    "def factorial(n):\n",
    "    \n",
    "    output=1\n",
    "    for i in range(1, n+1):\n",
    "        output*=i\n",
    "    return output\n",
    "factorial(5)"
   ]
  },
  {
   "cell_type": "code",
   "execution_count": 134,
   "metadata": {},
   "outputs": [
    {
     "data": {
      "text/plain": [
       "24"
      ]
     },
     "execution_count": 134,
     "metadata": {},
     "output_type": "execute_result"
    }
   ],
   "source": [
    "def facto(n):\n",
    "    if n == 0:\n",
    "        return 1\n",
    "    else:\n",
    "        return n * facto(n-1)\n",
    "    \n",
    "facto(4)"
   ]
  },
  {
   "cell_type": "code",
   "execution_count": 135,
   "metadata": {},
   "outputs": [
    {
     "data": {
      "text/plain": [
       "9227465"
      ]
     },
     "execution_count": 135,
     "metadata": {},
     "output_type": "execute_result"
    }
   ],
   "source": [
    "def fibbo(n):\n",
    "    if n == 1 or n == 2:\n",
    "        return 1\n",
    "    else:\n",
    "        return fibbo(n-1) + fibbo(n-2)\n",
    "fibbo(35)"
   ]
  },
  {
   "cell_type": "code",
   "execution_count": 136,
   "metadata": {},
   "outputs": [
    {
     "name": "stdout",
     "output_type": "stream",
     "text": [
      "10를 구합니다..\n",
      "9를 구합니다..\n",
      "8를 구합니다..\n",
      "7를 구합니다..\n",
      "6를 구합니다..\n",
      "5를 구합니다..\n",
      "4를 구합니다..\n",
      "3를 구합니다..\n",
      "2를 구합니다..\n",
      "1를 구합니다..\n",
      "2를 구합니다..\n",
      "3를 구합니다..\n",
      "2를 구합니다..\n",
      "1를 구합니다..\n",
      "4를 구합니다..\n",
      "3를 구합니다..\n",
      "2를 구합니다..\n",
      "1를 구합니다..\n",
      "2를 구합니다..\n",
      "5를 구합니다..\n",
      "4를 구합니다..\n",
      "3를 구합니다..\n",
      "2를 구합니다..\n",
      "1를 구합니다..\n",
      "2를 구합니다..\n",
      "3를 구합니다..\n",
      "2를 구합니다..\n",
      "1를 구합니다..\n",
      "6를 구합니다..\n",
      "5를 구합니다..\n",
      "4를 구합니다..\n",
      "3를 구합니다..\n",
      "2를 구합니다..\n",
      "1를 구합니다..\n",
      "2를 구합니다..\n",
      "3를 구합니다..\n",
      "2를 구합니다..\n",
      "1를 구합니다..\n",
      "4를 구합니다..\n",
      "3를 구합니다..\n",
      "2를 구합니다..\n",
      "1를 구합니다..\n",
      "2를 구합니다..\n",
      "7를 구합니다..\n",
      "6를 구합니다..\n",
      "5를 구합니다..\n",
      "4를 구합니다..\n",
      "3를 구합니다..\n",
      "2를 구합니다..\n",
      "1를 구합니다..\n",
      "2를 구합니다..\n",
      "3를 구합니다..\n",
      "2를 구합니다..\n",
      "1를 구합니다..\n",
      "4를 구합니다..\n",
      "3를 구합니다..\n",
      "2를 구합니다..\n",
      "1를 구합니다..\n",
      "2를 구합니다..\n",
      "5를 구합니다..\n",
      "4를 구합니다..\n",
      "3를 구합니다..\n",
      "2를 구합니다..\n",
      "1를 구합니다..\n",
      "2를 구합니다..\n",
      "3를 구합니다..\n",
      "2를 구합니다..\n",
      "1를 구합니다..\n",
      "8를 구합니다..\n",
      "7를 구합니다..\n",
      "6를 구합니다..\n",
      "5를 구합니다..\n",
      "4를 구합니다..\n",
      "3를 구합니다..\n",
      "2를 구합니다..\n",
      "1를 구합니다..\n",
      "2를 구합니다..\n",
      "3를 구합니다..\n",
      "2를 구합니다..\n",
      "1를 구합니다..\n",
      "4를 구합니다..\n",
      "3를 구합니다..\n",
      "2를 구합니다..\n",
      "1를 구합니다..\n",
      "2를 구합니다..\n",
      "5를 구합니다..\n",
      "4를 구합니다..\n",
      "3를 구합니다..\n",
      "2를 구합니다..\n",
      "1를 구합니다..\n",
      "2를 구합니다..\n",
      "3를 구합니다..\n",
      "2를 구합니다..\n",
      "1를 구합니다..\n",
      "6를 구합니다..\n",
      "5를 구합니다..\n",
      "4를 구합니다..\n",
      "3를 구합니다..\n",
      "2를 구합니다..\n",
      "1를 구합니다..\n",
      "2를 구합니다..\n",
      "3를 구합니다..\n",
      "2를 구합니다..\n",
      "1를 구합니다..\n",
      "4를 구합니다..\n",
      "3를 구합니다..\n",
      "2를 구합니다..\n",
      "1를 구합니다..\n",
      "2를 구합니다..\n",
      "\n",
      "fibbo(10)에 계산된 횟수는 109번입니다.\n"
     ]
    }
   ],
   "source": [
    "counter = 0\n",
    "\n",
    "def fibbo(n):\n",
    "    print(\"{}를 구합니다..\".format(n))\n",
    "    global counter\n",
    "    counter += 1\n",
    "    \n",
    "    if n == 1 or n == 2:\n",
    "        return 1\n",
    "    else:\n",
    "        return fibbo(n-1) + fibbo(n-2)\n",
    "\n",
    "fibbo(10)\n",
    "print()\n",
    "print(\"fibbo(10)에 계산된 횟수는 {}번입니다.\".format(counter))"
   ]
  },
  {
   "cell_type": "code",
   "execution_count": 138,
   "metadata": {},
   "outputs": [
    {
     "name": "stdout",
     "output_type": "stream",
     "text": [
      "55\n",
      "17\n"
     ]
    }
   ],
   "source": [
    "dict_fibbo = {\n",
    "    1: 1,\n",
    "    2: 1\n",
    "}\n",
    "counter = 0\n",
    "def fibbo(n):\n",
    "    global counter\n",
    "    counter += 1\n",
    "    if n in dict_fibbo:\n",
    "        return dict_fibbo[n]\n",
    "    else:\n",
    "        output = fibbo(n-1) + fibbo(n-2)\n",
    "        dict_fibbo[n] = output\n",
    "        return output\n",
    "print(fibbo(10))\n",
    "print(counter)"
   ]
  },
  {
   "cell_type": "code",
   "execution_count": 139,
   "metadata": {},
   "outputs": [
    {
     "data": {
      "text/plain": [
       "55"
      ]
     },
     "execution_count": 139,
     "metadata": {},
     "output_type": "execute_result"
    }
   ],
   "source": [
    "#조기 리턴\n",
    "def fibbo(n):\n",
    "    if n in dict_fibbo:\n",
    "        return dict_fibbo[n]\n",
    "    output = fibbo(n-1) + fibbo(n-2)\n",
    "    dict_fibbo[n] = output\n",
    "    return output\n",
    "fibbo(10)"
   ]
  },
  {
   "cell_type": "code",
   "execution_count": 140,
   "metadata": {},
   "outputs": [
    {
     "name": "stdout",
     "output_type": "stream",
     "text": [
      "원본:  [[1, 2, 3], [4, [5, 6]], 7, [8, 9]]\n",
      "변환:  [[1, 2, 3], [4, [5, 6]], 7, [8, 9]]\n"
     ]
    }
   ],
   "source": [
    "def flatten(data):\n",
    "    output = []\n",
    "    for item in data:\n",
    "        if type(item) is list:\n",
    "            output += flatten(item)\n",
    "        else:\n",
    "            output.append(item)\n",
    "    return output\n",
    "        \n",
    "        \n",
    "example = [[1,2,3], [4, [5,6]], 7, [8,9]]\n",
    "print(\"원본: \", example)\n",
    "print(\"변환: \", flatten(example))"
   ]
  },
  {
   "cell_type": "code",
   "execution_count": 141,
   "metadata": {},
   "outputs": [
    {
     "name": "stdout",
     "output_type": "stream",
     "text": [
      "437420\n"
     ]
    }
   ],
   "source": [
    "min_p = 2\n",
    "max_p = 10\n",
    "all_p = 100\n",
    "memo = {}\n",
    "\n",
    "def question(extra, sit):\n",
    "    key = str([extra, sit])\n",
    "    \n",
    "    if key in memo:\n",
    "        return memo[key]\n",
    "    if extra < 0:\n",
    "        return 0\n",
    "    if extra == 0:\n",
    "        return 1\n",
    "    \n",
    "    count = 0\n",
    "    for i in range(sit, max_p + 1):\n",
    "        count += question(extra - i, i)\n",
    "\n",
    "    memo[key] = count\n",
    "    return count\n",
    "    \n",
    "print(question(all_p, min_p))"
   ]
  },
  {
   "cell_type": "code",
   "execution_count": 12,
   "metadata": {},
   "outputs": [
    {
     "data": {
      "text/plain": [
       "10"
      ]
     },
     "execution_count": 12,
     "metadata": {},
     "output_type": "execute_result"
    }
   ],
   "source": [
    "tuple_test = (10,20,30)\n",
    "tuple_test[0]"
   ]
  },
  {
   "cell_type": "code",
   "execution_count": 13,
   "metadata": {},
   "outputs": [
    {
     "data": {
      "text/plain": [
       "20"
      ]
     },
     "execution_count": 13,
     "metadata": {},
     "output_type": "execute_result"
    }
   ],
   "source": [
    "tuple_test[1]"
   ]
  },
  {
   "cell_type": "code",
   "execution_count": 14,
   "metadata": {
    "scrolled": true
   },
   "outputs": [
    {
     "ename": "TypeError",
     "evalue": "'tuple' object does not support item assignment",
     "output_type": "error",
     "traceback": [
      "\u001b[1;31m---------------------------------------------------------------------------\u001b[0m",
      "\u001b[1;31mTypeError\u001b[0m                                 Traceback (most recent call last)",
      "\u001b[1;32m<ipython-input-14-f29efcf1e148>\u001b[0m in \u001b[0;36m<module>\u001b[1;34m\u001b[0m\n\u001b[1;32m----> 1\u001b[1;33m \u001b[0mtuple_test\u001b[0m\u001b[1;33m[\u001b[0m\u001b[1;36m2\u001b[0m\u001b[1;33m]\u001b[0m \u001b[1;33m=\u001b[0m \u001b[1;36m1\u001b[0m \u001b[1;31m#tuple은 값을 바꿀 수 없음\u001b[0m\u001b[1;33m\u001b[0m\u001b[1;33m\u001b[0m\u001b[0m\n\u001b[0m",
      "\u001b[1;31mTypeError\u001b[0m: 'tuple' object does not support item assignment"
     ]
    }
   ],
   "source": [
    "tuple_test[2] = 1 #tuple은 값을 바꿀 수 없음"
   ]
  },
  {
   "cell_type": "code",
   "execution_count": 145,
   "metadata": {},
   "outputs": [],
   "source": [
    "list_a = [273]\n",
    "tuple_a = (273, ) #tuple은 요소가 하나만 있어도 콤마를 찍어줘야 한다."
   ]
  },
  {
   "cell_type": "code",
   "execution_count": 146,
   "metadata": {},
   "outputs": [
    {
     "name": "stdout",
     "output_type": "stream",
     "text": [
      "(10, 20, 30, 40)\n",
      "<class 'tuple'>\n",
      "\n",
      "10\n",
      "20\n",
      "30\n"
     ]
    }
   ],
   "source": [
    "tu = 10, 20, 30, 40\n",
    "print(tu)\n",
    "print(type(tu))\n",
    "print()\n",
    "a, b, c = 10, 20, 30\n",
    "print(a)\n",
    "print(b)\n",
    "print(c)"
   ]
  },
  {
   "cell_type": "code",
   "execution_count": 147,
   "metadata": {},
   "outputs": [
    {
     "name": "stdout",
     "output_type": "stream",
     "text": [
      "10\n",
      "20\n",
      "\n",
      "20\n",
      "10\n"
     ]
    }
   ],
   "source": [
    "a, b = 10, 20\n",
    "print(a)\n",
    "print(b)\n",
    "print()\n",
    "a, b = b, a\n",
    "print(a)\n",
    "print(b)"
   ]
  },
  {
   "cell_type": "code",
   "execution_count": 148,
   "metadata": {},
   "outputs": [
    {
     "name": "stdout",
     "output_type": "stream",
     "text": [
      "안녕하세요\n",
      "안녕하세요\n",
      "안녕하세요\n",
      "안녕하세요\n",
      "안녕하세요\n",
      "안녕하세요\n",
      "안녕하세요\n",
      "안녕하세요\n",
      "안녕하세요\n",
      "안녕하세요\n"
     ]
    }
   ],
   "source": [
    "def call_10_times(func):\n",
    "    for i in range(10):\n",
    "        func()\n",
    "\n",
    "def say_hello():\n",
    "    print(\"안녕하세요\")\n",
    "\n",
    "call_10_times(say_hello)"
   ]
  },
  {
   "cell_type": "code",
   "execution_count": 15,
   "metadata": {},
   "outputs": [
    {
     "name": "stdout",
     "output_type": "stream",
     "text": [
      "[1, 4, 9, 16, 25]\n",
      "[1, 2]\n"
     ]
    }
   ],
   "source": [
    "def power(item):\n",
    "    return item * item\n",
    "def under_3(item):\n",
    "    return item < 3\n",
    "list_a = [1,2,3,4,5]\n",
    "output_a = map(power, list_a)\n",
    "print(list(output_a))\n",
    "output_b = filter(under_3, list_a)\n",
    "print(list(output_b))"
   ]
  },
  {
   "cell_type": "code",
   "execution_count": 16,
   "metadata": {},
   "outputs": [
    {
     "name": "stdout",
     "output_type": "stream",
     "text": [
      "[1, 4, 9, 16, 25]\n",
      "[1, 2]\n"
     ]
    }
   ],
   "source": [
    "power = lambda x: x * x\n",
    "under_3 = lambda x: x < 3\n",
    "\n",
    "list_a = [1,2,3,4,5]\n",
    "output_a = map(power, list_a)\n",
    "print(list(output_a))\n",
    "output_b = filter(under_3, list_a)\n",
    "print(list(output_b))"
   ]
  },
  {
   "cell_type": "code",
   "execution_count": 17,
   "metadata": {},
   "outputs": [
    {
     "name": "stdout",
     "output_type": "stream",
     "text": [
      "[1, 4, 9, 16, 25]\n",
      "[1, 2]\n"
     ]
    }
   ],
   "source": [
    "list_a = [1,2,3,4,5]\n",
    "output_a = map(lambda x: x * x, list_a)\n",
    "output_b = filter(lambda x: x < 3, list_a)\n",
    "print(list(output_a))\n",
    "print(list(output_b))"
   ]
  },
  {
   "cell_type": "code",
   "execution_count": 36,
   "metadata": {},
   "outputs": [
    {
     "name": "stdout",
     "output_type": "stream",
     "text": [
      "이름\t총점\t평균\n",
      "윤인성\t368\t92.0\n",
      "김가연\t384\t96.0\n",
      "구지연\t356\t89.0\n",
      "나선주\t378\t94.5\n",
      "윤아린\t389\t97.25\n",
      "윤명월\t312\t78.0\n"
     ]
    }
   ],
   "source": [
    "#create_student=( \"윤인성\", 87, 98, 88, 95)\n",
    "students = [\n",
    "    \n",
    "    {\"name\": \"윤인성\", \"korean\": 87, \"math\": 98, \"english\": 88, \"science\": 95},\n",
    "    {\"name\": \"김가연\", \"korean\": 92, \"math\": 98, \"english\": 96, \"science\": 98},\n",
    "    {\"name\": \"구지연\", \"korean\": 76, \"math\": 96, \"english\": 94, \"science\": 90},\n",
    "    {\"name\": \"나선주\", \"korean\": 98, \"math\": 92, \"english\": 96, \"science\": 92},\n",
    "    {\"name\": \"윤아린\", \"korean\": 95, \"math\": 98, \"english\": 98, \"science\": 98},\n",
    "    {\"name\": \"윤명월\", \"korean\": 64, \"math\": 64, \"english\": 92, \"science\": 92}\n",
    "]\n",
    "\n",
    "print(\"이름\", \"총점\", \"평균\", sep=\"\\t\")\n",
    "\n",
    "for student in students:\n",
    "    score_sum = student[\"korean\"] + student[\"math\"] + student[\"english\"] + student[\"science\"]\n",
    "    score_avg = score_sum / 4\n",
    "    \n",
    "    print(student[\"name\"], score_sum, score_avg, sep=\"\\t\")"
   ]
  },
  {
   "cell_type": "code",
   "execution_count": 38,
   "metadata": {},
   "outputs": [
    {
     "data": {
      "text/plain": [
       "'김가연'"
      ]
     },
     "execution_count": 38,
     "metadata": {},
     "output_type": "execute_result"
    }
   ],
   "source": [
    "class Student:\n",
    "    def __init__(self,name,korean,math,english,science):\n",
    "        self.name=name\n",
    "        self.korean=korean\n",
    "        self.math=math\n",
    "        self.english=english\n",
    "        self.science=science\n",
    "\n",
    "\n",
    "\n",
    "students = [\n",
    "    Student( \"윤인성\", 87, 98, 88, 95),\n",
    "    Student( \"김가연\", 92, 98, 96, 98),\n",
    "    Student( \"구지연\", 76, 96, 94, 90),\n",
    "    Student( \"나선주\", 98, 92, 96, 92),\n",
    "    Student( \"윤아린\", 95, 98, 98, 98),\n",
    "    Student( \"윤명월\", 64, 88, 92, 92)\n",
    "]\n",
    "\n",
    "students[1].name"
   ]
  },
  {
   "cell_type": "code",
   "execution_count": 156,
   "metadata": {},
   "outputs": [
    {
     "name": "stdout",
     "output_type": "stream",
     "text": [
      "이름\t총점\t평균\n",
      "김가연\t400\t100.0\n",
      "김가연\t400\t100.0\n",
      "김가연\t400\t100.0\n",
      "김가연\t400\t100.0\n",
      "김가연\t400\t100.0\n",
      "김가연\t400\t100.0\n"
     ]
    }
   ],
   "source": [
    "class Student:\n",
    "    def __init__(self, name, korean, math, english, science):\n",
    "        self.name = name\n",
    "        self.korean = korean\n",
    "        self.math = math\n",
    "        self.english = english\n",
    "        self.science = science\n",
    "        \n",
    "    def get_sum(self):\n",
    "        return self.korean + self.math +\\\n",
    "            self.english + self.science\n",
    "    \n",
    "    def get_avg(self):\n",
    "        return self.get_sum() / 4\n",
    "    \n",
    "    def to_str(self):\n",
    "        return \"{}\\t{}\\t{}\".format(\\\n",
    "            self.name,\\\n",
    "            self.get_sum(),\\\n",
    "            self.get_avg())\n",
    "    \n",
    "students = [\n",
    "    Student(\"김가연\",100,100,100,100),\n",
    "    Student(\"김가연\",100,100,100,100),\n",
    "    Student(\"김가연\",100,100,100,100),\n",
    "    Student(\"김가연\",100,100,100,100),\n",
    "    Student(\"김가연\",100,100,100,100),\n",
    "    Student(\"김가연\",100,100,100,100)\n",
    "]\n",
    "\n",
    "print(\"이름\",\"총점\",\"평균\",sep=\"\\t\")\n",
    "\n",
    "for student in students:\n",
    "    print(student.to_str())"
   ]
  },
  {
   "cell_type": "code",
   "execution_count": 157,
   "metadata": {},
   "outputs": [
    {
     "data": {
      "text/html": [
       "<div>\n",
       "<style scoped>\n",
       "    .dataframe tbody tr th:only-of-type {\n",
       "        vertical-align: middle;\n",
       "    }\n",
       "\n",
       "    .dataframe tbody tr th {\n",
       "        vertical-align: top;\n",
       "    }\n",
       "\n",
       "    .dataframe thead th {\n",
       "        text-align: right;\n",
       "    }\n",
       "</style>\n",
       "<table border=\"1\" class=\"dataframe\">\n",
       "  <thead>\n",
       "    <tr style=\"text-align: right;\">\n",
       "      <th></th>\n",
       "      <th>A</th>\n",
       "      <th>B</th>\n",
       "    </tr>\n",
       "  </thead>\n",
       "  <tbody>\n",
       "    <tr>\n",
       "      <th>0</th>\n",
       "      <td>0.064360</td>\n",
       "      <td>0.178097</td>\n",
       "    </tr>\n",
       "    <tr>\n",
       "      <th>1</th>\n",
       "      <td>0.720696</td>\n",
       "      <td>0.435378</td>\n",
       "    </tr>\n",
       "    <tr>\n",
       "      <th>2</th>\n",
       "      <td>0.558112</td>\n",
       "      <td>0.682843</td>\n",
       "    </tr>\n",
       "    <tr>\n",
       "      <th>3</th>\n",
       "      <td>0.790750</td>\n",
       "      <td>0.015579</td>\n",
       "    </tr>\n",
       "    <tr>\n",
       "      <th>4</th>\n",
       "      <td>0.358412</td>\n",
       "      <td>0.751838</td>\n",
       "    </tr>\n",
       "  </tbody>\n",
       "</table>\n",
       "</div>"
      ],
      "text/plain": [
       "          A         B\n",
       "0  0.064360  0.178097\n",
       "1  0.720696  0.435378\n",
       "2  0.558112  0.682843\n",
       "3  0.790750  0.015579\n",
       "4  0.358412  0.751838"
      ]
     },
     "execution_count": 157,
     "metadata": {},
     "output_type": "execute_result"
    }
   ],
   "source": [
    "import pandas as pd\n",
    "import numpy as np\n",
    "\n",
    "df = pd.DataFrame(np.random.rand(5,2), columns=[\"A\",\"B\"])\n",
    "df"
   ]
  },
  {
   "cell_type": "code",
   "execution_count": 158,
   "metadata": {},
   "outputs": [
    {
     "data": {
      "text/html": [
       "<div>\n",
       "<style scoped>\n",
       "    .dataframe tbody tr th:only-of-type {\n",
       "        vertical-align: middle;\n",
       "    }\n",
       "\n",
       "    .dataframe tbody tr th {\n",
       "        vertical-align: top;\n",
       "    }\n",
       "\n",
       "    .dataframe thead th {\n",
       "        text-align: right;\n",
       "    }\n",
       "</style>\n",
       "<table border=\"1\" class=\"dataframe\">\n",
       "  <thead>\n",
       "    <tr style=\"text-align: right;\">\n",
       "      <th></th>\n",
       "      <th>A</th>\n",
       "      <th>B</th>\n",
       "    </tr>\n",
       "  </thead>\n",
       "  <tbody>\n",
       "    <tr>\n",
       "      <th>4</th>\n",
       "      <td>0.358412</td>\n",
       "      <td>0.751838</td>\n",
       "    </tr>\n",
       "  </tbody>\n",
       "</table>\n",
       "</div>"
      ],
      "text/plain": [
       "          A         B\n",
       "4  0.358412  0.751838"
      ]
     },
     "execution_count": 158,
     "metadata": {},
     "output_type": "execute_result"
    }
   ],
   "source": [
    "df[(df[\"A\"]<0.5)&(df[\"B\"]>0.3)]"
   ]
  },
  {
   "cell_type": "code",
   "execution_count": 159,
   "metadata": {},
   "outputs": [
    {
     "data": {
      "text/html": [
       "<div>\n",
       "<style scoped>\n",
       "    .dataframe tbody tr th:only-of-type {\n",
       "        vertical-align: middle;\n",
       "    }\n",
       "\n",
       "    .dataframe tbody tr th {\n",
       "        vertical-align: top;\n",
       "    }\n",
       "\n",
       "    .dataframe thead th {\n",
       "        text-align: right;\n",
       "    }\n",
       "</style>\n",
       "<table border=\"1\" class=\"dataframe\">\n",
       "  <thead>\n",
       "    <tr style=\"text-align: right;\">\n",
       "      <th></th>\n",
       "      <th>A</th>\n",
       "      <th>B</th>\n",
       "    </tr>\n",
       "  </thead>\n",
       "  <tbody>\n",
       "    <tr>\n",
       "      <th>4</th>\n",
       "      <td>0.358412</td>\n",
       "      <td>0.751838</td>\n",
       "    </tr>\n",
       "  </tbody>\n",
       "</table>\n",
       "</div>"
      ],
      "text/plain": [
       "          A         B\n",
       "4  0.358412  0.751838"
      ]
     },
     "execution_count": 159,
     "metadata": {},
     "output_type": "execute_result"
    }
   ],
   "source": [
    "df.query(\"A<0.5 and B>0.3\")"
   ]
  },
  {
   "cell_type": "code",
   "execution_count": 160,
   "metadata": {},
   "outputs": [
    {
     "data": {
      "text/html": [
       "<div>\n",
       "<style scoped>\n",
       "    .dataframe tbody tr th:only-of-type {\n",
       "        vertical-align: middle;\n",
       "    }\n",
       "\n",
       "    .dataframe tbody tr th {\n",
       "        vertical-align: top;\n",
       "    }\n",
       "\n",
       "    .dataframe thead th {\n",
       "        text-align: right;\n",
       "    }\n",
       "</style>\n",
       "<table border=\"1\" class=\"dataframe\">\n",
       "  <thead>\n",
       "    <tr style=\"text-align: right;\">\n",
       "      <th></th>\n",
       "      <th>Animal</th>\n",
       "      <th>Name</th>\n",
       "    </tr>\n",
       "  </thead>\n",
       "  <tbody>\n",
       "    <tr>\n",
       "      <th>0</th>\n",
       "      <td>Dog</td>\n",
       "      <td>happy</td>\n",
       "    </tr>\n",
       "    <tr>\n",
       "      <th>1</th>\n",
       "      <td>Cat</td>\n",
       "      <td>padaeng</td>\n",
       "    </tr>\n",
       "    <tr>\n",
       "      <th>2</th>\n",
       "      <td>Cat</td>\n",
       "      <td>goongdaeng</td>\n",
       "    </tr>\n",
       "    <tr>\n",
       "      <th>3</th>\n",
       "      <td>Pig</td>\n",
       "      <td>beru</td>\n",
       "    </tr>\n",
       "    <tr>\n",
       "      <th>4</th>\n",
       "      <td>Cat</td>\n",
       "      <td>pany</td>\n",
       "    </tr>\n",
       "  </tbody>\n",
       "</table>\n",
       "</div>"
      ],
      "text/plain": [
       "  Animal        Name\n",
       "0    Dog       happy\n",
       "1    Cat     padaeng\n",
       "2    Cat  goongdaeng\n",
       "3    Pig        beru\n",
       "4    Cat        pany"
      ]
     },
     "execution_count": 160,
     "metadata": {},
     "output_type": "execute_result"
    }
   ],
   "source": [
    "#df[\"Animal\"] = pd.DataFrame([\"Dog\",\"Cat\",\"Cat\",\"Pig\",\"Cat\"])\n",
    "#df[\"Name\"] = pd.DataFrame[\"happy\",\"padaeng\",\"goongdaeng\",\"beru\",\"pany\"]\n",
    "#df\n",
    "\n",
    "df_str = pd.DataFrame({\n",
    "    \"Animal\": [\"Dog\",\"Cat\",\"Cat\",\"Pig\",\"Cat\"],\n",
    "    \"Name\": [\"happy\",\"padaeng\",\"goongdaeng\",\"beru\",\"pany\"]\n",
    "})\n",
    "df_str"
   ]
  },
  {
   "cell_type": "code",
   "execution_count": 161,
   "metadata": {},
   "outputs": [
    {
     "data": {
      "text/plain": [
       "0    False\n",
       "1     True\n",
       "2     True\n",
       "3    False\n",
       "4     True\n",
       "Name: Animal, dtype: bool"
      ]
     },
     "execution_count": 161,
     "metadata": {},
     "output_type": "execute_result"
    }
   ],
   "source": [
    "df_str.Animal.str.match(\"Cat\")"
   ]
  },
  {
   "cell_type": "code",
   "execution_count": 162,
   "metadata": {},
   "outputs": [
    {
     "data": {
      "text/html": [
       "<div>\n",
       "<style scoped>\n",
       "    .dataframe tbody tr th:only-of-type {\n",
       "        vertical-align: middle;\n",
       "    }\n",
       "\n",
       "    .dataframe tbody tr th {\n",
       "        vertical-align: top;\n",
       "    }\n",
       "\n",
       "    .dataframe thead th {\n",
       "        text-align: right;\n",
       "    }\n",
       "</style>\n",
       "<table border=\"1\" class=\"dataframe\">\n",
       "  <thead>\n",
       "    <tr style=\"text-align: right;\">\n",
       "      <th></th>\n",
       "      <th>Num</th>\n",
       "    </tr>\n",
       "  </thead>\n",
       "  <tbody>\n",
       "    <tr>\n",
       "      <th>0</th>\n",
       "      <td>0</td>\n",
       "    </tr>\n",
       "    <tr>\n",
       "      <th>1</th>\n",
       "      <td>1</td>\n",
       "    </tr>\n",
       "    <tr>\n",
       "      <th>2</th>\n",
       "      <td>2</td>\n",
       "    </tr>\n",
       "    <tr>\n",
       "      <th>3</th>\n",
       "      <td>3</td>\n",
       "    </tr>\n",
       "    <tr>\n",
       "      <th>4</th>\n",
       "      <td>4</td>\n",
       "    </tr>\n",
       "  </tbody>\n",
       "</table>\n",
       "</div>"
      ],
      "text/plain": [
       "   Num\n",
       "0    0\n",
       "1    1\n",
       "2    2\n",
       "3    3\n",
       "4    4"
      ]
     },
     "execution_count": 162,
     "metadata": {},
     "output_type": "execute_result"
    }
   ],
   "source": [
    "df = pd.DataFrame(np.arange(5),columns=[\"Num\"])\n",
    "df"
   ]
  },
  {
   "cell_type": "code",
   "execution_count": 163,
   "metadata": {},
   "outputs": [
    {
     "data": {
      "text/html": [
       "<div>\n",
       "<style scoped>\n",
       "    .dataframe tbody tr th:only-of-type {\n",
       "        vertical-align: middle;\n",
       "    }\n",
       "\n",
       "    .dataframe tbody tr th {\n",
       "        vertical-align: top;\n",
       "    }\n",
       "\n",
       "    .dataframe thead th {\n",
       "        text-align: right;\n",
       "    }\n",
       "</style>\n",
       "<table border=\"1\" class=\"dataframe\">\n",
       "  <thead>\n",
       "    <tr style=\"text-align: right;\">\n",
       "      <th></th>\n",
       "      <th>Num</th>\n",
       "      <th>Square</th>\n",
       "    </tr>\n",
       "  </thead>\n",
       "  <tbody>\n",
       "    <tr>\n",
       "      <th>0</th>\n",
       "      <td>0</td>\n",
       "      <td>0</td>\n",
       "    </tr>\n",
       "    <tr>\n",
       "      <th>1</th>\n",
       "      <td>1</td>\n",
       "      <td>1</td>\n",
       "    </tr>\n",
       "    <tr>\n",
       "      <th>2</th>\n",
       "      <td>2</td>\n",
       "      <td>4</td>\n",
       "    </tr>\n",
       "    <tr>\n",
       "      <th>3</th>\n",
       "      <td>3</td>\n",
       "      <td>9</td>\n",
       "    </tr>\n",
       "    <tr>\n",
       "      <th>4</th>\n",
       "      <td>4</td>\n",
       "      <td>16</td>\n",
       "    </tr>\n",
       "  </tbody>\n",
       "</table>\n",
       "</div>"
      ],
      "text/plain": [
       "   Num  Square\n",
       "0    0       0\n",
       "1    1       1\n",
       "2    2       4\n",
       "3    3       9\n",
       "4    4      16"
      ]
     },
     "execution_count": 163,
     "metadata": {},
     "output_type": "execute_result"
    }
   ],
   "source": [
    "df[\"Square\"]=df.Num.apply(lambda x: x**2)\n",
    "df"
   ]
  },
  {
   "cell_type": "code",
   "execution_count": 164,
   "metadata": {},
   "outputs": [
    {
     "data": {
      "text/html": [
       "<div>\n",
       "<style scoped>\n",
       "    .dataframe tbody tr th:only-of-type {\n",
       "        vertical-align: middle;\n",
       "    }\n",
       "\n",
       "    .dataframe tbody tr th {\n",
       "        vertical-align: top;\n",
       "    }\n",
       "\n",
       "    .dataframe thead th {\n",
       "        text-align: right;\n",
       "    }\n",
       "</style>\n",
       "<table border=\"1\" class=\"dataframe\">\n",
       "  <thead>\n",
       "    <tr style=\"text-align: right;\">\n",
       "      <th></th>\n",
       "      <th>phone</th>\n",
       "      <th>preprocess_phone</th>\n",
       "    </tr>\n",
       "  </thead>\n",
       "  <tbody>\n",
       "    <tr>\n",
       "      <th>0</th>\n",
       "      <td>010-1234-1235</td>\n",
       "      <td></td>\n",
       "    </tr>\n",
       "    <tr>\n",
       "      <th>1</th>\n",
       "      <td>공일공-일이삼사-1235</td>\n",
       "      <td></td>\n",
       "    </tr>\n",
       "    <tr>\n",
       "      <th>2</th>\n",
       "      <td>010.1234.일이삼오</td>\n",
       "      <td></td>\n",
       "    </tr>\n",
       "    <tr>\n",
       "      <th>3</th>\n",
       "      <td>공1공-1234.1이3오</td>\n",
       "      <td></td>\n",
       "    </tr>\n",
       "  </tbody>\n",
       "</table>\n",
       "</div>"
      ],
      "text/plain": [
       "           phone preprocess_phone\n",
       "0  010-1234-1235                 \n",
       "1  공일공-일이삼사-1235                 \n",
       "2  010.1234.일이삼오                 \n",
       "3  공1공-1234.1이3오                 "
      ]
     },
     "execution_count": 164,
     "metadata": {},
     "output_type": "execute_result"
    }
   ],
   "source": [
    "df=pd.DataFrame(columns=[\"phone\"])\n",
    "df.loc[0] = \"010-1234-1235\"\n",
    "df.loc[1] = \"공일공-일이삼사-1235\"\n",
    "df.loc[2] = \"010.1234.일이삼오\"\n",
    "df.loc[3] = \"공1공-1234.1이3오\"\n",
    "df[\"preprocess_phone\"] = ''\n",
    "df"
   ]
  },
  {
   "cell_type": "code",
   "execution_count": 165,
   "metadata": {},
   "outputs": [
    {
     "data": {
      "text/html": [
       "<div>\n",
       "<style scoped>\n",
       "    .dataframe tbody tr th:only-of-type {\n",
       "        vertical-align: middle;\n",
       "    }\n",
       "\n",
       "    .dataframe tbody tr th {\n",
       "        vertical-align: top;\n",
       "    }\n",
       "\n",
       "    .dataframe thead th {\n",
       "        text-align: right;\n",
       "    }\n",
       "</style>\n",
       "<table border=\"1\" class=\"dataframe\">\n",
       "  <thead>\n",
       "    <tr style=\"text-align: right;\">\n",
       "      <th></th>\n",
       "      <th>phone</th>\n",
       "      <th>preprocess_phone</th>\n",
       "    </tr>\n",
       "  </thead>\n",
       "  <tbody>\n",
       "    <tr>\n",
       "      <th>0</th>\n",
       "      <td>010-1234-1235</td>\n",
       "      <td>010 1234 1235</td>\n",
       "    </tr>\n",
       "    <tr>\n",
       "      <th>1</th>\n",
       "      <td>공일공-일이삼사-1235</td>\n",
       "      <td>010 1234 1235</td>\n",
       "    </tr>\n",
       "    <tr>\n",
       "      <th>2</th>\n",
       "      <td>010.1234.일이삼오</td>\n",
       "      <td>010 1234 1235</td>\n",
       "    </tr>\n",
       "    <tr>\n",
       "      <th>3</th>\n",
       "      <td>공1공-1234.1이3오</td>\n",
       "      <td>010 1234 1235</td>\n",
       "    </tr>\n",
       "  </tbody>\n",
       "</table>\n",
       "</div>"
      ],
      "text/plain": [
       "           phone preprocess_phone\n",
       "0  010-1234-1235    010 1234 1235\n",
       "1  공일공-일이삼사-1235    010 1234 1235\n",
       "2  010.1234.일이삼오    010 1234 1235\n",
       "3  공1공-1234.1이3오    010 1234 1235"
      ]
     },
     "execution_count": 165,
     "metadata": {},
     "output_type": "execute_result"
    }
   ],
   "source": [
    "def get_preprocess_phone(phone):\n",
    "    mapping_dict = {\n",
    "        \"공\":\"0\",\n",
    "        \"일\":\"1\",\n",
    "        \"이\":\"2\",\n",
    "        \"삼\":\"3\",\n",
    "        \"사\":\"4\",\n",
    "        \"오\":\"5\",\n",
    "        \"-\":\" \",\n",
    "        \".\":\" \"\n",
    "    }\n",
    "\n",
    "    for k,v in mapping_dict.items():\n",
    "        phone = phone.replace(k,v)\n",
    "    return phone\n",
    "    \n",
    "df[\"preprocess_phone\"]=df[\"phone\"].apply(get_preprocess_phone)\n",
    "df"
   ]
  },
  {
   "cell_type": "code",
   "execution_count": 166,
   "metadata": {},
   "outputs": [
    {
     "data": {
      "text/html": [
       "<div>\n",
       "<style scoped>\n",
       "    .dataframe tbody tr th:only-of-type {\n",
       "        vertical-align: middle;\n",
       "    }\n",
       "\n",
       "    .dataframe tbody tr th {\n",
       "        vertical-align: top;\n",
       "    }\n",
       "\n",
       "    .dataframe thead th {\n",
       "        text-align: right;\n",
       "    }\n",
       "</style>\n",
       "<table border=\"1\" class=\"dataframe\">\n",
       "  <thead>\n",
       "    <tr style=\"text-align: right;\">\n",
       "      <th></th>\n",
       "      <th>sex</th>\n",
       "    </tr>\n",
       "  </thead>\n",
       "  <tbody>\n",
       "    <tr>\n",
       "      <th>0</th>\n",
       "      <td>Female</td>\n",
       "    </tr>\n",
       "    <tr>\n",
       "      <th>1</th>\n",
       "      <td>Male</td>\n",
       "    </tr>\n",
       "    <tr>\n",
       "      <th>2</th>\n",
       "      <td>Male</td>\n",
       "    </tr>\n",
       "    <tr>\n",
       "      <th>3</th>\n",
       "      <td>Female</td>\n",
       "    </tr>\n",
       "    <tr>\n",
       "      <th>4</th>\n",
       "      <td>Male</td>\n",
       "    </tr>\n",
       "  </tbody>\n",
       "</table>\n",
       "</div>"
      ],
      "text/plain": [
       "      sex\n",
       "0  Female\n",
       "1    Male\n",
       "2    Male\n",
       "3  Female\n",
       "4    Male"
      ]
     },
     "execution_count": 166,
     "metadata": {},
     "output_type": "execute_result"
    }
   ],
   "source": [
    "df = pd.DataFrame({\n",
    "    \"sex\": [\"Female\",\"Male\",\"Male\",\"Female\",\"Male\"]})\n",
    "df"
   ]
  },
  {
   "cell_type": "code",
   "execution_count": 167,
   "metadata": {},
   "outputs": [
    {
     "data": {
      "text/plain": [
       "0    1\n",
       "1    0\n",
       "2    0\n",
       "3    1\n",
       "4    0\n",
       "Name: sex, dtype: int64"
      ]
     },
     "execution_count": 167,
     "metadata": {},
     "output_type": "execute_result"
    }
   ],
   "source": [
    "df.sex.replace({\"Male\": 0, \"Female\": 1})"
   ]
  },
  {
   "cell_type": "code",
   "execution_count": 168,
   "metadata": {},
   "outputs": [
    {
     "data": {
      "text/html": [
       "<div>\n",
       "<style scoped>\n",
       "    .dataframe tbody tr th:only-of-type {\n",
       "        vertical-align: middle;\n",
       "    }\n",
       "\n",
       "    .dataframe tbody tr th {\n",
       "        vertical-align: top;\n",
       "    }\n",
       "\n",
       "    .dataframe thead th {\n",
       "        text-align: right;\n",
       "    }\n",
       "</style>\n",
       "<table border=\"1\" class=\"dataframe\">\n",
       "  <thead>\n",
       "    <tr style=\"text-align: right;\">\n",
       "      <th></th>\n",
       "      <th>sex</th>\n",
       "    </tr>\n",
       "  </thead>\n",
       "  <tbody>\n",
       "    <tr>\n",
       "      <th>0</th>\n",
       "      <td>1</td>\n",
       "    </tr>\n",
       "    <tr>\n",
       "      <th>1</th>\n",
       "      <td>0</td>\n",
       "    </tr>\n",
       "    <tr>\n",
       "      <th>2</th>\n",
       "      <td>0</td>\n",
       "    </tr>\n",
       "    <tr>\n",
       "      <th>3</th>\n",
       "      <td>1</td>\n",
       "    </tr>\n",
       "    <tr>\n",
       "      <th>4</th>\n",
       "      <td>0</td>\n",
       "    </tr>\n",
       "  </tbody>\n",
       "</table>\n",
       "</div>"
      ],
      "text/plain": [
       "   sex\n",
       "0    1\n",
       "1    0\n",
       "2    0\n",
       "3    1\n",
       "4    0"
      ]
     },
     "execution_count": 168,
     "metadata": {},
     "output_type": "execute_result"
    }
   ],
   "source": [
    "df.sex.replace({\"Male\": 0, \"Female\": 1}, inplace=True)\n",
    "df"
   ]
  },
  {
   "cell_type": "code",
   "execution_count": 169,
   "metadata": {},
   "outputs": [
    {
     "data": {
      "text/html": [
       "<div>\n",
       "<style scoped>\n",
       "    .dataframe tbody tr th:only-of-type {\n",
       "        vertical-align: middle;\n",
       "    }\n",
       "\n",
       "    .dataframe tbody tr th {\n",
       "        vertical-align: top;\n",
       "    }\n",
       "\n",
       "    .dataframe thead th {\n",
       "        text-align: right;\n",
       "    }\n",
       "</style>\n",
       "<table border=\"1\" class=\"dataframe\">\n",
       "  <thead>\n",
       "    <tr style=\"text-align: right;\">\n",
       "      <th></th>\n",
       "      <th>key</th>\n",
       "      <th>data1</th>\n",
       "      <th>data2</th>\n",
       "    </tr>\n",
       "  </thead>\n",
       "  <tbody>\n",
       "    <tr>\n",
       "      <th>0</th>\n",
       "      <td>A</td>\n",
       "      <td>0</td>\n",
       "      <td>4</td>\n",
       "    </tr>\n",
       "    <tr>\n",
       "      <th>1</th>\n",
       "      <td>B</td>\n",
       "      <td>1</td>\n",
       "      <td>4</td>\n",
       "    </tr>\n",
       "    <tr>\n",
       "      <th>2</th>\n",
       "      <td>C</td>\n",
       "      <td>2</td>\n",
       "      <td>6</td>\n",
       "    </tr>\n",
       "    <tr>\n",
       "      <th>3</th>\n",
       "      <td>A</td>\n",
       "      <td>3</td>\n",
       "      <td>0</td>\n",
       "    </tr>\n",
       "    <tr>\n",
       "      <th>4</th>\n",
       "      <td>B</td>\n",
       "      <td>4</td>\n",
       "      <td>6</td>\n",
       "    </tr>\n",
       "    <tr>\n",
       "      <th>5</th>\n",
       "      <td>C</td>\n",
       "      <td>5</td>\n",
       "      <td>1</td>\n",
       "    </tr>\n",
       "  </tbody>\n",
       "</table>\n",
       "</div>"
      ],
      "text/plain": [
       "  key  data1  data2\n",
       "0   A      0      4\n",
       "1   B      1      4\n",
       "2   C      2      6\n",
       "3   A      3      0\n",
       "4   B      4      6\n",
       "5   C      5      1"
      ]
     },
     "execution_count": 169,
     "metadata": {},
     "output_type": "execute_result"
    }
   ],
   "source": [
    "df = pd.DataFrame({\n",
    "    'key': ['A','B','C','A','B','C'],\n",
    "    'data1': range(6),\n",
    "    'data2': [4,4,6,0,6,1]\n",
    "})\n",
    "df"
   ]
  },
  {
   "cell_type": "code",
   "execution_count": 170,
   "metadata": {},
   "outputs": [
    {
     "data": {
      "text/plain": [
       "<pandas.core.groupby.generic.DataFrameGroupBy object at 0x000001B26522CA60>"
      ]
     },
     "execution_count": 170,
     "metadata": {},
     "output_type": "execute_result"
    }
   ],
   "source": [
    "df.groupby('key')"
   ]
  },
  {
   "cell_type": "code",
   "execution_count": 171,
   "metadata": {},
   "outputs": [
    {
     "data": {
      "text/html": [
       "<div>\n",
       "<style scoped>\n",
       "    .dataframe tbody tr th:only-of-type {\n",
       "        vertical-align: middle;\n",
       "    }\n",
       "\n",
       "    .dataframe tbody tr th {\n",
       "        vertical-align: top;\n",
       "    }\n",
       "\n",
       "    .dataframe thead th {\n",
       "        text-align: right;\n",
       "    }\n",
       "</style>\n",
       "<table border=\"1\" class=\"dataframe\">\n",
       "  <thead>\n",
       "    <tr style=\"text-align: right;\">\n",
       "      <th></th>\n",
       "      <th>data1</th>\n",
       "      <th>data2</th>\n",
       "    </tr>\n",
       "    <tr>\n",
       "      <th>key</th>\n",
       "      <th></th>\n",
       "      <th></th>\n",
       "    </tr>\n",
       "  </thead>\n",
       "  <tbody>\n",
       "    <tr>\n",
       "      <th>A</th>\n",
       "      <td>3</td>\n",
       "      <td>4</td>\n",
       "    </tr>\n",
       "    <tr>\n",
       "      <th>B</th>\n",
       "      <td>5</td>\n",
       "      <td>10</td>\n",
       "    </tr>\n",
       "    <tr>\n",
       "      <th>C</th>\n",
       "      <td>7</td>\n",
       "      <td>7</td>\n",
       "    </tr>\n",
       "  </tbody>\n",
       "</table>\n",
       "</div>"
      ],
      "text/plain": [
       "     data1  data2\n",
       "key              \n",
       "A        3      4\n",
       "B        5     10\n",
       "C        7      7"
      ]
     },
     "execution_count": 171,
     "metadata": {},
     "output_type": "execute_result"
    }
   ],
   "source": [
    "df.groupby('key').sum()"
   ]
  },
  {
   "cell_type": "code",
   "execution_count": 172,
   "metadata": {},
   "outputs": [
    {
     "data": {
      "text/html": [
       "<div>\n",
       "<style scoped>\n",
       "    .dataframe tbody tr th:only-of-type {\n",
       "        vertical-align: middle;\n",
       "    }\n",
       "\n",
       "    .dataframe tbody tr th {\n",
       "        vertical-align: top;\n",
       "    }\n",
       "\n",
       "    .dataframe thead th {\n",
       "        text-align: right;\n",
       "    }\n",
       "</style>\n",
       "<table border=\"1\" class=\"dataframe\">\n",
       "  <thead>\n",
       "    <tr style=\"text-align: right;\">\n",
       "      <th></th>\n",
       "      <th></th>\n",
       "      <th>data2</th>\n",
       "    </tr>\n",
       "    <tr>\n",
       "      <th>key</th>\n",
       "      <th>data1</th>\n",
       "      <th></th>\n",
       "    </tr>\n",
       "  </thead>\n",
       "  <tbody>\n",
       "    <tr>\n",
       "      <th rowspan=\"2\" valign=\"top\">A</th>\n",
       "      <th>0</th>\n",
       "      <td>4</td>\n",
       "    </tr>\n",
       "    <tr>\n",
       "      <th>3</th>\n",
       "      <td>0</td>\n",
       "    </tr>\n",
       "    <tr>\n",
       "      <th rowspan=\"2\" valign=\"top\">B</th>\n",
       "      <th>1</th>\n",
       "      <td>4</td>\n",
       "    </tr>\n",
       "    <tr>\n",
       "      <th>4</th>\n",
       "      <td>6</td>\n",
       "    </tr>\n",
       "    <tr>\n",
       "      <th rowspan=\"2\" valign=\"top\">C</th>\n",
       "      <th>2</th>\n",
       "      <td>6</td>\n",
       "    </tr>\n",
       "    <tr>\n",
       "      <th>5</th>\n",
       "      <td>1</td>\n",
       "    </tr>\n",
       "  </tbody>\n",
       "</table>\n",
       "</div>"
      ],
      "text/plain": [
       "           data2\n",
       "key data1       \n",
       "A   0          4\n",
       "    3          0\n",
       "B   1          4\n",
       "    4          6\n",
       "C   2          6\n",
       "    5          1"
      ]
     },
     "execution_count": 172,
     "metadata": {},
     "output_type": "execute_result"
    }
   ],
   "source": [
    "df.groupby(['key','data1']).sum()"
   ]
  },
  {
   "cell_type": "code",
   "execution_count": 173,
   "metadata": {},
   "outputs": [
    {
     "data": {
      "text/html": [
       "<div>\n",
       "<style scoped>\n",
       "    .dataframe tbody tr th:only-of-type {\n",
       "        vertical-align: middle;\n",
       "    }\n",
       "\n",
       "    .dataframe tbody tr th {\n",
       "        vertical-align: top;\n",
       "    }\n",
       "\n",
       "    .dataframe thead tr th {\n",
       "        text-align: left;\n",
       "    }\n",
       "\n",
       "    .dataframe thead tr:last-of-type th {\n",
       "        text-align: right;\n",
       "    }\n",
       "</style>\n",
       "<table border=\"1\" class=\"dataframe\">\n",
       "  <thead>\n",
       "    <tr>\n",
       "      <th></th>\n",
       "      <th colspan=\"3\" halign=\"left\">data1</th>\n",
       "      <th colspan=\"3\" halign=\"left\">data2</th>\n",
       "    </tr>\n",
       "    <tr>\n",
       "      <th></th>\n",
       "      <th>min</th>\n",
       "      <th>median</th>\n",
       "      <th>max</th>\n",
       "      <th>min</th>\n",
       "      <th>median</th>\n",
       "      <th>max</th>\n",
       "    </tr>\n",
       "    <tr>\n",
       "      <th>key</th>\n",
       "      <th></th>\n",
       "      <th></th>\n",
       "      <th></th>\n",
       "      <th></th>\n",
       "      <th></th>\n",
       "      <th></th>\n",
       "    </tr>\n",
       "  </thead>\n",
       "  <tbody>\n",
       "    <tr>\n",
       "      <th>A</th>\n",
       "      <td>0</td>\n",
       "      <td>1.5</td>\n",
       "      <td>3</td>\n",
       "      <td>0</td>\n",
       "      <td>2.0</td>\n",
       "      <td>4</td>\n",
       "    </tr>\n",
       "    <tr>\n",
       "      <th>B</th>\n",
       "      <td>1</td>\n",
       "      <td>2.5</td>\n",
       "      <td>4</td>\n",
       "      <td>4</td>\n",
       "      <td>5.0</td>\n",
       "      <td>6</td>\n",
       "    </tr>\n",
       "    <tr>\n",
       "      <th>C</th>\n",
       "      <td>2</td>\n",
       "      <td>3.5</td>\n",
       "      <td>5</td>\n",
       "      <td>1</td>\n",
       "      <td>3.5</td>\n",
       "      <td>6</td>\n",
       "    </tr>\n",
       "  </tbody>\n",
       "</table>\n",
       "</div>"
      ],
      "text/plain": [
       "    data1            data2           \n",
       "      min median max   min median max\n",
       "key                                  \n",
       "A       0    1.5   3     0    2.0   4\n",
       "B       1    2.5   4     4    5.0   6\n",
       "C       2    3.5   5     1    3.5   6"
      ]
     },
     "execution_count": 173,
     "metadata": {},
     "output_type": "execute_result"
    }
   ],
   "source": [
    "df.groupby('key').aggregate([min,np.median,max])"
   ]
  },
  {
   "cell_type": "code",
   "execution_count": 174,
   "metadata": {},
   "outputs": [
    {
     "data": {
      "text/html": [
       "<div>\n",
       "<style scoped>\n",
       "    .dataframe tbody tr th:only-of-type {\n",
       "        vertical-align: middle;\n",
       "    }\n",
       "\n",
       "    .dataframe tbody tr th {\n",
       "        vertical-align: top;\n",
       "    }\n",
       "\n",
       "    .dataframe thead th {\n",
       "        text-align: right;\n",
       "    }\n",
       "</style>\n",
       "<table border=\"1\" class=\"dataframe\">\n",
       "  <thead>\n",
       "    <tr style=\"text-align: right;\">\n",
       "      <th></th>\n",
       "      <th>data1</th>\n",
       "      <th>data2</th>\n",
       "    </tr>\n",
       "    <tr>\n",
       "      <th>key</th>\n",
       "      <th></th>\n",
       "      <th></th>\n",
       "    </tr>\n",
       "  </thead>\n",
       "  <tbody>\n",
       "    <tr>\n",
       "      <th>A</th>\n",
       "      <td>0</td>\n",
       "      <td>4</td>\n",
       "    </tr>\n",
       "    <tr>\n",
       "      <th>B</th>\n",
       "      <td>1</td>\n",
       "      <td>10</td>\n",
       "    </tr>\n",
       "    <tr>\n",
       "      <th>C</th>\n",
       "      <td>2</td>\n",
       "      <td>7</td>\n",
       "    </tr>\n",
       "  </tbody>\n",
       "</table>\n",
       "</div>"
      ],
      "text/plain": [
       "     data1  data2\n",
       "key              \n",
       "A        0      4\n",
       "B        1     10\n",
       "C        2      7"
      ]
     },
     "execution_count": 174,
     "metadata": {},
     "output_type": "execute_result"
    }
   ],
   "source": [
    "df.groupby('key').aggregate({\"data1\":min, \"data2\":np.sum})"
   ]
  },
  {
   "cell_type": "code",
   "execution_count": 175,
   "metadata": {},
   "outputs": [
    {
     "data": {
      "text/plain": [
       "[<matplotlib.lines.Line2D at 0x1b2652d88e0>]"
      ]
     },
     "execution_count": 175,
     "metadata": {},
     "output_type": "execute_result"
    },
    {
     "data": {
      "image/png": "[encoded data removed]",
      "text/plain": [
       "<Figure size 432x288 with 1 Axes>"
      ]
     },
     "metadata": {
      "needs_background": "light"
     },
     "output_type": "display_data"
    }
   ],
   "source": [
    "import matplotlib.pyplot as plt\n",
    "x=[1,2,3,4,5]\n",
    "y=[1,2,3,4,5]\n",
    "plt.plot(x,y)"
   ]
  },
  {
   "cell_type": "code",
   "execution_count": 176,
   "metadata": {},
   "outputs": [
    {
     "data": {
      "text/plain": [
       "Text(0, 0.5, 'y-line')"
      ]
     },
     "execution_count": 176,
     "metadata": {},
     "output_type": "execute_result"
    },
    {
     "data": {
      "image/png": "[encoded data removed]",
      "text/plain": [
       "<Figure size 432x288 with 1 Axes>"
      ]
     },
     "metadata": {
      "needs_background": "light"
     },
     "output_type": "display_data"
    }
   ],
   "source": [
    "x=[1,2,3,4,5]\n",
    "y=[1,2,3,4,5]\n",
    "plt.plot(x,y)\n",
    "plt.title(\"my graph\")\n",
    "plt.xlabel(\"x-line\")\n",
    "plt.ylabel(\"y-line\")"
   ]
  },
  {
   "cell_type": "code",
   "execution_count": 177,
   "metadata": {},
   "outputs": [
    {
     "data": {
      "text/plain": [
       "Text(0, 0.5, 'god')"
      ]
     },
     "execution_count": 177,
     "metadata": {},
     "output_type": "execute_result"
    },
    {
     "data": {
      "image/png": "[encoded data removed]",
      "text/plain": [
       "<Figure size 432x288 with 1 Axes>"
      ]
     },
     "metadata": {
      "needs_background": "light"
     },
     "output_type": "display_data"
    }
   ],
   "source": [
    "x=[1,2,3,4,5]\n",
    "y=[1,2,3,4,5]\n",
    "fig, ax = plt.subplots()\n",
    "ax.plot(x,y)\n",
    "ax.set_title(\"good\")\n",
    "ax.set_xlabel(\"oh\")\n",
    "ax.set_ylabel(\"god\")"
   ]
  },
  {
   "cell_type": "code",
   "execution_count": 178,
   "metadata": {},
   "outputs": [
    {
     "data": {
      "image/png": "[encoded data removed]",
      "text/plain": [
       "<Figure size 432x288 with 1 Axes>"
      ]
     },
     "metadata": {
      "needs_background": "light"
     },
     "output_type": "display_data"
    }
   ],
   "source": [
    "x=[1,2,3,4,5]\n",
    "y=[1,2,3,4,5]\n",
    "fig, ax = plt.subplots()\n",
    "ax.plot(x,y)\n",
    "ax.set_title(\"good\")\n",
    "ax.set_xlabel(\"oh\")\n",
    "ax.set_ylabel(\"god\")\n",
    "fig.savefig(\"First graph.png\")"
   ]
  },
  {
   "cell_type": "code",
   "execution_count": 179,
   "metadata": {},
   "outputs": [
    {
     "data": {
      "text/plain": [
       "(array([ 2.,  1.,  1.,  0.,  1.,  5.,  2.,  3., 10., 11., 15., 18., 19.,\n",
       "        27., 21., 40., 42., 44., 56., 38., 57., 44., 57., 62., 46., 49.,\n",
       "        44., 46., 49., 39., 28., 23., 21., 18., 14., 18.,  7.,  4.,  5.,\n",
       "         7.,  2.,  1.,  0.,  0.,  0.,  1.,  0.,  1.,  0.,  1.]),\n",
       " array([-3.07096039, -2.93677468, -2.80258897, -2.66840326, -2.53421755,\n",
       "        -2.40003184, -2.26584612, -2.13166041, -1.9974747 , -1.86328899,\n",
       "        -1.72910328, -1.59491757, -1.46073185, -1.32654614, -1.19236043,\n",
       "        -1.05817472, -0.92398901, -0.7898033 , -0.65561758, -0.52143187,\n",
       "        -0.38724616, -0.25306045, -0.11887474,  0.01531097,  0.14949669,\n",
       "         0.2836824 ,  0.41786811,  0.55205382,  0.68623953,  0.82042524,\n",
       "         0.95461096,  1.08879667,  1.22298238,  1.35716809,  1.4913538 ,\n",
       "         1.62553951,  1.75972523,  1.89391094,  2.02809665,  2.16228236,\n",
       "         2.29646807,  2.43065378,  2.5648395 ,  2.69902521,  2.83321092,\n",
       "         2.96739663,  3.10158234,  3.23576805,  3.36995377,  3.50413948,\n",
       "         3.63832519]),\n",
       " <BarContainer object of 50 artists>)"
      ]
     },
     "execution_count": 179,
     "metadata": {},
     "output_type": "execute_result"
    },
    {
     "data": {
      "image/png": "[encoded data removed]",
      "text/plain": [
       "<Figure size 432x288 with 1 Axes>"
      ]
     },
     "metadata": {
      "needs_background": "light"
     },
     "output_type": "display_data"
    }
   ],
   "source": [
    "fig, ax = plt.subplots()\n",
    "data = np.random.randn(1000)\n",
    "ax.hist(data, bins=50)"
   ]
  },
  {
   "cell_type": "code",
   "execution_count": 180,
   "metadata": {},
   "outputs": [
    {
     "name": "stdout",
     "output_type": "stream",
     "text": [
      "test == 90:  True\n",
      "test != 90:  False\n",
      "test > 90:  False\n",
      "test >= 90:  True\n",
      "test < 90:  False\n",
      "test <= 90:  True\n"
     ]
    }
   ],
   "source": [
    "#클래스 선언\n",
    "class Student:\n",
    "    def __init__(self,name,korean,math,english,science):\n",
    "        self.name = name\n",
    "        self.korean = korean\n",
    "        self.math = math\n",
    "        self.english = english\n",
    "        self.science = science\n",
    "    \n",
    "    def get_sum(self):\n",
    "        return self.korean + self.math + self.english + self.science\n",
    "    \n",
    "    def get_avg(self):\n",
    "        return self.get_sum() / 4\n",
    "    \n",
    "    def __eq__(self,value):\n",
    "        return self.get_avg() == value\n",
    "    def __ne__(self,value):\n",
    "        return self.get_avg() != value\n",
    "    def __gt__(self,value):\n",
    "        return self.get_avg() > value\n",
    "    def __ge__(self,value):\n",
    "        return self.get_avg() >= value\n",
    "    def __lt__(self,value):\n",
    "        return self.get_avg() < value\n",
    "    def __le__(self,value):\n",
    "        return self.get_avg() <= value\n",
    "    \n",
    "test = Student('A', 90, 90, 90, 90)\n",
    "\n",
    "print(\"test == 90: \", test == 90)\n",
    "print(\"test != 90: \", test != 90)\n",
    "print(\"test > 90: \", test > 90)\n",
    "print(\"test >= 90: \", test >= 90)\n",
    "print(\"test < 90: \", test < 90)\n",
    "print(\"test <= 90: \", test <= 90)"
   ]
  }
 ],
 "metadata": {
  "kernelspec": {
   "display_name": "Python 3",
   "language": "python",
   "name": "python3"
  },
  "language_info": {
   "codemirror_mode": {
    "name": "ipython",
    "version": 3
   },
   "file_extension": ".py",
   "mimetype": "text/x-python",
   "name": "python",
   "nbconvert_exporter": "python",
   "pygments_lexer": "ipython3",
   "version": "3.8.10"
  }
 },
 "nbformat": 4,
 "nbformat_minor": 4
}
